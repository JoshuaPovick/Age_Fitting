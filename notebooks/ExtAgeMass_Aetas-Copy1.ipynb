{
 "cells": [
  {
   "cell_type": "code",
   "execution_count": 1,
   "metadata": {},
   "outputs": [],
   "source": [
    "from tqdm.notebook import tqdm\n",
    "import pdb # pdb.set_trace()"
   ]
  },
  {
   "cell_type": "code",
   "execution_count": 2,
   "metadata": {},
   "outputs": [],
   "source": [
    "#Astropy\n",
    "import astropy\n",
    "from astropy.io import fits\n",
    "from astropy.table import Table\n",
    "\n",
    "# Dlnpyutils\n",
    "from dlnpyutils.utils import bspline,mad,interp\n",
    "\n",
    "# dust_extinction\n",
    "from dust_extinction.parameter_averages import CCM89,O94,F99,VCG04,GCC09,M14,F19,D22\n",
    "\n",
    "# Matplotlib\n",
    "import matplotlib\n",
    "import matplotlib.pyplot as plt\n",
    "# %matplotlib inline\n",
    "matplotlib.rcParams.update({'font.size': 25})\n",
    "\n",
    "#Numpy/Scipy\n",
    "import numpy as np\n",
    "import scipy\n",
    "from scipy.interpolate import interp1d\n",
    "from scipy.optimize import curve_fit\n",
    "\n",
    "class Aetas():\n",
    "    '''\n",
    "    A class to calculate a star's extinction, age and mass using PARSEC isochrones with \n",
    "    Gaia (E)DR3 and 2MASS photometry.\n",
    "    '''\n",
    "    def __init__(self,teff,logg,abund,obsphot,distance,isochrones,ext_law='CCM89',rv=3.1):\n",
    "        \n",
    "        '''\n",
    "        Inputs:\n",
    "        ------\n",
    "            teff:       2x1 array-like\n",
    "                        Teff and error of star np.array([teff,teff_err])\n",
    "                        \n",
    "            logg:       2x1 array-like\n",
    "                        Log(g) and error of star np.array([logg,logg_err])\n",
    "                    \n",
    "            abund:      2x1 array-like\n",
    "                        first column is [M/H] and [Alpha/M] and the second column is the errors\n",
    "                    \n",
    "            obs_phot:   6x2 array-like\n",
    "                        first column is BP, G, RP, J, H, and K and the second column is the errors\n",
    "                        \n",
    "            distance:   float\n",
    "                        distance to star in pc\n",
    "                    \n",
    "            isochrones: astropy Table \n",
    "                        PARSEC isochrone table\n",
    "                        \n",
    "            ext_law:    string, optional\n",
    "                        extinction law to use. Default is CCM89.\n",
    "                        \n",
    "                        Available Extinction Laws: \n",
    "                        -------------------------\n",
    "\n",
    "                        CCM89 - Cardelli, Clayton, & Mathis 1989\n",
    "                        O94 - O'Donnell 1994\n",
    "                        F99 - Fitzpatrick 1999\n",
    "                        F04 - Fitzpatrick 2004\n",
    "                        VCG04 - Valencic, Clayton, & Gordon 2004\n",
    "                        GCC09 - Grodon, Cartledge, & Clayton 2009\n",
    "                        M14 - Maiz Apellaniz et al 2014\n",
    "                        F19 - Fitzpatrick, Massa, Gordon, Bohlin & Clayton 2019\n",
    "                        D22 - Decleir et al. 2022\n",
    "                        \n",
    "            rv:         float, optional\n",
    "                        Rv (=Av/E(B-V)) extinction law slope. Default is 3.1 \n",
    "                        (required to be 3.1 if ext_law = 'F99')\n",
    "\n",
    "        '''\n",
    "        \n",
    "        # Teff and log(g)\n",
    "        self.teff = teff[0] # temperature\n",
    "        self.teff_err = teff[1] # temperature error\n",
    "        self.logg  = logg[0] # log(g)\n",
    "        self.logg_err = logg[1] # log(g) error\n",
    "        \n",
    "        # Salaris [Fe/H] Asplund 2021 et al.\n",
    "        self.salfeh = abund[0,0]+np.log10(0.659*(10**(abund[1,0]))+0.341) # Salaris Corrected [Fe/H]\n",
    "        self.salfeh_err = np.sqrt(abund[0,1]**2+((1-0.341/(0.659*(10**(abund[1,0]))+0.341))*abund[1,1])**2)\n",
    "        self.phot = obsphot[:,0] # photometry\n",
    "        self.phot_err = obsphot[:,1] # photometry errors\n",
    "        \n",
    "        # Distance modulus\n",
    "        self.distance = distance\n",
    "        self.distmod = 5.0*np.log10(distance)-5.0\n",
    "        \n",
    "        # Absolute Magnitudes Not Derreddened\n",
    "        self.absphot = self.phot-self.distmod\n",
    "        \n",
    "        # PARSEC isochrones\n",
    "        self.labels = ['G_BPEDR3mag','GEDR3mag','G_RPEDR3mag','Jmag','Hmag','Ksmag']\n",
    "        \n",
    "        self.iso = isochrones[np.where(isochrones['MH']==self.closest(isochrones['MH'],self.salfeh))]\n",
    "        self.uniq_ages = np.unique(self.iso['logAge'])\n",
    "        \n",
    "        age_idx = []\n",
    "        for i in range(len(self.uniq_ages)):\n",
    "            ages, = np.where(self.iso['logAge']==self.uniq_ages[i])\n",
    "            age_idx.append(np.array([min(ages),max(ages)]))\n",
    "        \n",
    "        self.age_idx = np.asarray(age_idx)\n",
    "                \n",
    "        # Effective Wavelengths of different passbands in units of microns\n",
    "        self.rv = rv\n",
    "        self.leff = np.array([0.5387,0.6419,0.7667,1.2345,1.6393,2.1757]) #BP, G, RP, J, H, K\n",
    "        self.extlaw_coeff = self.extcoeff(law=ext_law)\n",
    "        \n",
    "    #################\n",
    "    ### Utilities ###\n",
    "    #################\n",
    "        \n",
    "    def closest(self,data,value):\n",
    "        '''\n",
    "        Find nearest value in array to given value\n",
    "\n",
    "        Inputs:\n",
    "        ------\n",
    "            data:  array-like\n",
    "                   data to search through\n",
    "\n",
    "            value: float or int\n",
    "                   value of interest\n",
    "\n",
    "        Output:\n",
    "        ------\n",
    "            close: float or int\n",
    "                   value in data closest to given value\n",
    "        '''\n",
    "        \n",
    "        data = np.asarray(data)\n",
    "        \n",
    "        return data[(np.abs(np.subtract(data,value))).argmin()]\n",
    "    \n",
    "    def neighbors(self,data,value):\n",
    "        '''\n",
    "        Find values of two elements closest to the given value\n",
    "\n",
    "        Inputs:\n",
    "        ------\n",
    "            data:   array-like\n",
    "                    data to search through\n",
    "\n",
    "            value:  float or int\n",
    "                    value of interest\n",
    "\n",
    "        Output:\n",
    "        ------\n",
    "            close1: float or int\n",
    "                    closest value under the given value\n",
    "\n",
    "            close2: float or int\n",
    "                    closest value over the given value\n",
    "        '''\n",
    "    \n",
    "        data = np.asarray(data)\n",
    "        close1 = data[(np.abs(np.subtract(data,value))).argmin()]\n",
    "        data = data[np.where(data!=close1)]\n",
    "        close2 = data[(np.abs(np.subtract(data,value))).argmin()]\n",
    "    \n",
    "        return close1,close2\n",
    "    \n",
    "    ##################\n",
    "    ### Extinction ###\n",
    "    ##################\n",
    "    \n",
    "    def extcoeff(self,rv=3.1,law='CCM89'):#,ref='G'):\n",
    "\n",
    "        '''\n",
    "        Calculate the relative extincion law coefficients for a given wavelength relative to the \n",
    "        BP, G, RP, J, H, K or user defined band\n",
    "\n",
    "        Input:\n",
    "        -----\n",
    "            wavelength: float\n",
    "                        Effective wavelength of band of interest in microns\n",
    "\n",
    "            law:        str\n",
    "                        extinction law to use\n",
    "\n",
    "                        Available Extinction Laws: \n",
    "                        -------------------------\n",
    "\n",
    "                        CCM89 - Cardelli, Clayton, & Mathis 1989\n",
    "                        O94 - O'Donnell 1994\n",
    "                        F99 - Fitzpatrick 1999\n",
    "                        F04 - Fitzpatrick 2004\n",
    "                        VCG04 - Valencic, Clayton, & Gordon 2004\n",
    "                        GCC09 - Grodon, Cartledge, & Clayton 2009\n",
    "                        M14 - Maiz Apellaniz et al 2014\n",
    "                        F19 - Fitzpatrick, Massa, Gordon, Bohlin & Clayton 2019\n",
    "                        D22 - Decleir et al. 2022\n",
    "\n",
    "            rv:         float\n",
    "                        Rv (=Av/E(B-V)) extinction law slope. Default is 3.1\n",
    "\n",
    "        Output:\n",
    "        ------\n",
    "            ext_coeff:  float\n",
    "                        calculated extinction coefficients for the BP, G, RP, J, H, and K bands \n",
    "                        relative to the Gaia G band\n",
    "\n",
    "        '''\n",
    "\n",
    "        leff = {'BP':0.5387,'G':0.6419,'RP':0.7667,'J':1.2345,'H':1.6393,'K':2.1757}\n",
    "\n",
    "        # select the extinction model\n",
    "        if law == 'CCM89':\n",
    "            ext_model = CCM89(Rv=rv)\n",
    "\n",
    "        elif law == 'O94':\n",
    "            ext_model = O94(Rv=rv)\n",
    "\n",
    "        elif law == 'F99':\n",
    "            ext_model = F99(Rv=rv)\n",
    "\n",
    "        elif law == 'F04':\n",
    "            ext_model = F04(Rv=rv)\n",
    "\n",
    "        elif law == 'VCG04':\n",
    "            ext_model = VCG04(Rv=rv)\n",
    "\n",
    "        elif law == 'GCC09':\n",
    "            ext_model = GCC09(Rv=rv)\n",
    "\n",
    "        elif law == 'M14':\n",
    "            ext_model = M14(Rv=rv)\n",
    "\n",
    "        elif law == 'F19':\n",
    "            ext_model = F19(Rv=rv)\n",
    "\n",
    "        elif law == 'D22':\n",
    "            ext_model = D22(Rv=rv)   \n",
    "\n",
    "        # Calculate the relative extinction coefficient\n",
    "        ext_coeff_array = ext_model(np.reciprocal(self.leff*u.micron))\n",
    "\n",
    "        return ext_coeff_array\n",
    "    \n",
    "    def extinction(self):\n",
    "        '''\n",
    "        Calulate the extinctions for the BP, G, RP, J, H, and K bands\n",
    "        \n",
    "        Output:\n",
    "        ------\n",
    "            ext: 6x2 array\n",
    "                 first column is the extinction values and the second is the errors\n",
    "            \n",
    "        '''\n",
    "        \n",
    "        # isochrone magnitude labels\n",
    "        color_labels = np.array([['G_BPEDR3mag','GEDR3mag','GEDR3mag','GEDR3mag','GEDR3mag'],\n",
    "                                 ['GEDR3mag','G_RPEDR3mag','Jmag','Hmag','Ksmag']]).T\n",
    "        \n",
    "        # pick isochrone points with temperatures within 500 K of the star's Teff\n",
    "        teffcut = np.where((self.iso['logTe']<np.log10(self.teff+500.))&\n",
    "                           (self.iso['logTe']>np.log10(self.teff-500.)))\n",
    "        \n",
    "        iso_ = self.iso[teffcut]\n",
    "        \n",
    "        # check to make sure teff of star is in range of the isochrone\n",
    "        if np.size(np.squeeze(teffcut))==0:\n",
    "            self.ext = 999999.0*np.ones((6,2))\n",
    "            return 999999.0*np.ones((6,2))\n",
    "    \n",
    "        # get colors and errors\n",
    "        obs_colors = np.delete(self.phot-self.phot[1],1)\n",
    "        obs_colors[1:] = -1*obs_colors[1:]\n",
    "        obs_colors_err = np.delete(np.sqrt(self.phot_err**2+self.phot_err[1]**2),1)\n",
    "        \n",
    "        # create \"reddening\" vector (slightly modified from the normal definition)\n",
    "        red_vec = np.delete(1-self.extlaw_coeff/self.extlaw_coeff[1],1)\n",
    "        red_vec[0] = -1*red_vec[0]\n",
    "        \n",
    "        ext_vec = self.extlaw_coeff/self.extlaw_coeff[1]\n",
    "        \n",
    "        # calculate the intrinsic colors using a b-spline\n",
    "        bspline_vec = 999999.0*np.ones(5)\n",
    "        bspline_vec_deriv = 999999.0*np.ones(5)\n",
    "        \n",
    "        for i in range(5):\n",
    "            try:\n",
    "                # Interpolate the color-Teff relation using a b-spline\n",
    "                color = (iso_[color_labels[i,0]]-iso_[color_labels[i,1]])\n",
    "                logTe = iso_['logTe']\n",
    "\n",
    "                bspl = bspline(logTe,color)\n",
    "                bspline_vec[i] = bspl(np.log10(self.teff))\n",
    "                bspline_vec_deriv[i] = bspl.derivative()(np.log10(self.teff))\n",
    "                \n",
    "            except:\n",
    "                try:\n",
    "                    bspl = bspline(logTe,color,extrapolate=True)\n",
    "                    bspline_vec[i] = bspl(np.log10(self.teff))\n",
    "                    bspline_vec_deriv[i] = bspl.derivative()(np.log10(self.teff))\n",
    "                \n",
    "                except:\n",
    "                    bspline_vec[i] = 999999.0\n",
    "                    bspline_vec_deriv[i] = 999999.0\n",
    "                \n",
    "        # calculate the extinctions and errors\n",
    "        color_diff = obs_colors-bspline_vec\n",
    "        bspl_errs = np.abs((bspline_vec_deriv*self.teff_err)/(self.teff*np.log(10)))\n",
    "        color_diff_err = np.sqrt(obs_colors_err**2+bspl_errs**2)\n",
    "        \n",
    "        # find bad values this should take care of bad values from the spline\n",
    "        neg_cut = np.where(color_diff>0)\n",
    "        \n",
    "        # if all bad return bad values\n",
    "        if np.size(np.squeeze(neg_cut))==0:\n",
    "            self.ext = 999999.0*np.ones((6,2))\n",
    "            return 999999.0*np.ones((6,2))\n",
    "        \n",
    "        # calculate the extinction value and error\n",
    "        ag = np.dot(red_vec[neg_cut],color_diff[neg_cut])/np.linalg.norm(red_vec[neg_cut])**2\n",
    "        ag_err = np.dot(red_vec[neg_cut],color_diff_err[neg_cut])/np.linalg.norm(red_vec[neg_cut])**2\n",
    "        \n",
    "        \n",
    "        ext = 999999.0*np.ones((6,2))\n",
    "        ext[:,0] = ext_vec*ag\n",
    "        ext[:,1] = ext_vec*ag_err\n",
    "        \n",
    "        self.ext = ext\n",
    "        \n",
    "        return ext\n",
    "    \n",
    "    ##############################################\n",
    "    ### Magnitudes, Extinctions, Ages & Masses ###\n",
    "    ##############################################\n",
    "    \n",
    "    def teff_2_appmags(self,teff,age,verbose=False):\n",
    "        '''\n",
    "        Calculate the expected apparent magnitude of a star\n",
    "        \n",
    "        Inputs:\n",
    "        ------\n",
    "            teff:     float\n",
    "                      Teff of star \n",
    "                      \n",
    "            age:      float\n",
    "                      age of star\n",
    "        \n",
    "        Output:\n",
    "        ------\n",
    "            calc_mag: 6x2 array \n",
    "                      expected intrinsic magnitude for the given temperature\n",
    "        '''\n",
    "        \n",
    "        #Some calcualtions to set things up\n",
    "        lgteff = np.log10(teff)\n",
    "        \n",
    "        extincts = self.ext[:,0]\n",
    "        \n",
    "        lgage = np.log10(age*10**9)\n",
    "        \n",
    "        # Figure out if age is actually in the ages given in the isochrone table\n",
    "        if lgage in self.uniq_ages:\n",
    "            \n",
    "            ### pick out a single isochrone \n",
    "            aidx, = np.where(self.uniq_ages==lgage)\n",
    "            iso_ = self.iso[self.age_idx[int(aidx)][0]:self.age_idx[int(aidx)][1]]\n",
    "            \n",
    "#             if lgteff < min(iso_['logTe']) or lgteff > max(iso_['logTe']):\n",
    "#                 return np.array([999999.0, 999999.0, 999999.0, 999999.0, 999999.0, 999999.0, 999999.0])\n",
    "\n",
    "            extrap = False\n",
    "\n",
    "            if 10**min(iso_['logTe'])-self.teff > 100 or self.teff - 10**max(iso_['logTe']) > 100:\n",
    "                return np.array([999999.0, 999999.0, 999999.0, 999999.0, 999999.0, 999999.0, 999999.0])\n",
    "            \n",
    "            ### use a spline to get the apparent mags\n",
    "            calc_mags = 999999.0*np.ones(6)\n",
    "            for i in range(6):\n",
    "                \n",
    "                if extrap:\n",
    "                    mag_spl = interp(iso_['logTe'],iso_[self.labels[i]],lgteff,\n",
    "                                     assume_sorted=False,extrapolate=True)\n",
    "                else:\n",
    "                    mag_spl = bspline(iso_['logTe'],iso_[self.labels[i]])\n",
    "                \n",
    "                calc_mags[i] = mag_spl(lgteff)+self.distmod+extincts[i]\n",
    "            \n",
    "            ### logg spline\n",
    "            if extrap:\n",
    "                lgg_spl = interp(iso_['logTe'],iso_['logg'],lgteff,assume_sorted=False,extrapolate=True)\n",
    "                \n",
    "            else:\n",
    "                lgg_spl = utils.bspline(iso_['logTe'],iso_['logg'])\n",
    "            \n",
    "            calc_logg = lgg_spl(lgteff)\n",
    "            \n",
    "            self.age_spl_interp_deriv = mp.median(np.diff(self.unique_ages)/2.0)\n",
    "                \n",
    "            return np.append(calc_mags, calc_logg)\n",
    "            \n",
    "        else:\n",
    "            lgage_lo,lgage_hi = self.neighbors(self.uniq_ages,lgage)\n",
    "            if verbose:\n",
    "                print('[age_lo,age_hi]: ',[10**lgage_lo/10**9,10**lgage_hi/10**9])\n",
    "            \n",
    "            ### Pick out single isochrones\n",
    "        \n",
    "            # younger\n",
    "            aidx_lo, = np.where(self.uniq_ages==lgage_lo)\n",
    "            iso_lo = self.iso[self.age_idx[int(aidx_lo)][0]:self.age_idx[int(aidx_lo)][1]]\n",
    "            \n",
    "            # older\n",
    "            aidx_hi, = np.where(self.uniq_ages==lgage_hi)\n",
    "            iso_hi = self.iso[self.age_idx[int(aidx_hi)][0]:self.age_idx[int(aidx_hi)][1]]\n",
    "            \n",
    "            ### Temperature Check\n",
    "            \n",
    "            extrap_lo = False\n",
    "            extrap_hi = False\n",
    "            \n",
    "#             pdb.set_trace()\n",
    "            \n",
    "            if 10**min(iso_lo['logTe'])-self.teff > 100 or self.teff - 10**max(iso_lo['logTe']) > 100:\n",
    "#                 print('outside iso_lo')\n",
    "#                 print('Age',10**lgage_lo/10**9)\n",
    "#                 print('max iso_lo',max(iso_lo['logTe']))\n",
    "#                 print('min iso_lo',min(iso_lo['logTe']))\n",
    "#                 print('Teff',np.log10(self.teff))\n",
    "#                 print('Lower - Teff',10**min(iso_lo['logTe'])-self.teff)\n",
    "                return np.array([999999.0, 999999.0, 999999.0, 999999.0, 999999.0, 999999.0, 999999.0])\n",
    "            \n",
    "            if 10**min(iso_hi['logTe'])-self.teff > 100 or self.teff - 10**max(iso_hi['logTe']) > 100:\n",
    "#                 print('outside iso_hi')\n",
    "#                 print('max iso_hi',max(iso_hi['logTe']))\n",
    "#                 print('min iso_hi',min(iso_hi['logTe']))\n",
    "#                 print('Teff',np.log10(self.teff))\n",
    "                return np.array([999999.0, 999999.0, 999999.0, 999999.0, 999999.0, 999999.0, 999999.0])\n",
    "            \n",
    "            if lgteff < min(iso_lo['logTe']) or lgteff > max(iso_lo['logTe']):\n",
    "                extrap_lo = True\n",
    "                \n",
    "            if lgteff < min(iso_hi['logTe']) or lgteff > max(iso_hi['logTe']):\n",
    "                extrap_hi = True\n",
    "            \n",
    "#             pdb.set_trace()    \n",
    "            \n",
    "            ### use a b-spline to get the apparent mags\n",
    "            age_lo = 10**lgage_lo/10**9\n",
    "            age_hi = 10**lgage_hi/10**9\n",
    "            calc_mags = 999999.0*np.ones(6)\n",
    "            for i in range(6):\n",
    "                \n",
    "                if extrap_lo:\n",
    "                    mag_spl_lo = interp(iso_lo['logTe'],iso_lo[self.labels[i]],lgteff,\n",
    "                                        assume_sorted=False,extrapolate=True)\n",
    "                        \n",
    "                else:\n",
    "                    mag_spl_lo = bspline(iso_lo['logTe'],iso_lo[self.labels[i]])(lgteff)\n",
    "                    \n",
    "                if extrap_hi:\n",
    "                    mag_spl_hi = interp(iso_hi['logTe'],iso_hi[self.labels[i]],lgteff,\n",
    "                                        assume_sorted=False,extrapolate=True)\n",
    "                        \n",
    "                else:\n",
    "                    mag_spl_hi = bspline(iso_hi['logTe'],iso_hi[self.labels[i]])(lgteff)\n",
    "                 \n",
    "                age_spl_interp = np.poly1d(np.squeeze(np.polyfit([age_lo,age_hi],[mag_spl_lo,mag_spl_hi],1)))\n",
    "                self.age_spl_interp_deriv = age_spl_interp.deriv()\n",
    "                \n",
    "                calc_mags[i] = age_spl_interp(age)+self.distmod+extincts[i]\n",
    "            \n",
    "            ### logg spline\n",
    "            if extrap_lo:\n",
    "                lgg_spl_lo = interp(iso_lo['logTe'],iso_lo['logg'],lgteff,assume_sorted=False,extrapolate=True)\n",
    "                \n",
    "            else:\n",
    "                lgg_spl_lo = bspline(iso_lo['logTe'],iso_lo['logg'])(lgteff)\n",
    "                \n",
    "            if extrap_hi:\n",
    "                lgg_spl_hi = interp(iso_hi['logTe'],iso_hi['logg'],lgteff,assume_sorted=False,extrapolate=True)\n",
    "            \n",
    "            else:\n",
    "                lgg_spl_hi = bspline(iso_hi['logTe'],iso_hi['logg'])(lgteff)\n",
    "            \n",
    "            lgg_spl_interp = np.poly1d(np.squeeze(np.polyfit([age_lo,age_hi],[lgg_spl_lo,lgg_spl_hi],1)))\n",
    "            \n",
    "            calc_logg = lgg_spl_interp(age)\n",
    "            \n",
    "\n",
    "            return np.append(calc_mags, calc_logg)\n",
    "        \n",
    "    #######################\n",
    "    ### Ages and Masses ###\n",
    "    #######################\n",
    "    \n",
    "    def isochrone_check(self,flags=False,filename=None):\n",
    "        '''\n",
    "        Diagnostic to check if a star falls on isochrones or not. \n",
    "        \n",
    "        Input:\n",
    "        -----\n",
    "            flags:    boolean\n",
    "                      if True return flags stating if the star falls on the isochrones.\n",
    "                      prints a flag for Teff, log(g)\n",
    "        \n",
    "            filename: str (optional)\n",
    "                      filename without extension\n",
    "        '''\n",
    "        \n",
    "        color_labels = np.array([['G_BPEDR3mag','GEDR3mag','GEDR3mag','GEDR3mag','GEDR3mag'],\n",
    "                                 ['GEDR3mag','G_RPEDR3mag','Jmag','Hmag','Ksmag']]).T\n",
    "        \n",
    "        colorteff_labels = np.array(['BP - G','G - RP','G - J','G - H','G - Ks'])\n",
    "        \n",
    "        # get colors\n",
    "        obs_colors = np.delete(self.phot-self.phot[1],1)\n",
    "        obs_colors[1:] = -1*obs_colors[1:]\n",
    "#         obs_colors_err = np.delete(np.sqrt(self.phot_err**2+self.phot_err[1]**2),1)\n",
    "        \n",
    "        ### Spectroscopic HR diagram\n",
    "        plt.figure(figsize=[12,10])\n",
    "        plt.scatter(10**self.iso['logTe'],self.iso['logg'],\n",
    "                    c=10**self.iso['logAge']/10**9,cmap='nipy_spectral')\n",
    "        plt.colorbar()\n",
    "        plt.scatter(self.teff,self.logg)\n",
    "        \n",
    "        plt.gca().invert_xaxis()\n",
    "        plt.gca().invert_yaxis()\n",
    "        \n",
    "        plt.xlabel(r'Teff')\n",
    "        plt.ylabel(r'Log(g)')\n",
    "        \n",
    "        if filename != None:\n",
    "            plt.savefig('{}.png'.format(filename),bbox_inches='tight')\n",
    "        plt.show()\n",
    "        \n",
    "        ### Color Teff relationships\n",
    "        fig,ax = plt.subplots(figsize=[72,10])\n",
    "        \n",
    "        for i in range(5):\n",
    "            color = (iso_[color_labels[i,0]]-iso_[color_labels[i,1]])\n",
    "            im = ax[i].scatter(10**self.iso['logTe'],color,c=10**self.iso['logAge']/10**9,cmap='nipy_spectral')\n",
    "            ax[i].scatter(self.teff,obs_colors[i],marker='*',s=500)\n",
    "            \n",
    "            ax[i].set_xlabel(r'Teff')\n",
    "            ax[i].set_ylabel(r'{}'.format(colorteff_labels[i]))\n",
    "        \n",
    "        fig.colorbar(im, ax=ax.ravel().tolist())\n",
    "        \n",
    "        if filename != None:\n",
    "            plt.savefig('{}.png'.format(filename),bbox_inches='tight')\n",
    "        plt.show()\n",
    "\n",
    "    def get_age(self,guess_ages=np.linspace(0.012,17.)[::10],verbose=False):\n",
    "        '''\n",
    "        Find best fitting age for a star by searching chisq space given initial guesses for\n",
    "        age and extinction.\n",
    "        \n",
    "        Inputs:\n",
    "        ------\n",
    "            guess_ages: array \n",
    "                        initial guesses for ages in Gyr\n",
    "\n",
    "            \n",
    "        Output:\n",
    "        ------\n",
    "            age:        float \n",
    "                        best age according to chi^2 space search\n",
    "                        \n",
    "            chi:        float\n",
    "                        best chi^2 according to chi^2 space search\n",
    "                        \n",
    "            rms:        float\n",
    "                        RMSE of the result\n",
    "            \n",
    "        '''\n",
    "            \n",
    "        # initialize lists\n",
    "        \n",
    "        curve_ages = []\n",
    "        curve_chi = []\n",
    "        curve_rms = []\n",
    "\n",
    "        # loop over age and ak space \n",
    "        for j in range(len(guess_ages)): \n",
    "            try:\n",
    "                # calculate best fit parameters and covariance matrix\n",
    "                obs_quants = np.append(np.copy(self.phot),self.logg)\n",
    "                obs_quants_err = np.append(np.copy(self.phot_err),self.logg_err)\n",
    "\n",
    "\n",
    "                popt,pcov = curve_fit(self.teff_2_appmags,self.teff,obs_quants,p0=guess_ages[j],\n",
    "                                      method='lm',sigma=obs_quants_err,\n",
    "                                      absolute_sigma=True,maxfev=5000)\n",
    "\n",
    "                # populate lists\n",
    "                curve_ages.append(popt[0])\n",
    "#                 print(self.teff_2_appmags(self.teff,popt[0]))\n",
    "                curve_mags_logg = np.asarray(self.teff_2_appmags(self.teff,popt[0]))\n",
    "\n",
    "                curve_chi.append(sum((curve_mags_logg-obs_quants)**2/obs_quants_err**2))\n",
    "                curve_rms.append(np.std(curve_mags_logg-obs_quants))\n",
    "    #             curve_rms.append(np.sqrt(sum((curve_mags_logg-obs_quants)**2)/len(curve_mags_logg)))\n",
    "\n",
    "            except:\n",
    "                # populate lists\n",
    "                curve_ages.append(999999.0)\n",
    "                curve_chi.append(999999.0)\n",
    "                curve_rms.append(999999.0)\n",
    "\n",
    "#         pdb.set_trace()\n",
    "        \n",
    "        # find smallest chisq value and corresponding age and Ak\n",
    "        idx = np.asarray(curve_chi).argmin()\n",
    "        age = np.asarray(curve_ages)[idx]\n",
    "        chi = np.asarray(curve_chi)[idx]\n",
    "        rms = np.asarray(curve_rms)[idx]\n",
    "        self.age = age\n",
    "        self.chi = chi\n",
    "        self.rms = rms\n",
    "\n",
    "        return age, chi, rms\n",
    "    \n",
    "    ##############\n",
    "    ### Masses ###\n",
    "    ##############\n",
    "    \n",
    "    def age_2_mass(self,age):\n",
    "        '''\n",
    "        Calculate the mass of a star from its age\n",
    "        \n",
    "        Input:\n",
    "        -----\n",
    "            age:      2x1 array\n",
    "                      age of a star in Gyr and associated error\n",
    "\n",
    "        Output:\n",
    "        ------\n",
    "            mass:     float \n",
    "                      mass of star in solar masses\n",
    "            \n",
    "            mass_err: float\n",
    "                      error in the calculated mass of the star\n",
    "        '''\n",
    "\n",
    "        if self.age == 999999.0:\n",
    "            return 999999.0\n",
    "        \n",
    "        teffcut = np.where((self.iso['logTe']<np.log10(self.teff+200.))&\n",
    "                           (self.iso['logTe']>np.log10(self.teff-200.)))\n",
    "        iso_ = self.iso[teffcut]\n",
    "        \n",
    "        if np.size(iso_) < 2:\n",
    "            return 999999.0\n",
    "        try:\n",
    "            ### calculate the mass and error using interpolation\n",
    "            bspl = bspline(iso_['logAge'],iso_['Mass'])\n",
    "            mass = bspl(np.log10(age*10**9))\n",
    "            \n",
    "        except:\n",
    "            mass = 999999.0\n",
    "\n",
    "        if np.isfinite(mass)==False:\n",
    "            return 999999.0\n",
    "        \n",
    "        return mass"
   ]
  },
  {
   "cell_type": "code",
   "execution_count": 3,
   "metadata": {},
   "outputs": [],
   "source": [
    "import MagellanicStream as MagellanicStream\n",
    "\n",
    "def closest(data,value):\n",
    "    '''\n",
    "    Find nearest value in array to given value\n",
    "\n",
    "    Inputs:\n",
    "    ------\n",
    "        data:  array-like\n",
    "               data to search through\n",
    "\n",
    "        value: float or int\n",
    "               value of interest\n",
    "\n",
    "    Output:\n",
    "    ------\n",
    "        close: float or int\n",
    "               value in data closest to given value\n",
    "    '''\n",
    "\n",
    "    data = np.asarray(data)\n",
    "\n",
    "    return data[(np.abs(np.subtract(data,value))).argmin()]\n",
    "\n",
    "def neighbors(data,value):\n",
    "    '''\n",
    "    Find values of two elements closest to the given value\n",
    "\n",
    "    Inputs:\n",
    "    ------\n",
    "        data:   array-like\n",
    "                data to search through\n",
    "\n",
    "        value:  float or int\n",
    "                value of interest\n",
    "\n",
    "    Output:\n",
    "    ------\n",
    "        close1: float or int\n",
    "                closest value under the given value\n",
    "\n",
    "        close2: float or int\n",
    "                closest value over the given value\n",
    "    '''\n",
    "\n",
    "    data = np.asarray(data)\n",
    "    close1 = data[(np.abs(np.subtract(data,value))).argmin()]\n",
    "    data = data[np.where(data!=close1)]\n",
    "    close2 = data[(np.abs(np.subtract(data,value))).argmin()]\n",
    "\n",
    "    return close1,close2\n",
    "\n",
    "def LMCdisk_cart(ra, dec):\n",
    "    \n",
    "    '''\n",
    "    Calculate the position of stars in the LMC disk plane with \n",
    "    center at the LMC center in cartesian coordinates (x, y).\n",
    "    This also calculates the distance to the individual stars.\n",
    "    \n",
    "    This follows van der Marel and Cioni 2001 with parameters from Choi et al. 2018 (SMASHing the LMC: \n",
    "    Mapping a Ring-like Stellar Overdensity in the LMC Disk)\n",
    "    \n",
    "    Input\n",
    "    - ra: right ascension of stars\n",
    "    - dec: declination of stars\n",
    "    \n",
    "    Output\n",
    "    - x_m: x coordinate\n",
    "    - y_m: y coordinate\n",
    "    - dis: distance to LMC star\n",
    "    '''\n",
    "    alph0 = np.radians(82.25) #right ascension of center of LMC\n",
    "    delt0 = np.radians(-69.50) #declination of center of LMC\n",
    "    pa = np.radians(149.23+90.00) #146.37 #position angle of line of nodes\n",
    "    io = np.radians(25.86) #27.81 #inclination of LMC disk\n",
    "    d0 = 49.90 #distance to center of LMC\n",
    "    \n",
    "    #convert to radians\n",
    "    ra = np.radians(ra)\n",
    "    dec = np.radians(dec)\n",
    "    sd = np.sin(delt0)\n",
    "    cd = np.cos(delt0)\n",
    "    \n",
    "    cr = cd*np.cos(dec)*np.cos(ra-alph0)+sd*np.sin(dec)\n",
    "    srcp = -np.cos(dec)*np.sin(ra-alph0)\n",
    "    srsp = cd*np.sin(dec) - sd*np.cos(dec)*np.cos(ra-alph0)\n",
    "    dis = d0*np.cos(io)/(np.cos(io)*cr - np.sin(io)*np.cos(pa)*srsp + np.sin(io)*np.sin(pa)*srcp)\n",
    "    \n",
    "    x_m = dis*srcp\n",
    "    y_m = dis*(np.cos(io)*srsp + np.sin(io)*cr) - d0*np.sin(io)\n",
    "    \n",
    "    return x_m, y_m, dis\n",
    "\n",
    "def elliptical_radius(x,y):\n",
    "    '''\n",
    "    Calculate elliptical radius from cartesian(x,y) using equation 6 form Choi et al. 2018 (SMASHing the LMC: \n",
    "    Mapping a Ring-like Stellar Overdensity in the LMC Disk)\n",
    "    \n",
    "    Parameters:\n",
    "    ----------\n",
    "        x: x cartesian coordinate\n",
    "        y: y cartesian coordinate\n",
    "        psi: semimajor axis position angle\n",
    "    Returns:\n",
    "    -------\n",
    "        ell_r: elliptical radius\n",
    "    '''\n",
    "    \n",
    "    \n",
    "    b_a = 0.836 # disk axis ratio\n",
    "    psi = 227.24 + 90 # position angle of semi major axis\n",
    "    cpsi = np.cos(np.radians(psi)) \n",
    "    spsi = np.cos(np.radians(psi))\n",
    "    \n",
    "    ell_r = np.sqrt(np.square(x*cpsi-y*spsi) + np.square(b_a*(x*spsi + y*cpsi)))\n",
    "    \n",
    "    return ell_r"
   ]
  },
  {
   "cell_type": "markdown",
   "metadata": {},
   "source": [
    "# PARSEC"
   ]
  },
  {
   "cell_type": "code",
   "execution_count": 4,
   "metadata": {},
   "outputs": [],
   "source": [
    "massive = fits.getdata('/Users/joshuapovick/Desktop/Research/parsec/parsec36_DR2_EDR3.fits')\n",
    "massive = Table(massive[np.where(massive['label']==3.0)])\n",
    "massive = massive[np.argsort(massive['logAge'])]\n",
    "massive = massive['MH','Mass','logAge','logTe','logg','GEDR3mag','G_BPEDR3mag','G_RPEDR3mag',\n",
    "                  'Jmag','Hmag','Ksmag']\n",
    "# I noticed that there's some weird points marked as RGB, so I cut those out with\n",
    "cut = np.poly1d(np.polyfit([4600,5400],[0.5,2],1))\n",
    "massive = massive[np.where(massive['logg']>cut(10**massive['logTe']))]"
   ]
  },
  {
   "cell_type": "markdown",
   "metadata": {},
   "source": [
    "# APOGEE"
   ]
  },
  {
   "cell_type": "code",
   "execution_count": 5,
   "metadata": {},
   "outputs": [],
   "source": [
    "lmcdr17 = fits.getdata('/Users/joshuapovick/Desktop/Research/fits/lmc_rgbmembers.dr17rev1_qacuts.fits.gz')\n",
    "\n",
    "apoafe = lmcdr17['ALPHA_M']+lmcdr17['M_H']-lmcdr17['FE_H']\n",
    "apoafe_err = np.sqrt(lmcdr17['ALPHA_M_ERR']**2+lmcdr17['M_H_ERR']**2+lmcdr17['FE_H']**2)\n",
    "\n",
    "salfeh = lmcdr17['FE_H']+np.log10(0.659*(10**(apoafe))+0.341)\n",
    "salfeh_err = np.sqrt(lmcdr17['FE_H_ERR']**2+((1-0.341/(0.659*(10**(apoafe))+0.341))*apoafe_err)**2)\n",
    "\n",
    "diane = fits.getdata('/Users/joshuapovick/Desktop/Research/fits/output_LMC_DR16_all.fits.gz')\n",
    "\n",
    "_, diane_idx, me_idx = np.intersect1d(diane['APOGEE_ID'],lmcdr17['APOGEE_ID'], return_indices=True)"
   ]
  },
  {
   "cell_type": "code",
   "execution_count": 6,
   "metadata": {},
   "outputs": [],
   "source": [
    "from dlnpyutils import coords\n",
    "import astropy.units as u\n",
    "from astropy.coordinates import SkyCoord\n",
    "\n",
    "lmcx, lmcy, lmcdis = LMCdisk_cart(lmcdr17['RA'], lmcdr17['DEC'])\n",
    "lmcr = elliptical_radius(lmcx,lmcy)\n",
    "\n",
    "### lmcdr17\n",
    "gc = SkyCoord(ra=lmcdr17['RA']*u.degree, dec=lmcdr17['DEC']*u.degree, frame='icrs')\n",
    "lms_lmc,bms_lmc = coords.gal2mag(gc.galactic.l.value,gc.galactic.b.value)\n",
    "\n",
    "for i in range(len(lms_lmc)):\n",
    "    if lms_lmc[i] > 180.:\n",
    "        lms_lmc[i] = lms_lmc[i]-360"
   ]
  },
  {
   "cell_type": "code",
   "execution_count": 7,
   "metadata": {},
   "outputs": [],
   "source": [
    "gaiaedr3 = fits.getdata('/Users/joshuapovick/Desktop/Research/gaia/GAIAEDR3allStar.fits.gz')"
   ]
  },
  {
   "cell_type": "code",
   "execution_count": 8,
   "metadata": {},
   "outputs": [],
   "source": [
    "from scipy.stats import binned_statistic, binned_statistic_2d\n",
    "\n",
    "binnum = 75\n",
    "\n",
    "### BP\n",
    "bp_fin = np.where(np.isfinite(gaiaedr3['phot_bp_mean_mag'])==True)\n",
    "\n",
    "bpmin = min(gaiaedr3['phot_bp_mean_mag'][bp_fin])\n",
    "bpmax = max(gaiaedr3['phot_bp_mean_mag'][bp_fin])\n",
    "\n",
    "bpdiff = bpmax-bpmin\n",
    "bpfluxerr = (2.5*0.434)/gaiaedr3['phot_bp_mean_flux_over_error'][bp_fin]\n",
    "bpmagerr = np.sqrt((bpfluxerr)**2+0.0027901700**2)\n",
    "\n",
    "bpbin ,_,_ = binned_statistic(gaiaedr3['phot_bp_mean_mag'][bp_fin],np.log10(bpmagerr),'median',bins=binnum)\n",
    "\n",
    "### G\n",
    "g_fin = np.where(np.isfinite(gaiaedr3['phot_g_mean_mag'])==True)\n",
    "\n",
    "gmin = min(gaiaedr3['phot_g_mean_mag'][g_fin])\n",
    "gmax = max(gaiaedr3['phot_g_mean_mag'][g_fin])\n",
    "\n",
    "gdiff = gmax-gmin\n",
    "gfluxerr = (2.5*0.434)/gaiaedr3['phot_g_mean_flux_over_error'][g_fin]\n",
    "gmagerr = np.sqrt((gfluxerr)**2+0.0027553202**2)\n",
    "\n",
    "gbin ,_,_ = binned_statistic(gaiaedr3['phot_g_mean_mag'][g_fin],np.log10(gmagerr),'median',bins=binnum)\n",
    "\n",
    "### RP \n",
    "rp_fin = np.where(np.isfinite(gaiaedr3['phot_rp_mean_mag'])==True)\n",
    "\n",
    "rpmin = min(gaiaedr3['phot_rp_mean_mag'][rp_fin])\n",
    "rpmax = max(gaiaedr3['phot_rp_mean_mag'][rp_fin])\n",
    "\n",
    "rpdiff = rpmax-rpmin\n",
    "rpfluxerr = (2.5*0.434)/gaiaedr3['phot_rp_mean_flux_over_error'][rp_fin]\n",
    "rpmagerr = np.sqrt((rpfluxerr)**2+0.0037793818**2)\n",
    "\n",
    "rpbin ,_,_ = binned_statistic(gaiaedr3['phot_rp_mean_mag'][rp_fin],np.log10(rpmagerr),'median',bins=binnum)\n",
    "\n",
    "### Fit the errors\n",
    "bp_fin = np.where(np.isfinite(bpbin)==True)\n",
    "g_fin = np.where(np.isfinite(gbin)==True)\n",
    "rp_fin = np.where(np.isfinite(rpbin)==True)\n",
    "\n",
    "bperrfunc = bspline(np.arange(bpmin,bpmax,bpdiff/binnum)[bp_fin],bpbin[bp_fin])\n",
    "gerrfunc = bspline(np.arange(gmin,gmax,gdiff/binnum)[g_fin],gbin[g_fin])\n",
    "rperrfunc = bspline(np.arange(rpmin,rpmax,rpdiff/binnum)[rp_fin],rpbin[rp_fin])\n",
    "\n",
    "### Replace nan's with zeropoint error\n",
    "bperr = np.nan_to_num(10**bperrfunc(lmcdr17['GAIAEDR3_PHOT_BP_MEAN_MAG']),nan=0.0027901700)\n",
    "gerr = np.nan_to_num(10**gerrfunc(lmcdr17['GAIAEDR3_PHOT_G_MEAN_MAG']),nan=0.0027553202)\n",
    "rperr = np.nan_to_num(10**rperrfunc(lmcdr17['GAIAEDR3_PHOT_RP_MEAN_MAG']),nan=0.0037793818)"
   ]
  },
  {
   "cell_type": "code",
   "execution_count": 9,
   "metadata": {},
   "outputs": [
    {
     "data": {
      "image/png": "[encoded data removed]",
      "text/plain": [
       "<Figure size 720x720 with 1 Axes>"
      ]
     },
     "metadata": {
      "needs_background": "light"
     },
     "output_type": "display_data"
    }
   ],
   "source": [
    "### Plot\n",
    "plt.figure(figsize=[10,10])\n",
    "plt.plot(np.arange(bpmin,bpmax,bpdiff/binnum),bpbin,lw=3.0,c='blue',label=r'$G_{BP}$')\n",
    "plt.plot(np.arange(gmin,gmax,gdiff/binnum),gbin,lw=3.0,c='green',label=r'$G$')\n",
    "plt.plot(np.arange(rpmin,rpmax,rpdiff/binnum),rpbin,lw=3.0,c='red',label=r'$G_{RP}$')\n",
    "plt.legend()\n",
    "plt.ylim(bottom=-3.0)\n",
    "plt.xlabel('Magnitude')\n",
    "plt.ylabel('Log(Error)')\n",
    "plt.savefig('../plots/gaiaerrorcurve.pdf',dpi=300,bbox_inches='tight');"
   ]
  },
  {
   "cell_type": "code",
   "execution_count": 10,
   "metadata": {},
   "outputs": [],
   "source": [
    "from scipy.interpolate import BSpline\n",
    "\n",
    "\n",
    "teff_tck = (np.array([3527.46704102, 3527.46704102, 3527.46704102, 3527.46704102, 3708.91847923, 3890.36991744, \n",
    "                      4071.82144442, 4253.27263849, 4434.72434304, 4616.17578125, 4797.62695312, 4979.07848011,\n",
    "                      5160.53018466, 5341.98144531, 5523.43261719, 5523.43261719, 5523.43261719, 5523.43261719]),\n",
    "            np.array([ -36.38271977,  -43.37201334,  -17.08585409,   67.8896712 , 69.84606503,  100.46933976,  \n",
    "                      103.94758719,   75.90855137,60.21227975,   -5.14343676,   -6.42134699,  217.36965544,\n",
    "                      -447.26168354, -197.7697192 ,    0.        ,    0.        , 0.        ,    0.        ]),3)\n",
    "\n",
    "\n",
    "tcorr_spl = BSpline(teff_tck[0],teff_tck[1],teff_tck[2])\n",
    "\n",
    "tcorr = tcorr_spl(lmcdr17['FPARAM'][:,0])+lmcdr17['FPARAM'][:,0]\n",
    "\n",
    "mh_tck = (np.array([-2.21858025e+00, -2.21858025e+00, -2.21858025e+00, -2.21858025e+00, -1.96716837e+00,\n",
    "                    -1.71575650e+00, -1.46434463e+00, -1.21293276e+00, -9.61520889e-01, -7.10109077e-01,\n",
    "                    -4.58697175e-01, -2.07285313e-01, 4.41265486e-02, 2.95538409e-01, 5.46950281e-01, \n",
    "                    5.46950281e-01, 5.46950281e-01, 5.46950281e-01]),\n",
    "          np.array([1.12848696e+02, 1.00546777e+02, 1.15992357e+02, 9.79509398e+01, 3.87315323e+01, \n",
    "                    1.86357031e+01, -1.50821811e+01, 1.21509274e+01, 6.69424869e+00, -2.90025110e+00,\n",
    "                    -2.68067104e+01, -3.13392475e+01, -8.25826363e+01,-6.49082047e+01, 0.00000000e+00, \n",
    "                    0.00000000e+00, 0.00000000e+00, 0.00000000e+00]),3)\n",
    "\n",
    "teff_cal = BSpline(mh_tck[0],mh_tck[1],mh_tck[2])(lmcdr17['FPARAM'][:,3])+tcorr"
   ]
  },
  {
   "cell_type": "code",
   "execution_count": 11,
   "metadata": {},
   "outputs": [
    {
     "data": {
      "text/plain": [
       "(array([   1,    2,    3,    4,   24,   25,   29,   33,   36,   38,   43,\n",
       "          72,   83,   85,   87,   97,  112,  115,  122,  123,  130,  131,\n",
       "         137,  142,  148,  157,  160,  162,  163,  171,  187,  196,  211,\n",
       "         335,  346,  363,  376,  379,  396,  404,  431,  438,  440,  460,\n",
       "         463,  467,  473,  474,  477,  478,  482,  489,  491,  502,  515,\n",
       "         526,  527,  533,  546,  556,  560,  569,  572,  576,  578,  581,\n",
       "         586,  587,  588,  591,  595,  603,  612,  618,  620,  640,  641,\n",
       "         659,  665,  668,  679,  680,  687,  697,  705,  708,  709,  714,\n",
       "         716,  735,  746,  750,  774,  777,  792,  797,  803,  809,  816,\n",
       "         823,  827,  837,  846,  859,  860,  866,  870,  877,  883,  884,\n",
       "         886,  892,  894,  901,  905,  913,  925,  929,  940,  948,  953,\n",
       "         961,  970,  971,  984,  985,  987,  990,  994,  998, 1009, 1024,\n",
       "        1032, 1040, 1046, 1052, 1057, 1074, 1107, 1113, 1119, 1137, 1138,\n",
       "        1143, 1145, 1158, 1159, 1166, 1171, 1177, 1209, 1213, 1216, 1219,\n",
       "        1230, 1251, 1269, 1285, 1289, 1295, 1315, 1316, 1317, 1329, 1330,\n",
       "        1334, 1335, 1336, 1345, 1360, 1362, 1389, 1398, 1404, 1409, 1414,\n",
       "        1445, 1483, 1512, 1513, 1519, 1580, 1596, 1634, 1662, 1674, 1695,\n",
       "        1696, 1697, 1702, 1725, 1729, 1735, 1737, 1761, 1763, 1764, 1852,\n",
       "        1861, 1877, 1900, 1940, 1941, 1987, 1992, 1993, 2005, 2098, 2109,\n",
       "        2111, 2126, 2132, 2134, 2177, 2183, 2284, 2289, 2324, 2364, 2392,\n",
       "        2405, 2413, 2415, 2446, 2459, 2462, 2491, 2510, 2548, 2588, 2596,\n",
       "        2606, 2637, 2660, 2669, 2727, 2734, 2759, 2841, 2846, 2851, 2858,\n",
       "        2900, 2916, 2921, 2932, 2950, 2971, 2983, 3007, 3047, 3072, 3095,\n",
       "        3102, 3110, 3115, 3132, 3137, 3139, 3169, 3172, 3195, 3196, 3214,\n",
       "        3230, 3268, 3272, 3284, 3294, 3320, 3330, 3338, 3340, 3341, 3351,\n",
       "        3374, 3375, 3399, 3400, 3407, 3411, 3424, 3452, 3478, 3497, 3506,\n",
       "        3515, 3530, 3545, 3546, 3547, 3549, 3560, 3561, 3562, 3565, 3568,\n",
       "        3574, 3582, 3586, 3589, 3592, 3594, 3596, 3606, 3612, 3613, 3616,\n",
       "        3619, 3625, 3637, 3642, 3646, 3668, 3674, 3678, 3682, 3683, 3688,\n",
       "        3689, 3694, 3697, 3727, 3728, 3730, 3731, 3735, 3779, 3786, 3803,\n",
       "        3809, 3815, 3827, 3828, 3834, 3836, 3863, 3865, 3868, 3870, 3871,\n",
       "        3875, 3877, 3879, 3893, 3901, 3906, 3913, 3923, 3925, 3956, 3961,\n",
       "        3988, 3992, 3993, 3994, 3996, 4000, 4009, 4013, 4014, 4015, 4034,\n",
       "        4038, 4039, 4061, 4064, 4067, 4069, 4078, 4121, 4140, 4257, 4366,\n",
       "        4382, 4384, 4429, 4453, 4474, 4499, 4500, 4513, 4523, 4526, 4534,\n",
       "        4542, 4543, 4563, 4567, 4569, 4571, 4586, 4591, 4596, 4620, 4628,\n",
       "        4661, 4671, 4735, 4764, 4792, 4819, 4837, 4842, 4847, 4855, 4866,\n",
       "        4870, 4880, 4903, 4911, 4923, 4933, 4936, 4954, 4974, 4978, 5016,\n",
       "        5024, 5034, 5057, 5062, 5068, 5069, 5071, 5079, 5088, 5102, 5108,\n",
       "        5112, 5120, 5127, 5138, 5152, 5153, 5161, 5167, 5184, 5189, 5198,\n",
       "        5200, 5202, 5207, 5211, 5223, 5264, 5267, 5283, 5292, 5301, 5304,\n",
       "        5306, 5313, 5330, 5333, 5341, 5354, 5363, 5364, 5389, 5423, 5425,\n",
       "        5432, 5434, 5436, 5459, 5480, 5544, 5671, 5679, 5697, 5749, 5765,\n",
       "        5781, 5803, 5813, 5816, 5837, 5848, 5850, 5867, 5870, 5877, 5878,\n",
       "        5891, 5893, 5896, 5915, 5928, 5930, 5951, 5954, 5958, 5966, 6023,\n",
       "        6070, 6087]),)"
      ]
     },
     "execution_count": 11,
     "metadata": {},
     "output_type": "execute_result"
    }
   ],
   "source": [
    "agetab = fits.getdata('lmc_dr17_lm_calteff_31AUG2022.fits')\n",
    "ygridage = np.where(agetab['AGE']==0.0)\n",
    "ygridage"
   ]
  },
  {
   "cell_type": "code",
   "execution_count": 12,
   "metadata": {},
   "outputs": [
    {
     "data": {
      "text/plain": [
       "array([6.86882379e+00, 2.64571644e+06, 2.64571627e+06, ...,\n",
       "       5.94150878e+00, 5.29563710e+00, 5.59587541e+00])"
      ]
     },
     "execution_count": 12,
     "metadata": {},
     "output_type": "execute_result"
    }
   ],
   "source": [
    "np.sqrt(7*agetab['AGE_RMSE']**2)"
   ]
  },
  {
   "cell_type": "markdown",
   "metadata": {},
   "source": [
    "# Star"
   ]
  },
  {
   "cell_type": "code",
   "execution_count": 53,
   "metadata": {},
   "outputs": [
    {
     "data": {
      "text/plain": [
       "(array([46]),)"
      ]
     },
     "execution_count": 53,
     "metadata": {},
     "output_type": "execute_result"
    }
   ],
   "source": [
    "# star = np.where(lmcdr17['APOGEE_ID']=='2M04593466-7058582')\n",
    "\n",
    "star = np.where(lmcdr17['APOGEE_ID']=='2M05200753-6945446')\n",
    "star"
   ]
  },
  {
   "cell_type": "code",
   "execution_count": 54,
   "metadata": {
    "scrolled": false
   },
   "outputs": [
    {
     "name": "stderr",
     "output_type": "stream",
     "text": [
      "<ipython-input-52-f2a0e6e326eb>:356: RuntimeWarning: invalid value encountered in log10\n",
      "  lgage = np.log10(age*10**9)\n"
     ]
    }
   ],
   "source": [
    "star_ext = 999999.0*np.ones(6)\n",
    "star_ext_err = 999999.0*np.ones(6)\n",
    "star_age = 999999.0\n",
    "star_chi = 999999.0\n",
    "star_rms = 999999.0\n",
    "star_mass = 999999.0\n",
    "    \n",
    "# Initialize Aetas \n",
    "#     te = np.array([lmcdr17['TEFF'][star],lmcdr17['TEFF_ERR'][star]])\n",
    "\n",
    "te = np.array([teff_cal[star],lmcdr17['TEFF_ERR'][star]])\n",
    "\n",
    "lg = np.array([lmcdr17['LOGG'][star],lmcdr17['LOGG_ERR'][star]])\n",
    "\n",
    "ab = np.array([lmcdr17['FE_H'][star],apoafe[star],\n",
    "               lmcdr17['FE_H_ERR'][star],apoafe_err[star]]).reshape((2,2)).T\n",
    "\n",
    "op = np.array([lmcdr17['GAIAEDR3_PHOT_BP_MEAN_MAG'][star],\n",
    "               lmcdr17['GAIAEDR3_PHOT_G_MEAN_MAG'][star],\n",
    "               lmcdr17['GAIAEDR3_PHOT_RP_MEAN_MAG'][star],\n",
    "               lmcdr17['J'][star],lmcdr17['H'][star],lmcdr17['K'][star],\n",
    "               bperr[star],gerr[star],rperr[star],lmcdr17['J_ERR'][star],\n",
    "               lmcdr17['H_ERR'][star],lmcdr17['K_ERR'][star]]).reshape((2,6)).T\n",
    "\n",
    "di = lmcdis[star]*1000\n",
    "\n",
    "CalcAge = Aetas(te,lg,ab,op,di,massive)\n",
    "\n",
    "exts = CalcAge.extinction()\n",
    "star_ext,star_ext_err = exts[:,0],exts[:,1]\n",
    "\n",
    "star_age,star_chi,star_rms = CalcAge.get_age()\n",
    "# star_mass = CalcAge.age_2_mass(star_age)"
   ]
  },
  {
   "cell_type": "code",
   "execution_count": 55,
   "metadata": {},
   "outputs": [
    {
     "data": {
      "text/plain": [
       "array([[-0.51156   ],\n",
       "       [ 0.07584003],\n",
       "       [ 0.01227618],\n",
       "       [ 0.51172125]], dtype=float32)"
      ]
     },
     "execution_count": 55,
     "metadata": {},
     "output_type": "execute_result"
    }
   ],
   "source": [
    "np.array([lmcdr17['FE_H'][star],apoafe[star],\n",
    "               lmcdr17['FE_H_ERR'][star],apoafe_err[star]])"
   ]
  },
  {
   "cell_type": "code",
   "execution_count": 56,
   "metadata": {},
   "outputs": [
    {
     "data": {
      "text/plain": [
       "1.5241755912753974"
      ]
     },
     "execution_count": 56,
     "metadata": {},
     "output_type": "execute_result"
    }
   ],
   "source": [
    "star_age"
   ]
  },
  {
   "cell_type": "code",
   "execution_count": 17,
   "metadata": {},
   "outputs": [
    {
     "data": {
      "text/plain": [
       "array([1.20000000e-02, 3.47893878e+00, 6.94587755e+00, 1.04128163e+01,\n",
       "       1.38797551e+01])"
      ]
     },
     "execution_count": 17,
     "metadata": {},
     "output_type": "execute_result"
    }
   ],
   "source": [
    "np.linspace(0.012,17.)[::10]"
   ]
  },
  {
   "cell_type": "code",
   "execution_count": 18,
   "metadata": {},
   "outputs": [
    {
     "data": {
      "text/plain": [
       "(array([ 1.,  0.,  1.,  1.,  0.,  2.,  8.,  4., 12.,  9.,  9., 14.,  7.,\n",
       "         8.,  9.,  4.,  4.,  4.,  1.,  2.]),\n",
       " array([3651.13228836, 3653.76038563, 3656.3884829 , 3659.01658017,\n",
       "        3661.64467744, 3664.27277471, 3666.90087198, 3669.52896925,\n",
       "        3672.15706652, 3674.7851638 , 3677.41326107, 3680.04135834,\n",
       "        3682.66945561, 3685.29755288, 3687.92565015, 3690.55374742,\n",
       "        3693.18184469, 3695.80994196, 3698.43803923, 3701.0661365 ,\n",
       "        3703.69423377]),\n",
       " <BarContainer object of 20 artists>)"
      ]
     },
     "execution_count": 18,
     "metadata": {},
     "output_type": "execute_result"
    },
    {
     "data": {
      "image/png": "[encoded data removed]",
      "text/plain": [
       "<Figure size 432x288 with 1 Axes>"
      ]
     },
     "metadata": {
      "needs_background": "light"
     },
     "output_type": "display_data"
    }
   ],
   "source": [
    "plt.hist(np.random.normal(loc=teff_cal[star],scale=lmcdr17['TEFF_ERR'][star],size=100),bins=20)"
   ]
  },
  {
   "cell_type": "code",
   "execution_count": 19,
   "metadata": {},
   "outputs": [
    {
     "data": {
      "image/png": "[encoded data removed]",
      "text/plain": [
       "<Figure size 864x504 with 1 Axes>"
      ]
     },
     "metadata": {
      "needs_background": "light"
     },
     "output_type": "display_data"
    }
   ],
   "source": [
    "plt.figure(figsize=[12,7])\n",
    "plt.hist(bperr,bins=50,histtype='step',lw=3.0,label='BP_ERR',color='blue')\n",
    "plt.hist(gerr,bins=50,histtype='step',lw=3.0,label='G_ERR',color='green')\n",
    "plt.hist(rperr,bins=50,histtype='step',lw=3.0,label='RP_ERR',color='red')\n",
    "plt.legend()\n",
    "plt.xlabel(r'Error')\n",
    "plt.show()"
   ]
  },
  {
   "cell_type": "code",
   "execution_count": 20,
   "metadata": {},
   "outputs": [
    {
     "data": {
      "text/plain": [
       "(array([ 3.,  1.,  1.,  1.,  6.,  9.,  7., 12.,  4., 13.,  7.,  5.,  4.,\n",
       "         2.,  6.,  6.,  7.,  4.,  1.,  1.]),\n",
       " array([0.00272163, 0.00273587, 0.00275011, 0.00276435, 0.00277859,\n",
       "        0.00279283, 0.00280707, 0.00282131, 0.00283555, 0.0028498 ,\n",
       "        0.00286404, 0.00287828, 0.00289252, 0.00290676, 0.002921  ,\n",
       "        0.00293524, 0.00294948, 0.00296372, 0.00297796, 0.0029922 ,\n",
       "        0.00300644]),\n",
       " <BarContainer object of 20 artists>)"
      ]
     },
     "execution_count": 20,
     "metadata": {},
     "output_type": "execute_result"
    },
    {
     "data": {
      "image/png": "[encoded data removed]",
      "text/plain": [
       "<Figure size 864x504 with 1 Axes>"
      ]
     },
     "metadata": {
      "needs_background": "light"
     },
     "output_type": "display_data"
    }
   ],
   "source": [
    "plt.figure(figsize=[12,7])\n",
    "plt.hist(np.random.normal(loc=np.mean(gerr),scale=np.std(gerr),size=100),bins=20)"
   ]
  },
  {
   "cell_type": "code",
   "execution_count": 21,
   "metadata": {},
   "outputs": [
    {
     "data": {
      "image/png": "[encoded data removed]",
      "text/plain": [
       "<Figure size 432x288 with 2 Axes>"
      ]
     },
     "metadata": {
      "needs_background": "light"
     },
     "output_type": "display_data"
    },
    {
     "data": {
      "image/png": "[encoded data removed]",
      "text/plain": [
       "<Figure size 432x288 with 2 Axes>"
      ]
     },
     "metadata": {
      "needs_background": "light"
     },
     "output_type": "display_data"
    }
   ],
   "source": [
    "mag_fin = np.where((np.isfinite(lmcdr17['GAIAEDR3_PHOT_BP_MEAN_MAG'])==True)&\n",
    "                   (np.isfinite(lmcdr17['GAIAEDR3_PHOT_G_MEAN_MAG'])==True)&\n",
    "                   (np.isfinite(lmcdr17['GAIAEDR3_PHOT_RP_MEAN_MAG'])==True)&\n",
    "                   (np.isfinite(lmcdr17['J'])==True)&(np.isfinite(lmcdr17['H'])==True)&\n",
    "                   (np.isfinite(lmcdr17['K'])==True))\n",
    "\n",
    "mag_cov = np.cov(np.array([lmcdr17['GAIAEDR3_PHOT_BP_MEAN_MAG'][mag_fin],\n",
    "                           lmcdr17['GAIAEDR3_PHOT_G_MEAN_MAG'][mag_fin],\n",
    "                           lmcdr17['GAIAEDR3_PHOT_RP_MEAN_MAG'][mag_fin],\n",
    "                           lmcdr17['J'][mag_fin],lmcdr17['H'][mag_fin],lmcdr17['K'][mag_fin]]))\n",
    "\n",
    "plt.figure()\n",
    "plt.imshow(mag_cov,cmap='nipy_spectral')\n",
    "plt.colorbar()\n",
    "plt.title(r'Cov(mag$_1$,mag$_2$)')\n",
    "plt.show()\n",
    "\n",
    "err_fin = np.where((np.isfinite(bperr)==True)&(np.isfinite(gerr)==True)&(np.isfinite(rperr)==True)&\n",
    "         (np.isfinite(lmcdr17['J_ERR'])==True)&(np.isfinite(lmcdr17['H_ERR'])==True)&\n",
    "         (np.isfinite(lmcdr17['K_ERR'])==True))\n",
    "\n",
    "mag_err_cov = np.cov(np.array([bperr[err_fin],gerr[err_fin],rperr[err_fin],lmcdr17['J_ERR'][err_fin],\n",
    "                 lmcdr17['H_ERR'][err_fin],lmcdr17['K_ERR'][err_fin]]))\n",
    "\n",
    "plt.figure()\n",
    "plt.imshow(mag_err_cov,cmap='nipy_spectral')\n",
    "plt.colorbar()\n",
    "plt.title(r'Cov(mag_err$_1$,mag_err$_2$)')\n",
    "plt.show()"
   ]
  },
  {
   "cell_type": "code",
   "execution_count": 22,
   "metadata": {},
   "outputs": [
    {
     "data": {
      "image/png": "[encoded data removed]",
      "text/plain": [
       "<Figure size 432x288 with 1 Axes>"
      ]
     },
     "metadata": {
      "needs_background": "light"
     },
     "output_type": "display_data"
    }
   ],
   "source": [
    "import matplotlib.pyplot as plt\n",
    "from scipy.stats import qmc\n",
    "dist = qmc.MultivariateNormalQMC(mean=[0, 5], cov=[[1, 0], [0, 1]])\n",
    "sample = dist.random(1024)\n",
    "_ = plt.scatter(sample[:, 0], sample[:, 1], s=10)\n",
    "plt.show()"
   ]
  },
  {
   "cell_type": "code",
   "execution_count": 23,
   "metadata": {},
   "outputs": [
    {
     "data": {
      "text/plain": [
       "array([1., 1., 1., 1., 1., 1.])"
      ]
     },
     "execution_count": 23,
     "metadata": {},
     "output_type": "execute_result"
    }
   ],
   "source": [
    "np.diag(np.ones((6,6)))"
   ]
  },
  {
   "cell_type": "code",
   "execution_count": 24,
   "metadata": {},
   "outputs": [
    {
     "data": {
      "text/plain": [
       "array([[16.71949688, 15.61076725, 14.58914371, 13.16813046, 12.24902116,\n",
       "        12.05170203],\n",
       "       [17.83812467, 17.04398213, 16.1701559 , 15.17009182, 14.2693244 ,\n",
       "        14.21143038],\n",
       "       [17.1177076 , 15.91234221, 14.85909302, 13.24187175, 12.24990659,\n",
       "        12.10589884],\n",
       "       [16.5168269 , 15.48453233, 14.44585862, 13.08610255, 12.27009768,\n",
       "        12.0073035 ]])"
      ]
     },
     "execution_count": 24,
     "metadata": {},
     "output_type": "execute_result"
    }
   ],
   "source": [
    "mags = np.array([lmcdr17['GAIAEDR3_PHOT_BP_MEAN_MAG'][star][0],lmcdr17['GAIAEDR3_PHOT_G_MEAN_MAG'][star][0],\n",
    "                 lmcdr17['GAIAEDR3_PHOT_RP_MEAN_MAG'][star][0],lmcdr17['J'][star][0],lmcdr17['H'][star][0],\n",
    "                 lmcdr17['K'][star][0]])\n",
    "\n",
    "test = qmc.MultivariateNormalQMC(mean=mags,cov=mag_cov)\n",
    "test.random(4)"
   ]
  },
  {
   "cell_type": "code",
   "execution_count": 25,
   "metadata": {},
   "outputs": [
    {
     "data": {
      "text/plain": [
       "array([[17.0106],\n",
       "       [15.9139],\n",
       "       [14.887 ],\n",
       "       [13.486 ],\n",
       "       [12.535 ],\n",
       "       [12.362 ]], dtype=float32)"
      ]
     },
     "execution_count": 25,
     "metadata": {},
     "output_type": "execute_result"
    }
   ],
   "source": [
    "np.array([lmcdr17['GAIAEDR3_PHOT_BP_MEAN_MAG'][star],lmcdr17['GAIAEDR3_PHOT_G_MEAN_MAG'][star],\n",
    "          lmcdr17['GAIAEDR3_PHOT_RP_MEAN_MAG'][star],lmcdr17['J'][star],lmcdr17['H'][star],lmcdr17['K'][star]])"
   ]
  },
  {
   "cell_type": "code",
   "execution_count": 26,
   "metadata": {},
   "outputs": [
    {
     "data": {
      "text/plain": [
       "array([[16.3376669 , 15.22734451, 14.23424438, 12.86935498, 12.04478551,\n",
       "        11.81297728],\n",
       "       [17.01096408, 16.21562489, 15.31076102, 13.99951599, 13.1599097 ,\n",
       "        13.06885179],\n",
       "       [17.27322598, 16.19397442, 15.2160904 , 13.94752109, 13.04247994,\n",
       "        12.86888143],\n",
       "       [16.62271736, 15.79811051, 14.92585569, 13.82678222, 13.04912694,\n",
       "        12.89298383]])"
      ]
     },
     "execution_count": 26,
     "metadata": {},
     "output_type": "execute_result"
    }
   ],
   "source": [
    "np.random.multivariate_normal([lmcdr17['GAIAEDR3_PHOT_BP_MEAN_MAG'][star][0],\n",
    "                               lmcdr17['GAIAEDR3_PHOT_G_MEAN_MAG'][star][0],\n",
    "                               lmcdr17['GAIAEDR3_PHOT_RP_MEAN_MAG'][star][0],\n",
    "                               lmcdr17['J'][star][0],lmcdr17['H'][star][0],lmcdr17['K'][star][0]],\n",
    "                              mag_cov,size=4)"
   ]
  },
  {
   "cell_type": "code",
   "execution_count": 27,
   "metadata": {},
   "outputs": [
    {
     "data": {
      "text/plain": [
       "array([3678.1431465 , 3680.99308858, 3686.56538584, 3681.99523118])"
      ]
     },
     "execution_count": 27,
     "metadata": {},
     "output_type": "execute_result"
    }
   ],
   "source": [
    "test_cov = np.diag([bperr[star][0],gerr[star][0],rperr[star][0],lmcdr17['J_ERR'][star][0],\n",
    "                    lmcdr17['H_ERR'][star][0],lmcdr17['K_ERR'][star][0],lmcdr17['TEFF_ERR'][star][0]])\n",
    "\n",
    "test_samp = np.random.multivariate_normal([lmcdr17['GAIAEDR3_PHOT_BP_MEAN_MAG'][star][0],\n",
    "                               lmcdr17['GAIAEDR3_PHOT_G_MEAN_MAG'][star][0],\n",
    "                               lmcdr17['GAIAEDR3_PHOT_RP_MEAN_MAG'][star][0],\n",
    "                               lmcdr17['J'][star][0],lmcdr17['H'][star][0],\n",
    "                               lmcdr17['K'][star][0],teff_cal[star][0]],\n",
    "                              test_cov,size=4)\n",
    "\n",
    "test_samp[:,-1]"
   ]
  },
  {
   "cell_type": "code",
   "execution_count": 28,
   "metadata": {},
   "outputs": [
    {
     "data": {
      "text/plain": [
       "[17.0106, 15.9139, 14.887, 13.486, 12.535, 12.362]"
      ]
     },
     "execution_count": 28,
     "metadata": {},
     "output_type": "execute_result"
    }
   ],
   "source": [
    "[lmcdr17['GAIAEDR3_PHOT_BP_MEAN_MAG'][star][0],\n",
    "                                        lmcdr17['GAIAEDR3_PHOT_G_MEAN_MAG'][star][0],\n",
    "                                        lmcdr17['GAIAEDR3_PHOT_RP_MEAN_MAG'][star][0],\n",
    "                                        lmcdr17['J'][star][0],lmcdr17['H'][star][0],lmcdr17['K'][star][0]]"
   ]
  },
  {
   "cell_type": "code",
   "execution_count": 29,
   "metadata": {},
   "outputs": [
    {
     "data": {
      "text/plain": [
       "array([[0.00689291, 0.        , 0.        , 0.        , 0.        ,\n",
       "        0.        ],\n",
       "       [0.        , 0.00283045, 0.        , 0.        , 0.        ,\n",
       "        0.        ],\n",
       "       [0.        , 0.        , 0.00423762, 0.        , 0.        ,\n",
       "        0.        ],\n",
       "       [0.        , 0.        , 0.        , 0.024     , 0.        ,\n",
       "        0.        ],\n",
       "       [0.        , 0.        , 0.        , 0.        , 0.027     ,\n",
       "        0.        ],\n",
       "       [0.        , 0.        , 0.        , 0.        , 0.        ,\n",
       "        0.026     ]])"
      ]
     },
     "execution_count": 29,
     "metadata": {},
     "output_type": "execute_result"
    }
   ],
   "source": [
    "np.diag([bperr[star][0],gerr[star][0],rperr[star][0],lmcdr17['J_ERR'][star][0],lmcdr17['H_ERR'][star][0],\n",
    "         lmcdr17['K_ERR'][star][0]])"
   ]
  },
  {
   "cell_type": "code",
   "execution_count": 30,
   "metadata": {},
   "outputs": [
    {
     "data": {
      "text/plain": [
       "14.590445158202169"
      ]
     },
     "execution_count": 30,
     "metadata": {},
     "output_type": "execute_result"
    }
   ],
   "source": [
    "np.sqrt(np.sum(np.reciprocal([bperr[star][0],gerr[star][0],rperr[star][0],lmcdr17['J_ERR'][star][0],lmcdr17['H_ERR'][star][0],\n",
    "         lmcdr17['K_ERR'][star][0]])))/2"
   ]
  },
  {
   "cell_type": "code",
   "execution_count": 31,
   "metadata": {},
   "outputs": [
    {
     "data": {
      "image/png": "[encoded data removed]",
      "text/plain": [
       "<Figure size 864x720 with 2 Axes>"
      ]
     },
     "metadata": {
      "needs_background": "light"
     },
     "output_type": "display_data"
    },
    {
     "data": {
      "image/png": "[encoded data removed]",
      "text/plain": [
       "<Figure size 864x720 with 2 Axes>"
      ]
     },
     "metadata": {
      "needs_background": "light"
     },
     "output_type": "display_data"
    }
   ],
   "source": [
    "singfeh = massive[np.where(massive['MH']==closest(massive['MH'],-0.5))]\n",
    "\n",
    "teffclose = np.where(singfeh['logTe']==closest(singfeh['logTe'],np.log10(4500)))\n",
    "\n",
    "plt.figure(figsize=[12,10])\n",
    "plt.scatter(10**singfeh['logTe'],singfeh['GEDR3mag'],c=10**singfeh['logAge']/10**9,cmap='nipy_spectral')\n",
    "plt.colorbar()\n",
    "plt.gca().invert_xaxis()\n",
    "plt.gca().invert_yaxis()\n",
    "plt.title(r'Color as Age')\n",
    "plt.xlabel(r'Teff')\n",
    "plt.ylabel(r'G')\n",
    "plt.show()\n",
    "\n",
    "plt.figure(figsize=[12,10])\n",
    "plt.scatter(10**singfeh['logAge'][teffclose]/10**9,singfeh['GEDR3mag'][teffclose],\n",
    "            c=10**singfeh['logTe'][teffclose],cmap='nipy_spectral')\n",
    "plt.scatter(10**singfeh['logAge'][teffclose]/10**9,singfeh['GEDR3mag'][teffclose],\n",
    "            c=10**singfeh['logTe'][teffclose],cmap='nipy_spectral')\n",
    "plt.colorbar()\n",
    "plt.gca().invert_xaxis()\n",
    "plt.gca().invert_yaxis()\n",
    "plt.title(r'Teff: 4500')\n",
    "plt.xlabel(r'Age')\n",
    "plt.ylabel(r'G')\n",
    "plt.show()"
   ]
  },
  {
   "cell_type": "code",
   "execution_count": 32,
   "metadata": {},
   "outputs": [
    {
     "data": {
      "text/plain": [
       "[<matplotlib.lines.Line2D at 0x7f78c02b9430>]"
      ]
     },
     "execution_count": 32,
     "metadata": {},
     "output_type": "execute_result"
    },
    {
     "data": {
      "image/png": "[encoded data removed]",
      "text/plain": [
       "<Figure size 432x288 with 1 Axes>"
      ]
     },
     "metadata": {
      "needs_background": "light"
     },
     "output_type": "display_data"
    }
   ],
   "source": [
    "plt.plot(np.diff(np.unique(singfeh['logTe'])))"
   ]
  },
  {
   "cell_type": "markdown",
   "metadata": {},
   "source": [
    "# Whole LMC"
   ]
  },
  {
   "cell_type": "code",
   "execution_count": 13,
   "metadata": {},
   "outputs": [
    {
     "data": {
      "application/vnd.jupyter.widget-view+json": {
       "model_id": "1969e6ba5eca4da7b60ac59661b60aee",
       "version_major": 2,
       "version_minor": 0
      },
      "text/plain": [
       "  0%|          | 0/6130 [00:00<?, ?it/s]"
      ]
     },
     "metadata": {},
     "output_type": "display_data"
    },
    {
     "name": "stderr",
     "output_type": "stream",
     "text": [
      "/opt/anaconda3/lib/python3.8/site-packages/scipy/optimize/_minpack_py.py:833: OptimizeWarning: Covariance of the parameters could not be estimated\n",
      "  warnings.warn('Covariance of the parameters could not be estimated',\n",
      "<ipython-input-2-f2a0e6e326eb>:356: RuntimeWarning: invalid value encountered in log10\n",
      "  lgage = np.log10(age*10**9)\n",
      "/opt/anaconda3/lib/python3.8/site-packages/numpy/lib/polynomial.py:630: VisibleDeprecationWarning: Creating an ndarray from ragged nested sequences (which is a list-or-tuple of lists-or-tuples-or ndarrays with different lengths or shapes) is deprecated. If you meant to do this, you must specify 'dtype=object' when creating the ndarray.\n",
      "  y = NX.asarray(y) + 0.0\n",
      "<ipython-input-2-f2a0e6e326eb>:356: RuntimeWarning: divide by zero encountered in log10\n",
      "  lgage = np.log10(age*10**9)\n",
      "/opt/anaconda3/lib/python3.8/site-packages/scipy/optimize/_minpack_py.py:756: RuntimeWarning: divide by zero encountered in true_divide\n",
      "  transform = 1.0 / sigma\n",
      "<ipython-input-2-f2a0e6e326eb>:598: RuntimeWarning: divide by zero encountered in true_divide\n",
      "  curve_chi.append(sum((curve_mags_logg-obs_quants)**2/obs_quants_err**2))\n"
     ]
    }
   ],
   "source": [
    "# lmc_ext = 999999.0*np.ones((len(lmcdr17),6))\n",
    "# lmc_ext_err = 999999.0*np.ones((len(lmcdr17),6))\n",
    "# lmc_age = 999999.0*np.ones(len(lmcdr17))\n",
    "# lmc_chi = 999999.0*np.ones(len(lmcdr17))\n",
    "# lmc_rms = 999999.0*np.ones(len(lmcdr17))\n",
    "# lmc_mass = 999999.0*np.ones(len(lmcdr17))\n",
    "\n",
    "# for i in tqdm(range(len(lmcdr17))):\n",
    "    \n",
    "#     # Initialize Aetas \n",
    "#     te = np.array([teff_cal[i],lmcdr17['TEFF_ERR'][i]])\n",
    "    \n",
    "#     lg = np.array([lmcdr17['LOGG'][i],lmcdr17['LOGG_ERR'][i]])\n",
    "    \n",
    "#     ab = np.array([[lmcdr17['FE_H'][i],apoafe[i]],\n",
    "#                    [lmcdr17['FE_H_ERR'][i],apoafe_err[i]]]).T\n",
    "    \n",
    "#     op = np.array([[lmcdr17['GAIAEDR3_PHOT_BP_MEAN_MAG'][i],\n",
    "#                     lmcdr17['GAIAEDR3_PHOT_G_MEAN_MAG'][i],\n",
    "#                     lmcdr17['GAIAEDR3_PHOT_RP_MEAN_MAG'][i],\n",
    "#                     lmcdr17['J'][i],lmcdr17['H'][i],lmcdr17['K'][i]],\n",
    "#                    [bperr[i],gerr[i],rperr[i],lmcdr17['J_ERR'][i],\n",
    "#                     lmcdr17['H_ERR'][i],lmcdr17['K_ERR'][i]]]).T\n",
    "    \n",
    "#     di = lmcdis[i]*1000 #(1/lmcdr17['GAIAEDR3_PARALLAX'][i])*1000\n",
    "\n",
    "#     CalcAge = Aetas(te,lg,ab,op,di,massive)\n",
    "    \n",
    "#     exts = CalcAge.extinction()\n",
    "#     lmc_ext[i,:],lmc_ext_err[i,:] = exts[:,0],exts[:,1]\n",
    "\n",
    "#     lmc_age[i],lmc_chi[i],lmc_rms[i] = CalcAge.get_age()\n",
    "#     lmc_mass[i] = CalcAge.age_2_mass(lmc_age[i])"
   ]
  },
  {
   "cell_type": "code",
   "execution_count": 14,
   "metadata": {},
   "outputs": [],
   "source": [
    "# from astropy.table import Table, Column\n",
    "\n",
    "# cname = Column(lmcdr17['APOGEE_ID'], name='NAME')\n",
    "\n",
    "# cext = Column(lmc_ext,name='EXT')\n",
    "# cext_err = Column(lmc_ext_err,name='EXT_ERR')\n",
    "\n",
    "# cage = Column(lmc_age,name='AGE')\n",
    "# cchi = Column(lmc_chi,name='AGE_CHI')\n",
    "# crms = Column(lmc_rms,name='AGE_RMSE')\n",
    "\n",
    "# cmass = Column(lmc_mass,name='MASS')\n",
    "\n",
    "# agetable = Table([cname,cext,cext_err,cage,cchi,crms,cmass])\n",
    "# agetable.write('lmc_dr17_lm_calteff_13SEP2022.fits',format='fits', overwrite=True)"
   ]
  },
  {
   "cell_type": "code",
   "execution_count": 18,
   "metadata": {},
   "outputs": [],
   "source": [
    "# agetab = fits.getdata('lmc_dr17_lm_calteff_13SEP2022.fits')\n",
    "# tab = Table(agetab)\n",
    "# tab['TEFF_CAL'] = teff_cal\n",
    "# tab.write('lmc_dr17_lm_calteff_13SEP2022.fits',format='fits', overwrite=True)"
   ]
  },
  {
   "cell_type": "code",
   "execution_count": 19,
   "metadata": {},
   "outputs": [
    {
     "data": {
      "image/png": "[encoded data removed]",
      "text/plain": [
       "<Figure size 864x504 with 1 Axes>"
      ]
     },
     "metadata": {
      "needs_background": "light"
     },
     "output_type": "display_data"
    }
   ],
   "source": [
    "plt.figure(figsize=[12,7])\n",
    "plt.hist(agetab['AGE'],range=(0,20),bins=50)\n",
    "plt.xlabel(r'Age')\n",
    "plt.ylabel(r'Number')\n",
    "# plt.savefig('lmc_lm_calteff_age_hist.png',bbox_inches='tight')\n",
    "plt.show()"
   ]
  },
  {
   "cell_type": "code",
   "execution_count": 23,
   "metadata": {},
   "outputs": [
    {
     "data": {
      "text/plain": [
       "1"
      ]
     },
     "execution_count": 23,
     "metadata": {},
     "output_type": "execute_result"
    }
   ],
   "source": [
    "range(7)[1:][0]"
   ]
  },
  {
   "cell_type": "code",
   "execution_count": null,
   "metadata": {},
   "outputs": [
    {
     "data": {
      "application/vnd.jupyter.widget-view+json": {
       "model_id": "91e2f0539d7941de98de9a128e42a510",
       "version_major": 2,
       "version_minor": 0
      },
      "text/plain": [
       "  0%|          | 0/6130 [00:00<?, ?it/s]"
      ]
     },
     "metadata": {},
     "output_type": "display_data"
    }
   ],
   "source": [
    "ylabs = np.array(['BP','G','RP','J','H','Ks'])\n",
    "pasrec_phot = np.array(['G_BPEDR3mag','GEDR3mag','G_RPEDR3mag','Jmag','Hmag','Ksmag'])\n",
    "apogee_phot = np.array(['GAIAEDR3_PHOT_BP_MEAN_MAG','GAIAEDR3_PHOT_G_MEAN_MAG','GAIAEDR3_PHOT_RP_MEAN_MAG',\n",
    "                     'J','H','K'])\n",
    "\n",
    "for i in tqdm(range(len(lmcdr17))):\n",
    "    star_iso = massive[np.where((massive['MH']==closest(massive['MH'],salfeh[i]))&\n",
    "                            (massive['logAge']==closest(massive['logAge'],np.log10(lmc_age[i]*10**9))))]\n",
    "    \n",
    "    star_name = lmcdr17['APOGEE_ID'][i]\n",
    "    star_salfeh = salfeh[i]\n",
    "    iso_age = 10**closest(massive['logAge'],np.log10(lmc_age[i]*10**9))/10**9\n",
    "    iso_feh = closest(massive['MH'],salfeh[i])\n",
    "    \n",
    "    \n",
    "    fig,ax = plt.subplots(1,7,figsize=[100,10])\n",
    "    \n",
    "    teff_sort = np.argsort(star_iso['logTe'])\n",
    "    \n",
    "    ax[0].plot(10**star_iso['logTe'][teff_sort],star_iso['logg'][teff_sort])\n",
    "    ax[0].scatter(lmcdr17['TEFF'][i],lmcdr17['LOGG'][i],c='tab:orange',marker='*')\n",
    "    ax[0].invert_xaxis()\n",
    "    ax[0].invert_yaxis()\n",
    "    \n",
    "    ax[0].set_xlabel(r'Teff')\n",
    "    ax[0].set_ylabel(r'Log(g)')\n",
    "    \n",
    "    for j in range(6)[1:]:\n",
    "        ax[j+1].plot(10**star_iso['logTe'][teff_sort],star_iso['logg'][teff_sort])\n",
    "        ax[j+1].scatter(lmcdr17['TEFF'][i],lmcdr17[apogee_phot[j]][i]-lmc_ext[i,j]-5*np.log10(lmcdis[i]*1000)+5,\n",
    "                        c='tab:orange',marker='*')\n",
    "        ax[j+1].invert_xaxis()\n",
    "        ax[j+1].invert_yaxis()\n",
    "\n",
    "        ax[j+1].set_xlabel(r'Teff')\n",
    "        ax[j+1].set_ylabel(r'{}'.format(ylabs[j]))\n",
    "    \n",
    "    plt.suptitle(r'{} Calc Age: {:.3f}; Iso Age: {:.3f}; Sal [Fe/H]: {:.3f}; Iso [Fe/H]'.format(star_name,float(lmc_age[i]),float(iso_age),float(star_salfeh),float(iso_feh)))\n",
    "    plt.savefig('diagnostic_plots/{}.png'.format(star_name),bbox_inches='tight')\n",
    "    plt.close(fig);\n",
    "    "
   ]
  },
  {
   "cell_type": "code",
   "execution_count": 36,
   "metadata": {},
   "outputs": [
    {
     "data": {
      "text/plain": [
       "array([[0.17279745, 0.1418444 , 0.10922865, 0.04859726, 0.0307831 ,\n",
       "        0.01951542]])"
      ]
     },
     "execution_count": 36,
     "metadata": {},
     "output_type": "execute_result"
    }
   ],
   "source": [
    "lmc_ext[0:1]"
   ]
  },
  {
   "cell_type": "code",
   "execution_count": null,
   "metadata": {},
   "outputs": [],
   "source": [
    "star_iso = massive[np.where((massive['MH']==closest(massive['MH'],salfeh[star]))&\n",
    "                            (massive['logAge']==closest(massive['logAge'],np.log10(star_age*10**9))))]\n",
    "\n",
    "star_name = lmcdr17['APOGEE_ID'][star]\n",
    "star_salfeh = salfeh[star]\n",
    "iso_age = 10**closest(massive['logAge'],np.log10(star_age*10**9))/10**9\n",
    "iso_feh = closest(massive['MH'],salfeh[star])\n",
    "\n",
    "plt.figure(figsize=[70,10])\n",
    "plt.subplot(171)\n",
    "plt.scatter(10**star_iso['logTe'],star_iso['logg'],s=10)\n",
    "plt.scatter(lmcdr17['TEFF'][star],lmcdr17['LOGG'][star])\n",
    "plt.gca().invert_xaxis()\n",
    "plt.gca().invert_yaxis()\n",
    "plt.xlabel(r'Teff')\n",
    "plt.ylabel(r'Log(g)')\n",
    "\n",
    "plt.subplot(172)\n",
    "plt.scatter(10**star_iso['logTe'],star_iso['G_BPEDR3mag'],s=10)\n",
    "plt.scatter(lmcdr17['TEFF'][star],\n",
    "            lmcdr17['GAIAEDR3_PHOT_BP_MEAN_MAG'][star]-star_ext[0]-5*np.log10(lmcdis[star]*1000)+5)\n",
    "plt.gca().invert_xaxis()\n",
    "plt.gca().invert_yaxis()\n",
    "plt.xlabel(r'Teff')\n",
    "plt.ylabel(r'BP')\n",
    "\n",
    "plt.subplot(173)\n",
    "plt.scatter(10**star_iso['logTe'],star_iso['GEDR3mag'],s=10)\n",
    "plt.scatter(lmcdr17['TEFF'][star],\n",
    "            lmcdr17['GAIAEDR3_PHOT_G_MEAN_MAG'][star]-star_ext[1]-5*np.log10(lmcdis[star]*1000)+5)\n",
    "plt.gca().invert_xaxis()\n",
    "plt.gca().invert_yaxis()\n",
    "plt.xlabel(r'Teff')\n",
    "plt.ylabel(r'G')\n",
    "\n",
    "plt.subplot(174)\n",
    "plt.scatter(10**star_iso['logTe'],star_iso['G_RPEDR3mag'],s=10)\n",
    "plt.scatter(lmcdr17['TEFF'][star],\n",
    "            lmcdr17['GAIAEDR3_PHOT_RP_MEAN_MAG'][star]-star_ext[2]-5*np.log10(lmcdis[star]*1000)+5)\n",
    "plt.gca().invert_xaxis()\n",
    "plt.gca().invert_yaxis()\n",
    "plt.xlabel(r'Teff')\n",
    "plt.ylabel(r'RP')\n",
    "\n",
    "plt.subplot(175)\n",
    "plt.scatter(10**star_iso['logTe'],star_iso['Jmag'],s=10)\n",
    "plt.scatter(lmcdr17['TEFF'][star],lmcdr17['J'][star]-star_ext[3]-5*np.log10(lmcdis[star]*1000)+5)\n",
    "plt.gca().invert_xaxis()\n",
    "plt.gca().invert_yaxis()\n",
    "plt.xlabel(r'Teff')\n",
    "plt.ylabel(r'J')\n",
    "\n",
    "plt.subplot(176)\n",
    "plt.scatter(10**star_iso['logTe'],star_iso['Hmag'],s=10)\n",
    "plt.scatter(lmcdr17['TEFF'][star],lmcdr17['H'][star]-star_ext[4]-5*np.log10(lmcdis[star]*1000)+5)\n",
    "plt.gca().invert_xaxis()\n",
    "plt.gca().invert_yaxis()\n",
    "plt.xlabel(r'Teff')\n",
    "plt.ylabel(r'H')\n",
    "\n",
    "plt.subplot(177)\n",
    "plt.scatter(10**star_iso['logTe'],star_iso['Ksmag'],s=10)\n",
    "plt.scatter(lmcdr17['TEFF'][star],lmcdr17['K'][star]-star_ext[5]-5*np.log10(lmcdis[star]*1000)+5)\n",
    "plt.gca().invert_xaxis()\n",
    "plt.gca().invert_yaxis()\n",
    "plt.xlabel(r'Teff')\n",
    "plt.ylabel(r'Ks')\n",
    "\n",
    "plt.suptitle(r'{} Calc Age: {:.3f}; Iso Age: {:.3f}; Sal [Fe/H]: {:.3f}; Iso [Fe/H]'.format(star_name[0],float(star_age),float(iso_age),float(star_salfeh),float(iso_feh)))\n",
    "\n",
    "plt.savefig('{}.png'.format(str(star_name)),bbox_inches='tight')\n",
    "plt.show()"
   ]
  }
 ],
 "metadata": {
  "kernelspec": {
   "display_name": "Python 3",
   "language": "python",
   "name": "python3"
  },
  "language_info": {
   "codemirror_mode": {
    "name": "ipython",
    "version": 3
   },
   "file_extension": ".py",
   "mimetype": "text/x-python",
   "name": "python",
   "nbconvert_exporter": "python",
   "pygments_lexer": "ipython3",
   "version": "3.8.5"
  }
 },
 "nbformat": 4,
 "nbformat_minor": 4
}
