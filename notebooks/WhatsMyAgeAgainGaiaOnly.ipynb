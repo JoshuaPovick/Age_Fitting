{
 "cells": [
  {
   "cell_type": "code",
   "execution_count": 1,
   "metadata": {},
   "outputs": [],
   "source": [
    "##################################\n",
    "### Import the usual libraries ###\n",
    "##################################\n",
    "\n",
    "### Other\n",
    "import warnings\n",
    "warnings.filterwarnings('ignore')\n",
    "\n",
    "### Matplotlib\n",
    "import matplotlib\n",
    "import matplotlib.pyplot as plt\n",
    "%matplotlib inline\n",
    "matplotlib.rcParams.update({'font.size': 30})"
   ]
  },
  {
   "cell_type": "code",
   "execution_count": 4,
   "metadata": {},
   "outputs": [],
   "source": [
    "# import numpy as np\n",
    "# import astropy\n",
    "# from astropy.io import fits\n",
    "# from astropy.table import Table\n",
    "# from scipy.interpolate import InterpolatedUnivariateSpline\n",
    "\n",
    "# def closest(arr,val):\n",
    "#     '''\n",
    "#     Find nearest neighbor to val in arr\n",
    "    \n",
    "#     Inputs:\n",
    "#     ------\n",
    "#         arr: data to search through\n",
    "#         val: value of interest\n",
    "    \n",
    "#     Output:\n",
    "#     ------\n",
    "#         closest neighbor\n",
    "#     '''\n",
    "#     arr = np.asarray(arr)\n",
    "#     return arr[(np.abs(np.subtract(arr,val))).argmin()]\n",
    "\n",
    "# def neighbors(arr,val):\n",
    "#     '''\n",
    "#     Find nearest neighbors to val in arr\n",
    "    \n",
    "#     '''\n",
    "#     arr = np.asarray(arr)\n",
    "#     neigh1 = arr[(np.abs(np.subtract(arr,val))).argmin()]\n",
    "#     arr = arr[np.where(arr!=neigh1)]\n",
    "#     neigh2 = arr[(np.abs(np.subtract(arr,val))).argmin()]\n",
    "#     return neigh1,neigh2"
   ]
  },
  {
   "cell_type": "code",
   "execution_count": 78,
   "metadata": {},
   "outputs": [
    {
     "data": {
      "text/plain": [
       "ColDefs(\n",
       "    name = 'Zini'; format = 'D'\n",
       "    name = 'MH'; format = 'D'\n",
       "    name = 'logAge'; format = 'D'\n",
       "    name = 'Mini'; format = 'D'\n",
       "    name = 'int_IMF'; format = 'D'\n",
       "    name = 'Mass'; format = 'D'\n",
       "    name = 'logL'; format = 'D'\n",
       "    name = 'logTe'; format = 'D'\n",
       "    name = 'logg'; format = 'D'\n",
       "    name = 'label'; format = 'K'\n",
       "    name = 'McoreTP'; format = 'D'\n",
       "    name = 'C_O'; format = 'D'\n",
       "    name = 'period0'; format = 'D'\n",
       "    name = 'period1'; format = 'D'\n",
       "    name = 'period2'; format = 'D'\n",
       "    name = 'period3'; format = 'D'\n",
       "    name = 'period4'; format = 'D'\n",
       "    name = 'pmode'; format = 'K'\n",
       "    name = 'Mloss'; format = 'D'\n",
       "    name = 'tau1m'; format = 'D'\n",
       "    name = 'X'; format = 'D'\n",
       "    name = 'Y'; format = 'D'\n",
       "    name = 'Xc'; format = 'D'\n",
       "    name = 'Xn'; format = 'D'\n",
       "    name = 'Xo'; format = 'D'\n",
       "    name = 'Cexcess'; format = 'D'\n",
       "    name = 'Z'; format = 'D'\n",
       "    name = 'mbolmag'; format = 'D'\n",
       "    name = 'Gmag'; format = 'D'\n",
       "    name = 'G_BPmag'; format = 'D'\n",
       "    name = 'G_RPmag'; format = 'D'\n",
       "    name = 'B_Tmag'; format = 'D'\n",
       "    name = 'V_Tmag'; format = 'D'\n",
       "    name = 'Jmag'; format = 'D'\n",
       "    name = 'Hmag'; format = 'D'\n",
       "    name = 'Ksmag'; format = 'D'\n",
       ")"
      ]
     },
     "execution_count": 78,
     "metadata": {},
     "output_type": "execute_result"
    }
   ],
   "source": [
    "massive.columns"
   ]
  },
  {
   "cell_type": "code",
   "execution_count": 80,
   "metadata": {},
   "outputs": [],
   "source": [
    "import numpy as np\n",
    "import astropy\n",
    "from astropy.io import fits\n",
    "from astropy.table import Table\n",
    "from scipy.interpolate import InterpolatedUnivariateSpline\n",
    "import extinction as extinction\n",
    "\n",
    "def mad(dat): #median absolute deviation\n",
    "    return np.median(np.absolute(dat - np.median(dat)))\n",
    "\n",
    "class WhatsMyAgeAgain():\n",
    "    '''\n",
    "    Class to calculate a star's age and extinction using PARSEC isochrones and extinction law\n",
    "    from Cardelli et al. 1989\n",
    "    '''\n",
    "    def __init__(self,feh,am,distance,isochrones):\n",
    "        \n",
    "        '''\n",
    "        feh: [float] metallicity of star\n",
    "        am: [float] [$\\alpha$/M] of star\n",
    "        distance: [float] distance to star in pc\n",
    "        isochrones: [astropy Table] PARSEC isochrone table\n",
    "        '''\n",
    "        \n",
    "        # stellar parameters\n",
    "        self.salfeh = feh+np.log10(0.638*(10**am)+0.362) #Salaris et al. 1993\n",
    "        self.dist = distance\n",
    "        \n",
    "        # PARSEC isochrones\n",
    "        self.rplabel = 'G_RPmag'\n",
    "        self.glabel = 'Gmag'\n",
    "        self.bplabel = 'G_BPmag'\n",
    "        self.uniq_ages = 10**np.unique(isochrones['logAge'])/10**9\n",
    "        self.iso = isochrones\n",
    "        \n",
    "        # Effective Wavelengths of different passbands\n",
    "        self.leff = {'BP':0.5387,'G':0.6419,'RP':0.7667,'J':1.2345,'H':1.6393,'K':2.1757} # mircons\n",
    "        \n",
    "    def closest(self,data,value):\n",
    "        '''\n",
    "        Find nearest value in array to given value\n",
    "        \n",
    "        Inputs:\n",
    "        ------\n",
    "            data: data to search through \n",
    "            value: value of interest\n",
    "        '''\n",
    "        \n",
    "        data = np.asarray(data)\n",
    "        return data[(np.abs(np.subtract(data,value))).argmin()]\n",
    "    \n",
    "    def neighbors(self,data,value):\n",
    "        '''\n",
    "        Find values of two elements closest to the given value\n",
    "    \n",
    "        Inputs:\n",
    "        ------\n",
    "            data: data to search through \n",
    "            value: value of interest\n",
    "        \n",
    "        Output:\n",
    "        ------\n",
    "            close1: closest value under the given value\n",
    "            close2: closest value over the given value\n",
    "        '''\n",
    "    \n",
    "        data = np.asarray(data)\n",
    "        close1 = data[(np.abs(np.subtract(data,value))).argmin()]\n",
    "        data = data[np.where(data!=close1)]\n",
    "        close2 = data[(np.abs(np.subtract(data,value))).argmin()]\n",
    "        return close1,close2\n",
    "    \n",
    "    def wang_alav(self,wave):\n",
    "        '''\n",
    "        Calculate the relative extinction to Av accoding to Wang et al. 2019\n",
    "    \n",
    "        Input:\n",
    "        -----\n",
    "            wave: effective wavelength in microns of the passband\n",
    "        \n",
    "        Output:\n",
    "        ------\n",
    "            alav: A\\lambda/Av\n",
    "        '''\n",
    "        x = 1/wave \n",
    "        if 0.3 <= x < 1.0:\n",
    "            y = x - 1.82\n",
    "            alav = (1.0+0.7499*y-0.1086*(y**2)-0.08909*(y**3)+0.02905*(y**4)+\n",
    "                    0.01069*(y**5)+0.001707*(y**6)-0.001002*(y**7))\n",
    "            return alav\n",
    "    \n",
    "        elif 1.0 <= x < 3.33:\n",
    "            #0.3722 +/- 0.0026; -2.070 +/- 0.030\n",
    "            alav = 0.3722*(wave**-2.070)\n",
    "            return alav\n",
    "        \n",
    "    def Teff2AppMags(self,teff,age,ag):\n",
    "        '''\n",
    "        Calculate the expected apparent magnitude of a star\n",
    "        \n",
    "        Inputs:\n",
    "        ------\n",
    "            teff: temperature of star\n",
    "            age: age of star\n",
    "            al: extinction in the same band used to initialize the class\n",
    "            \n",
    "            # parameters defined in __init__\n",
    "            self.dist: distance to star\n",
    "            self.iso: set of PARSEC isochrones\n",
    "        \n",
    "        Output:\n",
    "        ------\n",
    "            calc_mag: expected intrinsic magnitude for the given temperature\n",
    "        '''\n",
    "        \n",
    "        lgteff = np.log10(teff)\n",
    "        \n",
    "        arpag = self.wang_alav(self.leff['RP'])/self.wang_alav(self.leff['G'])\n",
    "#         agak = self.wang_alav(self.leff['G'])/self.wang_alav(self.leff['K'])\n",
    "        abpag = self.wang_alav(self.leff['BP'])/self.wang_alav(self.leff['G'])\n",
    "        \n",
    "        # Figure out if age is actually in the ages given in the isochrone table\n",
    "        if age in self.uniq_ages:\n",
    "            \n",
    "            print('in: ',age)\n",
    "            \n",
    "            # pick out a single isochrone \n",
    "            iso_ = self.iso[np.where((self.iso['logAge']==self.closest(self.iso['logAge'],np.log10(age*10**9)))&\n",
    "                                       (self.iso['MH']==self.closest(self.iso['MH'],np.mean(self.salfeh))))]\n",
    "            \n",
    "            # sort so temp is always increasing\n",
    "            sidx = np.argsort(iso_['logTe'])\n",
    "            slogTe = iso_['logTe'][sidx]\n",
    "            \n",
    "            srp = iso_[self.rplabel][sidx]\n",
    "            sg = iso_[self.glabel][sidx]\n",
    "            sbp = iso_[self.bplabel][sidx]\n",
    "            \n",
    "            # splines for each apparent magnitude as function of teff\n",
    "            _, uidx = np.unique(slogTe,return_index=True)\n",
    "            \n",
    "            rp_spl = InterpolatedUnivariateSpline(slogTe[uidx],srp[uidx])\n",
    "            g_spl = InterpolatedUnivariateSpline(slogTe[uidx],sg[uidx])\n",
    "            bp_spl = InterpolatedUnivariateSpline(slogTe[uidx],sbp[uidx])\n",
    "            \n",
    "            rp_app = rp_spl(lgteff)+5.0*np.log10(self.dist)-5.0+ag*arpag\n",
    "            g_app = g_spl(lgteff)+5.0*np.log10(self.dist)-5.0+ag\n",
    "            bp_app = bp_spl(lgteff)+5.0*np.log10(self.dist)-5.0+ag*abpag\n",
    "            \n",
    "            print('Calculated Apparent RP: {:.3f} G: {:.3f} BP: {:.3f}'.format(rp_app,g_app,bp_app))\n",
    "            print('ag: {:.3f}'.format(ag))\n",
    "            print('---')\n",
    "            \n",
    "            return rp_app,g_app,bp_app\n",
    "            \n",
    "        else:\n",
    "            age_lo,age_hi = self.neighbors(self.uniq_ages,age)\n",
    "            \n",
    "            print('age: ',age)\n",
    "            \n",
    "            ### age_lo ###\n",
    "            # pick out a single isochrone \n",
    "            iso_lo = self.iso[np.where((self.iso['logAge']==self.closest(self.iso['logAge'],\n",
    "                                                                         np.log10(age_lo*10**9)))&\n",
    "                                       (self.iso['MH']==self.closest(self.iso['MH'],np.mean(self.salfeh))))]\n",
    "            \n",
    "            # sort so temp is always increasing\n",
    "            sidx_lo = np.argsort(iso_lo['logTe'])\n",
    "            slogTe_lo = iso_lo['logTe'][sidx_lo]\n",
    "            \n",
    "            srp_lo = iso_lo[self.rplabel][sidx_lo]\n",
    "            sg_lo = iso_lo[self.glabel][sidx_lo]\n",
    "            sbp_lo = iso_lo[self.bplabel][sidx_lo]\n",
    "            \n",
    "            # splines for each magnitude\n",
    "            _, uidx_lo = np.unique(slogTe_lo,return_index=True)\n",
    "            \n",
    "            rp_spl_lo = InterpolatedUnivariateSpline(slogTe_lo[uidx_lo],srp_lo[uidx_lo])\n",
    "            g_spl_lo = InterpolatedUnivariateSpline(slogTe_lo[uidx_lo],sg_lo[uidx_lo])\n",
    "            bp_spl_lo = InterpolatedUnivariateSpline(slogTe_lo[uidx_lo],sbp_lo[uidx_lo])\n",
    "            \n",
    "            ### age_hi ####\n",
    "            # pick out a single isochrone \n",
    "            iso_hi = self.iso[np.where((self.iso['logAge']==self.closest(self.iso['logAge'],\n",
    "                                                                         np.log10(age_hi*10**9)))&\n",
    "                                       (self.iso['MH']==self.closest(self.iso['MH'],np.mean(self.salfeh))))]\n",
    "            \n",
    "            # sort so temp is always increasing\n",
    "            sidx_hi = np.argsort(iso_hi['logTe'])\n",
    "            slogTe_hi = iso_hi['logTe'][sidx_hi]\n",
    "            \n",
    "            srp_hi = iso_hi[self.rplabel][sidx_hi]\n",
    "            sg_hi = iso_hi[self.glabel][sidx_hi]\n",
    "            sbp_hi = iso_hi[self.bplabel][sidx_hi]\n",
    "            \n",
    "            # splines for each magnitude as function of log(teff)\n",
    "            _, uidx_hi = np.unique(slogTe_hi,return_index=True)\n",
    "            \n",
    "            rp_spl_hi = InterpolatedUnivariateSpline(slogTe_hi[uidx_hi],srp_hi[uidx_hi])\n",
    "            g_spl_hi = InterpolatedUnivariateSpline(slogTe_hi[uidx_hi],sg_hi[uidx_hi])\n",
    "            bp_spl_hi = InterpolatedUnivariateSpline(slogTe_hi[uidx_hi],sbp_hi[uidx_hi])\n",
    "            \n",
    "            ### Interpolate Between hi and lo ###\n",
    "            rp_spl_interp = np.poly1d(np.polyfit([age_lo,age_hi],[rp_spl_lo(lgteff),rp_spl_hi(lgteff)],1))\n",
    "            g_spl_interp = np.poly1d(np.polyfit([age_lo,age_hi],[g_spl_lo(lgteff),g_spl_hi(lgteff)],1))\n",
    "            bp_spl_interp = np.poly1d(np.polyfit([age_lo,age_hi],[bp_spl_lo(lgteff),bp_spl_hi(lgteff)],1))\n",
    "            \n",
    "            # Calculate the theoretical apparent magnitude\n",
    "            rp_app = rp_spl_interp(age)+5.0*np.log10(self.dist)-5.0+ag*arpag\n",
    "            g_app = g_spl_interp(age)+5.0*np.log10(self.dist)-5.0+ag\n",
    "            bp_app = bp_spl_interp(age)+5.0*np.log10(self.dist)-5.0+ag*abpag\n",
    "            \n",
    "            print('Calculated Apparent BP: {:.3f} G: {:.3f} RP: {:.3f}'.format(rp_app,g_app,bp_app))\n",
    "            print('ag: {:.3f}'.format(ag))\n",
    "            print('---')\n",
    "            \n",
    "            return bp_app,g_app,rp_app"
   ]
  },
  {
   "cell_type": "markdown",
   "metadata": {},
   "source": [
    "# Parsec"
   ]
  },
  {
   "cell_type": "code",
   "execution_count": 6,
   "metadata": {},
   "outputs": [],
   "source": [
    "# massive\n",
    "massive = fits.getdata('/Users/joshuapovick/Desktop/Research/parsec/parsec_massive.fits.gz',0)\n",
    "massive = massive[np.where(massive['label']==3.0)]"
   ]
  },
  {
   "cell_type": "code",
   "execution_count": 7,
   "metadata": {},
   "outputs": [
    {
     "data": {
      "text/plain": [
       "ColDefs(\n",
       "    name = 'Zini'; format = 'D'\n",
       "    name = 'MH'; format = 'D'\n",
       "    name = 'logAge'; format = 'D'\n",
       "    name = 'Mini'; format = 'D'\n",
       "    name = 'int_IMF'; format = 'D'\n",
       "    name = 'Mass'; format = 'D'\n",
       "    name = 'logL'; format = 'D'\n",
       "    name = 'logTe'; format = 'D'\n",
       "    name = 'logg'; format = 'D'\n",
       "    name = 'label'; format = 'K'\n",
       "    name = 'McoreTP'; format = 'D'\n",
       "    name = 'C_O'; format = 'D'\n",
       "    name = 'period0'; format = 'D'\n",
       "    name = 'period1'; format = 'D'\n",
       "    name = 'period2'; format = 'D'\n",
       "    name = 'period3'; format = 'D'\n",
       "    name = 'period4'; format = 'D'\n",
       "    name = 'pmode'; format = 'K'\n",
       "    name = 'Mloss'; format = 'D'\n",
       "    name = 'tau1m'; format = 'D'\n",
       "    name = 'X'; format = 'D'\n",
       "    name = 'Y'; format = 'D'\n",
       "    name = 'Xc'; format = 'D'\n",
       "    name = 'Xn'; format = 'D'\n",
       "    name = 'Xo'; format = 'D'\n",
       "    name = 'Cexcess'; format = 'D'\n",
       "    name = 'Z'; format = 'D'\n",
       "    name = 'mbolmag'; format = 'D'\n",
       "    name = 'Gmag'; format = 'D'\n",
       "    name = 'G_BPmag'; format = 'D'\n",
       "    name = 'G_RPmag'; format = 'D'\n",
       "    name = 'B_Tmag'; format = 'D'\n",
       "    name = 'V_Tmag'; format = 'D'\n",
       "    name = 'Jmag'; format = 'D'\n",
       "    name = 'Hmag'; format = 'D'\n",
       "    name = 'Ksmag'; format = 'D'\n",
       ")"
      ]
     },
     "execution_count": 7,
     "metadata": {},
     "output_type": "execute_result"
    }
   ],
   "source": [
    "massive.columns"
   ]
  },
  {
   "cell_type": "code",
   "execution_count": 40,
   "metadata": {},
   "outputs": [],
   "source": [
    "leff = {'BP':0.5387,'G':0.6419,'RP':0.7667,'J':1.2345,'H':1.6393,'K':2.1757}\n",
    "def wang_alav(wave):\n",
    "    '''\n",
    "    Calculate the relative extinction to Av accoding to Wang et al. 2019\n",
    "    \n",
    "    Input:\n",
    "    -----\n",
    "        wave: effective wavelength in microns of the passband\n",
    "        \n",
    "    Output:\n",
    "    ------\n",
    "        alav: A\\lambda/Av\n",
    "    '''\n",
    "    x = 1/wave \n",
    "    if 0.3 <= wave < 1.0:\n",
    "        y = x - 1.82\n",
    "        alav = (1.0+0.7499*y-0.1086*(y**2)-0.08909*(y**3)+0.02905*(y**4)+\n",
    "                0.01069*(y**5)+0.001707*(y**6)-0.001002*(y**7))\n",
    "        return alav\n",
    "    \n",
    "    elif 1.0 <= wave < 3.33:\n",
    "        #0.3722 +/- 0.0026; -2.070 +/- 0.030\n",
    "        alav = 0.3722*(wave**-2.070)\n",
    "        return alav"
   ]
  },
  {
   "cell_type": "code",
   "execution_count": 42,
   "metadata": {},
   "outputs": [
    {
     "name": "stdout",
     "output_type": "stream",
     "text": [
      "1.0270894646873612\n",
      "0.7976997639837907\n",
      "0.5983129921576779\n"
     ]
    }
   ],
   "source": [
    "print(wang_alav(leff['BP']))\n",
    "print(wang_alav(leff['G']))\n",
    "print(wang_alav(leff['RP']))"
   ]
  },
  {
   "cell_type": "markdown",
   "metadata": {},
   "source": [
    "# Globular Clusters"
   ]
  },
  {
   "cell_type": "code",
   "execution_count": 26,
   "metadata": {},
   "outputs": [
    {
     "name": "stdout",
     "output_type": "stream",
     "text": [
      "bad:  24\n",
      "bad:  27\n",
      "bad:  37\n",
      "['47Tuc', 'M10', 'M107', 'M12', 'M13', 'M19', 'M2', 'M22', 'M3', 'M4', 'M5', 'M53', 'M54', 'M55', 'M71', 'M79', 'NGC1851', 'NGC2808', 'NGC288', 'NGC3201', 'NGC362', 'NGC6388', 'NGC6397', 'NGC6752', 'omegaCen']\n"
     ]
    }
   ],
   "source": [
    "### GCS Data\n",
    "gcs = fits.getdata('/Users/joshuapovick/Desktop/Research/fits/allStar-r13-l33-58932beta_apa_dist_galvel_gc.fits.gz')\n",
    "cln = np.where((gcs['FE_H']>-9999.0)&(gcs['AK_TARG']>-9999.0)&(gcs['LOGG']>0.0)&(gcs['M_H_ERR']>-90.0)&\n",
    "                (gcs['C_FE']>-9999.0)&(gcs['N_FE']>-9999.0))\n",
    "gcs = Table(gcs[cln])\n",
    "\n",
    "### Find Cluster with more than one star\n",
    "\n",
    "idx = []\n",
    "for i in range(len(np.unique(gcs['CLUSTER']))):\n",
    "    idx.append(np.squeeze(np.where(gcs['CLUSTER']==np.unique(gcs['CLUSTER'])[i])))\n",
    "\n",
    "for i in range(len(idx)):\n",
    "    try:\n",
    "        len(idx[i])\n",
    "    except:\n",
    "        print('bad: ',i)\n",
    "        \n",
    "good_names = []\n",
    "for i in np.asarray(idx)[np.delete(np.asarray(list(range(len(idx)))),[24,27,37])]:\n",
    "    if len(i)>10:\n",
    "        good_names.append(gcs['CLUSTER'][i][0])\n",
    "\n",
    "print(good_names)\n",
    "\n",
    "good_clus = np.where((gcs['CLUSTER']=='47Tuc')|(gcs['CLUSTER']=='M10')|(gcs['CLUSTER']=='M107')|\n",
    "                     (gcs['CLUSTER']=='M12')|(gcs['CLUSTER']=='M13')|(gcs['CLUSTER']=='M19')|\n",
    "                     (gcs['CLUSTER']=='M2')|(gcs['CLUSTER']=='M22')|(gcs['CLUSTER']=='M3')|\n",
    "                     (gcs['CLUSTER']=='M4')|(gcs['CLUSTER']=='M5')|(gcs['CLUSTER']=='M53')|\n",
    "                     (gcs['CLUSTER']=='M54')|(gcs['CLUSTER']=='M55')|(gcs['CLUSTER']=='M71')|\n",
    "                     (gcs['CLUSTER']=='M79')|(gcs['CLUSTER']=='NGC1851')|(gcs['CLUSTER']=='NGC2808')|\n",
    "                     (gcs['CLUSTER']=='NGC288')|(gcs['CLUSTER']=='NGC3201')|(gcs['CLUSTER']=='NGC362')|\n",
    "                     (gcs['CLUSTER']=='NGGC6388')|(gcs['CLUSTER']=='NGC6397')|(gcs['CLUSTER']=='NGC6752')|\n",
    "                     (gcs['CLUSTER']=='omegaCen'))\n",
    "\n",
    "gcs = gcs[good_clus]"
   ]
  },
  {
   "cell_type": "code",
   "execution_count": 10,
   "metadata": {},
   "outputs": [
    {
     "name": "stdout",
     "output_type": "stream",
     "text": [
      "<TableColumns names=('APSTAR_ID','TARGET_ID','ASPCAP_ID','FILE','APOGEE_ID','TELESCOPE','LOCATION_ID','FIELD','J','J_ERR','H','H_ERR','K','K_ERR','RA','DEC','GLON','GLAT','APOGEE_TARGET1','APOGEE_TARGET2','APOGEE_TARGET3','APOGEE2_TARGET1','APOGEE2_TARGET2','APOGEE2_TARGET3','TARGFLAGS','SURVEY','PROGRAMNAME','NINST','NVISITS','COMBTYPE','COMMISS','SNR','STARFLAG','STARFLAGS','ANDFLAG','ANDFLAGS','VHELIO_AVG','VSCATTER','VERR','VERR_MED','OBSVHELIO_AVG','OBSVSCATTER','OBSVERR','OBSVERR_MED','SYNTHVHELIO_AVG','SYNTHVSCATTER','SYNTHVERR','SYNTHVERR_MED','RV_TEFF','RV_LOGG','RV_FEH','RV_ALPHA','RV_CARB','RV_CCFWHM','RV_AUTOFWHM','SYNTHSCATTER','STABLERV_CHI2','STABLERV_RCHI2','CHI2_THRESHOLD','STABLERV_CHI2_PROB','MEANFIB','SIGFIB','SNREV','APSTAR_VERSION','ASPCAP_VERSION','RESULTS_VERSION','EXTRATARG','MIN_H','MAX_H','MIN_JK','MAX_JK','PARAM','FPARAM','PARAM_COV','FPARAM_COV','TEFF','TEFF_ERR','LOGG','LOGG_ERR','VMICRO','VMACRO','VSINI','M_H','M_H_ERR','ALPHA_M','ALPHA_M_ERR','ASPCAP_CHI2','ASPCAP_CLASS','ASPCAPFLAG','ASPCAPFLAGS','PARAMFLAG','FELEM','FELEM_ERR','X_H','X_H_ERR','X_M','X_M_ERR','C_FE','CI_FE','N_FE','O_FE','NA_FE','MG_FE','AL_FE','SI_FE','P_FE','S_FE','K_FE','CA_FE','TI_FE','TIII_FE','V_FE','CR_FE','MN_FE','FE_H','CO_FE','NI_FE','CU_FE','GE_FE','RB_FE','CE_FE','ND_FE','YB_FE','C_FE_ERR','CI_FE_ERR','N_FE_ERR','O_FE_ERR','NA_FE_ERR','MG_FE_ERR','AL_FE_ERR','SI_FE_ERR','P_FE_ERR','S_FE_ERR','K_FE_ERR','CA_FE_ERR','TI_FE_ERR','TIII_FE_ERR','V_FE_ERR','CR_FE_ERR','MN_FE_ERR','FE_H_ERR','CO_FE_ERR','NI_FE_ERR','CU_FE_ERR','GE_FE_ERR','RB_FE_ERR','CE_FE_ERR','ND_FE_ERR','YB_FE_ERR','C_FE_FLAG','CI_FE_FLAG','N_FE_FLAG','O_FE_FLAG','NA_FE_FLAG','MG_FE_FLAG','AL_FE_FLAG','SI_FE_FLAG','P_FE_FLAG','S_FE_FLAG','K_FE_FLAG','CA_FE_FLAG','TI_FE_FLAG','TIII_FE_FLAG','V_FE_FLAG','CR_FE_FLAG','MN_FE_FLAG','FE_H_FLAG','CO_FE_FLAG','NI_FE_FLAG','CU_FE_FLAG','GE_FE_FLAG','RB_FE_FLAG','CE_FE_FLAG','ND_FE_FLAG','YB_FE_FLAG','ELEM_CHI2','ELEMFLAG','ALT_ID','SRC_H','WASH_M','WASH_M_ERR','WASH_T2','WASH_T2_ERR','DDO51','DDO51_ERR','IRAC_3_6','IRAC_3_6_ERR','IRAC_4_5','IRAC_4_5_ERR','IRAC_5_8','IRAC_5_8_ERR','IRAC_8_0','IRAC_8_0_ERR','WISE_4_5','WISE_4_5_ERR','TARG_4_5','TARG_4_5_ERR','AK_TARG','AK_TARG_METHOD','AK_WISE','SFD_EBV','WASH_DDO51_GIANT_FLAG','WASH_DDO51_STAR_FLAG','ALL_VISITS','VISITS','ALL_VISIT_PK','VISIT_PK','FPARAM_CLASS','CHI2_CLASS','GAIA_SOURCE_ID','GAIA_PARALLAX','GAIA_PARALLAX_ERROR','GAIA_PMRA','GAIA_PMRA_ERROR','GAIA_PMDEC','GAIA_PMDEC_ERROR','GAIA_PHOT_G_MEAN_MAG','GAIA_PHOT_BP_MEAN_MAG','GAIA_PHOT_RP_MEAN_MAG','GAIA_A_G_VAL','GAIA_E_BP_MIN_RP_VAL','GAIA_RADIAL_VELOCITY','GAIA_RADIAL_VELOCITY_ERROR','GAIA_R_EST','GAIA_R_LO','GAIA_R_HI','TEFF_SPEC','LOGG_SPEC','D1_ave','D1_med','sig1','D2_ave','D2_med','sig2','EJk_ave','Ejk_med','CN_FE','CN_FE_ERR','CNO_FE','CNO_FE_ERR','distmed','sigma_dist','U','sigma_U','V','sigma_V','W','sigma_W','x','sigma_x','y','sigma_y','z','sigma_z','R_cy','sigma_R_cy','phi','sigma_phi','r_sph','sigma_r_sph','vx','sigma_vx','vy','sigma_vy','vz','sigma_vz','vR','sigma_vR','vphi','sigma_vphi','CLUSTER')>\n"
     ]
    }
   ],
   "source": [
    "print(gcs.columns)"
   ]
  },
  {
   "cell_type": "markdown",
   "metadata": {},
   "source": [
    "# Test Code"
   ]
  },
  {
   "cell_type": "code",
   "execution_count": 12,
   "metadata": {},
   "outputs": [],
   "source": [
    "from scipy.optimize import curve_fit"
   ]
  },
  {
   "cell_type": "code",
   "execution_count": 20,
   "metadata": {},
   "outputs": [
    {
     "data": {
      "text/plain": [
       "(array([ 976,  977,  978,  979,  980,  981,  988,  989,  990,  991,  992,\n",
       "        1012, 1013, 1024, 1025, 1026, 1027, 1028, 1035, 1036, 1037, 1050,\n",
       "        1051, 1057, 1058, 1065, 1078, 1079, 1096, 1097, 1098, 1111, 1125,\n",
       "        1126, 1127, 1130, 1131, 1132, 1133, 1134, 1154, 1155, 1156, 1157,\n",
       "        1158, 1161, 1162, 1169, 1170, 1171]),)"
      ]
     },
     "execution_count": 20,
     "metadata": {},
     "output_type": "execute_result"
    },
    {
     "data": {
      "image/png": "[encoded data removed]",
      "text/plain": [
       "<Figure size 432x288 with 1 Axes>"
      ]
     },
     "metadata": {
      "needs_background": "light"
     },
     "output_type": "display_data"
    }
   ],
   "source": [
    "plt.hist(gcs['GAIA_A_G_VAL'])\n",
    "\n",
    "m3 = np.where((gcs['CLUSTER']=='M3')&(gcs['GAIA_A_G_VAL']!=-9999.0))\n",
    "m3"
   ]
  },
  {
   "cell_type": "code",
   "execution_count": null,
   "metadata": {},
   "outputs": [],
   "source": []
  },
  {
   "cell_type": "code",
   "execution_count": 82,
   "metadata": {
    "scrolled": false
   },
   "outputs": [
    {
     "name": "stdout",
     "output_type": "stream",
     "text": [
      "in:  10.0\n",
      "Calculated Apparent RP: 13.348 G: 14.082 BP: 14.700\n",
      "ag: 0.192\n",
      "---\n",
      "age:  10.000000149011612\n",
      "Calculated Apparent BP: 13.348 G: 14.082 RP: 14.700\n",
      "ag: 0.192\n",
      "---\n",
      "in:  10.0\n",
      "Calculated Apparent RP: 13.348 G: 14.082 BP: 14.700\n",
      "ag: 0.192\n",
      "---\n",
      "age:  9.999999996017442\n",
      "Calculated Apparent BP: 13.215 G: 13.890 RP: 14.424\n",
      "ag: 0.000\n",
      "---\n",
      "age:  10.00000000193141\n",
      "Calculated Apparent BP: 13.315 G: 14.034 RP: 14.631\n",
      "ag: 0.144\n",
      "---\n",
      "age:  10.0000000034099\n",
      "Calculated Apparent BP: 13.340 G: 14.070 RP: 14.682\n",
      "ag: 0.180\n",
      "---\n",
      "age:  10.000000003779524\n",
      "Calculated Apparent BP: 13.346 G: 14.079 RP: 14.695\n",
      "ag: 0.189\n",
      "---\n",
      "age:  10.00000000387193\n",
      "Calculated Apparent BP: 13.347 G: 14.081 RP: 14.699\n",
      "ag: 0.191\n",
      "---\n",
      "age:  10.00000000389503\n",
      "Calculated Apparent BP: 13.348 G: 14.082 RP: 14.699\n",
      "ag: 0.192\n",
      "---\n",
      "age:  10.000000003900807\n",
      "Calculated Apparent BP: 13.348 G: 14.082 RP: 14.700\n",
      "ag: 0.192\n",
      "---\n",
      "age:  10.000000003902251\n",
      "Calculated Apparent BP: 13.348 G: 14.082 RP: 14.700\n",
      "ag: 0.192\n",
      "---\n",
      "age:  10.000000003902612\n",
      "Calculated Apparent BP: 13.348 G: 14.082 RP: 14.700\n",
      "ag: 0.192\n",
      "---\n",
      "age:  10.000000003902702\n",
      "Calculated Apparent BP: 13.348 G: 14.082 RP: 14.700\n",
      "ag: 0.192\n",
      "---\n",
      "age:  10.000000003902723\n",
      "Calculated Apparent BP: 13.348 G: 14.082 RP: 14.700\n",
      "ag: 0.192\n",
      "---\n",
      "age:  10.000000003902729\n",
      "Calculated Apparent BP: 13.348 G: 14.082 RP: 14.700\n",
      "ag: 0.192\n",
      "---\n",
      "Measured Apparent RP: 13.066360 G: 13.777 BP: 14.347\n",
      "Measured AG: 0.192\n",
      "Final Calculated [Age, AG]: [10.     0.192]\n"
     ]
    }
   ],
   "source": [
    "# pick star\n",
    "g_idx = 1024\n",
    "\n",
    "# initialize class\n",
    "CalcAge = WhatsMyAgeAgain(gcs['M_H'][g_idx],gcs['ALPHA_M'][g_idx],10400,massive)\n",
    "\n",
    "# curve_fit does its thing\n",
    "popt, pcov = curve_fit(CalcAge.Teff2AppMags,gcs['TEFF'][g_idx],\n",
    "                         np.array([[gcs['GAIA_PHOT_RP_MEAN_MAG'][g_idx],gcs['GAIA_PHOT_G_MEAN_MAG'][g_idx],\n",
    "                                    gcs['GAIA_PHOT_BP_MEAN_MAG'][g_idx]]],dtype=float).T.ravel(),\n",
    "                         p0=[10.,gcs['GAIA_A_G_VAL'][g_idx]],bounds=((0.,0.),(14.,1.)),method='dogbox')#\n",
    "\n",
    "\n",
    "print('Measured Apparent RP: {:3f} G: {:.3f} BP: {:.3f}'.format(gcs['GAIA_PHOT_RP_MEAN_MAG'][g_idx],\n",
    "                                                                gcs['GAIA_PHOT_G_MEAN_MAG'][g_idx],\n",
    "                                                                gcs['GAIA_PHOT_BP_MEAN_MAG'][g_idx]))\n",
    "print('Measured AG: {:.3f}'.format(gcs['GAIA_A_G_VAL'][g_idx]))\n",
    "print('Final Calculated [Age, AG]:',popt)\n",
    "\n",
    "# ages = []\n",
    "# exts = []\n",
    "# for i in tqdm_notebook(range(len(lmc))):\n",
    "#     CalcAge = WhatsMyAgeAgain(lmc['M_H'][i],lmc['ALPHA_M'][i],dis[i],massive)\n",
    "#     popt, _ = curve_fit(CalcAge.Teff2AppMags,lmc['TEFF'][i],\n",
    "#                         np.array([[lmc['J'][i],lmc['H'][i],lmc['K'][i]]],dtype=float).T.ravel(),\n",
    "#                         p0=[7.,lmc['AK_TARG'][i]],bounds=((0.,0.),(14.,10.)),method='dogbox')\n",
    "    \n",
    "#     ages.append(popt[0])\n",
    "#     exts.append(popt[1])"
   ]
  },
  {
   "cell_type": "code",
   "execution_count": 36,
   "metadata": {},
   "outputs": [
    {
     "name": "stdout",
     "output_type": "stream",
     "text": [
      "None\n"
     ]
    }
   ],
   "source": [
    "print(CalcAge.wang_alav(CalcAge.leff['RP']))"
   ]
  },
  {
   "cell_type": "code",
   "execution_count": 45,
   "metadata": {},
   "outputs": [
    {
     "data": {
      "image/png": "[encoded data removed]",
      "text/plain": [
       "<Figure size 432x288 with 1 Axes>"
      ]
     },
     "metadata": {
      "needs_background": "light"
     },
     "output_type": "display_data"
    },
    {
     "name": "stdout",
     "output_type": "stream",
     "text": [
      "14.0\n"
     ]
    },
    {
     "data": {
      "image/png": "[encoded data removed]",
      "text/plain": [
       "<Figure size 432x288 with 1 Axes>"
      ]
     },
     "metadata": {
      "needs_background": "light"
     },
     "output_type": "display_data"
    }
   ],
   "source": [
    "plt.hist(ages,density=True)\n",
    "plt.show()\n",
    "print(np.median(ages))\n",
    "\n",
    "plt.hist(exts,density=True)\n",
    "plt.show()"
   ]
  },
  {
   "cell_type": "code",
   "execution_count": 75,
   "metadata": {},
   "outputs": [
    {
     "name": "stdout",
     "output_type": "stream",
     "text": [
      "10.712554614896833\n"
     ]
    },
    {
     "data": {
      "image/png": "[encoded data removed]",
      "text/plain": [
       "<Figure size 432x288 with 1 Axes>"
      ]
     },
     "metadata": {
      "needs_background": "light"
     },
     "output_type": "display_data"
    }
   ],
   "source": [
    "exts = np.where((gcs['AK_TARG']>=0)&(gcs['GAIA_A_G_VAL']>=0))\n",
    "\n",
    "plt.scatter(gcs['AK_TARG'][exts],gcs['GAIA_A_G_VAL'][exts])\n",
    "for i in range(len(np.linspace(0.0,4.0,10))):\n",
    "    plt.plot(np.array([0.,0.5]),np.array([0.,0.5])*np.linspace(0.0,4.0,10)[i],c='k')\n",
    "    \n",
    "plt.plot(np.array([0.,0.5]),np.array([0.,0.5])*wang_alav(leff['G'])/wang_alav(leff['K']),c='r')\n",
    "print(wang_alav(leff['G'])/wang_alav(leff['K']))"
   ]
  },
  {
   "cell_type": "code",
   "execution_count": 72,
   "metadata": {},
   "outputs": [],
   "source": [
    "def car_a(x):\n",
    "    '''\n",
    "    a(x) function from Cardelli et al. 1989\n",
    "    \n",
    "    Input:\n",
    "    -----\n",
    "        x: effective wavelength in units of 1/micron\n",
    "        \n",
    "    Output:\n",
    "    ------\n",
    "        a: a function value \n",
    "    '''\n",
    "        \n",
    "    if 0.3 <= x < 1.1:\n",
    "        a = 0.574*(x**1.61)\n",
    "        return a\n",
    "    \n",
    "    elif 1.1 <= x < 3.3:\n",
    "        y = x - 1.82\n",
    "        a = (1.+0.17699*y-0.50477*(y**2)-0.02427*(y**3)+0.72085*(y**4)+\n",
    "             0.01979*(y**5)-0.77530*(y**6)+0.32999*(y**7))\n",
    "        return a\n",
    "    \n",
    "    elif 3.3 <= x < 8.0:\n",
    "        if x < 5.9:\n",
    "            a = 1.752-0.136*x-0.104/((x-4.67)**2+0.341)\n",
    "            return a\n",
    "        \n",
    "        else:\n",
    "            fa = -0.04473*((x-5.9)**2)+0.1207*((x-5.9)**3)\n",
    "            a = 1.752-0.136*x-0.104/((x-4.67)**2+0.341)+fa\n",
    "            return a\n",
    "            \n",
    "def car_b(x):\n",
    "    '''\n",
    "    b(x) function from Cardelli et al. 1989\n",
    "    \n",
    "    Input:\n",
    "    -----\n",
    "        x: effective wavelength in units of 1/micron\n",
    "        \n",
    "    Output:\n",
    "    ------\n",
    "        b: b function value \n",
    "    '''\n",
    "        \n",
    "    if 0.3 <= x < 1.1:\n",
    "        b = -0.527*(x**1.61)\n",
    "        return b\n",
    "    \n",
    "    elif 1.1 <= x <= 3.3:\n",
    "        y = x - 1.82\n",
    "        b = (1.41338*y+2.28305*(y**2)+1.07233*(y**3)-5.38434*(y**4)-\n",
    "             0.62251*(y**5)+5.30260*(y**6)-2.09002*(y**7))\n",
    "        return b\n",
    "    \n",
    "    elif 3.3 <= x < 8.0:\n",
    "        if x < 5.9:\n",
    "            b = -3.090+1.825*x+1.206/((x-4.62)**2+0.263)\n",
    "            return b\n",
    "        \n",
    "        else:\n",
    "            fb = 0.2130*((x-5.9)**2)+0.1207*((x-5.9)**3)\n",
    "            b = -3.090+1.825*x+1.206/((x-4.62)**2+0.263)+fb\n",
    "            return b\n",
    "            \n",
    "def car_alak(wave):\n",
    "    '''\n",
    "    Calculate the relative extinction with the K band as the fiducial band and\n",
    "    Rv (=Av/E(B_V)) = 3.1\n",
    "        \n",
    "    Input:\n",
    "    -----\n",
    "        wave: effective wavelength of band in microns\n",
    "        \n",
    "    Output:\n",
    "    ------\n",
    "        alak: extinction relative to the K band\n",
    "    '''\n",
    "        \n",
    "    x=1/wave\n",
    "    alak = (3.1*car_a(x)+car_b(x))/(3.1*car_a(1/2.1757)+car_b(1/2.1757))\n",
    "        \n",
    "    return alak"
   ]
  },
  {
   "cell_type": "code",
   "execution_count": 74,
   "metadata": {},
   "outputs": [
    {
     "name": "stdout",
     "output_type": "stream",
     "text": [
      "7.2681441094423915\n"
     ]
    },
    {
     "data": {
      "image/png": "[encoded data removed]",
      "text/plain": [
       "<Figure size 432x288 with 1 Axes>"
      ]
     },
     "metadata": {
      "needs_background": "light"
     },
     "output_type": "display_data"
    }
   ],
   "source": [
    "plt.scatter(gcs['AK_TARG'][exts],gcs['GAIA_A_G_VAL'][exts])\n",
    "for i in range(len(np.linspace(0.0,4.0,10))):\n",
    "    plt.plot(np.array([0.,0.5]),np.array([0.,0.5])*np.linspace(0.0,4.0,10)[i],c='k')\n",
    "    \n",
    "plt.plot(np.array([0.,0.5]),np.array([0.,0.5])*car_alak(leff['G']),c='r')\n",
    "print(car_alak(leff['G']))"
   ]
  },
  {
   "cell_type": "code",
   "execution_count": 76,
   "metadata": {},
   "outputs": [],
   "source": [
    "def ind_alak(wave):\n",
    "    '''\n",
    "    Calculate the relative extinction to Ak using Indebetouw et al. 2005.\n",
    "    This uses GLIMPSE data and has only been verified in IR.\n",
    "    \n",
    "    Input:\n",
    "    -----\n",
    "        wave: effective wavelength in microns of the passband\n",
    "        \n",
    "    Output:\n",
    "    ------\n",
    "        alak: A\\lambda/Ak\n",
    "    '''\n",
    "    # 0.61 +/- 0.04; -2.22 +/- 0.17; 1.21 +/- 0.23\n",
    "    alak = 10**(0.61-2.22*np.log10(wave)+1.21*(np.log10(wave)**2))\n",
    "    return alak"
   ]
  },
  {
   "cell_type": "code",
   "execution_count": 77,
   "metadata": {},
   "outputs": [
    {
     "name": "stdout",
     "output_type": "stream",
     "text": [
      "12.08580792251318\n"
     ]
    },
    {
     "data": {
      "image/png": "[encoded data removed]",
      "text/plain": [
       "<Figure size 432x288 with 1 Axes>"
      ]
     },
     "metadata": {
      "needs_background": "light"
     },
     "output_type": "display_data"
    }
   ],
   "source": [
    "plt.scatter(gcs['AK_TARG'][exts],gcs['GAIA_A_G_VAL'][exts])\n",
    "for i in range(len(np.linspace(0.0,4.0,10))):\n",
    "    plt.plot(np.array([0.,0.5]),np.array([0.,0.5])*np.linspace(0.0,4.0,10)[i],c='k')\n",
    "    \n",
    "plt.plot(np.array([0.,0.5]),np.array([0.,0.5])*ind_alak(leff['G']),c='r')\n",
    "print(ind_alak(leff['G']))"
   ]
  },
  {
   "cell_type": "code",
   "execution_count": null,
   "metadata": {},
   "outputs": [],
   "source": []
  }
 ],
 "metadata": {
  "kernelspec": {
   "display_name": "Python 3",
   "language": "python",
   "name": "python3"
  },
  "language_info": {
   "codemirror_mode": {
    "name": "ipython",
    "version": 3
   },
   "file_extension": ".py",
   "mimetype": "text/x-python",
   "name": "python",
   "nbconvert_exporter": "python",
   "pygments_lexer": "ipython3",
   "version": "3.8.5"
  }
 },
 "nbformat": 4,
 "nbformat_minor": 4
}
