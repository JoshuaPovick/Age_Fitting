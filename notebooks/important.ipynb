{
 "cells": [
  {
   "cell_type": "code",
   "execution_count": 7,
   "metadata": {},
   "outputs": [],
   "source": [
    "import sys \n",
    "\n",
    "sys.path.append('/Users/joshuapovick/Desktop/Research/LMC_Ages/Age_Fitting')\n",
    "\n",
    "import agefit\n",
    "import importlib\n"
   ]
  },
  {
   "cell_type": "code",
   "execution_count": 8,
   "metadata": {},
   "outputs": [
    {
     "data": {
      "text/plain": [
       "<module 'agefit' from '/Users/joshuapovick/Desktop/Research/LMC_Ages/Age_Fitting/agefit/__init__.py'>"
      ]
     },
     "execution_count": 8,
     "metadata": {},
     "output_type": "execute_result"
    }
   ],
   "source": [
    "importlib.reload(agefit)"
   ]
  },
  {
   "cell_type": "code",
   "execution_count": 4,
   "metadata": {},
   "outputs": [],
   "source": [
    "from agefit.aetasstellae import AetasStellae"
   ]
  },
  {
   "cell_type": "code",
   "execution_count": 6,
   "metadata": {
    "scrolled": false
   },
   "outputs": [
    {
     "name": "stdout",
     "output_type": "stream",
     "text": [
      "Help on class AetasStellae in module agefit.aetasstellae:\n",
      "\n",
      "class AetasStellae(builtins.object)\n",
      " |  AetasStellae(teff, FeH, CNAlpha, phot, phot_err, Distance, Isochrones, Rv=3.1)\n",
      " |  \n",
      " |  Class to calculate a star's age and extinction using PARSEC isochrones and extinction law\n",
      " |  from Cardelli et al. 1989\n",
      " |  \n",
      " |  Methods defined here:\n",
      " |  \n",
      " |  Diagnostic(self, best_fit_params, filename=None, verbose=False)\n",
      " |  \n",
      " |  SalarisCorrectedFeH(self, feh, cnalpha)\n",
      " |      Calculate the Salaris corrected [Fe/H] according to Salaris et al. 1993 with Piersanti et al. 2007 and \n",
      " |      Asplund et al. 2009. Also C and N have been added to the alpha elements and Ne has been excluded.\n",
      " |      \n",
      " |      Inputs:\n",
      " |      ------\n",
      " |          feh: metallcity of a star\n",
      " |          cnalpa: array of abundances np.array([C/Fe],[N/Fe],[O/Fe],[Mg/Fe],[Si/Fe],[S/Fe],[Ca/Fe],[Ti/Fe])\n",
      " |      \n",
      " |      Output:\n",
      " |      ------\n",
      " |  \n",
      " |  Solve(self, guess_ages=array([ 0,  1,  2,  3,  4,  5,  6,  7,  8,  9, 10, 11, 12, 13]), guess_aks=array([0. , 0.5, 1. ]), verbose=False)\n",
      " |  \n",
      " |  Teff2AppMags(self, teff, age, ak, verbose=False)\n",
      " |      Calculate the expected apparent magnitude of a star\n",
      " |      \n",
      " |      Inputs:\n",
      " |      ------\n",
      " |          teff: temperature of star\n",
      " |          age: age of star\n",
      " |          ak: extinction in the 2MASS K band\n",
      " |      \n",
      " |      Output:\n",
      " |      ------\n",
      " |          calc_mag: expected intrinsic magnitude for the given temperature\n",
      " |  \n",
      " |  __init__(self, teff, FeH, CNAlpha, phot, phot_err, Distance, Isochrones, Rv=3.1)\n",
      " |      teff: teff of star\n",
      " |      FeH: [float] metallicity [Fe/H] of star\n",
      " |      CNAlpha: [array] [C/Fe],[N/Fe],[O/Fe],[Mg/Fe],[Si/Fe],[S/Fe],[Ca/Fe],[Ti/Fe]\n",
      " |      phot: observed [BP,RP,J,H,K] photometry\n",
      " |      phot_err: observed [BP,RP,J,H,K] photometry error\n",
      " |      Distance: [float] distance to star in pc\n",
      " |      Isochrones: [astropy Table] PARSEC isochrone table\n",
      " |  \n",
      " |  cardelli_a(self, x)\n",
      " |      a(x) function from Cardelli et al. 1989\n",
      " |      \n",
      " |      Input:\n",
      " |      -----\n",
      " |          x: effective wavelength in units of 1/micron\n",
      " |      \n",
      " |      Output:\n",
      " |      ------\n",
      " |          a: a function value\n",
      " |  \n",
      " |  cardelli_alav(self, wave)\n",
      " |      Calculate A\\lambda/Av\n",
      " |      \n",
      " |      Inputs:\n",
      " |      ------\n",
      " |          wave: effective wavelength in units of micron\n",
      " |          rv: Rv value (=Av/E(B_V))\n",
      " |      \n",
      " |      Output:\n",
      " |      ------\n",
      " |          alav: A\\lambda/Av\n",
      " |  \n",
      " |  cardelli_b(self, x)\n",
      " |      b(x) function from Cardelli et al. 1989\n",
      " |      \n",
      " |      Input:\n",
      " |      -----\n",
      " |          x: effective wavelength in units of 1/micron\n",
      " |      \n",
      " |      Output:\n",
      " |      ------\n",
      " |          b: b function value\n",
      " |  \n",
      " |  closest(self, data, value)\n",
      " |      Find nearest value in array to given value\n",
      " |      \n",
      " |      Inputs:\n",
      " |      ------\n",
      " |          data: data to search through \n",
      " |          value: value of interest\n",
      " |  \n",
      " |  neighbors(self, data, value)\n",
      " |      Find values of two elements closest to the given value\n",
      " |      \n",
      " |      Inputs:\n",
      " |      ------\n",
      " |          data: data to search through \n",
      " |          value: value of interest\n",
      " |      \n",
      " |      Output:\n",
      " |      ------\n",
      " |          close1: closest value under the given value\n",
      " |          close2: closest value over the given value\n",
      " |  \n",
      " |  ----------------------------------------------------------------------\n",
      " |  Data descriptors defined here:\n",
      " |  \n",
      " |  __dict__\n",
      " |      dictionary for instance variables (if defined)\n",
      " |  \n",
      " |  __weakref__\n",
      " |      list of weak references to the object (if defined)\n",
      "\n"
     ]
    }
   ],
   "source": [
    "help(AetasStellae)"
   ]
  },
  {
   "cell_type": "code",
   "execution_count": 18,
   "metadata": {},
   "outputs": [
    {
     "name": "stdout",
     "output_type": "stream",
     "text": [
      "Help on module aetasstellae:\n",
      "\n",
      "NAME\n",
      "    aetasstellae\n",
      "\n",
      "FILE\n",
      "    /Users/joshuapovick/Desktop/Research/LMC_Ages/Age_Fitting/aetasstellae.py\n",
      "\n",
      "\n"
     ]
    }
   ],
   "source": [
    "help(aetas)"
   ]
  },
  {
   "cell_type": "code",
   "execution_count": 20,
   "metadata": {},
   "outputs": [
    {
     "ename": "AttributeError",
     "evalue": "module 'aetasstellae' has no attribute 'func'",
     "output_type": "error",
     "traceback": [
      "\u001b[0;31m---------------------------------------------------------------------------\u001b[0m",
      "\u001b[0;31mAttributeError\u001b[0m                            Traceback (most recent call last)",
      "\u001b[0;32m<ipython-input-20-0debb9db3d91>\u001b[0m in \u001b[0;36m<module>\u001b[0;34m\u001b[0m\n\u001b[0;32m----> 1\u001b[0;31m \u001b[0maetas\u001b[0m\u001b[0;34m.\u001b[0m\u001b[0mfunc\u001b[0m\u001b[0;34m(\u001b[0m\u001b[0;34m)\u001b[0m\u001b[0;34m\u001b[0m\u001b[0;34m\u001b[0m\u001b[0m\n\u001b[0m",
      "\u001b[0;31mAttributeError\u001b[0m: module 'aetasstellae' has no attribute 'func'"
     ]
    }
   ],
   "source": [
    "aetas.func()"
   ]
  },
  {
   "cell_type": "code",
   "execution_count": null,
   "metadata": {},
   "outputs": [],
   "source": []
  }
 ],
 "metadata": {
  "kernelspec": {
   "display_name": "Python 3",
   "language": "python",
   "name": "python3"
  },
  "language_info": {
   "codemirror_mode": {
    "name": "ipython",
    "version": 3
   },
   "file_extension": ".py",
   "mimetype": "text/x-python",
   "name": "python",
   "nbconvert_exporter": "python",
   "pygments_lexer": "ipython3",
   "version": "3.8.5"
  }
 },
 "nbformat": 4,
 "nbformat_minor": 4
}
