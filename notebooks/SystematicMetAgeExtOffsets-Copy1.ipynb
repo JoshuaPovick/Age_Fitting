{
 "cells": [
  {
   "cell_type": "code",
   "execution_count": 1,
   "metadata": {},
   "outputs": [],
   "source": [
    "##############\n",
    "### Import ###\n",
    "##############\n",
    "\n",
    "import matplotlib\n",
    "import matplotlib.pyplot as plt\n",
    "%matplotlib inline\n",
    "matplotlib.rcParams.update({'font.size': 25})\n",
    "\n",
    "from scipy.optimize import curve_fit\n",
    "\n",
    "import numpy as np\n",
    "import astropy\n",
    "import warnings\n",
    "warnings.filterwarnings('ignore')\n",
    "from tqdm import tqdm_notebook"
   ]
  },
  {
   "cell_type": "code",
   "execution_count": 2,
   "metadata": {},
   "outputs": [],
   "source": [
    "#Astropy\n",
    "import astropy\n",
    "from astropy.io import fits\n",
    "from astropy.table import Table\n",
    "\n",
    "# Matplotlib\n",
    "import matplotlib\n",
    "import matplotlib.pyplot as plt\n",
    "# %matplotlib inline\n",
    "matplotlib.rcParams.update({'font.size': 25})\n",
    "\n",
    "#Numpy/Scipy\n",
    "import numpy as np\n",
    "from scipy.interpolate import InterpolatedUnivariateSpline as IUS\n",
    "from scipy.optimize import curve_fit\n",
    "\n",
    "class Aetas():\n",
    "    '''\n",
    "    A class to calculate a star's age and extinction using PARSEC isochrones and extinction law\n",
    "    from Cardelli et al. 1989 by fitting Gaia (BP, RP) and 2MASS (J,H,K) photometry\n",
    "    '''\n",
    "    def __init__(self,teff,abund,obsphot,distance,isochrones,rv=3.1):\n",
    "#     def __init__(self,teff,feh,cnalpha,obsphot,obsphot_err,distance,isochrones,rv=3.1):\n",
    "        \n",
    "        '''\n",
    "        teff: [array] Teff and error of star np.array([teff,teff_err])\n",
    "        abund: [8x2 array] first column is [Fe/H],[C/Fe],[N/Fe],[O/Fe],[Mg/Fe],[Si/Fe],[S/Fe],[Ca/Fe],[Ti/Fe] and\n",
    "        the second axis is the errors in the first\n",
    "        obs_phot: [5x2 array] first column is GBP,GRP,J,H,K and the second column is the errors in the first \n",
    "        distance: [float] distance to star in pc\n",
    "        isochrones: [astropy Table] PARSEC isochrone table\n",
    "        rv: [float] Rv value (=Av/E(B_V)) \n",
    "        \n",
    "        XXXXfeh: [float] metallicity [Fe/H] of star\n",
    "        XXXXcnalpha: [array] [C/Fe],[N/Fe],[O/Fe],[Mg/Fe],[Si/Fe],[S/Fe],[Ca/Fe],[Ti/Fe]\n",
    "        XXXXphot: [array] observed [BP,RP,J,H,K] photometry\n",
    "        XXXXphot_err: [array] observed [BP,RP,J,H,K] photometry error\n",
    "        '''\n",
    "        \n",
    "        # Observed Quantities\n",
    "        self.teff = teff[0] # temperature\n",
    "        self.teff_err = teff[1]\n",
    "        self.salfeh = self.salariscorrectedfeh(abund[0,0],abund[1:,1]) # Salaris Metallicity\n",
    "        self.phot = obsphot[:,0] # photometry\n",
    "        self.phot_err = obsphot[:,1] # photometry errors\n",
    "        \n",
    "        # Distance modulus\n",
    "        self.distance = distance\n",
    "        self.distmod = 5.0*np.log10(distance)-5.0\n",
    "        \n",
    "        # PARSEC isochrones\n",
    "        self.rv = rv\n",
    "        self.labels = ['G_BPmag','G_RPmag','Jmag','Hmag','Ksmag']\n",
    "        \n",
    "        self.uniq_ages = np.unique(isochrones['logAge'])\n",
    "        self.iso = isochrones[np.where(isochrones['MH']==self.closest(isochrones['MH'],self.salfeh))]\n",
    "        \n",
    "        age_idx = []\n",
    "        for i in range(len(self.uniq_ages)):\n",
    "            ages, = np.where(self.iso['logAge']==self.uniq_ages[i])\n",
    "            age_idx.append(np.array([min(ages),max(ages)]))\n",
    "        \n",
    "        self.age_idx = np.asarray(age_idx)\n",
    "                \n",
    "        # Effective Wavelengths of different passbands in units of microns\n",
    "        self.leff = {'G_BPmag':0.5387,'Gmag':0.6419,'G_RPmag':0.7667,'Jmag':1.2345,'Hmag':1.6393,'Ksmag':2.1757}\n",
    "        \n",
    "    def salariscorrectedfeh(self,feh,cnalpha):\n",
    "        '''\n",
    "        Calculate the Salaris corrected [Fe/H] according to Salaris et al. 1993 with Piersanti et al. 2007 and \n",
    "        Asplund et al. 2009. Also C and N have been added to the alpha elements and Ne has been excluded.\n",
    "        \n",
    "        Inputs:\n",
    "        ------\n",
    "            feh: metallcity of a star\n",
    "            cnalpa: array of abundances np.array([C/Fe],[N/Fe],[O/Fe],[Mg/Fe],[Si/Fe],[S/Fe],[Ca/Fe],[Ti/Fe])\n",
    "        \n",
    "        Output:\n",
    "        ------\n",
    "            salfeh: Salaris corrected metallicity\n",
    "        '''\n",
    "        # hydrogen_wgt = 1.008 #IUPAC\n",
    "        # atomic_wgts = np.array([12.011,14.007,15.999,24.305,28.085,32.06,40.078,47.867]) #IUPAC\n",
    "        # asplund = np.array([8.43,7.83,8.69,7.60,7.51,7.12,6.34,4.95]) #Asplund et al. 2009\n",
    "        # ZX_sol = 0.0181 # (Z/X) Asplund et al. 2009\n",
    "        # a = sum(10**(asplund-12.00)*(atomic_wgts/hydrowh_wgt)*(1/0.0181)) # a = 0.78963627131196057\n",
    "        # b = 1-a # b = 0.21036372868803943\n",
    "        \n",
    "        asplund = np.array([8.43,7.83,8.69,7.60,7.51,7.12,6.34,4.95])\n",
    "        \n",
    "        # assign solar value to stars if abundance is bad\n",
    "        for j in range(len(cnalpha)):\n",
    "            if cnalpha[j] < -100. or cnalpha[j] > 10. or np.isfinite(cnalpha[j])==False:\n",
    "                cnalpha[j] = 0.0\n",
    "                \n",
    "        if np.isfinite(feh)==False:\n",
    "            feh = 0.0\n",
    "        \n",
    "        # Calculate enhancement factor and corrected metallicity\n",
    "        fac_acn = sum(10**(asplund+cnalpha))/sum(10**asplund)\n",
    "        salfeh = feh+np.log10(0.78963627131196057*fac_acn+0.21036372868803943)\n",
    "        \n",
    "        return salfeh \n",
    "    \n",
    "        \n",
    "    def closest(self,data,value):\n",
    "        '''\n",
    "        Find nearest value in array to given value\n",
    "        \n",
    "        Inputs:\n",
    "        ------\n",
    "            data: data to search through \n",
    "            value: value of interest\n",
    "        '''\n",
    "        \n",
    "        data = np.asarray(data)\n",
    "    \n",
    "        return data[(np.abs(np.subtract(data,value))).argmin()]\n",
    "    \n",
    "    def neighbors(self,data,value):\n",
    "        '''\n",
    "        Find values of two elements closest to the given value\n",
    "    \n",
    "        Inputs:\n",
    "        ------\n",
    "            data: data to search through \n",
    "            value: value of interest\n",
    "        \n",
    "        Output:\n",
    "        ------\n",
    "            close1: closest value under the given value\n",
    "            close2: closest value over the given value\n",
    "        '''\n",
    "    \n",
    "        data = np.asarray(data)\n",
    "        close1 = data[(np.abs(np.subtract(data,value))).argmin()]\n",
    "        data = data[np.where(data!=close1)]\n",
    "        close2 = data[(np.abs(np.subtract(data,value))).argmin()]\n",
    "    \n",
    "        return close1,close2\n",
    "    \n",
    "    def mad(self,data):\n",
    "        '''\n",
    "        Calculate the median absolute deviation of the data\n",
    "        '''\n",
    "        return np.nanmedian(np.abs(data-np.nanmedian(data)))\n",
    "    \n",
    "    def ccm_a(self,x):\n",
    "        '''\n",
    "        a(x) function from ccm et al. 1989\n",
    "    \n",
    "        Input:\n",
    "        -----\n",
    "            x: effective wavelength in units of 1/micron\n",
    "        \n",
    "        Output:\n",
    "        ------\n",
    "            a: a function value  \n",
    "        '''\n",
    "        if 0.3 <= x < 1.1:\n",
    "            a = 0.574*(x**1.61)\n",
    "            return a\n",
    "    \n",
    "        elif 1.1 <= x < 3.3:\n",
    "            y = x - 1.82\n",
    "            a = (1.+0.17699*y-0.50477*(y**2)-0.02427*(y**3)+0.72085*(y**4)+\n",
    "                 0.01979*(y**5)-0.77530*(y**6)+0.32999*(y**7))\n",
    "            return a\n",
    "    \n",
    "        elif 3.3 <= x < 8.0:\n",
    "            if x < 5.9:\n",
    "                a = 1.752-0.136*x-0.104/((x-4.67)**2+0.341)\n",
    "                return a\n",
    "        \n",
    "            else:\n",
    "                fa = -0.04473*((x-5.9)**2)+0.1207*((x-5.9)**3)\n",
    "                a = 1.752-0.136*x-0.104/((x-4.67)**2+0.341)+fa\n",
    "                return a       \n",
    "    \n",
    "    def ccm_b(self,x):\n",
    "        '''\n",
    "        b(x) function from ccm et al. 1989\n",
    "    \n",
    "        Input:\n",
    "        -----\n",
    "            x: effective wavelength in units of 1/micron\n",
    "        \n",
    "        Output:\n",
    "        ------\n",
    "            b: b function value \n",
    "        '''\n",
    "        if 0.3 <= x < 1.1:\n",
    "            b = -0.527*(x**1.61)\n",
    "            return b\n",
    "    \n",
    "        elif 1.1 <= x <= 3.3:\n",
    "            y = x - 1.82\n",
    "            b = (1.41338*y+2.28305*(y**2)+1.07233*(y**3)-5.38434*(y**4)-\n",
    "                 0.62251*(y**5)+5.30260*(y**6)-2.09002*(y**7))\n",
    "            return b\n",
    "    \n",
    "        elif 3.3 <= x < 8.0:\n",
    "            if x < 5.9:\n",
    "                b = -3.090+1.825*x+1.206/((x-4.62)**2+0.263)\n",
    "                return b\n",
    "        \n",
    "            else:\n",
    "                fb = 0.2130*((x-5.9)**2)+0.1207*((x-5.9)**3)\n",
    "                b = -3.090+1.825*x+1.206/((x-4.62)**2+0.263)+fb\n",
    "                return b\n",
    "    \n",
    "    def ccm_alav(self,wave):\n",
    "        '''\n",
    "        Calculate A\\lambda/Av\n",
    "    \n",
    "        Inputs:\n",
    "        ------\n",
    "            wave: effective wavelength in units of micron\n",
    "        \n",
    "        Output:\n",
    "        ------\n",
    "            alav: A\\lambda/Av\n",
    "        '''\n",
    "        x=1/wave\n",
    "        alav = self.ccm_a(x)+self.ccm_b(x)/self.rv\n",
    "        return alav    \n",
    "        \n",
    "    def teff_2_appmags(self,teff,age,ak,verbose=False):\n",
    "        '''\n",
    "        Calculate the expected apparent magnitude of a star\n",
    "        \n",
    "        Inputs:\n",
    "        ------\n",
    "            teff: Teff of star \n",
    "            age: age of star\n",
    "            ak: extinction in the 2MASS K band\n",
    "        \n",
    "        Output:\n",
    "        ------\n",
    "            calc_mag: expected intrinsic magnitude for the given temperature\n",
    "        '''\n",
    "        \n",
    "        #Some calcualtions to set things up\n",
    "        lgteff = np.log10(teff)\n",
    "        \n",
    "        abpak = self.ccm_alav(self.leff['G_BPmag'])/self.ccm_alav(self.leff['Ksmag'])\n",
    "        arpak = self.ccm_alav(self.leff['G_RPmag'])/self.ccm_alav(self.leff['Ksmag'])\n",
    "        ajak = self.ccm_alav(self.leff['Jmag'])/self.ccm_alav(self.leff['Ksmag'])\n",
    "        ahak = self.ccm_alav(self.leff['Hmag'])/self.ccm_alav(self.leff['Ksmag'])\n",
    "        \n",
    "        extincts = np.array([abpak,arpak,ajak,ahak,1.0])*ak\n",
    "        \n",
    "        lgage = np.log10(age*10**9)\n",
    "        \n",
    "        if verbose:\n",
    "            print('Input [Age, Ak]: ',[age,ak])\n",
    "        \n",
    "        # Figure out if age is actually in the ages given in the isochrone table\n",
    "        if lgage in self.uniq_ages:\n",
    "            \n",
    "            ### pick out a single isochrone \n",
    "            aidx, = np.where(self.uniq_ages==lgage)\n",
    "            iso_ = self.iso[self.age_idx[int(aidx)][0]:self.age_idx[int(aidx)][1]]\n",
    "            \n",
    "            if verbose:\n",
    "                print('lgteff, min, max: ',[lgteff,min(iso_['logTe']),max(iso_['logTe'])])\n",
    "            \n",
    "            if lgteff < min(iso_['logTe']) or lgteff > max(iso_['logTe']):\n",
    "                if verbose:\n",
    "                    print('[BP,RP,J,H,K]: ',np.array([999999.0, 999999.0, 999999.0, 999999.0, 999999.0]))\n",
    "                return np.array([999999.0, 999999.0, 999999.0, 999999.0, 999999.0])\n",
    "            \n",
    "            ### sort so temp is always increasing\n",
    "            sidx = np.argsort(iso_['logTe'])\n",
    "            slogTe = iso_['logTe'][sidx]\n",
    "            _, uidx = np.unique(slogTe,return_index=True)\n",
    "            slogTe = slogTe[uidx]\n",
    "            \n",
    "            ### use a spline to get the apparent mags\n",
    "            calc_mags = 999999.0*np.ones(5)\n",
    "            calc_mags0 = 99999.0*np.ones(5)\n",
    "            for i in range(5):\n",
    "                mag_spl = IUS(slogTe,iso_[self.labels[i]][sidx][uidx])\n",
    "                calc_mags[i] = mag_spl(lgteff)+self.distmod+extincts[i]\n",
    "                calc_mags0[i] = mag_spl(lgteff)+self.distmod\n",
    "            \n",
    "            if verbose:\n",
    "                print('[BP,RP,J,H,K]: ',calc_mags)\n",
    "                print('No Ext [BP,RP,J,H,K]: ',calc_mags0)\n",
    "            return calc_mags\n",
    "            \n",
    "        else:\n",
    "            lgage_lo,lgage_hi = self.neighbors(self.uniq_ages,lgage)\n",
    "            if verbose:\n",
    "                print('[age_lo,age_hi]: ',[10**lgage_lo/10**9,10**lgage_hi/10**9])\n",
    "            \n",
    "            ### Pick out single isochrones\n",
    "        \n",
    "            # younger\n",
    "            aidx_lo, = np.where(self.uniq_ages==lgage_lo)\n",
    "            iso_lo = self.iso[self.age_idx[int(aidx_lo)][0]:self.age_idx[int(aidx_lo)][1]]\n",
    "            \n",
    "            # older\n",
    "            aidx_hi, = np.where(self.uniq_ages==lgage_hi)\n",
    "            iso_hi = self.iso[self.age_idx[int(aidx_hi)][0]:self.age_idx[int(aidx_hi)][1]]\n",
    "            \n",
    "            if verbose:\n",
    "                print('lgteff, min, max: ',[lgteff,min(iso_lo['logTe']),max(iso_lo['logTe'])])\n",
    "            \n",
    "            ### Temperature Check\n",
    "            if lgteff < min(iso_lo['logTe']) or lgteff > max(iso_lo['logTe']):\n",
    "                if verbose:\n",
    "                    print('[BP,RP,J,H,K]: ',np.array([999999.0, 999999.0, 999999.0, 999999.0, 999999.0]))\n",
    "                return np.array([999999.0, 999999.0, 999999.0, 999999.0, 999999.0])\n",
    "            if lgteff < min(iso_hi['logTe']) or lgteff > max(iso_hi['logTe']):\n",
    "                if verbose:\n",
    "                    print('[BP,RP,J,H,K]: ',np.array([999999.0, 999999.0, 999999.0, 999999.0, 999999.0]))\n",
    "                return np.array([999999.0, 999999.0, 999999.0, 999999.0, 999999.0])\n",
    "            \n",
    "            ### sort so temp is always increasing\n",
    "            \n",
    "            # younger\n",
    "            sidx_lo = np.argsort(iso_lo['logTe'])\n",
    "            slogTe_lo = iso_lo['logTe'][sidx_lo]\n",
    "            _, uidx_lo = np.unique(slogTe_lo,return_index=True)\n",
    "            slogTe_lo = slogTe_lo[uidx_lo]\n",
    "            \n",
    "            # older\n",
    "            sidx_hi = np.argsort(iso_hi['logTe'])\n",
    "            slogTe_hi = iso_hi['logTe'][sidx_hi]\n",
    "            _, uidx_hi = np.unique(slogTe_hi,return_index=True)\n",
    "            slogTe_hi = slogTe_hi[uidx_hi]\n",
    "            \n",
    "            ### use a spline to get the apparent mags\n",
    "            age_lo = 10**lgage_lo/10**9\n",
    "            age_hi = 10**lgage_hi/10**9\n",
    "            calc_mags = 999999.0*np.ones(5)\n",
    "            calc_mags0 = 999999.0*np.ones(5)\n",
    "            for i in range(5):\n",
    "                mag_spl_lo = IUS(slogTe_lo,iso_lo[self.labels[i]][sidx_lo][uidx_lo])\n",
    "                mag_spl_hi = IUS(slogTe_hi,iso_hi[self.labels[i]][sidx_hi][uidx_hi])\n",
    "                age_spl_interp = np.poly1d(np.squeeze(np.polyfit([age_lo,age_hi],\n",
    "                                                                 [mag_spl_lo(lgteff),mag_spl_hi(lgteff)],1)))\n",
    "                calc_mags[i] = age_spl_interp(age)+self.distmod+extincts[i]\n",
    "                calc_mags0[i] = age_spl_interp(age)+self.distmod\n",
    "            \n",
    "            if verbose:\n",
    "                print('[BP,RP,J,H,K]: ',calc_mags)\n",
    "                print('No Ext [BP,RP,J,H,K]: ',calc_mags0)\n",
    "            return calc_mags\n",
    "    \n",
    "    def get_age_ak(self,guess_ages=np.arange(0,14),guess_aks=np.array([0,0.5,1.0]),verbose=False):\n",
    "        '''\n",
    "        Find best fitting age and Ak values for a star by searching chisq space given initial guesses for\n",
    "        age and extinction.\n",
    "        \n",
    "        Inputs:\n",
    "        ------\n",
    "            guess_ages: [array] initial guesses for ages in Gyr\n",
    "            guess_aks: [array] initial guesses for Ak \n",
    "            \n",
    "        Output:\n",
    "        ------\n",
    "            best_params: [array] best fitting age and Ak \n",
    "            best_params_err:\n",
    "        '''\n",
    "            \n",
    "        # initialize lists\n",
    "        curve_ages = []\n",
    "        curve_aks = []\n",
    "        curve_ages_err = []\n",
    "        curve_aks_err = []\n",
    "        curve_chi = []\n",
    "\n",
    "        # loop over age and ak space \n",
    "        for j in range(len(guess_ages)):\n",
    "            for k in range(len(guess_aks)):  \n",
    "                try:\n",
    "                    # calculate best fit parameters and covariance matrix\n",
    "                    popt,pcov = curve_fit(self.teff_2_appmags,self.teff,self.phot,p0=[guess_ages[j],guess_aks[k]],\n",
    "                                          bounds=((0.,0.),(14.,2.)),method='trf',sigma=self.phot_err,\n",
    "                                          absolute_sigma=True,maxfev=5000)\n",
    "\n",
    "                    # populate lists\n",
    "                    curve_ages.append(popt[0])\n",
    "                    curve_aks.append(popt[1])\n",
    "                    curve_ages_err.append(np.sqrt(pcov[0][0]))\n",
    "                    curve_aks_err.append(np.sqrt(pcov[1][1]))\n",
    "                    curve_mags = np.asarray(self.teff_2_appmags(self.teff,popt[0],popt[1]))\n",
    "                    curve_chi.append(sum((curve_mags-self.phot)**2/self.phot_err**2))\n",
    "\n",
    "                except:\n",
    "                    #populate lists\n",
    "                    curve_mags = 999999.0*np.ones(5)\n",
    "                    curve_ages.append(999999.0)\n",
    "                    curve_aks.append(999999.0)\n",
    "                    curve_ages_err.append(999999.0)\n",
    "                    curve_aks_err.append(999999.0)\n",
    "                    curve_chi.append(999999.0)\n",
    "        \n",
    "        # find smallest chisq value and corresponding age and Ak\n",
    "        idx = np.asarray(curve_chi).argmin()\n",
    "        chi = np.min(curve_chi)\n",
    "        age = np.asarray(curve_ages)[idx]\n",
    "        ak = np.asarray(curve_aks)[idx]\n",
    "        age_err = np.asarray(curve_ages_err)[idx]\n",
    "        ak_err = np.asarray(curve_aks_err)[idx]\n",
    "\n",
    "        best_params = np.array([age,ak])\n",
    "        best_params_err = np.array([age_err,ak_err])\n",
    "        best_mags = self.teff2appmags(self.teff,age,ak)\n",
    "\n",
    "        if verbose:\n",
    "            print('Best Fit Params [Age, Ak]:',np.round(best_params,3))\n",
    "            print('Best Fit Params Err [Age, Ak]:',np.round(best_params_err,3))\n",
    "            print('Best Fit [BP,RP,J,H,K]: ',np.round(best_mags,3))\n",
    "            print('Obs Phot [BP,RP,J,H,K]: ',np.round(self.phot,3))\n",
    "            print('Obs Phot Err [BP,RP,J,H,K]: ',np.round(self.phot_err,3))\n",
    "\n",
    "        return best_params, best_params_err\n",
    "        \n",
    "#     def diagnostic(self,best_fit_params,star_name=None,lit_age=None,filename=None,verbose=False):\n",
    "#         '''\n",
    "#         Create a diagnostic plot for the best fit age and Ak values that is optionally saved\n",
    "        \n",
    "#         Inputs:\n",
    "#         ------\n",
    "#             best_fit_params: [array]\n",
    "#             lit_age: [float] optional known literature age in Gyr\n",
    "#             filename: [str] optional filename of plot if saving\n",
    "#         '''\n",
    "        \n",
    "#         # initialize arrays\n",
    "#         ages = np.arange(0,15,0.25)\n",
    "#         theos = 999999.0*np.ones((len(ages),5))\n",
    "#         theos_noext = 999999.0*np.ones((len(ages),5))\n",
    "    \n",
    "#         # calculate theoretical age for given ages\n",
    "#         for j in range(len(ages)):\n",
    "#             theos[j,:] = self.teff2appmags(self.teff,ages[j],best_fit_params[1]) # use best Ak \n",
    "#             theos_noext[j,:] = self.teff2appmags(self.teff,ages[j],0) # no extinction\n",
    "        \n",
    "#         # plot results\n",
    "#         fig, ax = plt.subplots(1,5,figsize=[67,15])\n",
    "#         for i in range(5):\n",
    "#             ax[i].scatter(theos[:,i],ages,s=100,label='Best Fit Ak')\n",
    "#             ax[i].plot(theos[:,i],ages)\n",
    "            \n",
    "#             ax[i].scatter(theos_noext[:,i],ages,s=100,label='No Ak')\n",
    "#             ax[i].plot(theos_noext[:,i],ages)\n",
    "            \n",
    "#             ax[i].axhline(best_fit_params[0],c='r',ls='--',label='Best Fit Age',lw=3.0)\n",
    "            \n",
    "#             if lit_age!=None:\n",
    "#                 ax[i].axhline(lit_age,c='k',ls='--',label='Lit Age',lw=3.0)\n",
    "            \n",
    "#             ax[i].axvline(self.phot[i],ls='--',c='magenta',lw=3.0)\n",
    "            \n",
    "#             ax[i].set_xlim(self.phot[i]-3.0,self.phot[i]+3.0)\n",
    "#             ax[i].set_ylim(bottom=0.01)\n",
    "            \n",
    "#             ax[i].set_title(r'{}: {:.3f}'.format(self.labels[i],self.phot[i]))\n",
    "#             ax[i].set_xlabel(r'Magnitude')\n",
    "            \n",
    "#         ax[0].legend()\n",
    "\n",
    "#         ax[0].set_ylabel('Age')\n",
    "        \n",
    "#         if star_name!=None:\n",
    "#             plt.suptitle(r'{}; {:.3f} Gyr; {:.3f} dex; {:.3f} kpc'.format(star_name,best_fit_params[0],\n",
    "#                                                                           best_fit_params[1],self.distance))\n",
    "        \n",
    "#         else:\n",
    "#             plt.suptitle(r'{:.3f} Gyr; {:.3f} dex; {:.3f} kpc'.format(best_fit_params[0],best_fit_params[1],\n",
    "#                                                                       self.distance))\n",
    "    \n",
    "#         if filename!=None:\n",
    "#             plt.savefig(filename,bbox_inches='tight')\n",
    "#         plt.show()\n",
    "        \n",
    "    def get_ak(self,age,verbose=False):\n",
    "        '''\n",
    "        Calculate the K band (fiducial band here) extintion by interpolating color index as a function\n",
    "        of temperature for a given age.\n",
    "\n",
    "        Inputs:\n",
    "        ------\n",
    "        age: [float] age in Gyr\n",
    "\n",
    "        Output:\n",
    "        ------\n",
    "        ak: extinction in the K band\n",
    "        '''\n",
    "\n",
    "        #Some calcualtions to set things up\n",
    "        nsamples = 100\n",
    "        ind = np.floor(np.random.random(nsamples)*(nsamples-1)).astype(int)\n",
    "        lgteffdist = np.log10(np.random.normal(self.teff,self.teff_err,100))[ind]\n",
    "        \n",
    "        akdist = 999999.0*np.ones(nsamples)\n",
    "\n",
    "        ebpk_k = ((self.ccm_alav(self.leff['G_BPmag'])-self.ccm_alav(self.leff['Ksmag']))/\n",
    "              self.ccm_alav(self.leff['Ksmag']))\n",
    "        erpk_k = ((self.ccm_alav(self.leff['G_RPmag'])-self.ccm_alav(self.leff['Ksmag']))/\n",
    "              self.ccm_alav(self.leff['Ksmag']))\n",
    "        ejk_k = ((self.ccm_alav(self.leff['Jmag'])-self.ccm_alav(self.leff['Ksmag']))/\n",
    "             self.ccm_alav(self.leff['Ksmag']))\n",
    "        ehk_k = ((self.ccm_alav(self.leff['Hmag'])-self.ccm_alav(self.leff['Ksmag']))/\n",
    "             self.ccm_alav(self.leff['Ksmag']))\n",
    "\n",
    "        ccm = np.array([ebpk_k,erpk_k,ejk_k,ehk_k])\n",
    "\n",
    "        lgage = np.log10(age*10**9)\n",
    "\n",
    "        if verbose:\n",
    "            print('Input [Age, teff, Salaris [Fe/H]]: ',[age,self.teff,self.salfeh])\n",
    "        \n",
    "        for j in range(nsamples):\n",
    "            # Figure out if age is actually in the ages given in the isochrone table\n",
    "            if lgage in self.uniq_ages:\n",
    "\n",
    "                ### pick out a single isochrone \n",
    "                aidx, = np.where(self.uniq_ages==lgage)\n",
    "                iso_ = self.iso[self.age_idx[int(aidx)][0]:self.age_idx[int(aidx)][1]]\n",
    "\n",
    "                if verbose:\n",
    "                    print('lgteff, min, max: ',[lgteffdist[j],min(iso_['logTe']),max(iso_['logTe'])])\n",
    "\n",
    "                if lgteffdist[j] < min(iso_['logTe']) or lgteffdist[j] > max(iso_['logTe']):\n",
    "                    if verbose:\n",
    "                        print('Ak: ',999999.0)\n",
    "                    akdist[j] = 999999.0\n",
    "\n",
    "                ### sort so temp is always increasing\n",
    "                sidx = np.argsort(iso_['logTe'])\n",
    "                slogTe = iso_['logTe'][sidx]\n",
    "                _, uidx = np.unique(slogTe,return_index=True)\n",
    "                slogTe = slogTe[uidx]\n",
    "\n",
    "                ### use a spline to get the intrinsic color and calculate the reddening\n",
    "                calc_reds = 999999.*np.ones(4)\n",
    "                for i in range(4):\n",
    "                    color_spl = IUS(slogTe,(iso_[self.labels[i]]-iso_['Ksmag'])[sidx][uidx])\n",
    "                    calc_reds[i] = (self.phot[i]-self.phot[4])-color_spl(lgteffdist[j])\n",
    "\n",
    "                ### calculate the Ak value\n",
    "                calc_ak = np.median(np.divide(calc_reds,ccm))\n",
    "\n",
    "                if verbose:\n",
    "                    print('[ebpk,erpk,ejk,ehk]: ',calc_reds)\n",
    "                    print(ccm)\n",
    "                    print(np.divide(calc_reds,ccm))\n",
    "                    print('Calc Ak: ',calc_ak)\n",
    "                akdist[j] = calc_ak\n",
    "\n",
    "            else:\n",
    "                lgage_lo,lgage_hi = self.neighbors(self.uniq_ages,lgage)\n",
    "                if verbose:\n",
    "                    print('[age_lo,age_hi]: ',[10**lgage_lo/10**9,10**lgage_hi/10**9])\n",
    "\n",
    "                ### Pick out single isochrones\n",
    "\n",
    "                # younger\n",
    "                aidx_lo, = np.where(self.uniq_ages==lgage_lo)\n",
    "                iso_lo = self.iso[self.age_idx[int(aidx_lo)][0]:self.age_idx[int(aidx_lo)][1]]\n",
    "\n",
    "                # older\n",
    "                aidx_hi, = np.where(self.uniq_ages==lgage_hi)\n",
    "                iso_hi = self.iso[self.age_idx[int(aidx_hi)][0]:self.age_idx[int(aidx_hi)][1]]\n",
    "\n",
    "                if verbose:\n",
    "                    print('lgteff, min, max: ',[lgteffdist[j],min(iso_lo['logTe']),max(iso_lo['logTe'])])\n",
    "\n",
    "                ### Temperature Check\n",
    "                if lgteffdist[j] < min(iso_lo['logTe']) or lgteffdist[j] > max(iso_lo['logTe']):\n",
    "                    if verbose:\n",
    "                        print('Ak: ',999999.0)   \n",
    "                    akdist[j] = 999999.0\n",
    "                if lgteffdist[j] < min(iso_hi['logTe']) or lgteffdist[j] > max(iso_hi['logTe']):\n",
    "                    if verbose:\n",
    "                        print('Ak: ',999999.0)\n",
    "                    akdist[j] = 999999.0\n",
    "\n",
    "                ### sort so temp is always increasing\n",
    "\n",
    "                # younger\n",
    "                sidx_lo = np.argsort(iso_lo['logTe'])\n",
    "                slogTe_lo = iso_lo['logTe'][sidx_lo]\n",
    "                _, uidx_lo = np.unique(slogTe_lo,return_index=True)\n",
    "                slogTe_lo = slogTe_lo[uidx_lo]\n",
    "\n",
    "                # older\n",
    "                sidx_hi = np.argsort(iso_hi['logTe'])\n",
    "                slogTe_hi = iso_hi['logTe'][sidx_hi]\n",
    "                _, uidx_hi = np.unique(slogTe_hi,return_index=True)\n",
    "                slogTe_hi = slogTe_hi[uidx_hi]\n",
    "\n",
    "                ### use a spline to get the apparent mags\n",
    "                age_lo = 10**lgage_lo/10**9\n",
    "                age_hi = 10**lgage_hi/10**9\n",
    "                calc_reds = 999999.*np.ones(4)\n",
    "                for i in range(4):\n",
    "                    color_spl_lo = IUS(slogTe_lo,(iso_lo[self.labels[i]]-iso_lo['Ksmag'])[sidx_lo][uidx_lo])\n",
    "                    color_spl_hi = IUS(slogTe_hi,(iso_hi[self.labels[i]]-iso_hi['Ksmag'])[sidx_hi][uidx_hi])\n",
    "                    age_spl_interp = np.poly1d(np.squeeze(\n",
    "                        np.polyfit([age_lo,age_hi],[color_spl_lo(lgteffdist[j]),color_spl_hi(lgteffdist[j])],1)))\n",
    "                    if verbose:\n",
    "                        print('interp',age_spl_interp)\n",
    "                        print('logteff',lgteffdist[j])\n",
    "                        print('interp age',age_spl_interp(lgteffdist[j]))\n",
    "                        print('color',self.phot[i]-self.phot[4])\n",
    "                    calc_reds[i] = (self.phot[i]-self.phot[4])-age_spl_interp(age)\n",
    "\n",
    "                ### calculate the Ak value\n",
    "                calc_ak = np.median(np.divide(calc_reds,ccm))\n",
    "                if verbose:\n",
    "                    print('[ebpk,erpk,ejk,ehk]: ',calc_reds)\n",
    "                    print('CCM: ',ccm)\n",
    "                    print('Ak each band',np.divide(calc_reds,ccm))\n",
    "                    print('Calc Ak: ',calc_ak)\n",
    "\n",
    "#                 print(calc_ak)\n",
    "                akdist[j] = calc_ak\n",
    "            \n",
    "#         print(akdist)\n",
    "        med_calc_ak = np.nanmedian(akdist)\n",
    "        mad_calc_ak = self.mad(akdist)\n",
    "        \n",
    "        if np.isfinite(med_calc_ak)==False:\n",
    "            med_calc_ak = 999999.0\n",
    "        if np.isfinite(mad_calc_ak)==False:\n",
    "            mad_calc_ak = 999999.0\n",
    "        \n",
    "        self.ak = med_calc_ak\n",
    "        self.ak_err = mad_calc_ak\n",
    "        \n",
    "        return np.array([med_calc_ak,mad_calc_ak])\n",
    "\n",
    "    def teff_2_appmags_age(self,teff,age,verbose=False):\n",
    "        '''\n",
    "        Calculate the expected apparent magnitude of a star\n",
    "        \n",
    "        Inputs:\n",
    "        ------\n",
    "            teff: Teff of star \n",
    "            age: age of star\n",
    "            ak: extinction in the 2MASS K band\n",
    "        \n",
    "        Output:\n",
    "        ------\n",
    "            calc_mag: expected intrinsic magnitude for the given temperature\n",
    "        '''\n",
    "        \n",
    "        #Some calcualtions to set things up\n",
    "        lgteff = np.log10(teff)\n",
    "        \n",
    "        abpak = self.ccm_alav(self.leff['G_BPmag'])/self.ccm_alav(self.leff['Ksmag'])\n",
    "        arpak = self.ccm_alav(self.leff['G_RPmag'])/self.ccm_alav(self.leff['Ksmag'])\n",
    "        ajak = self.ccm_alav(self.leff['Jmag'])/self.ccm_alav(self.leff['Ksmag'])\n",
    "        ahak = self.ccm_alav(self.leff['Hmag'])/self.ccm_alav(self.leff['Ksmag'])\n",
    "        \n",
    "        extincts = np.array([abpak,arpak,ajak,ahak,1.0])*self.ak\n",
    "        \n",
    "        lgage = np.log10(age*10**9)\n",
    "        \n",
    "        if verbose:\n",
    "            print('Input [Age, Ak]: ',[age,self.ak])\n",
    "        \n",
    "        # Figure out if age is actually in the ages given in the isochrone table\n",
    "        if lgage in self.uniq_ages:\n",
    "            \n",
    "            ### pick out a single isochrone \n",
    "            aidx, = np.where(self.uniq_ages==lgage)\n",
    "            iso_ = self.iso[self.age_idx[int(aidx)][0]:self.age_idx[int(aidx)][1]]\n",
    "            \n",
    "            if verbose:\n",
    "                print('lgteff, min, max: ',[lgteff,min(iso_['logTe']),max(iso_['logTe'])])\n",
    "            \n",
    "            if lgteff < min(iso_['logTe']) or lgteff > max(iso_['logTe']):\n",
    "                if verbose:\n",
    "                    print('[BP,RP,J,H,K]: ',np.array([999999.0, 999999.0, 999999.0, 999999.0, 999999.0]))\n",
    "                return np.array([999999.0, 999999.0, 999999.0, 999999.0, 999999.0])\n",
    "            \n",
    "            ### sort so temp is always increasing\n",
    "            sidx = np.argsort(iso_['logTe'])\n",
    "            slogTe = iso_['logTe'][sidx]\n",
    "            _, uidx = np.unique(slogTe,return_index=True)\n",
    "            slogTe = slogTe[uidx]\n",
    "            \n",
    "            ### use a spline to get the apparent mags\n",
    "            calc_mags = 999999.0*np.ones(5)\n",
    "            calc_mags0 = 99999.0*np.ones(5)\n",
    "            for i in range(5):\n",
    "                mag_spl = IUS(slogTe,iso_[self.labels[i]][sidx][uidx])\n",
    "                calc_mags[i] = mag_spl(lgteff)+self.distmod+extincts[i]\n",
    "                calc_mags0[i] = mag_spl(lgteff)+self.distmod\n",
    "            \n",
    "            if verbose:\n",
    "                print('[BP,RP,J,H,K]: ',calc_mags)\n",
    "                print('No Ext [BP,RP,J,H,K]: ',calc_mags0)\n",
    "            return calc_mags\n",
    "            \n",
    "        else:\n",
    "            lgage_lo,lgage_hi = self.neighbors(self.uniq_ages,lgage)\n",
    "            if verbose:\n",
    "                print('[age_lo,age_hi]: ',[10**lgage_lo/10**9,10**lgage_hi/10**9])\n",
    "            \n",
    "            ### Pick out single isochrones\n",
    "        \n",
    "            # younger\n",
    "            aidx_lo, = np.where(self.uniq_ages==lgage_lo)\n",
    "            iso_lo = self.iso[self.age_idx[int(aidx_lo)][0]:self.age_idx[int(aidx_lo)][1]]\n",
    "            \n",
    "            # older\n",
    "            aidx_hi, = np.where(self.uniq_ages==lgage_hi)\n",
    "            iso_hi = self.iso[self.age_idx[int(aidx_hi)][0]:self.age_idx[int(aidx_hi)][1]]\n",
    "            \n",
    "            if verbose:\n",
    "                print('lgteff, min, max: ',[lgteff,min(iso_lo['logTe']),max(iso_lo['logTe'])])\n",
    "            \n",
    "            ### Temperature Check\n",
    "            if lgteff < min(iso_lo['logTe']) or lgteff > max(iso_lo['logTe']):\n",
    "                if verbose:\n",
    "                    print('[BP,RP,J,H,K]: ',np.array([999999.0, 999999.0, 999999.0, 999999.0, 999999.0]))\n",
    "                return np.array([999999.0, 999999.0, 999999.0, 999999.0, 999999.0])\n",
    "            if lgteff < min(iso_hi['logTe']) or lgteff > max(iso_hi['logTe']):\n",
    "                if verbose:\n",
    "                    print('[BP,RP,J,H,K]: ',np.array([999999.0, 999999.0, 999999.0, 999999.0, 999999.0]))\n",
    "                return np.array([999999.0, 999999.0, 999999.0, 999999.0, 999999.0])\n",
    "            \n",
    "            ### sort so temp is always increasing\n",
    "            \n",
    "            # younger\n",
    "            sidx_lo = np.argsort(iso_lo['logTe'])\n",
    "            slogTe_lo = iso_lo['logTe'][sidx_lo]\n",
    "            _, uidx_lo = np.unique(slogTe_lo,return_index=True)\n",
    "            slogTe_lo = slogTe_lo[uidx_lo]\n",
    "            \n",
    "            # older\n",
    "            sidx_hi = np.argsort(iso_hi['logTe'])\n",
    "            slogTe_hi = iso_hi['logTe'][sidx_hi]\n",
    "            _, uidx_hi = np.unique(slogTe_hi,return_index=True)\n",
    "            slogTe_hi = slogTe_hi[uidx_hi]\n",
    "            \n",
    "            ### use a spline to get the apparent mags\n",
    "            age_lo = 10**lgage_lo/10**9\n",
    "            age_hi = 10**lgage_hi/10**9\n",
    "            calc_mags = 999999.0*np.ones(5)\n",
    "            calc_mags0 = 999999.0*np.ones(5)\n",
    "            for i in range(5):\n",
    "                mag_spl_lo = IUS(slogTe_lo,iso_lo[self.labels[i]][sidx_lo][uidx_lo])\n",
    "                mag_spl_hi = IUS(slogTe_hi,iso_hi[self.labels[i]][sidx_hi][uidx_hi])\n",
    "                age_spl_interp = np.poly1d(np.squeeze(np.polyfit([age_lo,age_hi],\n",
    "                                                                 [mag_spl_lo(lgteff),mag_spl_hi(lgteff)],1)))\n",
    "                calc_mags[i] = age_spl_interp(age)+self.distmod+extincts[i]\n",
    "                calc_mags0[i] = age_spl_interp(age)+self.distmod\n",
    "            \n",
    "            if verbose:\n",
    "                print('[BP,RP,J,H,K]: ',calc_mags)\n",
    "                print('No Ext [BP,RP,J,H,K]: ',calc_mags0)\n",
    "            return calc_mags\n",
    "        \n",
    "    def get_age(self,guess_ages=np.arange(0,14),verbose=False):\n",
    "        '''\n",
    "        Find best fitting age and Ak values for a star by searching chisq space given initial guesses for\n",
    "        age and extinction.\n",
    "        \n",
    "        Inputs:\n",
    "        ------\n",
    "            guess_ages: [array] initial guesses for ages in Gyr\n",
    "            guess_aks: [array] initial guesses for Ak \n",
    "            \n",
    "        Output:\n",
    "        ------\n",
    "            best_params: [array] best fitting age and Ak \n",
    "            best_params_err:\n",
    "        '''\n",
    "            \n",
    "        # initialize lists\n",
    "        curve_ages = []\n",
    "        curve_ages_err = []\n",
    "        curve_chi = []\n",
    "\n",
    "        # loop over age and ak space \n",
    "        for j in range(len(guess_ages)): \n",
    "            try:\n",
    "                # calculate best fit parameters and covariance matrix\n",
    "                popt,pcov = curve_fit(self.teff_2_appmags_age,self.teff,self.phot,p0=guess_ages[j],\n",
    "                                      bounds=(0.,14.),method='trf',sigma=self.phot_err,\n",
    "                                      absolute_sigma=True,maxfev=5000)\n",
    "\n",
    "                # populate lists\n",
    "                curve_ages.append(popt[0])\n",
    "                curve_ages_err.append(np.sqrt(pcov[0][0]))\n",
    "                curve_mags = np.asarray(self.teff_2_appmags_age(self.teff,popt[0]))\n",
    "                curve_chi.append(sum((curve_mags-self.phot)**2/self.phot_err**2))\n",
    "\n",
    "            except:\n",
    "                #populate lists\n",
    "                curve_ages.append(999999.0)\n",
    "                curve_ages_err.append(999999.0)\n",
    "                curve_chi.append(999999.0)\n",
    "        \n",
    "        # find smallest chisq value and corresponding age and Ak\n",
    "        idx = np.asarray(curve_chi).argmin()\n",
    "        chi = np.min(curve_chi)\n",
    "        age = np.asarray(curve_ages)[idx]\n",
    "        age_err = np.asarray(curve_ages_err)[idx]\n",
    "\n",
    "        best_params = np.array([age,age_err])\n",
    "#         best_params_err = np.array([age_err,ak_err])\n",
    "        best_mags = self.teff_2_appmags_age(self.teff,age)#,ak)\n",
    "\n",
    "        if verbose:\n",
    "            print('Best Fit Params [Age, Age Err]:',np.round(best_params,3))\n",
    "            print('Best Fit [BP,RP,J,H,K]: ',np.round(best_mags,3))\n",
    "            print('Obs Phot [BP,RP,J,H,K]: ',np.round(self.phot,3))\n",
    "            print('Obs Phot Err [BP,RP,J,H,K]: ',np.round(self.phot_err,3))\n",
    "\n",
    "        return best_params"
   ]
  },
  {
   "cell_type": "markdown",
   "metadata": {},
   "source": [
    "# Cardelli Extinction"
   ]
  },
  {
   "cell_type": "code",
   "execution_count": 4,
   "metadata": {},
   "outputs": [],
   "source": [
    "leff = {'BP':0.5387,'G':0.6419,'RP':0.7667,'J':1.2345,'H':1.6393,'K':2.1757}\n",
    "def ccm_a(x):\n",
    "    '''\n",
    "    a(x) function from Cardelli et al. 1989\n",
    "    \n",
    "    Input:\n",
    "    -----\n",
    "        x: effective wavelength in units of 1/micron\n",
    "        \n",
    "    Output:\n",
    "    ------\n",
    "        a: a function value  \n",
    "    '''\n",
    "    if 0.3 <= x < 1.1:\n",
    "        a = 0.574*(x**1.61)\n",
    "        return a\n",
    "    \n",
    "    elif 1.1 <= x < 3.3:\n",
    "        y = x - 1.82\n",
    "        a = (1.+0.17699*y-0.50477*(y**2)-0.02427*(y**3)+0.72085*(y**4)+\n",
    "                0.01979*(y**5)-0.77530*(y**6)+0.32999*(y**7))\n",
    "        return a\n",
    "    \n",
    "    elif 3.3 <= x < 8.0:\n",
    "        if x < 5.9:\n",
    "            a = 1.752-0.136*x-0.104/((x-4.67)**2+0.341)\n",
    "            return a\n",
    "        \n",
    "        else:\n",
    "            fa = -0.04473*((x-5.9)**2)+0.1207*((x-5.9)**3)\n",
    "            a = 1.752-0.136*x-0.104/((x-4.67)**2+0.341)+fa\n",
    "            return a       \n",
    "    \n",
    "def ccm_b(x):\n",
    "    '''\n",
    "    b(x) function from Cardelli et al. 1989\n",
    "    \n",
    "    Input:\n",
    "    -----\n",
    "        x: effective wavelength in units of 1/micron\n",
    "        \n",
    "    Output:\n",
    "    ------\n",
    "        b: b function value \n",
    "    '''\n",
    "    if 0.3 <= x < 1.1:\n",
    "        b = -0.527*(x**1.61)\n",
    "        return b\n",
    "    \n",
    "    elif 1.1 <= x <= 3.3:\n",
    "        y = x - 1.82\n",
    "        b = (1.41338*y+2.28305*(y**2)+1.07233*(y**3)-5.38434*(y**4)-\n",
    "                0.62251*(y**5)+5.30260*(y**6)-2.09002*(y**7))\n",
    "        return b\n",
    "    \n",
    "    elif 3.3 <= x < 8.0:\n",
    "        if x < 5.9:\n",
    "            b = -3.090+1.825*x+1.206/((x-4.62)**2+0.263)\n",
    "            return b\n",
    "        \n",
    "        else:\n",
    "            fb = 0.2130*((x-5.9)**2)+0.1207*((x-5.9)**3)\n",
    "            b = -3.090+1.825*x+1.206/((x-4.62)**2+0.263)+fb\n",
    "            return b\n",
    "    \n",
    "def ccm_alav(wave,rv):\n",
    "    '''\n",
    "    Calculate A\\lambda/Av\n",
    "    \n",
    "    Inputs:\n",
    "    ------\n",
    "        wave: effective wavelength in units of micron\n",
    "        rv: Rv value (=Av/E(B_V))\n",
    "        \n",
    "    Output:\n",
    "    ------\n",
    "        alav: A\\lambda/Av\n",
    "    '''\n",
    "    x=1/wave\n",
    "    alav = ccm_a(x)+ccm_b(x)/rv\n",
    "    return alav\n",
    "\n",
    "ejk_ak = (ccm_alav(leff['J'],3.1)-ccm_alav(leff['K'],3.1))/ccm_alav(leff['K'],3.1)\n",
    "ebv_ak = (ccm_alav(0.445,3.1)-ccm_alav(0.551,3.1))/ccm_alav(leff['K'],3.1)\n",
    "\n",
    "def closest(data,value):\n",
    "    '''\n",
    "    Find nearest value in array to given value\n",
    "        \n",
    "    Inputs:\n",
    "    ------\n",
    "        data: data to search through \n",
    "        value: value of interest\n",
    "    '''\n",
    "        \n",
    "    data = np.asarray(data)\n",
    "    return data[(np.abs(np.subtract(data,value))).argmin()]\n",
    "\n",
    "def mad(dat):\n",
    "    return np.nanmedian(np.abs(dat-np.nanmedian(dat)))"
   ]
  },
  {
   "cell_type": "code",
   "execution_count": 5,
   "metadata": {},
   "outputs": [],
   "source": [
    "abp_ebv = ccm_alav(leff['BP'],3.1)/(ccm_alav(0.445,3.1)-ccm_alav(0.551,3.1))\n",
    "arp_ebv = ccm_alav(leff['RP'],3.1)/(ccm_alav(0.445,3.1)-ccm_alav(0.551,3.1))\n",
    "aj_ebv = ccm_alav(leff['J'],3.1)/(ccm_alav(0.445,3.1)-ccm_alav(0.551,3.1))\n",
    "ah_ebv = ccm_alav(leff['H'],3.1)/(ccm_alav(0.445,3.1)-ccm_alav(0.551,3.1))\n",
    "ak_ebv = ccm_alav(leff['K'],3.1)/(ccm_alav(0.445,3.1)-ccm_alav(0.551,3.1))"
   ]
  },
  {
   "cell_type": "markdown",
   "metadata": {},
   "source": [
    "# PARSEC"
   ]
  },
  {
   "cell_type": "code",
   "execution_count": 8,
   "metadata": {},
   "outputs": [],
   "source": [
    "massive = fits.getdata('/Users/joshuapovick/Desktop/Research/parsec/parsec_massive.fits.gz')\n",
    "massive = Table(massive[np.where(massive['label']==3.0)])\n",
    "massive['index'] = np.arange(len(massive))\n",
    "massive = massive[np.argsort(massive['logAge'])]\n",
    "massive = massive['index','MH','logAge','logTe','logg','Gmag','G_BPmag','G_RPmag','Jmag','Hmag','Ksmag']"
   ]
  },
  {
   "cell_type": "markdown",
   "metadata": {},
   "source": [
    "# Globular Clusters"
   ]
  },
  {
   "cell_type": "code",
   "execution_count": 9,
   "metadata": {},
   "outputs": [],
   "source": [
    "### GCS Data\n",
    "gcs = fits.getdata('/Users/joshuapovick/Desktop/Research/fits/allStar-r13-l33-58932beta_apa_dist_galvel_gc.fits.gz')\n",
    "gcs = Table(gcs[np.where((gcs['LOGG']>0.0)&(gcs['FE_H']>-9999.0)&(np.isfinite(gcs['FE_H'])==True))])\n",
    "gcs = gcs[np.where((gcs['CLUSTER']=='47Tuc')|(gcs['CLUSTER']=='M10')|(gcs['CLUSTER']=='M107')|\n",
    "                   (gcs['CLUSTER']=='M12')|(gcs['CLUSTER']=='M13')|(gcs['CLUSTER']=='M15')|\n",
    "                   (gcs['CLUSTER']=='M19')|(gcs['CLUSTER']=='M2')|(gcs['CLUSTER']=='M22')|\n",
    "                   (gcs['CLUSTER']=='M3')|(gcs['CLUSTER']=='M4')|(gcs['CLUSTER']=='M5')|\n",
    "                   (gcs['CLUSTER']=='M53')|(gcs['CLUSTER']=='M54')|(gcs['CLUSTER']=='M55')|\n",
    "                   (gcs['CLUSTER']=='M68')|(gcs['CLUSTER']=='M71')|(gcs['CLUSTER']=='M79')|\n",
    "                   (gcs['CLUSTER']=='M92')|(gcs['CLUSTER']=='NGC1851')|(gcs['CLUSTER']=='NGC2808')|\n",
    "                   (gcs['CLUSTER']=='NGC288')|(gcs['CLUSTER']=='NGC3201')|(gcs['CLUSTER']=='NGC362')|\n",
    "                   (gcs['CLUSTER']=='NGC5053')|(gcs['CLUSTER']=='NGC5466')|(gcs['CLUSTER']=='NGC6304')|\n",
    "                   (gcs['CLUSTER']=='NGC6388')|(gcs['CLUSTER']=='NGC6752')|(gcs['CLUSTER']=='NGC6760'))]\n",
    "\n",
    "### DR17\n",
    "dr17 = fits.getdata('/Users/joshuapovick/Desktop/Research/fits/allStarLite-dr17-synspec.fits.gz')\n",
    "_, gcs_ind, dr17_ind = np.intersect1d(gcs['APOGEE_ID'], dr17['APOGEE_ID'], return_indices=True)\n",
    "\n",
    "gcsdr17 = dr17[dr17_ind]\n",
    "gcs = gcs[gcs_ind]\n",
    "\n",
    "gcs_clus = np.unique(gcs['CLUSTER'])"
   ]
  },
  {
   "cell_type": "code",
   "execution_count": 10,
   "metadata": {},
   "outputs": [
    {
     "name": "stdout",
     "output_type": "stream",
     "text": [
      "Harris-APOGEE: -0.07535000324249275\n",
      "VandenBerg-APOGEE: -0.08275001049041741\n",
      "Overall: -0.07905000686645508\n"
     ]
    },
    {
     "data": {
      "text/plain": [
       "[<matplotlib.lines.Line2D at 0x7f85f04b5d60>]"
      ]
     },
     "execution_count": 10,
     "metadata": {},
     "output_type": "execute_result"
    },
    {
     "data": {
      "image/png": "[encoded data removed]",
      "text/plain": [
       "<Figure size 432x288 with 1 Axes>"
      ]
     },
     "metadata": {
      "needs_background": "light"
     },
     "output_type": "display_data"
    }
   ],
   "source": [
    "med_apo_feh = np.array([])\n",
    "for i in range(len(gcs_clus)):\n",
    "    clus = np.where((gcs['CLUSTER']==gcs_clus[i])&(gcsdr17['FE_H']>-100.))\n",
    "    med_apo_feh = np.append(med_apo_feh,np.nanmedian(gcsdr17['FE_H'][clus]))\n",
    "#     print('{}: {:.3f}'.format(gcs_clus[i],np.nanmedian(gcsdr17['FE_H'][clus])))\n",
    "    \n",
    "harris_dist = np.array([4.5,4.4,6.3,4.8,7.1,10.4,8.8,11.5,3.2,10.2,2.2,7.5,17.9,26.5,5.4,10.3,4.0,12.9,8.3,12.1,\n",
    "                        9.6,8.9,4.9,8.6,17.4,16.0,5.9,9.9,4.0,7.4])*1000\n",
    "harris_feh = np.array([-0.72,-1.56,-1.02,-1.37,-1.53,-2.37,-1.74,-1.65,-1.70,-1.50,-1.16,-1.29,-2.10,-1.49,-1.94,\n",
    "                       -2.23,-0.78,-1.60,-2.31,-1.18,-1.14,-1.32,-1.59,-1.26,-2.27,-1.98,-0.45,-0.55,-1.54,-0.40])\n",
    "harris_ext = np.array([0.04,0.28,0.33,0.19,0.02,0.10,0.38,0.06,0.34,0.01,0.35,0.03,0.02,0.15,0.08,0.05,0.25,0.01,\n",
    "                       0.02,0.02,0.22,0.03,0.24,0.05,0.01,0.00,0.54,0.37,0.04,0.77])\n",
    "vanden_feh = np.array([-0.76,-1.57,-1.03,-1.33,-1.58,-2.33,-1.53,-1.66,-1.70,-1.50,-1.18,-1.33,-2.06,-1.44,-1.93,\n",
    "                       -2.27,-0.82,-1.60,-2.35,-1.18,-1.18,-1.32,-1.51,-1.30,-2.30,-2.31,-0.37,-0.77,-1.55,-0.60])\n",
    "vanden_age = np.array([11.75,11.75,12.00,13.00,12.00,12.75,11.90,11.75,12.50,11.75,11.50,11.50,12.25,11.75,13.00,\n",
    "                       12.00,11.00,11.0,12.75,11.00,11.00,11.50,11.50,11.75,12.25,12.50,11.25,12.03,12.50,11.26])\n",
    "\n",
    "gcs_dist = 999999.0*np.ones(len(gcs))\n",
    "for i in range(len(np.unique(gcs['CLUSTER']))):\n",
    "    clus = np.where(gcs['CLUSTER']==np.unique(gcs['CLUSTER'])[i])\n",
    "    gcs_dist[clus] = harris_dist[i]\n",
    "#     print(clus)\n",
    "\n",
    "print('Harris-APOGEE:',np.median(harris_feh-med_apo_feh))\n",
    "print('VandenBerg-APOGEE:',np.median(vanden_feh-med_apo_feh))\n",
    "print('Overall:',np.median([np.median(harris_feh-med_apo_feh),np.median(vanden_feh-med_apo_feh)]))\n",
    "\n",
    "shiftfeh = 999999*np.ones(len(gcsdr17))\n",
    "for i in range(len(gcsdr17)):\n",
    "    clus = np.where(gcs['CLUSTER']==gcs['CLUSTER'][i])\n",
    "    if np.isfinite(gcsdr17['FE_H'][i])==False:\n",
    "        shiftfeh[i] = (np.median(gcsdr17['FE_H'][clus])+\n",
    "                       np.median([np.median(harris_feh-med_apo_feh),np.median(vanden_feh-med_apo_feh)]))\n",
    "    else:\n",
    "        shiftfeh[i] = (gcsdr17['FE_H'][i]+\n",
    "                       np.median([np.median(harris_feh-med_apo_feh),np.median(vanden_feh-med_apo_feh)]))\n",
    "        \n",
    "plt.plot(shiftfeh)"
   ]
  },
  {
   "cell_type": "code",
   "execution_count": 11,
   "metadata": {},
   "outputs": [],
   "source": [
    "def salaris(feh,cnalpha):\n",
    "    '''\n",
    "    Calculate the Salaris corrected [Fe/H] according to Salaris et al. 1993 with Piersanti et al. 2007 and \n",
    "    Asplund et al. 2009. Also C and N have been added to the alpha elements and Ne has been excluded.\n",
    "        \n",
    "    Inputs:\n",
    "    ------\n",
    "        feh: metallcity of a star\n",
    "        cnalpa: array of abundances np.array([C/Fe],[N/Fe],[O/Fe],[Mg/Fe],[Si/Fe],[S/Fe],[Ca/Fe],[Ti/Fe])\n",
    "        \n",
    "    Output:\n",
    "    ------\n",
    "            \n",
    "    '''\n",
    "    asplund = np.array([8.43,7.83,8.69,7.60,7.51,7.12,6.34,4.95])\n",
    "        \n",
    "    # assign solar value to stars if abundance is bad\n",
    "    for j in range(len(cnalpha)):\n",
    "        if cnalpha[j] < -100. or cnalpha[j] > 10. or np.isfinite(cnalpha[j])==False:\n",
    "            cnalpha[j] = 0.0\n",
    "        \n",
    "    if np.isfinite(feh)==False:\n",
    "        feh = 0.0\n",
    "    \n",
    "    fac_acn = sum(10**(asplund+cnalpha))/sum(10**asplund)\n",
    "    salfeh = feh+np.log10(0.78963627131196057*fac_acn+0.21036372868803943)\n",
    "        \n",
    "    return salfeh"
   ]
  },
  {
   "cell_type": "code",
   "execution_count": 12,
   "metadata": {},
   "outputs": [
    {
     "data": {
      "text/plain": [
       "<matplotlib.lines.Line2D at 0x7f8a591fd430>"
      ]
     },
     "execution_count": 12,
     "metadata": {},
     "output_type": "execute_result"
    },
    {
     "data": {
      "image/png": "[encoded data removed]",
      "text/plain": [
       "<Figure size 720x720 with 1 Axes>"
      ]
     },
     "metadata": {
      "needs_background": "light"
     },
     "output_type": "display_data"
    }
   ],
   "source": [
    "all_sal_feh = np.array([])\n",
    "for i in range(len(gcsdr17)):\n",
    "    cnalpha = np.array([gcsdr17['C_FE'][i],gcsdr17['N_FE'][i],gcsdr17['O_FE'][i],gcsdr17['MG_FE'][i],\n",
    "                        gcsdr17['SI_FE'][i],gcsdr17['S_FE'][i],gcsdr17['CA_FE'][i],gcsdr17['TI_FE'][i]])\n",
    "    \n",
    "#     all_sal_feh = np.append(all_sal_feh,salaris(gcsdr17['FE_H'][i],cnalpha))\n",
    "    all_sal_feh = np.append(all_sal_feh,salaris(shiftfeh[i],cnalpha))\n",
    "    \n",
    "plt.figure(figsize=[10,10])\n",
    "plt.plot(all_sal_feh)\n",
    "plt.axhline(-0.005,c='k')"
   ]
  },
  {
   "cell_type": "code",
   "execution_count": 13,
   "metadata": {},
   "outputs": [
    {
     "data": {
      "application/vnd.jupyter.widget-view+json": {
       "model_id": "a144d9020a1f4b86be8a49295f64b156",
       "version_major": 2,
       "version_minor": 0
      },
      "text/plain": [
       "HBox(children=(FloatProgress(value=0.0, max=30.0), HTML(value='')))"
      ]
     },
     "metadata": {},
     "output_type": "display_data"
    },
    {
     "data": {
      "application/vnd.jupyter.widget-view+json": {
       "model_id": "",
       "version_major": 2,
       "version_minor": 0
      },
      "text/plain": [
       "HBox(children=(FloatProgress(value=0.0, max=281.0), HTML(value='')))"
      ]
     },
     "metadata": {},
     "output_type": "display_data"
    },
    {
     "data": {
      "application/vnd.jupyter.widget-view+json": {
       "model_id": "",
       "version_major": 2,
       "version_minor": 0
      },
      "text/plain": [
       "HBox(children=(FloatProgress(value=0.0, max=75.0), HTML(value='')))"
      ]
     },
     "metadata": {},
     "output_type": "display_data"
    },
    {
     "data": {
      "application/vnd.jupyter.widget-view+json": {
       "model_id": "",
       "version_major": 2,
       "version_minor": 0
      },
      "text/plain": [
       "HBox(children=(FloatProgress(value=0.0, max=54.0), HTML(value='')))"
      ]
     },
     "metadata": {},
     "output_type": "display_data"
    },
    {
     "data": {
      "application/vnd.jupyter.widget-view+json": {
       "model_id": "",
       "version_major": 2,
       "version_minor": 0
      },
      "text/plain": [
       "HBox(children=(FloatProgress(value=0.0, max=80.0), HTML(value='')))"
      ]
     },
     "metadata": {},
     "output_type": "display_data"
    },
    {
     "data": {
      "application/vnd.jupyter.widget-view+json": {
       "model_id": "",
       "version_major": 2,
       "version_minor": 0
      },
      "text/plain": [
       "HBox(children=(FloatProgress(value=0.0, max=104.0), HTML(value='')))"
      ]
     },
     "metadata": {},
     "output_type": "display_data"
    },
    {
     "data": {
      "application/vnd.jupyter.widget-view+json": {
       "model_id": "",
       "version_major": 2,
       "version_minor": 0
      },
      "text/plain": [
       "HBox(children=(FloatProgress(value=0.0, max=33.0), HTML(value='')))"
      ]
     },
     "metadata": {},
     "output_type": "display_data"
    },
    {
     "data": {
      "application/vnd.jupyter.widget-view+json": {
       "model_id": "",
       "version_major": 2,
       "version_minor": 0
      },
      "text/plain": [
       "HBox(children=(FloatProgress(value=0.0, max=69.0), HTML(value='')))"
      ]
     },
     "metadata": {},
     "output_type": "display_data"
    },
    {
     "data": {
      "application/vnd.jupyter.widget-view+json": {
       "model_id": "",
       "version_major": 2,
       "version_minor": 0
      },
      "text/plain": [
       "HBox(children=(FloatProgress(value=0.0, max=25.0), HTML(value='')))"
      ]
     },
     "metadata": {},
     "output_type": "display_data"
    },
    {
     "data": {
      "application/vnd.jupyter.widget-view+json": {
       "model_id": "",
       "version_major": 2,
       "version_minor": 0
      },
      "text/plain": [
       "HBox(children=(FloatProgress(value=0.0, max=204.0), HTML(value='')))"
      ]
     },
     "metadata": {},
     "output_type": "display_data"
    },
    {
     "data": {
      "application/vnd.jupyter.widget-view+json": {
       "model_id": "",
       "version_major": 2,
       "version_minor": 0
      },
      "text/plain": [
       "HBox(children=(FloatProgress(value=0.0, max=147.0), HTML(value='')))"
      ]
     },
     "metadata": {},
     "output_type": "display_data"
    },
    {
     "data": {
      "application/vnd.jupyter.widget-view+json": {
       "model_id": "",
       "version_major": 2,
       "version_minor": 0
      },
      "text/plain": [
       "HBox(children=(FloatProgress(value=0.0, max=176.0), HTML(value='')))"
      ]
     },
     "metadata": {},
     "output_type": "display_data"
    },
    {
     "data": {
      "application/vnd.jupyter.widget-view+json": {
       "model_id": "",
       "version_major": 2,
       "version_minor": 0
      },
      "text/plain": [
       "HBox(children=(FloatProgress(value=0.0, max=180.0), HTML(value='')))"
      ]
     },
     "metadata": {},
     "output_type": "display_data"
    },
    {
     "data": {
      "application/vnd.jupyter.widget-view+json": {
       "model_id": "",
       "version_major": 2,
       "version_minor": 0
      },
      "text/plain": [
       "HBox(children=(FloatProgress(value=0.0, max=27.0), HTML(value='')))"
      ]
     },
     "metadata": {},
     "output_type": "display_data"
    },
    {
     "data": {
      "application/vnd.jupyter.widget-view+json": {
       "model_id": "",
       "version_major": 2,
       "version_minor": 0
      },
      "text/plain": [
       "HBox(children=(FloatProgress(value=0.0, max=26.0), HTML(value='')))"
      ]
     },
     "metadata": {},
     "output_type": "display_data"
    },
    {
     "data": {
      "application/vnd.jupyter.widget-view+json": {
       "model_id": "",
       "version_major": 2,
       "version_minor": 0
      },
      "text/plain": [
       "HBox(children=(FloatProgress(value=0.0, max=81.0), HTML(value='')))"
      ]
     },
     "metadata": {},
     "output_type": "display_data"
    },
    {
     "data": {
      "application/vnd.jupyter.widget-view+json": {
       "model_id": "",
       "version_major": 2,
       "version_minor": 0
      },
      "text/plain": [
       "HBox(children=(FloatProgress(value=0.0, max=18.0), HTML(value='')))"
      ]
     },
     "metadata": {},
     "output_type": "display_data"
    },
    {
     "data": {
      "application/vnd.jupyter.widget-view+json": {
       "model_id": "",
       "version_major": 2,
       "version_minor": 0
      },
      "text/plain": [
       "HBox(children=(FloatProgress(value=0.0, max=38.0), HTML(value='')))"
      ]
     },
     "metadata": {},
     "output_type": "display_data"
    },
    {
     "data": {
      "application/vnd.jupyter.widget-view+json": {
       "model_id": "",
       "version_major": 2,
       "version_minor": 0
      },
      "text/plain": [
       "HBox(children=(FloatProgress(value=0.0, max=25.0), HTML(value='')))"
      ]
     },
     "metadata": {},
     "output_type": "display_data"
    },
    {
     "data": {
      "application/vnd.jupyter.widget-view+json": {
       "model_id": "",
       "version_major": 2,
       "version_minor": 0
      },
      "text/plain": [
       "HBox(children=(FloatProgress(value=0.0, max=16.0), HTML(value='')))"
      ]
     },
     "metadata": {},
     "output_type": "display_data"
    },
    {
     "data": {
      "application/vnd.jupyter.widget-view+json": {
       "model_id": "",
       "version_major": 2,
       "version_minor": 0
      },
      "text/plain": [
       "HBox(children=(FloatProgress(value=0.0, max=30.0), HTML(value='')))"
      ]
     },
     "metadata": {},
     "output_type": "display_data"
    },
    {
     "data": {
      "application/vnd.jupyter.widget-view+json": {
       "model_id": "",
       "version_major": 2,
       "version_minor": 0
      },
      "text/plain": [
       "HBox(children=(FloatProgress(value=0.0, max=75.0), HTML(value='')))"
      ]
     },
     "metadata": {},
     "output_type": "display_data"
    },
    {
     "data": {
      "application/vnd.jupyter.widget-view+json": {
       "model_id": "",
       "version_major": 2,
       "version_minor": 0
      },
      "text/plain": [
       "HBox(children=(FloatProgress(value=0.0, max=38.0), HTML(value='')))"
      ]
     },
     "metadata": {},
     "output_type": "display_data"
    },
    {
     "data": {
      "application/vnd.jupyter.widget-view+json": {
       "model_id": "",
       "version_major": 2,
       "version_minor": 0
      },
      "text/plain": [
       "HBox(children=(FloatProgress(value=0.0, max=139.0), HTML(value='')))"
      ]
     },
     "metadata": {},
     "output_type": "display_data"
    },
    {
     "data": {
      "application/vnd.jupyter.widget-view+json": {
       "model_id": "",
       "version_major": 2,
       "version_minor": 0
      },
      "text/plain": [
       "HBox(children=(FloatProgress(value=0.0, max=64.0), HTML(value='')))"
      ]
     },
     "metadata": {},
     "output_type": "display_data"
    },
    {
     "data": {
      "application/vnd.jupyter.widget-view+json": {
       "model_id": "",
       "version_major": 2,
       "version_minor": 0
      },
      "text/plain": [
       "HBox(children=(FloatProgress(value=0.0, max=12.0), HTML(value='')))"
      ]
     },
     "metadata": {},
     "output_type": "display_data"
    },
    {
     "data": {
      "application/vnd.jupyter.widget-view+json": {
       "model_id": "",
       "version_major": 2,
       "version_minor": 0
      },
      "text/plain": [
       "HBox(children=(FloatProgress(value=0.0, max=13.0), HTML(value='')))"
      ]
     },
     "metadata": {},
     "output_type": "display_data"
    },
    {
     "data": {
      "application/vnd.jupyter.widget-view+json": {
       "model_id": "",
       "version_major": 2,
       "version_minor": 0
      },
      "text/plain": [
       "HBox(children=(FloatProgress(value=0.0, max=27.0), HTML(value='')))"
      ]
     },
     "metadata": {},
     "output_type": "display_data"
    },
    {
     "data": {
      "application/vnd.jupyter.widget-view+json": {
       "model_id": "",
       "version_major": 2,
       "version_minor": 0
      },
      "text/plain": [
       "HBox(children=(FloatProgress(value=0.0, max=57.0), HTML(value='')))"
      ]
     },
     "metadata": {},
     "output_type": "display_data"
    },
    {
     "data": {
      "application/vnd.jupyter.widget-view+json": {
       "model_id": "",
       "version_major": 2,
       "version_minor": 0
      },
      "text/plain": [
       "HBox(children=(FloatProgress(value=0.0, max=119.0), HTML(value='')))"
      ]
     },
     "metadata": {},
     "output_type": "display_data"
    },
    {
     "data": {
      "application/vnd.jupyter.widget-view+json": {
       "model_id": "",
       "version_major": 2,
       "version_minor": 0
      },
      "text/plain": [
       "HBox(children=(FloatProgress(value=0.0, max=11.0), HTML(value='')))"
      ]
     },
     "metadata": {},
     "output_type": "display_data"
    },
    {
     "name": "stdout",
     "output_type": "stream",
     "text": [
      "\n",
      "[-0.49629611 -1.37258468 -0.72299536 -1.08793535 -1.42216128 -2.02963541\n",
      " -1.32601745 -1.51373837 -1.44001048 -1.37642037 -0.8821581  -1.13907402\n",
      " -1.84903555 -1.32598783 -1.72810988 -2.08272616 -0.57838252 -1.4564343\n",
      " -2.04507515 -1.00381372 -1.04205799 -1.0504233  -1.3608809  -1.16872294\n",
      " -2.09491288 -2.24582809 -0.13164551 -0.63529077 -1.34861413 -0.35580541]\n"
     ]
    }
   ],
   "source": [
    "### VandenBerg et al. Salaris corrected [Fe/H]\n",
    "\n",
    "vanfeh = 999999.0*np.ones(len(gcsdr17))\n",
    "\n",
    "for i in range(len(gcs_clus)):\n",
    "    clus = np.where(gcs['CLUSTER']==gcs_clus[i])\n",
    "    vanfeh[clus] = vanden_feh[i]\n",
    "    \n",
    "salvanfeh = 999999.0*np.ones(len(vanden_feh))\n",
    "for i in tqdm_notebook(range(len(gcs_clus))):\n",
    "    clus = np.where(gcs['CLUSTER']==gcs_clus[i])\n",
    "    clusfeh = []\n",
    "    for j in tqdm_notebook(range(len(np.squeeze(clus))),leave=False):\n",
    "        cnalpha = np.array([gcsdr17[clus]['C_FE'][j],gcsdr17[clus]['N_FE'][j],gcsdr17[clus]['O_FE'][j],\n",
    "                            gcsdr17[clus]['MG_FE'][j],gcsdr17[clus]['SI_FE'][j],gcsdr17[clus]['S_FE'][j],\n",
    "                            gcsdr17[clus]['CA_FE'][j],gcsdr17[clus]['TI_FE'][j]])\n",
    "        \n",
    "        clusfeh.append(salaris(vanden_feh[i],cnalpha))\n",
    "        \n",
    "    salvanfeh[i] = np.nanmedian(clusfeh)\n",
    "\n",
    "print(salvanfeh)"
   ]
  },
  {
   "cell_type": "markdown",
   "metadata": {},
   "source": [
    "# Gaia Errors"
   ]
  },
  {
   "cell_type": "code",
   "execution_count": 14,
   "metadata": {},
   "outputs": [],
   "source": [
    "from scipy.stats import binned_statistic\n",
    "gaiaedr3 = fits.getdata('/Users/joshuapovick/Desktop/Research/gaia/GAIAEDR3allStar.fits.gz')"
   ]
  },
  {
   "cell_type": "code",
   "execution_count": 15,
   "metadata": {},
   "outputs": [
    {
     "data": {
      "image/png": "[encoded data removed]",
      "text/plain": [
       "<Figure size 720x720 with 1 Axes>"
      ]
     },
     "metadata": {
      "needs_background": "light"
     },
     "output_type": "display_data"
    }
   ],
   "source": [
    "binnum = 75\n",
    "\n",
    "### BP\n",
    "bp_fin = np.where(np.isfinite(gaiaedr3['phot_bp_mean_mag'])==True)\n",
    "\n",
    "bpmin = min(gaiaedr3['phot_bp_mean_mag'][bp_fin])\n",
    "bpmax = max(gaiaedr3['phot_bp_mean_mag'][bp_fin])\n",
    "\n",
    "bpdiff = bpmax-bpmin\n",
    "bpfluxerr = (2.5*0.434)/gaiaedr3['phot_bp_mean_flux_over_error'][bp_fin]\n",
    "bpmagerr = np.sqrt((bpfluxerr)**2+0.0027901700**2)\n",
    "\n",
    "bpbin ,_,_ = binned_statistic(gaiaedr3['phot_bp_mean_mag'][bp_fin],np.log10(bpmagerr),'median',bins=binnum)\n",
    "\n",
    "### RP \n",
    "rp_fin = np.where(np.isfinite(gaiaedr3['phot_rp_mean_mag'])==True)\n",
    "\n",
    "rpmin = min(gaiaedr3['phot_rp_mean_mag'][rp_fin])\n",
    "rpmax = max(gaiaedr3['phot_rp_mean_mag'][rp_fin])\n",
    "\n",
    "rpdiff = rpmax-rpmin\n",
    "rpfluxerr = (2.5*0.434)/gaiaedr3['phot_rp_mean_flux_over_error'][rp_fin]\n",
    "rpmagerr = np.sqrt((rpfluxerr)**2+0.0037793818**2)\n",
    "\n",
    "rpbin ,_,_ = binned_statistic(gaiaedr3['phot_rp_mean_mag'][rp_fin],np.log10(rpmagerr),'median',bins=binnum)\n",
    "\n",
    "### Plot\n",
    "plt.figure(figsize=[10,10])\n",
    "plt.plot(np.arange(bpmin,bpmax,bpdiff/binnum),bpbin,lw=3.0,c='blue',label=r'$G_{BP}$')\n",
    "plt.plot(np.arange(rpmin,rpmax,rpdiff/binnum),rpbin,lw=3.0,c='red',label=r'$G_{RP}$')\n",
    "plt.legend()\n",
    "plt.ylim(bottom=-3.0)\n",
    "plt.xlabel('Magnitude')\n",
    "plt.ylabel('Log(Error)');"
   ]
  },
  {
   "cell_type": "code",
   "execution_count": 16,
   "metadata": {},
   "outputs": [],
   "source": [
    "bperrfunc = IUS(np.arange(bpmin,bpmax,bpdiff/binnum),bpbin)\n",
    "rperrfunc = IUS(np.arange(rpmin,rpmax,rpdiff/binnum),rpbin)\n",
    "\n",
    "bperr = 10**bperrfunc(gcsdr17['GAIAEDR3_PHOT_BP_MEAN_MAG'])\n",
    "rperr = 10**rperrfunc(gcsdr17['GAIAEDR3_PHOT_RP_MEAN_MAG'])"
   ]
  },
  {
   "cell_type": "markdown",
   "metadata": {},
   "source": [
    "# NGC3201 Offsets"
   ]
  },
  {
   "cell_type": "code",
   "execution_count": 50,
   "metadata": {},
   "outputs": [],
   "source": [
    "gcs_ext = 999999.0*np.ones(len(gcsdr17))\n",
    "gcs_dist = 999999.0*np.ones(len(gcsdr17))\n",
    "for i in range(len(harris_ext)):\n",
    "    clus = np.where(gcs['CLUSTER']==gcs_clus[i])\n",
    "    gcs_ext[clus] = harris_ext[i]\n",
    "    gcs_dist[clus] = harris_dist[i]"
   ]
  },
  {
   "cell_type": "code",
   "execution_count": 18,
   "metadata": {},
   "outputs": [],
   "source": [
    "# ### testaks\n",
    "# for i in range(len(gcsdr17[np.where(gcs['CLUSTER']=='M22')])):\n",
    "    \n",
    "    \n",
    "    \n",
    "#     print(i)"
   ]
  },
  {
   "cell_type": "code",
   "execution_count": 52,
   "metadata": {
    "scrolled": false
   },
   "outputs": [
    {
     "data": {
      "application/vnd.jupyter.widget-view+json": {
       "model_id": "0e94f6dc9107441f9ccbc7bceb8d3349",
       "version_major": 2,
       "version_minor": 0
      },
      "text/plain": [
       "HBox(children=(FloatProgress(value=0.0, max=139.0), HTML(value='')))"
      ]
     },
     "metadata": {},
     "output_type": "display_data"
    },
    {
     "name": "stdout",
     "output_type": "stream",
     "text": [
      "\n"
     ]
    }
   ],
   "source": [
    "ngc3201idx = np.where(gcs['CLUSTER']=='NGC3201')\n",
    "\n",
    "bf_ext = 999999.0*np.ones((len(np.squeeze(ngc3201idx)),2))\n",
    "bf_age = 999999.0*np.ones((len(np.squeeze(ngc3201idx)),2))\n",
    "\n",
    "for i in tqdm_notebook(range(len(np.squeeze(ngc3201idx)))):\n",
    "    \n",
    "    teff = np.array([gcsdr17['TEFF'][ngc3201idx][i],gcsdr17['TEFF_ERR'][ngc3201idx][i]])\n",
    "    \n",
    "    abund = np.array([[gcsdr17['FE_H'][ngc3201idx][i],gcsdr17['C_FE'][ngc3201idx][i],gcsdr17['N_FE'][ngc3201idx][i],\n",
    "                       gcsdr17['O_FE'][ngc3201idx][i],gcsdr17['MG_FE'][ngc3201idx][i],gcsdr17['SI_FE'][ngc3201idx][i],\n",
    "                       gcsdr17['S_FE'][ngc3201idx][i],gcsdr17['CA_FE'][ngc3201idx][i],gcsdr17['TI_FE'][ngc3201idx][i]],\n",
    "                      [gcsdr17['FE_H_ERR'][ngc3201idx][i],gcsdr17['C_FE_ERR'][ngc3201idx][i],gcsdr17['N_FE_ERR'][ngc3201idx][i],\n",
    "                       gcsdr17['O_FE_ERR'][ngc3201idx][i],gcsdr17['MG_FE_ERR'][ngc3201idx][i],gcsdr17['SI_FE_ERR'][ngc3201idx][i],\n",
    "                       gcsdr17['S_FE_ERR'][ngc3201idx][i],gcsdr17['CA_FE_ERR'][ngc3201idx][i],gcsdr17['TI_FE_ERR'][ngc3201idx][i]]]).T\n",
    "    \n",
    "    \n",
    "    obsphot = np.array([[gcsdr17['GAIAEDR3_PHOT_BP_MEAN_MAG'][ngc3201idx][i],gcsdr17['GAIAEDR3_PHOT_RP_MEAN_MAG'][ngc3201idx][i],gcsdr17['J'][ngc3201idx][i],gcsdr17['H'][ngc3201idx][i],gcsdr17['K'][ngc3201idx][i]],\n",
    "                        [bperr[ngc3201idx][i],rperr[ngc3201idx][i],gcsdr17['J_ERR'][ngc3201idx][i],gcsdr17['H_ERR'][ngc3201idx][i],gcsdr17['K_ERR'][ngc3201idx][i]]]).T\n",
    "    \n",
    "    CalcAge = Aetas(teff,abund,obsphot,4900,massive)\n",
    "    \n",
    "    best_fit_ext = CalcAge.get_ak(12.5)\n",
    "    best_fit_age = CalcAge.get_age()\n",
    "    \n",
    "    bf_ext[i,0] = best_fit_ext[0]\n",
    "    bf_ext[i,1] = best_fit_ext[1]\n",
    "    bf_age[i,0] = best_fit_age[0]\n",
    "    bf_age[i,1] = best_fit_age[1]\n",
    "    \n",
    "    #get_age(self,guess_ages=np.arange(0,14),verbose=False)"
   ]
  },
  {
   "cell_type": "code",
   "execution_count": 53,
   "metadata": {},
   "outputs": [
    {
     "name": "stdout",
     "output_type": "stream",
     "text": [
      "0.09076502277040627\n",
      "0.0015012168174967366\n"
     ]
    },
    {
     "data": {
      "image/png": "[encoded data removed]",
      "text/plain": [
       "<Figure size 432x288 with 1 Axes>"
      ]
     },
     "metadata": {
      "needs_background": "light"
     },
     "output_type": "display_data"
    }
   ],
   "source": [
    "plt.hist(bf_ext[:,0],range=(0,0.2))\n",
    "print(np.nanmedian(bf_ext[:,0]))\n",
    "print(np.nanmedian(bf_ext[:,1]))"
   ]
  },
  {
   "cell_type": "code",
   "execution_count": 55,
   "metadata": {},
   "outputs": [
    {
     "name": "stdout",
     "output_type": "stream",
     "text": [
      "11.397379880165863\n",
      "0.028828016101592063\n",
      "11.36855186406427\n"
     ]
    },
    {
     "data": {
      "image/png": "[encoded data removed]",
      "text/plain": [
       "<Figure size 432x288 with 1 Axes>"
      ]
     },
     "metadata": {
      "needs_background": "light"
     },
     "output_type": "display_data"
    }
   ],
   "source": [
    "plt.hist(bf_age[:,0],range=(0,14))\n",
    "plt.axvline(11.5,c='k')\n",
    "print(np.nanmedian(bf_age[:,0]))\n",
    "print(np.nanmedian(bf_age[:,1]))\n",
    "print(np.nanmedian(bf_age[:,0])-np.nanmedian(bf_age[:,1]))"
   ]
  },
  {
   "cell_type": "code",
   "execution_count": 56,
   "metadata": {},
   "outputs": [
    {
     "data": {
      "text/plain": [
       "array([ 6.498, 14.   ,  8.95 ,  3.965, 14.   ,  3.368,  9.091,  5.088,\n",
       "       14.   , 14.   ,  5.861,  4.417,  2.531, 13.9  , 10.367,  6.85 ,\n",
       "       11.175, 11.837,  1.657, 14.   ,  1.4  , 14.   , 14.   ,  7.675,\n",
       "        2.13 , 12.075, 14.   ,  8.975,  6.333, 13.975,  8.387, 14.   ,\n",
       "       14.   ,  3.103, 14.   , 14.   , 14.   ,  4.675, 14.   ,  4.3  ,\n",
       "        2.025,  2.687,  1.704, 11.397, 14.   , 11.025,  6.575, 13.975,\n",
       "       14.   ,  1.85 , 14.   ,  9.489,  2.85 , 13.9  , 14.   , 13.25 ,\n",
       "        6.725, 13.75 ,  1.7  ,  2.994, 13.95 , 13.925,  1.4  , 14.   ,\n",
       "       13.975, 13.575, 13.45 ,  2.092,  9.306, 14.   ,  6.485,  7.85 ,\n",
       "        3.9  , 14.   ,  2.3  , 14.   ,  4.225, 11.084,  3.25 ,  4.362,\n",
       "        4.369, 10.675,  6.6  ,  8.269,  2.725,  0.59 ,  1.852,  4.2  ,\n",
       "        5.5  ,  3.7  , 13.25 , 13.925, 12.175, 12.6  , 13.975, 14.   ,\n",
       "       12.725,  0.85 , 10.664, 14.   ,  3.325, 14.   , 13.6  ,  3.711,\n",
       "       14.   , 14.   , 13.675, 14.   , 13.9  , 14.   , 12.725,  1.325,\n",
       "        3.15 , 14.   , 13.425, 14.   , 14.   , 14.   , 14.   ,  3.704,\n",
       "       10.926, 14.   , 11.975, 13.975,  2.609, 14.   ,  6.544,  1.843,\n",
       "        4.075, 14.   ,  4.079, 14.   ,  7.   , 10.032])"
      ]
     },
     "execution_count": 56,
     "metadata": {},
     "output_type": "execute_result"
    }
   ],
   "source": [
    "np.round(bf_age[:,0][np.where(bf_age[:,0]!=999999.0)],3)"
   ]
  },
  {
   "cell_type": "markdown",
   "metadata": {},
   "source": [
    "<font size='15'>\n",
    "    <b>\n",
    "        Synthetic Data Offsets\n",
    "    </b>\n",
    "</font>"
   ]
  },
  {
   "cell_type": "code",
   "execution_count": 57,
   "metadata": {},
   "outputs": [
    {
     "data": {
      "image/png": "[encoded data removed]",
      "text/plain": [
       "<Figure size 432x288 with 1 Axes>"
      ]
     },
     "metadata": {
      "needs_background": "light"
     },
     "output_type": "display_data"
    }
   ],
   "source": [
    "ngc3201_harfeh = harris_feh[np.where(gcs_clus=='NGC3201')]\n",
    "ngc3201_vanfeh = vanden_feh[np.where(gcs_clus=='NGC3201')]\n",
    "isochr = massive[np.where((massive['MH']==closest(massive['MH'],ngc3201_harfeh))&\n",
    "                          (massive['logAge']==closest(massive['logAge'],np.log10(12.5*10**9))))]\n",
    "\n",
    "plt.scatter(10**isochr['logTe'],isochr['logg'])\n",
    "plt.gca().invert_xaxis()\n",
    "plt.gca().invert_yaxis()\n",
    "plt.xlabel('TEFF')\n",
    "plt.ylabel('Log(g)')\n",
    "plt.title('ngc3201 Literature Isochrone');"
   ]
  },
  {
   "cell_type": "code",
   "execution_count": 58,
   "metadata": {},
   "outputs": [],
   "source": [
    "### Spectroscopic\n",
    "synteff = np.random.normal(10**isochr['logTe'],np.nanmedian(gcsdr17['TEFF_ERR']),len(isochr))\n",
    "synfeh = np.random.normal(ngc3201_vanfeh,np.nanmedian(gcsdr17['FE_H_ERR']),len(isochr))\n",
    "\n",
    "### With Extinction\n",
    "synbpext = 999999.0*np.ones(len(isochr)) \n",
    "synrpext = 999999.0*np.ones(len(isochr)) \n",
    "synjext = 999999.0*np.ones(len(isochr)) \n",
    "synhext = 999999.0*np.ones(len(isochr)) \n",
    "synkext = 999999.0*np.ones(len(isochr))\n",
    "\n",
    "# ## Random Distance Error \n",
    "# disterr = np.array([0.25,0.5,1.0,2.0,5.0])*1000\n",
    "\n",
    "### Extinct Data\n",
    "for i in range(len(isochr)):\n",
    "    bpmag = (np.random.normal(isochr['G_BPmag'][i],np.nanmedian(bperr))+5*np.log10(3200)-5.0)\n",
    "    rpmag = (np.random.normal(isochr['G_RPmag'][i],np.nanmedian(rperr))+5*np.log10(3200)-5.0)\n",
    "    jmag = (np.random.normal(isochr['Jmag'][i],np.nanmedian(gcsdr17['J_ERR']))+5*np.log10(3200)-5.0)\n",
    "    hmag = (np.random.normal(isochr['Hmag'][i],np.nanmedian(gcsdr17['H_ERR']))+5*np.log10(3200)-5.0)\n",
    "    kmag = (np.random.normal(isochr['Ksmag'][i],np.nanmedian(gcsdr17['K_ERR']))+5*np.log10(3200)-5.0)\n",
    "        \n",
    "    # BP magnitudes\n",
    "    if np.isfinite(bpmag)==True:\n",
    "        synbpext[i] = bpmag+0.34*abp_ebv\n",
    "    else:\n",
    "        synbpext[i] = 999999.0\n",
    "\n",
    "    # RP magnitudes\n",
    "    if np.isfinite(rpmag)==True:\n",
    "        synrpext[i] = rpmag+0.34*arp_ebv\n",
    "    else:\n",
    "        synrpext[i] = 999999.0\n",
    "\n",
    "    # J magnitudes\n",
    "    if np.isfinite(jmag)==True:\n",
    "        synjext[i] = jmag+0.34*aj_ebv\n",
    "    else:\n",
    "        synjext[i] = 999999.0\n",
    "\n",
    "    # H magnitudes\n",
    "    if np.isfinite(hmag)==True:\n",
    "        synhext[i] = hmag+0.34*ah_ebv\n",
    "    else:\n",
    "        synhext[i,j] = 999999.0\n",
    "\n",
    "    # K magnitudes\n",
    "    if np.isfinite(kmag)==True:\n",
    "        synkext[i] = kmag+0.34*ak_ebv\n",
    "    else:\n",
    "        synkext[i] = 999999.0"
   ]
  },
  {
   "cell_type": "markdown",
   "metadata": {},
   "source": [
    "# Synthetic Distance Modulus Offset"
   ]
  },
  {
   "cell_type": "code",
   "execution_count": 77,
   "metadata": {},
   "outputs": [
    {
     "name": "stdout",
     "output_type": "stream",
     "text": [
      "Distance Mod Offset: 0.281723089268533\n",
      "Median BP Shift: 0.8798092448211143\n",
      "Median RP Shift: 1.0001456053460218\n",
      "Median J Shift: 1.1166502187337901\n",
      "Median H Shift: 1.1552840068421444\n",
      "Median K Shift: 1.1816155998234472\n"
     ]
    }
   ],
   "source": [
    "# dshift = np.random.uniform(0,2000,len(isochr))*(-1)**np.random.randint(2,size=len(isochr))\n",
    "dmodshift = np.random.uniform(0,0.7)#*(-1)**np.random.randint(2,size=1)\n",
    "print('Distance Mod Offset:',dmodshift)\n",
    "    \n",
    "### pick isochrone\n",
    "isopick = massive[np.where((massive['logAge']==closest(massive['logAge'],np.log10(12.5*10**9)))&\n",
    "                           (massive['MH']==closest(massive['MH'],-1.51)))]\n",
    "sorte = isopick[np.argsort(isopick['logTe'])]\n",
    "\n",
    "### interpolate isochrones\n",
    "bp_spl = IUS(10**sorte['logTe'][::2],sorte['G_BPmag'][::2])\n",
    "rp_spl = IUS(10**sorte['logTe'][::2],sorte['G_RPmag'][::2])\n",
    "j_spl = IUS(10**sorte['logTe'][::2],sorte['Jmag'][::2])\n",
    "h_spl = IUS(10**sorte['logTe'][::2],sorte['Hmag'][::2])\n",
    "k_spl = IUS(10**sorte['logTe'][::2],sorte['Ksmag'][::2])\n",
    "\n",
    "### Calculate offsets    \n",
    "bpngc3201dmod = bp_spl(synteff)-(synbpext-0.24*abp_ebv-5*np.log10(4900)+5.0-dmodshift)\n",
    "rpngc3201dmod = rp_spl(synteff)-(synrpext-0.24*arp_ebv-5*np.log10(4900)+5.0-dmodshift)\n",
    "jngc3201dmod = j_spl(synteff)-(synjext-0.24*aj_ebv-5*np.log10(4900)+5.0-dmodshift)\n",
    "hngc3201dmod = h_spl(synteff)-(synhext-0.24*ah_ebv-5*np.log10(4900)+5.0-dmodshift)\n",
    "kngc3201dmod = k_spl(synteff)-(synkext-0.24*ak_ebv-5*np.log10(4900)+5.0-dmodshift)\n",
    "\n",
    "print('Median BP Shift:',np.median(bpngc3201dmod))\n",
    "print('Median RP Shift:',np.median(rpngc3201dmod))\n",
    "print('Median J Shift:',np.median(jngc3201dmod))\n",
    "print('Median H Shift:',np.median(hngc3201dmod))\n",
    "print('Median K Shift:',np.median(kngc3201dmod))"
   ]
  },
  {
   "cell_type": "code",
   "execution_count": 80,
   "metadata": {},
   "outputs": [
    {
     "data": {
      "image/png": "[encoded data removed]",
      "text/plain": [
       "<Figure size 1008x720 with 1 Axes>"
      ]
     },
     "metadata": {
      "needs_background": "light"
     },
     "output_type": "display_data"
    }
   ],
   "source": [
    "plt.figure(figsize=[14,10])\n",
    "plt.scatter(bpngc3201dmod,rpngc3201dmod,label='RP: {:.3f}'.format(np.median(rpngc3201dmod)))\n",
    "plt.scatter(bpngc3201dmod,jngc3201dmod,label='J: {:.3f}'.format(np.median(jngc3201dmod)))\n",
    "plt.scatter(bpngc3201dmod,hngc3201dmod,label='H: {:.3f}'.format(np.median(hngc3201dmod)))\n",
    "plt.scatter(bpngc3201dmod,kngc3201dmod,label='K: {:.3f}'.format(np.median(kngc3201dmod)))\n",
    "plt.legend()\n",
    "plt.plot([0.8,1.05],[0.8,1.05],c='k')\n",
    "plt.title('ngc3201 Added Distance Modulus Offset {:.3f}'.format(dmodshift))\n",
    "plt.xlabel('BP Off')\n",
    "plt.ylabel('RP, J, H, K Off')\n",
    "plt.savefig('../plots/NGC3201DistModOff.pdf')"
   ]
  },
  {
   "cell_type": "code",
   "execution_count": 27,
   "metadata": {},
   "outputs": [
    {
     "name": "stdout",
     "output_type": "stream",
     "text": [
      "Distance for +/- 0.5: 12.589254117941675\n"
     ]
    }
   ],
   "source": [
    "print('Distance for +/- 0.5:',10**((0.5+5.)/5.))"
   ]
  },
  {
   "cell_type": "code",
   "execution_count": 28,
   "metadata": {},
   "outputs": [],
   "source": [
    "# allclusbp = 999999.0*np.ones((len(gcs_clus),100,62))\n",
    "# allclusrp = 999999.0*np.ones((len(gcs_clus),100))\n",
    "# allclusj = 999999.0*np.ones((len(gcs_clus),100))\n",
    "# allclush = 999999.0*np.ones((len(gcs_clus),100))\n",
    "# allclusk = 999999.0*np.ones((len(gcs_clus),100))\n",
    "\n",
    "# alldmodshift = np.random.uniform(0,0.7,100)*(-1)**np.random.randint(2,size=100)\n",
    "# for i in tqdm_notebook(range(len(gcs_clus))):\n",
    "\n",
    "#     ### pick isochrone\n",
    "#     isopick = massive[np.where((massive['logAge']==closest(massive['logAge'],np.log10(vanden_age[i])))&\n",
    "#                                (massive['MH']==closest(massive['MH'],vanden_feh[i])))]\n",
    "#     sorte = isopick[np.argsort(isopick['logTe'])]\n",
    "\n",
    "#     ### interpolate isochrones\n",
    "#     bp_spl = IUS(10**sorte['logTe'][::2],sorte['G_BPmag'][::2])\n",
    "#     rp_spl = IUS(10**sorte['logTe'][::2],sorte['G_RPmag'][::2])\n",
    "#     j_spl = IUS(10**sorte['logTe'][::2],sorte['Jmag'][::2])\n",
    "#     h_spl = IUS(10**sorte['logTe'][::2],sorte['Hmag'][::2])\n",
    "#     k_spl = IUS(10**sorte['logTe'][::2],sorte['Ksmag'][::2])\n",
    "    \n",
    "#     ### Calculate offsets    \n",
    "#     for j in range(100):\n",
    "#         allclusbp[i,j] = bp_spl(synteff)-(synbpext-0.34*abp_ebv-5*np.log10(3200)+5.0-alldmodshift[j])\n",
    "#         allclusrp[i,j] = rp_spl(synteff)-(synrpext-0.34*arp_ebv-5*np.log10(3200)+5.0-alldmodshift[j])\n",
    "#         allclusj[i,j] = j_spl(synteff)-(synjext-0.34*aj_ebv-5*np.log10(3200)+5.0-alldmodshift[j])\n",
    "#         allclush[i,j] = h_spl(synteff)-(synhext-0.34*ah_ebv-5*np.log10(3200)+5.0-alldmodshift[j])\n",
    "#         allclusk[i,j] = k_spl(synteff)-(synkext-0.34*ak_ebv-5*np.log10(3200)+5.0-alldmodshift[j])"
   ]
  },
  {
   "cell_type": "code",
   "execution_count": null,
   "metadata": {},
   "outputs": [],
   "source": []
  },
  {
   "cell_type": "markdown",
   "metadata": {},
   "source": [
    "# Synthetic [Fe/H] Offset"
   ]
  },
  {
   "cell_type": "code",
   "execution_count": 81,
   "metadata": {},
   "outputs": [
    {
     "name": "stdout",
     "output_type": "stream",
     "text": [
      "[Fe/H] Offset: -0.7845036770776854\n",
      "Median BP Shift: 0.24044807252409323\n",
      "Median RP Shift: 0.23216456390426576\n",
      "Median J Shift: 0.22467356228448043\n",
      "Median H Shift: 0.22707430166254117\n",
      "Median K Shift: 0.22398854464413454\n"
     ]
    }
   ],
   "source": [
    "fehshift = np.random.uniform(0,-1.1)#*(-1)**np.random.randint(2,size=1)\n",
    "print('[Fe/H] Offset:',fehshift)\n",
    "    \n",
    "### pick isochrone\n",
    "isopick = massive[np.where((massive['logAge']==closest(massive['logAge'],np.log10(12.5*10**9)))&\n",
    "                           (massive['MH']==closest(massive['MH'],-1.51+fehshift)))]\n",
    "sorte = isopick[np.argsort(isopick['logTe'])]\n",
    "\n",
    "### interpolate isochrones\n",
    "bp_spl = IUS(10**sorte['logTe'][::2],sorte['G_BPmag'][::2])\n",
    "rp_spl = IUS(10**sorte['logTe'][::2],sorte['G_RPmag'][::2])\n",
    "j_spl = IUS(10**sorte['logTe'][::2],sorte['Jmag'][::2])\n",
    "h_spl = IUS(10**sorte['logTe'][::2],sorte['Hmag'][::2])\n",
    "k_spl = IUS(10**sorte['logTe'][::2],sorte['Ksmag'][::2])\n",
    "\n",
    "### Calculate offsets    \n",
    "bpngc3201feh = bp_spl(synteff)-(synbpext-0.34*abp_ebv-5*np.log10(4900)+5.0)\n",
    "rpngc3201feh = rp_spl(synteff)-(synrpext-0.34*arp_ebv-5*np.log10(4900)+5.0)\n",
    "jngc3201feh = j_spl(synteff)-(synjext-0.34*aj_ebv-5*np.log10(4900)+5.0)\n",
    "hngc3201feh = h_spl(synteff)-(synhext-0.34*ah_ebv-5*np.log10(4900)+5.0)\n",
    "kngc3201feh = k_spl(synteff)-(synkext-0.34*ak_ebv-5*np.log10(4900)+5.0)\n",
    "\n",
    "print('Median BP Shift:',np.median(bpngc3201feh))\n",
    "print('Median RP Shift:',np.median(rpngc3201feh))\n",
    "print('Median J Shift:',np.median(jngc3201feh))\n",
    "print('Median H Shift:',np.median(hngc3201feh))\n",
    "print('Median K Shift:',np.median(kngc3201feh))"
   ]
  },
  {
   "cell_type": "code",
   "execution_count": 82,
   "metadata": {},
   "outputs": [
    {
     "data": {
      "image/png": "[encoded data removed]",
      "text/plain": [
       "<Figure size 1008x720 with 1 Axes>"
      ]
     },
     "metadata": {
      "needs_background": "light"
     },
     "output_type": "display_data"
    }
   ],
   "source": [
    "plt.figure(figsize=[14,10])\n",
    "plt.scatter(bpngc3201feh,rpngc3201feh,label='RP {:.3f}'.format(np.median(rpngc3201feh)))\n",
    "plt.scatter(bpngc3201feh,jngc3201feh,label='J {:.3f}'.format(np.median(jngc3201feh)))\n",
    "plt.scatter(bpngc3201feh,hngc3201feh,label='H {:.3f}'.format(np.median(hngc3201feh)))\n",
    "plt.scatter(bpngc3201feh,kngc3201feh,label='K {:.3f}'.format(np.median(kngc3201feh)))\n",
    "plt.legend()\n",
    "plt.plot([-0.2,0.2],[-0.2,0.2],c='k')\n",
    "plt.title(r'ngc3201 [Fe/H] Offset Median {:.3f}'.format(fehshift))\n",
    "plt.xlabel('BP Off')\n",
    "plt.ylabel('RP, J, H, K Off')\n",
    "plt.savefig('../plots/NGC3201FeHModOff.pdf')\n",
    "plt.show()"
   ]
  },
  {
   "cell_type": "code",
   "execution_count": 31,
   "metadata": {},
   "outputs": [],
   "source": [
    "# same four plots for another cluster"
   ]
  },
  {
   "cell_type": "code",
   "execution_count": 84,
   "metadata": {},
   "outputs": [
    {
     "data": {
      "application/vnd.jupyter.widget-view+json": {
       "model_id": "0753afff57fe409eba45b5cf099920e0",
       "version_major": 2,
       "version_minor": 0
      },
      "text/plain": [
       "HBox(children=(FloatProgress(value=0.0), HTML(value='')))"
      ]
     },
     "metadata": {},
     "output_type": "display_data"
    },
    {
     "name": "stdout",
     "output_type": "stream",
     "text": [
      "\n"
     ]
    }
   ],
   "source": [
    "n = 100\n",
    "bpngc3201fehall = 999999.0*np.ones((len(isochr),n))\n",
    "rpngc3201fehall = 999999.0*np.ones((len(isochr),n))\n",
    "jngc3201fehall = 999999.0*np.ones((len(isochr),n))\n",
    "hngc3201fehall = 999999.0*np.ones((len(isochr),n))\n",
    "kngc3201fehall = 999999.0*np.ones((len(isochr),n))\n",
    "\n",
    "fehshiftall = np.random.uniform(0,0.7,n)*(-1)**np.random.randint(2,size=n)\n",
    "\n",
    "for j in tqdm_notebook(range(n)):\n",
    "    ### pick isochrone\n",
    "    isopick = massive[np.where((massive['logAge']==closest(massive['logAge'],np.log10(12.5*10**9)))&\n",
    "                               (massive['MH']==closest(massive['MH'],-1.7+fehshiftall[j])))]\n",
    "    sorte = isopick[np.argsort(isopick['logTe'])]\n",
    "\n",
    "    ### interpolate isochrones\n",
    "    bp_spl = IUS(10**sorte['logTe'][::2],sorte['G_BPmag'][::2])\n",
    "    rp_spl = IUS(10**sorte['logTe'][::2],sorte['G_RPmag'][::2])\n",
    "    j_spl = IUS(10**sorte['logTe'][::2],sorte['Jmag'][::2])\n",
    "    h_spl = IUS(10**sorte['logTe'][::2],sorte['Hmag'][::2])\n",
    "    k_spl = IUS(10**sorte['logTe'][::2],sorte['Ksmag'][::2])\n",
    "\n",
    "    ### Calculate offsets    \n",
    "    bpngc3201fehall[:,j] = bp_spl(synteff)-(synbpext-0.24*abp_ebv-5*np.log10(4900)+5.0)\n",
    "    rpngc3201fehall[:,j] = rp_spl(synteff)-(synrpext-0.24*arp_ebv-5*np.log10(4900)+5.0)\n",
    "    jngc3201fehall[:,j] = j_spl(synteff)-(synjext-0.24*aj_ebv-5*np.log10(4900)+5.0)\n",
    "    hngc3201fehall[:,j] = h_spl(synteff)-(synhext-0.24*ah_ebv-5*np.log10(4900)+5.0)\n",
    "    kngc3201fehall[:,j] = k_spl(synteff)-(synkext-0.24*ak_ebv-5*np.log10(4900)+5.0)\n",
    "\n",
    "#     print('Median BP Shift:',np.median(bpngc3201feh))\n",
    "#     print('Median RP Shift:',np.median(rpngc3201feh))\n",
    "#     print('Median J Shift:',np.median(jngc3201feh))\n",
    "#     print('Median H Shift:',np.median(hngc3201feh))\n",
    "#     print('Median K Shift:',np.median(kngc3201feh))"
   ]
  },
  {
   "cell_type": "code",
   "execution_count": 85,
   "metadata": {},
   "outputs": [
    {
     "data": {
      "application/vnd.jupyter.widget-view+json": {
       "model_id": "bb1c07abb11a45cfbee5fbbb2b067454",
       "version_major": 2,
       "version_minor": 0
      },
      "text/plain": [
       "HBox(children=(FloatProgress(value=0.0), HTML(value='')))"
      ]
     },
     "metadata": {},
     "output_type": "display_data"
    },
    {
     "name": "stdout",
     "output_type": "stream",
     "text": [
      "\n"
     ]
    }
   ],
   "source": [
    "bpngc3201fehshifts = np.array([])\n",
    "rpngc3201fehshifts = np.array([])\n",
    "jngc3201fehshifts = np.array([])\n",
    "hngc3201fehshifts = np.array([])\n",
    "kngc3201fehshifts = np.array([])\n",
    "\n",
    "for i in tqdm_notebook(range(n)):\n",
    "    bpngc3201fehshifts = np.append(bpngc3201fehshifts,np.nanmedian(bpngc3201fehall[:,i]))\n",
    "    rpngc3201fehshifts = np.append(rpngc3201fehshifts,np.nanmedian(rpngc3201fehall[:,i]))\n",
    "    jngc3201fehshifts = np.append(jngc3201fehshifts,np.nanmedian(jngc3201fehall[:,i]))\n",
    "    hngc3201fehshifts = np.append(hngc3201fehshifts,np.nanmedian(hngc3201fehall[:,i]))\n",
    "    kngc3201fehshifts = np.append(kngc3201fehshifts,np.nanmedian(kngc3201fehall[:,i]))"
   ]
  },
  {
   "cell_type": "code",
   "execution_count": 86,
   "metadata": {},
   "outputs": [
    {
     "data": {
      "text/plain": [
       "array([ 1.30087898,  0.38842684,  0.06379851,  0.55195791, -0.09034894,\n",
       "        0.11974226,  0.30532305, -0.09034894,  1.17797252, -0.01632316,\n",
       "        0.36383951,  0.89916716, -0.09034894,  0.07595925, -0.09034894,\n",
       "       -0.09034894,  0.06379851,  1.0018483 ,  0.84688237, -0.06040981,\n",
       "       -0.09034894,  0.62383495,  0.44714765,  0.53900737,  1.07032342,\n",
       "        0.08205455,  0.00174089,  0.01931443,  0.76410924,  0.43260564,\n",
       "        0.51527729,  0.02311588,  0.3723624 ,  0.65875921,  1.05300621,\n",
       "       -0.09034894, -0.09034894,  0.05858051,  1.03516638,  0.53900737,\n",
       "        0.15865718, -0.09034894, -0.09034894,  1.27932871,  0.55195791,\n",
       "        1.40052493,  0.72925499,  0.00174089, -0.09034894, -0.09034894,\n",
       "        0.02908342,  0.14251948,  1.12164412,  0.00174089, -0.067085  ,\n",
       "        1.32001409,  0.17499444, -0.05437691,  0.27539864,  0.53900737,\n",
       "        0.21872198,  0.04735385,  1.27932871,  0.48802841,  0.3723624 ,\n",
       "       -0.07198466, -0.09034894,  0.0699414 ,  0.3723624 ,  1.40052493,\n",
       "        0.86447064, -0.05437691,  0.23073525,  0.44714765,  0.94963237,\n",
       "       -0.09034894,  1.30087898,  1.47376204,  0.42023827, -0.09034894,\n",
       "        0.05858051,  0.05242679,  0.10684759,  0.08765575,  0.48802841,\n",
       "        0.20275704, -0.09034894,  0.71242507,  0.04125858, -0.05437691,\n",
       "        0.67725696, -0.09034894,  0.33464468,  0.50181297,  1.27932871,\n",
       "        0.53900737,  0.29026231,  0.01931443,  0.53900737,  0.16273783])"
      ]
     },
     "execution_count": 86,
     "metadata": {},
     "output_type": "execute_result"
    }
   ],
   "source": [
    "bpngc3201fehshifts"
   ]
  },
  {
   "cell_type": "code",
   "execution_count": 87,
   "metadata": {},
   "outputs": [
    {
     "data": {
      "text/plain": [
       "<matplotlib.collections.PathCollection at 0x7f85f4d6b700>"
      ]
     },
     "execution_count": 87,
     "metadata": {},
     "output_type": "execute_result"
    },
    {
     "data": {
      "image/png": "[encoded data removed]",
      "text/plain": [
       "<Figure size 1008x720 with 1 Axes>"
      ]
     },
     "metadata": {
      "needs_background": "light"
     },
     "output_type": "display_data"
    }
   ],
   "source": [
    "plt.figure(figsize=[14,10])\n",
    "plt.scatter(fehshiftall,bpngc3201fehshifts)\n",
    "plt.scatter(fehshiftall,rpngc3201fehshifts)"
   ]
  },
  {
   "cell_type": "code",
   "execution_count": 36,
   "metadata": {},
   "outputs": [
    {
     "data": {
      "text/plain": [
       "11"
      ]
     },
     "execution_count": 36,
     "metadata": {},
     "output_type": "execute_result"
    }
   ],
   "source": [
    "np.size(np.array([-1.0,-0.8,-0.6,-0.4,-0.2,0.0,0.2,0.4,0.6,0.8,1.0]))"
   ]
  },
  {
   "cell_type": "code",
   "execution_count": 37,
   "metadata": {},
   "outputs": [],
   "source": [
    "# clusfehshift = np.array([-1.0,-0.8,-0.6,-0.4,-0.2,0.0,0.2,0.4,0.6,0.8,1.0])\n",
    "\n",
    "# allbpfeh = 999999.0*np.ones((len(gcs_clus),len(clusfehshift)))\n",
    "# allrpfeh = 999999.0*np.ones((len(gcs_clus),len(clusfehshift)))\n",
    "# alljfeh = 999999.0*np.ones((len(gcs_clus),len(clusfehshift)))\n",
    "# allhfeh = 999999.0*np.ones((len(gcs_clus),len(clusfehshift)))\n",
    "# allkfeh = 999999.0*np.ones((len(gcs_clus),len(clusfehshift)))\n",
    "\n",
    "# for i in tqdm_notebook(range(len(gcs_clus))):\n",
    "#     # Pick Cluster\n",
    "#     clus = np.where(gcs['CLUSTER'] == gcs_clus[i])\n",
    "    \n",
    "#     for j in range(len(clusfehshift)):\n",
    "#         # Select Isochrone To Create Synthetic Data\n",
    "#         isopick = massive[np.where((massive['logAge']==closest(massive['logAge'],np.log10(vanden_age[i]*10**9)))&\n",
    "#                                    (massive['MH']==closest(massive['MH'],vanden_feh[i])))]\n",
    "#         isopick = isopick[np.argsort(isopick['logTe'])]\n",
    "        \n",
    "#         # Create Synthetic Spectroscopy\n",
    "#         synclusteff = np.random.normal(10**isopick['logTe'],np.nanmedian(gcsdr17['TEFF_ERR']),len(isopick))\n",
    "#         synclusfeh = (np.random.normal(vanden_feh[i],np.nanmedian(gcsdr17['FE_H_ERR']),len(isopick)))\n",
    "        \n",
    "#         # Create Synthetic Photometry\n",
    "#         synbpclus = 999999.0*np.ones(len(isopick))\n",
    "#         synrpclus = 999999.0*np.ones(len(isopick))\n",
    "#         synjclus = 999999.0*np.ones(len(isopick))\n",
    "#         synhclus = 999999.0*np.ones(len(isopick))\n",
    "#         synkclus = 999999.0*np.ones(len(isopick))\n",
    "        \n",
    "#         for k in range(len(isopick)):\n",
    "#             bpmag = (np.random.normal(isopick['G_BPmag'][j],np.nanmedian(bperr))+5*np.log10(harris_dist[i])-5.0)\n",
    "#             rpmag = (np.random.normal(isopick['G_RPmag'][j],np.nanmedian(rperr))+5*np.log10(harris_dist[i])-5.0)\n",
    "#             jmag = (np.random.normal(isopick['Jmag'][j],np.nanmedian(gcsdr17['J_ERR']))+5*np.log10(harris_dist[i])-5.0)\n",
    "#             hmag = (np.random.normal(isopick['Hmag'][j],np.nanmedian(gcsdr17['H_ERR']))+5*np.log10(harris_dist[i])-5.0)\n",
    "#             kmag = (np.random.normal(isopick['Ksmag'][j],np.nanmedian(gcsdr17['K_ERR']))+5*np.log10(harris_dist[i])-5.0)\n",
    "\n",
    "#             # BP magnitudes\n",
    "#             if np.isfinite(bpmag)==True:\n",
    "#                 synbpext[j] = bpmag+0.34*abp_ebv\n",
    "#             else:\n",
    "#                 synbpext[j] = 999999.0\n",
    "\n",
    "#             # RP magnitudes\n",
    "#             if np.isfinite(rpmag)==True:\n",
    "#                 synrpext[j] = rpmag+0.34*arp_ebv\n",
    "#             else:\n",
    "#                 synrpext[j] = 999999.0\n",
    "\n",
    "#             # J magnitudes\n",
    "#             if np.isfinite(jmag)==True:\n",
    "#                 synjext[j] = jmag+0.34*aj_ebv\n",
    "#             else:\n",
    "#                 synjext[j] = 999999.0\n",
    "\n",
    "#             # H magnitudes\n",
    "#             if np.isfinite(hmag)==True:\n",
    "#                 synhext[j] = hmag+0.34*ah_ebv\n",
    "#             else:\n",
    "#                 synhext[j] = 999999.0\n",
    "\n",
    "#             # K magnitudes\n",
    "#             if np.isfinite(kmag)==True:\n",
    "#                 synkext[j] = kmag+0.34*ak_ebv\n",
    "#             else:\n",
    "#                 synkext[j] = 999999.0\n",
    "                \n",
    "#         ### Get Individual Shifts\n",
    "#         # Select isochrone to spline\n",
    "#         isopick2 = massive[np.where((massive['logAge']==closest(massive['logAge'],np.log10(vanden_age[i]*10**9)))&\n",
    "#                                    (massive['MH']==closest(massive['MH'],vanden_feh[i]+clusfehshift[j])))]\n",
    "#         isopick2 = isopick2[np.argsort(isopick2['logTe'])]\n",
    "        \n",
    "#         # Splines For Interpolation\n",
    "#         bp_spl = IUS(10**isopick2['logTe'][::2],isopick2['G_BPmag'][::2])\n",
    "#         rp_spl = IUS(10**isopick2['logTe'][::2],isopick2['G_RPmag'][::2])\n",
    "#         j_spl = IUS(10**isopick2['logTe'][::2],isopick2['Jmag'][::2])\n",
    "#         h_spl = IUS(10**isopick2['logTe'][::2],isopick2['Hmag'][::2])\n",
    "#         k_spl = IUS(10**isopick2['logTe'][::2],isopick2['Ksmag'][::2])\n",
    "        \n",
    "        \n",
    "#         bpclusshift = bp_spl(synteff)-(synbpext-0.34*abp_ebv-5*np.log10(harris_dist[i])+5.0)\n",
    "#         rpclusshift = rp_spl(synteff)-(synrpext-0.34*arp_ebv-5*np.log10(harris_dist[i])+5.0)\n",
    "#         jclusshift = j_spl(synteff)-(synjext-0.34*aj_ebv-5*np.log10(harris_dist[i])+5.0)\n",
    "#         hclusshift = h_spl(synteff)-(synhext-0.34*ah_ebv-5*np.log10(harris_dist[i])+5.0)\n",
    "#         kclusshift = k_spl(synteff)-(synkext-0.34*ak_ebv-5*np.log10(harris_dist[i])+5.0)\n",
    "        \n",
    "#         allbpfeh[i,j] = np.nanmedian(bpclusshift)\n",
    "#         allrpfeh[i,j] = np.nanmedian(rpclusshift)\n",
    "#         alljfeh[i,j] = np.nanmedian(jclusshift)\n",
    "#         allhfeh[i,j] = np.nanmedian(hclusshift)\n",
    "#         allkfeh[i,j] = np.nanmedian(kclusshift)"
   ]
  },
  {
   "cell_type": "code",
   "execution_count": 38,
   "metadata": {
    "scrolled": false
   },
   "outputs": [],
   "source": [
    "# fehlabels = clusfehshift.astype(str)\n",
    "# plt.figure(figsize=[30,55])\n",
    "# plt.suptitle(r'[Fe/H] Magnitude Offset With Synthetic Data',y=0.9)\n",
    "# ###\n",
    "# plt.subplot(511)\n",
    "# for i in range(11):\n",
    "#     plt.scatter(range(30),allbpfeh[:,i],label='{} dex'.format(fehlabels[i]))\n",
    "#     plt.plot(range(30),allbpfeh[:,i])\n",
    "# plt.ylim(top=6)    \n",
    "# plt.legend(loc='upper right',ncol=6)\n",
    "# plt.ylabel('BP Offset')\n",
    "# plt.xticks(range(30),visible=False)\n",
    "# plt.grid(True)\n",
    "\n",
    "# ###\n",
    "# plt.subplot(512)\n",
    "# for i in range(11):\n",
    "#     plt.scatter(range(30),allrpfeh[:,i],label='{} dex'.format(fehlabels[i]))\n",
    "#     plt.plot(range(30),allrpfeh[:,i])\n",
    "# plt.ylim(top=6)    \n",
    "# plt.legend(loc='upper right',ncol=6)\n",
    "# plt.ylabel('RP Offset') \n",
    "# plt.xticks(range(30),visible=False)\n",
    "# plt.grid(True)\n",
    "\n",
    "# ###\n",
    "# plt.subplot(513)\n",
    "# for i in range(11):\n",
    "#     plt.scatter(range(30),alljfeh[:,i],label='{} dex'.format(fehlabels[i]))\n",
    "#     plt.plot(range(30),alljfeh[:,i])\n",
    "# plt.ylim(top=6)    \n",
    "# plt.legend(loc='upper right',ncol=6)\n",
    "# plt.ylabel('J Offset') \n",
    "# plt.xticks(range(30),visible=False)\n",
    "# plt.grid(True)\n",
    "\n",
    "# ###\n",
    "# plt.subplot(514)\n",
    "# for i in range(11):\n",
    "#     plt.scatter(range(30),allhfeh[:,i],label='{} dex'.format(fehlabels[i]))\n",
    "#     plt.plot(range(30),allhfeh[:,i])\n",
    "# plt.ylim(top=6)    \n",
    "# plt.legend(loc='upper right',ncol=6)\n",
    "# plt.ylabel('H Offset') \n",
    "# plt.xticks(range(30),visible=False)\n",
    "# plt.grid(True)\n",
    "\n",
    "# ###\n",
    "# plt.subplot(515)\n",
    "# for i in range(11):\n",
    "#     plt.scatter(range(30),allkfeh[:,i],label='{} dex'.format(fehlabels[i]))\n",
    "#     plt.plot(range(30),allkfeh[:,i])\n",
    "# plt.ylim(top=6)    \n",
    "# plt.legend(loc='upper right',ncol=6)\n",
    "# plt.ylabel('K Offset')\n",
    "# plt.xticks(range(30),labels=list(gcs_clus),rotation='vertical')\n",
    "# plt.grid(True)\n",
    "# plt.savefig('synclusfehoff.pdf',bbox_iches='tight')\n",
    "# plt.show()"
   ]
  },
  {
   "cell_type": "code",
   "execution_count": 39,
   "metadata": {},
   "outputs": [],
   "source": [
    "# for i in tqdm_notebook(range(len(gcs_clus))):\n",
    "#     clus = np.where(gcs['CLUSTER']==gcs_clus[i])\n",
    "    \n",
    "#     isopick = massive[np.where((massive['logAge']==closest(massive['logAge'],np.log10(vanden_age[i]*10**9)))&\n",
    "#                                (massive['MH']==closest(massive['MH'],vanden_feh[i])))]\n",
    "#     isopick = isopick[np.argsort(isopick['logTe'])]\n",
    "    \n",
    "#     ### interpolate isochrones\n",
    "#     bp_spl = IUS(10**sorte['logTe'][::2],sorte['G_BPmag'][::2])\n",
    "#     rp_spl = IUS(10**sorte['logTe'][::2],sorte['G_RPmag'][::2])\n",
    "#     j_spl = IUS(10**sorte['logTe'][::2],sorte['Jmag'][::2])\n",
    "#     h_spl = IUS(10**sorte['logTe'][::2],sorte['Hmag'][::2])\n",
    "#     k_spl = IUS(10**sorte['logTe'][::2],sorte['Ksmag'][::2])\n",
    "    \n",
    "#     ### distance modulus error\n",
    "#     dclusshift = np.random.uniform(0,0.07,len(isopick))*(-1)**np.random.randint(2,size=len(isopick))\n",
    "    \n",
    "#     ### Spectroscopic\n",
    "#     synteff = np.random.normal(10**isopick['logTe'],np.nanmedian(gcsdr17['TEFF_ERR']),len(isopick))\n",
    "#     synfeh = np.random.normal(m22_vanfeh,np.nanmedian(gcsdr17['FE_H_ERR']),len(isopick))\n",
    "\n",
    "#     ### With Extinction\n",
    "#     synbpext = 999999.0*np.ones(len(isopick)) \n",
    "#     synrpext = 999999.0*np.ones(len(isopick)) \n",
    "#     synjext = 999999.0*np.ones(len(isopick)) \n",
    "#     synhext = 999999.0*np.ones(len(isopick)) \n",
    "#     synkext = 999999.0*np.ones(len(isopick))\n",
    "    \n",
    "#     ### Extinct Data\n",
    "#     for j in range(len(isopick)):\n",
    "#         bpmag = (np.random.normal(isopick['G_BPmag'][j],np.nanmedian(bperr))+5*np.log10(harris_dist[i])-5.0)\n",
    "#         rpmag = (np.random.normal(isopick['G_RPmag'][j],np.nanmedian(rperr))+5*np.log10(harris_dist[i])-5.0)\n",
    "#         jmag = (np.random.normal(isopick['Jmag'][j],np.nanmedian(gcsdr17['J_ERR']))+5*np.log10(harris_dist[i])-5.0)\n",
    "#         hmag = (np.random.normal(isopick['Hmag'][j],np.nanmedian(gcsdr17['H_ERR']))+5*np.log10(harris_dist[i])-5.0)\n",
    "#         kmag = (np.random.normal(isopick['Ksmag'][j],np.nanmedian(gcsdr17['K_ERR']))+5*np.log10(harris_dist[i])-5.0)\n",
    "\n",
    "#         # BP magnitudes\n",
    "#         if np.isfinite(bpmag)==True:\n",
    "#             synbpext[j] = bpmag+0.34*abp_ebv\n",
    "#         else:\n",
    "#             synbpext[j] = 999999.0\n",
    "\n",
    "#         # RP magnitudes\n",
    "#         if np.isfinite(rpmag)==True:\n",
    "#             synrpext[j] = rpmag+0.34*arp_ebv\n",
    "#         else:\n",
    "#             synrpext[j] = 999999.0\n",
    "\n",
    "#         # J magnitudes\n",
    "#         if np.isfinite(jmag)==True:\n",
    "#             synjext[j] = jmag+0.34*aj_ebv\n",
    "#         else:\n",
    "#             synjext[j] = 999999.0\n",
    "\n",
    "#         # H magnitudes\n",
    "#         if np.isfinite(hmag)==True:\n",
    "#             synhext[j] = hmag+0.34*ah_ebv\n",
    "#         else:\n",
    "#             synhext[j] = 999999.0\n",
    "\n",
    "#         # K magnitudes\n",
    "#         if np.isfinite(kmag)==True:\n",
    "#             synkext[j] = kmag+0.34*ak_ebv\n",
    "#         else:\n",
    "#             synkext[j] = 999999.0\n",
    "    \n",
    "#     ### Calculate Shifts\n",
    "#     bpshifts = []\n",
    "#     rpshifts = []\n",
    "#     jshifts = []\n",
    "#     hshifts = []\n",
    "#     kshifts = []\n",
    "    \n",
    "#     distance = harris_dist[i] \n",
    "#     for k in range(len(isopick)):\n",
    "\n",
    "#         ### Calculate offsets    \n",
    "#         bpshifts.append(bp_spl(synteff)-(synbpext-0.34*abp_ebv-5*np.log10(distance)+5.0+dclusshift[k]))\n",
    "#         rpshifts.append(rp_spl(synteff)-(synrpext-0.34*arp_ebv-5*np.log10(distance)+5.0+dclusshift[k]))\n",
    "#         jshifts.append(j_spl(synteff)-(synjext-0.34*aj_ebv-5*np.log10(distance)+5.0+dclusshift[k]))\n",
    "#         hshifts.append(h_spl(synteff)-(synhext-0.34*ah_ebv-5*np.log10(distance)+5.0+dclusshift[k]))\n",
    "#         kshifts.append(k_spl(synteff)-(synkext-0.34*ak_ebv-5*np.log10(distance)+5.0+dclusshift[k]))\n",
    "        \n",
    "        \n",
    "#     offsbp = 999999.0*np.ones(len(isopick))\n",
    "#     offsrp = 999999.0*np.ones(len(isopick))\n",
    "#     offsj = 999999.0*np.ones(len(isopick))\n",
    "#     offsh = 999999.0*np.ones(len(isopick))\n",
    "#     offsk = 999999.0*np.ones(len(isopick))\n",
    "\n",
    "#     for l in range(len(isopick)):\n",
    "#         offsbp[l] = np.nanmedian(bpshifts[l])\n",
    "#         offsrp[l] = np.nanmedian(rpshifts[l])\n",
    "#         offsj[l] = np.nanmedian(jshifts[l])\n",
    "#         offsh[l] = np.nanmedian(hshifts[l])\n",
    "#         offsk[l] = np.nanmedian(kshifts[l])\n",
    "\n",
    "#     plt.figure(figsize=[14,10])\n",
    "#     plt.scatter(dclusshift,offsbp,marker='D',c='purple',label='BP')\n",
    "#     plt.scatter(dclusshift,offsrp,marker='D',c='blue',label='RP')\n",
    "#     plt.scatter(dclusshift,offsj,marker='D',c='green',label='J')\n",
    "#     plt.scatter(dclusshift,offsh,marker='D',c='orange',label='H')\n",
    "#     plt.scatter(dclusshift,offsk,marker='D',c='red',label='K')\n",
    "\n",
    "# #     plt.axhline(-0.5,c='k')\n",
    "# #     plt.axhline(0.5,c='k')\n",
    "\n",
    "# #     plt.axvline(700)\n",
    "\n",
    "#     plt.legend()\n",
    "#     plt.title(r'{} Lit Distance {}'.format(gcs_clus[i],harris_dist[i]))\n",
    "#     plt.xlabel(r'Added Distance Modulus Error (kpc)')\n",
    "#     plt.ylabel(r'Offset')\n",
    "#     plt.show()\n",
    "    \n",
    "#     plt.figure(figsize=[14,10])\n",
    "#     plt.scatter(offsbp,offsrp,marker='D',c='b',label='RP')\n",
    "#     plt.scatter(offsbp,offsj,marker='D',c='g',label='J')\n",
    "#     plt.scatter(offsbp,offsh,marker='D',c='orange',label='H')\n",
    "#     plt.scatter(offsbp,offsk,marker='D',c='r',label='K')\n",
    "#     plt.legend(frameon=False)\n",
    "#     plt.title(r'{} Lit Distance {}'.format(gcs_clus[i],harris_dist[i]))\n",
    "#     plt.xlabel('BPOFF')\n",
    "#     plt.ylabel('RP, J, H, KOFF')\n",
    "#     plt.show()"
   ]
  },
  {
   "cell_type": "markdown",
   "metadata": {},
   "source": [
    "# Synthetic Age Offset "
   ]
  },
  {
   "cell_type": "code",
   "execution_count": 88,
   "metadata": {},
   "outputs": [
    {
     "name": "stdout",
     "output_type": "stream",
     "text": [
      "Age Offset: 3.116680563088155\n",
      "Median BP Shift: 0.3968151051283959\n",
      "Median RP Shift: 0.5115199818192742\n",
      "Median J Shift: 0.6486682202522056\n",
      "Median H Shift: 0.668597129789827\n",
      "Median K Shift: 0.6961227483821038\n"
     ]
    }
   ],
   "source": [
    "ageshift = np.random.uniform(0,5*10**9)#*(-1)**np.random.randint(2,size=1)\n",
    "print('Age Offset:',ageshift/10**9)\n",
    "    \n",
    "### pick isochrone\n",
    "isopick = massive[np.where((massive['logAge']==closest(massive['logAge'],np.log10(12.5*10**9+ageshift)))&\n",
    "                           (massive['MH']==closest(massive['MH'],-1.7)))]\n",
    "sorte = isopick[np.argsort(isopick['logTe'])]\n",
    "\n",
    "### interpolate isochrones\n",
    "bp_spl = IUS(10**sorte['logTe'][::2],sorte['G_BPmag'][::2])\n",
    "rp_spl = IUS(10**sorte['logTe'][::2],sorte['G_RPmag'][::2])\n",
    "j_spl = IUS(10**sorte['logTe'][::2],sorte['Jmag'][::2])\n",
    "h_spl = IUS(10**sorte['logTe'][::2],sorte['Hmag'][::2])\n",
    "k_spl = IUS(10**sorte['logTe'][::2],sorte['Ksmag'][::2])\n",
    "\n",
    "### Calculate offsets    \n",
    "bpngc3201age = bp_spl(synteff)-(synbpext-0.24*abp_ebv-5*np.log10(4900)+5.0)\n",
    "rpngc3201age = rp_spl(synteff)-(synrpext-0.24*arp_ebv-5*np.log10(4900)+5.0)\n",
    "jngc3201age = j_spl(synteff)-(synjext-0.24*aj_ebv-5*np.log10(4900)+5.0)\n",
    "hngc3201age = h_spl(synteff)-(synhext-0.24*ah_ebv-5*np.log10(4900)+5.0)\n",
    "kngc3201age = k_spl(synteff)-(synkext-0.24*ak_ebv-5*np.log10(4900)+5.0)\n",
    "\n",
    "print('Median BP Shift:',np.median(bpngc3201age))\n",
    "print('Median RP Shift:',np.median(rpngc3201age))\n",
    "print('Median J Shift:',np.median(jngc3201age))\n",
    "print('Median H Shift:',np.median(hngc3201age))\n",
    "print('Median K Shift:',np.median(kngc3201age))"
   ]
  },
  {
   "cell_type": "code",
   "execution_count": 92,
   "metadata": {},
   "outputs": [
    {
     "data": {
      "image/png": "[encoded data removed]",
      "text/plain": [
       "<Figure size 1008x720 with 1 Axes>"
      ]
     },
     "metadata": {
      "needs_background": "light"
     },
     "output_type": "display_data"
    }
   ],
   "source": [
    "plt.figure(figsize=[14,10])\n",
    "plt.scatter(bpngc3201age,rpngc3201age,label='RP {:.3f}'.format(np.median(bpngc3201feh)))\n",
    "plt.scatter(bpngc3201age,jngc3201age,label='J {:.3f}'.format(np.median(bpngc3201feh)))\n",
    "plt.scatter(bpngc3201age,hngc3201age,label='H {:.3f}'.format(np.median(bpngc3201feh)))\n",
    "plt.scatter(bpngc3201age,kngc3201age,label='K {:.3f}'.format(np.median(bpngc3201feh)))\n",
    "plt.legend()\n",
    "plt.plot([0.3,0.75],[0.3,0.75],c='k')\n",
    "plt.title(r'ngc3201 Age Offset Median {:.3f}'.format(ageshift/10**9))\n",
    "plt.xlabel('BP Off')\n",
    "plt.ylabel('RP, J, H, K Off')\n",
    "plt.savefig('../plots/NGC3201AgeModOff.pdf')\n",
    "plt.show()"
   ]
  },
  {
   "cell_type": "code",
   "execution_count": 42,
   "metadata": {},
   "outputs": [],
   "source": [
    "# clusageshift = np.array([-5.0,-2.0,-1.0,-0.5,-0.25,0.0,0.25,0.5,1.0,2.0,5.0])\n",
    "\n",
    "# allbpage = 999999.0*np.ones((len(gcs_clus),len(clusageshift)))\n",
    "# allrpage = 999999.0*np.ones((len(gcs_clus),len(clusageshift)))\n",
    "# alljage = 999999.0*np.ones((len(gcs_clus),len(clusageshift)))\n",
    "# allhage = 999999.0*np.ones((len(gcs_clus),len(clusageshift)))\n",
    "# allkage = 999999.0*np.ones((len(gcs_clus),len(clusageshift)))\n",
    "\n",
    "# for i in tqdm_notebook(range(len(gcs_clus))):\n",
    "#     # Pick Cluster\n",
    "#     clus = np.where(gcs['CLUSTER'] == gcs_clus[i])\n",
    "    \n",
    "#     for j in range(len(clusageshift)):\n",
    "#         # Select Isochrone To Create Synthetic Data\n",
    "#         isopick = massive[np.where((massive['logAge']==closest(massive['logAge'],np.log10(vanden_age[i]*10**9)))&\n",
    "#                                    (massive['MH']==closest(massive['MH'],vanden_feh[i])))]\n",
    "#         isopick = isopick[np.argsort(isopick['logTe'])]\n",
    "        \n",
    "#         # Create Synthetic Spectroscopy\n",
    "#         synclusteff = np.random.normal(10**isopick['logTe'],np.nanmedian(gcsdr17['TEFF_ERR']),len(isopick))\n",
    "#         synclusfeh = (np.random.normal(vanden_feh[i],np.nanmedian(gcsdr17['FE_H_ERR']),len(isopick)))\n",
    "        \n",
    "#         # Create Synthetic Photometry\n",
    "#         synbpclus = 999999.0*np.ones(len(isopick))\n",
    "#         synrpclus = 999999.0*np.ones(len(isopick))\n",
    "#         synjclus = 999999.0*np.ones(len(isopick))\n",
    "#         synhclus = 999999.0*np.ones(len(isopick))\n",
    "#         synkclus = 999999.0*np.ones(len(isopick))\n",
    "        \n",
    "#         for k in range(len(isopick)):\n",
    "#             bpmag = (np.random.normal(isopick['G_BPmag'][j],np.nanmedian(bperr))+5*np.log10(harris_dist[i])-5.0)\n",
    "#             rpmag = (np.random.normal(isopick['G_RPmag'][j],np.nanmedian(rperr))+5*np.log10(harris_dist[i])-5.0)\n",
    "#             jmag = (np.random.normal(isopick['Jmag'][j],np.nanmedian(gcsdr17['J_ERR']))+5*np.log10(harris_dist[i])-5.0)\n",
    "#             hmag = (np.random.normal(isopick['Hmag'][j],np.nanmedian(gcsdr17['H_ERR']))+5*np.log10(harris_dist[i])-5.0)\n",
    "#             kmag = (np.random.normal(isopick['Ksmag'][j],np.nanmedian(gcsdr17['K_ERR']))+5*np.log10(harris_dist[i])-5.0)\n",
    "\n",
    "#             # BP magnitudes\n",
    "#             if np.isfinite(bpmag)==True:\n",
    "#                 synbpext[j] = bpmag+0.34*abp_ebv\n",
    "#             else:\n",
    "#                 synbpext[j] = 999999.0\n",
    "\n",
    "#             # RP magnitudes\n",
    "#             if np.isfinite(rpmag)==True:\n",
    "#                 synrpext[j] = rpmag+0.34*arp_ebv\n",
    "#             else:\n",
    "#                 synrpext[j] = 999999.0\n",
    "\n",
    "#             # J magnitudes\n",
    "#             if np.isfinite(jmag)==True:\n",
    "#                 synjext[j] = jmag+0.34*aj_ebv\n",
    "#             else:\n",
    "#                 synjext[j] = 999999.0\n",
    "\n",
    "#             # H magnitudes\n",
    "#             if np.isfinite(hmag)==True:\n",
    "#                 synhext[j] = hmag+0.34*ah_ebv\n",
    "#             else:\n",
    "#                 synhext[j] = 999999.0\n",
    "\n",
    "#             # K magnitudes\n",
    "#             if np.isfinite(kmag)==True:\n",
    "#                 synkext[j] = kmag+0.34*ak_ebv\n",
    "#             else:\n",
    "#                 synkext[j] = 999999.0\n",
    "                \n",
    "#         ### Get Individual Shifts\n",
    "#         # Select isochrone to spline\n",
    "#         isopick2 = massive[np.where((massive['logAge']==closest(massive['logAge'],np.log10((vanden_age[i]+clusageshift[j])*10**9)))&\n",
    "#                                     (massive['MH']==closest(massive['MH'],vanden_feh[i])))]\n",
    "#         isopick2 = isopick2[np.argsort(isopick2['logTe'])]\n",
    "        \n",
    "#         # Splines For Interpolation\n",
    "#         bp_spl = IUS(10**isopick2['logTe'][::2],isopick2['G_BPmag'][::2])\n",
    "#         rp_spl = IUS(10**isopick2['logTe'][::2],isopick2['G_RPmag'][::2])\n",
    "#         j_spl = IUS(10**isopick2['logTe'][::2],isopick2['Jmag'][::2])\n",
    "#         h_spl = IUS(10**isopick2['logTe'][::2],isopick2['Hmag'][::2])\n",
    "#         k_spl = IUS(10**isopick2['logTe'][::2],isopick2['Ksmag'][::2])\n",
    "        \n",
    "        \n",
    "#         bpclusshift = bp_spl(synteff)-(synbpext-0.34*abp_ebv-5*np.log10(harris_dist[i])+5.0)\n",
    "#         rpclusshift = rp_spl(synteff)-(synrpext-0.34*arp_ebv-5*np.log10(harris_dist[i])+5.0)\n",
    "#         jclusshift = j_spl(synteff)-(synjext-0.34*aj_ebv-5*np.log10(harris_dist[i])+5.0)\n",
    "#         hclusshift = h_spl(synteff)-(synhext-0.34*ah_ebv-5*np.log10(harris_dist[i])+5.0)\n",
    "#         kclusshift = k_spl(synteff)-(synkext-0.34*ak_ebv-5*np.log10(harris_dist[i])+5.0)\n",
    "        \n",
    "#         allbpage[i,j] = np.nanmedian(bpclusshift)\n",
    "#         allrpage[i,j] = np.nanmedian(rpclusshift)\n",
    "#         alljage[i,j] = np.nanmedian(jclusshift)\n",
    "#         allhage[i,j] = np.nanmedian(hclusshift)\n",
    "#         allkage[i,j] = np.nanmedian(kclusshift)"
   ]
  },
  {
   "cell_type": "code",
   "execution_count": 43,
   "metadata": {
    "scrolled": false
   },
   "outputs": [],
   "source": [
    "# agelabels = clusageshift.astype(str)\n",
    "# plt.figure(figsize=[30,55])\n",
    "# plt.suptitle(r'Age Magnitude Offset With Synthetic Data',y=0.9)\n",
    "# ###\n",
    "# plt.subplot(511)\n",
    "# for i in range(11):\n",
    "#     plt.scatter(range(30),allbpage[:,i],label='{} Gyr'.format(agelabels[i]))\n",
    "#     plt.plot(range(30),allbpage[:,i])\n",
    "# plt.ylim(top=4)    \n",
    "# plt.legend(loc='upper right',ncol=6)\n",
    "# plt.ylabel('BP Offset')\n",
    "# plt.xticks(range(30),visible=False)\n",
    "# plt.grid(True)\n",
    "\n",
    "# ###\n",
    "# plt.subplot(512)\n",
    "# for i in range(11):\n",
    "#     plt.scatter(range(30),allrpage[:,i],label='{} Gyr'.format(agelabels[i]))\n",
    "#     plt.plot(range(30),allrpage[:,i])\n",
    "# plt.ylim(top=4)    \n",
    "# plt.legend(loc='upper right',ncol=6)\n",
    "# plt.ylabel('RP Offset') \n",
    "# plt.xticks(range(30),visible=False)\n",
    "# plt.grid(True)\n",
    "\n",
    "# ###\n",
    "# plt.subplot(513)\n",
    "# for i in range(11):\n",
    "#     plt.scatter(range(30),alljage[:,i],label='{} Gyr'.format(agelabels[i]))\n",
    "#     plt.plot(range(30),alljage[:,i])\n",
    "# plt.ylim(top=4)    \n",
    "# plt.legend(loc='upper right',ncol=6)\n",
    "# plt.ylabel('J Offset') \n",
    "# plt.xticks(range(30),visible=False)\n",
    "# plt.grid(True)\n",
    "\n",
    "# ###\n",
    "# plt.subplot(514)\n",
    "# for i in range(11):\n",
    "#     plt.scatter(range(30),allhage[:,i],label='{} Gyr'.format(agelabels[i]))\n",
    "#     plt.plot(range(30),allhage[:,i])\n",
    "# plt.ylim(top=4)    \n",
    "# plt.legend(loc='upper right',ncol=6)\n",
    "# plt.ylabel('H Offset') \n",
    "# plt.xticks(range(30),visible=False)\n",
    "# plt.grid(True)\n",
    "\n",
    "# ###\n",
    "# plt.subplot(515)\n",
    "# for i in range(11):\n",
    "#     plt.scatter(range(30),allkage[:,i],label='{} Gyr'.format(agelabels[i]))\n",
    "#     plt.plot(range(30),allkage[:,i])\n",
    "# plt.ylim(top=4)    \n",
    "# plt.legend(loc='upper right',ncol=6)\n",
    "# plt.ylabel('K Offset')\n",
    "# plt.xticks(range(30),labels=list(gcs_clus),rotation='vertical')\n",
    "# plt.grid(True)\n",
    "# plt.savefig('synclusageoff.pdf',bbox_iches='tight')\n",
    "# plt.show()"
   ]
  },
  {
   "cell_type": "markdown",
   "metadata": {},
   "source": [
    "# Synthetic AK Offset"
   ]
  },
  {
   "cell_type": "code",
   "execution_count": null,
   "metadata": {},
   "outputs": [],
   "source": []
  },
  {
   "cell_type": "code",
   "execution_count": 44,
   "metadata": {},
   "outputs": [
    {
     "data": {
      "text/plain": [
       "array([1.00948433])"
      ]
     },
     "execution_count": 44,
     "metadata": {},
     "output_type": "execute_result"
    }
   ],
   "source": [
    "akshift = np.random.uniform(0,2.0)*(-1)**np.random.randint(2,size=1)\n",
    "akshift"
   ]
  },
  {
   "cell_type": "code",
   "execution_count": 93,
   "metadata": {},
   "outputs": [
    {
     "name": "stdout",
     "output_type": "stream",
     "text": [
      "Ak Offset: 1.1053249463811463\n",
      "Median BP Shift: -10.372387561046978\n",
      "Median RP Shift: -6.661035587984955\n",
      "Median J Shift: -3.1157740319235447\n",
      "Median H Shift: -1.4169237989003856\n",
      "Median K Shift: -1.4165005548087464\n"
     ]
    }
   ],
   "source": [
    "ngc3201_harfeh = harris_feh[np.where(gcs_clus=='ngc3201')]\n",
    "ngc3201_vanfeh = vanden_feh[np.where(gcs_clus=='ngc3201')]\n",
    "isochr = massive[np.where((massive['MH']==closest(massive['MH'],-1.51))&\n",
    "                          (massive['logAge']==closest(massive['logAge'],np.log10(12.5*10**9))))]\n",
    "\n",
    "### Spectroscopic\n",
    "synteff = np.random.normal(10**isochr['logTe'],np.nanmedian(gcsdr17['TEFF_ERR']),len(isochr))\n",
    "synfeh = np.random.normal(-1.51,np.nanmedian(gcsdr17['FE_H_ERR']),len(isochr))\n",
    "\n",
    "### With Extinction\n",
    "synbpext = 999999.0*np.ones(len(isochr)) \n",
    "synrpext = 999999.0*np.ones(len(isochr)) \n",
    "synjext = 999999.0*np.ones(len(isochr))\n",
    "synhext = 999999.0*np.ones(len(isochr)) \n",
    "synkext = 999999.0*np.ones(len(isochr))\n",
    "\n",
    "# ## Random Distance Error \n",
    "# disterr = np.array([0.25,0.5,1.0,2.0,5.0])*1000\n",
    "\n",
    "### Extinct Data\n",
    "for i in range(len(isochr)):\n",
    "    bpmag = (np.random.normal(isochr['G_BPmag'][i],np.nanmedian(bperr))+5*np.log10(4900)-5.0)\n",
    "    rpmag = (np.random.normal(isochr['G_RPmag'][i],np.nanmedian(rperr))+5*np.log10(4900)-5.0)\n",
    "    jmag = (np.random.normal(isochr['Jmag'][i],np.nanmedian(gcsdr17['J_ERR']))+5*np.log10(4900)-5.0)\n",
    "    hmag = (np.random.normal(isochr['Hmag'][i],np.nanmedian(gcsdr17['H_ERR']))+5*np.log10(4900)-5.0)\n",
    "    kmag = (np.random.normal(isochr['Ksmag'][i],np.nanmedian(gcsdr17['K_ERR']))+5*np.log10(4900)-5.0)\n",
    "        \n",
    "    # BP magnitudes\n",
    "    if np.isfinite(bpmag)==True:\n",
    "        synbpext[i] = bpmag+0.34*abp_ebv\n",
    "    else:\n",
    "        synbpext[i] = 999999.0\n",
    "\n",
    "    # RP magnitudes\n",
    "    if np.isfinite(rpmag)==True:\n",
    "        synrpext[i] = rpmag+0.34*arp_ebv\n",
    "    else:\n",
    "        synrpext[i] = 999999.0\n",
    "\n",
    "    # J magnitudes\n",
    "    if np.isfinite(jmag)==True:\n",
    "        synjext[i] = jmag+0.34*aj_ebv\n",
    "    else:\n",
    "        synjext[i] = 999999.0\n",
    "\n",
    "    # H magnitudes\n",
    "    if np.isfinite(hmag)==True:\n",
    "        synhext[i] = hmag+0.34*ah_ebv\n",
    "    else:\n",
    "        synhext[i,j] = 999999.0\n",
    "\n",
    "    # K magnitudes\n",
    "    if np.isfinite(kmag)==True:\n",
    "        synkext[i] = kmag+0.34*ak_ebv\n",
    "    else:\n",
    "        synkext[i] = 999999.0\n",
    "\n",
    "akshift = np.random.uniform(0,2.0)#*(-1)**np.random.randint(2,size=1)\n",
    "abp_ak = ccm_alav(leff['BP'],3.1)/ccm_alav(leff['K'],3.1)\n",
    "arp_ak = ccm_alav(leff['RP'],3.1)/ccm_alav(leff['K'],3.1)\n",
    "aj_ak = ccm_alav(leff['J'],3.1)/ccm_alav(leff['K'],3.1)\n",
    "ah_ak = ccm_alav(leff['K'],3.1)/ccm_alav(leff['K'],3.1)\n",
    "print('Ak Offset:',akshift)\n",
    "    \n",
    "### pick isochrone\n",
    "isopick = massive[np.where((massive['logAge']==closest(massive['logAge'],np.log10(12.5*10**9)))&\n",
    "                           (massive['MH']==closest(massive['MH'],-1.7)))]\n",
    "sorte = isopick[np.argsort(isopick['logTe'])]\n",
    "\n",
    "### interpolate isochrones\n",
    "bp_spl = IUS(10**sorte['logTe'][::2],sorte['G_BPmag'][::2])\n",
    "rp_spl = IUS(10**sorte['logTe'][::2],sorte['G_RPmag'][::2])\n",
    "j_spl = IUS(10**sorte['logTe'][::2],sorte['Jmag'][::2])\n",
    "h_spl = IUS(10**sorte['logTe'][::2],sorte['Hmag'][::2])\n",
    "k_spl = IUS(10**sorte['logTe'][::2],sorte['Ksmag'][::2])\n",
    "\n",
    "### Calculate offsets    \n",
    "bpngc3201ak = bp_spl(synteff)-(synbpext-0.24*abp_ebv+akshift*abp_ak-5*np.log10(4900)+5.0)\n",
    "rpngc3201ak = rp_spl(synteff)-(synrpext-0.24*arp_ebv+akshift*arp_ak-5*np.log10(4900)+5.0)\n",
    "jngc3201ak = j_spl(synteff)-(synjext-0.24*aj_ebv+akshift*aj_ak-5*np.log10(4900)+5.0)\n",
    "hngc3201ak = h_spl(synteff)-(synhext-0.24*ah_ebv+akshift*ah_ak-5*np.log10(4900)+5.0)\n",
    "kngc3201ak = k_spl(synteff)-(synkext-0.24*ak_ebv+akshift-5*np.log10(4900)+5.0)\n",
    "\n",
    "print('Median BP Shift:',np.median(bpngc3201ak))\n",
    "print('Median RP Shift:',np.median(rpngc3201ak))\n",
    "print('Median J Shift:',np.median(jngc3201ak))\n",
    "print('Median H Shift:',np.median(hngc3201ak))\n",
    "print('Median K Shift:',np.median(kngc3201ak))"
   ]
  },
  {
   "cell_type": "code",
   "execution_count": 94,
   "metadata": {},
   "outputs": [
    {
     "data": {
      "image/png": "[encoded data removed]",
      "text/plain": [
       "<Figure size 1008x720 with 1 Axes>"
      ]
     },
     "metadata": {
      "needs_background": "light"
     },
     "output_type": "display_data"
    }
   ],
   "source": [
    "plt.figure(figsize=[14,10])\n",
    "plt.scatter(bpngc3201ak,rpngc3201ak,label='RP {:.3f}'.format(np.median(rpngc3201ak)))\n",
    "plt.scatter(bpngc3201ak,jngc3201ak,label='J {:.3f}'.format(np.median(jngc3201ak)))\n",
    "plt.scatter(bpngc3201ak,hngc3201ak,label='H {:.3f}'.format(np.median(hngc3201ak)))\n",
    "plt.scatter(bpngc3201ak,kngc3201ak,label='K {:.3f}'.format(np.median(kngc3201ak)))\n",
    "plt.legend()\n",
    "# plt.plot([-0.25,0.0],[-0.25,0.0],c='k')\n",
    "plt.title(r'ngc3201 Ak Offset Median {:.3f}'.format(akshift))\n",
    "plt.xlabel('BP Off')\n",
    "plt.ylabel('RP, J, H, K Off')\n",
    "plt.savefig('../plots/NGC3201AkModOff.pdf')\n",
    "plt.show()"
   ]
  },
  {
   "cell_type": "code",
   "execution_count": null,
   "metadata": {},
   "outputs": [],
   "source": []
  },
  {
   "cell_type": "code",
   "execution_count": 47,
   "metadata": {},
   "outputs": [],
   "source": [
    "# clusakshift = np.array([-1.0,-0.5,-0.25,-0.01,0.0,0.01,0.25,0.5,1.0])\n",
    "# abp_ak = ccm_alav(leff['BP'],3.1)/ccm_alav(leff['K'],3.1)\n",
    "# arp_ak = ccm_alav(leff['RP'],3.1)/ccm_alav(leff['K'],3.1)\n",
    "# aj_ak = ccm_alav(leff['J'],3.1)/ccm_alav(leff['K'],3.1)\n",
    "# ah_ak = ccm_alav(leff['K'],3.1)/ccm_alav(leff['K'],3.1)\n",
    "\n",
    "# allbpak = 999999.0*np.ones((len(gcs_clus),len(clusakshift)))\n",
    "# allrpak = 999999.0*np.ones((len(gcs_clus),len(clusakshift)))\n",
    "# alljak = 999999.0*np.ones((len(gcs_clus),len(clusakshift)))\n",
    "# allhak = 999999.0*np.ones((len(gcs_clus),len(clusakshift)))\n",
    "# allkak = 999999.0*np.ones((len(gcs_clus),len(clusakshift)))\n",
    "\n",
    "# for i in tqdm_notebook(range(len(gcs_clus))):\n",
    "#     # Pick Cluster\n",
    "#     clus = np.where(gcs['CLUSTER'] == gcs_clus[i])\n",
    "    \n",
    "#     for j in range(len(clusakshift)):\n",
    "#         # Select Isochrone To Create Synthetic Data\n",
    "#         isopick = massive[np.where((massive['logAge']==closest(massive['logAge'],np.log10(vanden_age[i]*10**9)))&\n",
    "#                                    (massive['MH']==closest(massive['MH'],vanden_feh[i])))]\n",
    "#         isopick = isopick[np.argsort(isopick['logTe'])]\n",
    "        \n",
    "#         # Create Synthetic Spectroscopy\n",
    "#         synclusteff = np.random.normal(10**isopick['logTe'],np.nanmedian(gcsdr17['TEFF_ERR']),len(isopick))\n",
    "#         synclusfeh = (np.random.normal(vanden_feh[i],np.nanmedian(gcsdr17['FE_H_ERR']),len(isopick)))\n",
    "        \n",
    "#         # Create Synthetic Photometry\n",
    "#         synbpclus = 999999.0*np.ones(len(isopick))\n",
    "#         synrpclus = 999999.0*np.ones(len(isopick))\n",
    "#         synjclus = 999999.0*np.ones(len(isopick))\n",
    "#         synhclus = 999999.0*np.ones(len(isopick))\n",
    "#         synkclus = 999999.0*np.ones(len(isopick))\n",
    "        \n",
    "#         for k in range(len(isopick)):\n",
    "#             bpmag = (np.random.normal(isopick['G_BPmag'][j],np.nanmedian(bperr))+5*np.log10(harris_dist[i])-5.0)\n",
    "#             rpmag = (np.random.normal(isopick['G_RPmag'][j],np.nanmedian(rperr))+5*np.log10(harris_dist[i])-5.0)\n",
    "#             jmag = (np.random.normal(isopick['Jmag'][j],np.nanmedian(gcsdr17['J_ERR']))+5*np.log10(harris_dist[i])-5.0)\n",
    "#             hmag = (np.random.normal(isopick['Hmag'][j],np.nanmedian(gcsdr17['H_ERR']))+5*np.log10(harris_dist[i])-5.0)\n",
    "#             kmag = (np.random.normal(isopick['Ksmag'][j],np.nanmedian(gcsdr17['K_ERR']))+5*np.log10(harris_dist[i])-5.0)\n",
    "\n",
    "#             # BP magnitudes\n",
    "#             if np.isfinite(bpmag)==True:\n",
    "#                 synbpext[j] = bpmag+0.34*abp_ebv\n",
    "#             else:\n",
    "#                 synbpext[j] = 999999.0\n",
    "\n",
    "#             # RP magnitudes\n",
    "#             if np.isfinite(rpmag)==True:\n",
    "#                 synrpext[j] = rpmag+0.34*arp_ebv\n",
    "#             else:\n",
    "#                 synrpext[j] = 999999.0\n",
    "\n",
    "#             # J magnitudes\n",
    "#             if np.isfinite(jmag)==True:\n",
    "#                 synjext[j] = jmag+0.34*aj_ebv\n",
    "#             else:\n",
    "#                 synjext[j] = 999999.0\n",
    "\n",
    "#             # H magnitudes\n",
    "#             if np.isfinite(hmag)==True:\n",
    "#                 synhext[j] = hmag+0.34*ah_ebv\n",
    "#             else:\n",
    "#                 synhext[j] = 999999.0\n",
    "\n",
    "#             # K magnitudes\n",
    "#             if np.isfinite(kmag)==True:\n",
    "#                 synkext[j] = kmag+0.34*ak_ebv\n",
    "#             else:\n",
    "#                 synkext[j] = 999999.0\n",
    "                \n",
    "#         ### Get Individual Shifts\n",
    "#         # Select isochrone to spline\n",
    "#         isopick2 = massive[np.where((massive['logAge']==closest(massive['logAge'],np.log10(vanden_age[i]*10**9)))&\n",
    "#                                     (massive['MH']==closest(massive['MH'],vanden_feh[i])))]\n",
    "#         isopick2 = isopick2[np.argsort(isopick2['logTe'])]\n",
    "        \n",
    "#         # Splines For Interpolation\n",
    "#         bp_spl = IUS(10**isopick2['logTe'][::2],isopick2['G_BPmag'][::2])\n",
    "#         rp_spl = IUS(10**isopick2['logTe'][::2],isopick2['G_RPmag'][::2])\n",
    "#         j_spl = IUS(10**isopick2['logTe'][::2],isopick2['Jmag'][::2])\n",
    "#         h_spl = IUS(10**isopick2['logTe'][::2],isopick2['Hmag'][::2])\n",
    "#         k_spl = IUS(10**isopick2['logTe'][::2],isopick2['Ksmag'][::2])\n",
    "        \n",
    "#         bpclusshift = bp_spl(synteff)-(synbpext-0.34*abp_ebv-clusakshift[j]*abp_ak-5*np.log10(harris_dist[i])+5.0)\n",
    "#         rpclusshift = rp_spl(synteff)-(synrpext-0.34*arp_ebv-clusakshift[j]*arp_ak-5*np.log10(harris_dist[i])+5.0)\n",
    "#         jclusshift = j_spl(synteff)-(synjext-0.34*aj_ebv-clusakshift[j]*aj_ak-5*np.log10(harris_dist[i])+5.0)\n",
    "#         hclusshift = h_spl(synteff)-(synhext-0.34*ah_ebv-clusakshift[j]*ah_ak-5*np.log10(harris_dist[i])+5.0)\n",
    "#         kclusshift = k_spl(synteff)-(synkext-0.34*ak_ebv-clusakshift[j]-5*np.log10(harris_dist[i])+5.0)\n",
    "        \n",
    "#         allbpak[i,j] = np.nanmedian(bpclusshift)\n",
    "#         allrpak[i,j] = np.nanmedian(rpclusshift)\n",
    "#         alljak[i,j] = np.nanmedian(jclusshift)\n",
    "#         allhak[i,j] = np.nanmedian(hclusshift)\n",
    "#         allkak[i,j] = np.nanmedian(kclusshift)"
   ]
  },
  {
   "cell_type": "code",
   "execution_count": 48,
   "metadata": {},
   "outputs": [],
   "source": [
    "# aklabels = clusakshift.astype(str)\n",
    "# plt.figure(figsize=[30,55])\n",
    "# plt.suptitle(r'[Fe/H] Magnitude Offset With Synthetic Data',y=0.9)\n",
    "# ###\n",
    "# plt.subplot(511)\n",
    "# for i in range(9):\n",
    "#     plt.scatter(range(30),allbpak[:,i],label='{} mag'.format(aklabels[i]))\n",
    "#     plt.plot(range(30),allbpak[:,i])\n",
    "# plt.ylim(top=12)    \n",
    "# plt.legend(loc='upper right',ncol=6)\n",
    "# plt.ylabel('BP Offset')\n",
    "# plt.xticks(range(30),visible=False)\n",
    "# plt.grid(True)\n",
    "\n",
    "# ###\n",
    "# plt.subplot(512)\n",
    "# for i in range(9):\n",
    "#     plt.scatter(range(30),allrpak[:,i],label='{} mag'.format(aklabels[i]))\n",
    "#     plt.plot(range(30),allrpak[:,i])\n",
    "# plt.ylim(top=12)    \n",
    "# plt.legend(loc='upper right',ncol=6)\n",
    "# plt.ylabel('RP Offset') \n",
    "# plt.xticks(range(30),visible=False)\n",
    "# plt.grid(True)\n",
    "\n",
    "# ###\n",
    "# plt.subplot(513)\n",
    "# for i in range(9):\n",
    "#     plt.scatter(range(30),alljak[:,i],label='{} mag'.format(aklabels[i]))\n",
    "#     plt.plot(range(30),alljak[:,i])\n",
    "# plt.ylim(top=12)    \n",
    "# plt.legend(loc='upper right',ncol=6)\n",
    "# plt.ylabel('J Offset') \n",
    "# plt.xticks(range(30),visible=False)\n",
    "# plt.grid(True)\n",
    "\n",
    "# ###\n",
    "# plt.subplot(514)\n",
    "# for i in range(9):\n",
    "#     plt.scatter(range(30),allhak[:,i],label='{} mag'.format(aklabels[i]))\n",
    "#     plt.plot(range(30),allhak[:,i])\n",
    "# plt.ylim(top=12)    \n",
    "# plt.legend(loc='upper right',ncol=6)\n",
    "# plt.ylabel('H Offset') \n",
    "# plt.xticks(range(30),visible=False)\n",
    "# plt.grid(True)\n",
    "\n",
    "# ###\n",
    "# plt.subplot(515)\n",
    "# for i in range(9):\n",
    "#     plt.scatter(range(30),allkak[:,i],label='{} mag'.format(aklabels[i]))\n",
    "#     plt.plot(range(30),allkak[:,i])\n",
    "# plt.ylim(top=12)    \n",
    "# plt.legend(loc='upper right',ncol=6)\n",
    "# plt.ylabel('K Offset')\n",
    "# plt.xticks(range(30),labels=list(gcs_clus),rotation='vertical')\n",
    "# plt.grid(True)\n",
    "# plt.savefig('synclusakoff.pdf',bbox_iches='tight')\n",
    "# plt.show()"
   ]
  },
  {
   "cell_type": "markdown",
   "metadata": {},
   "source": [
    "derive own doistanmces using gaia\n",
    "script for gaia clsuetsr \n",
    "radial cut 2-3 mas \n",
    "\n",
    "brifhtter stars get parallax directly\n"
   ]
  },
  {
   "cell_type": "code",
   "execution_count": null,
   "metadata": {},
   "outputs": [],
   "source": []
  }
 ],
 "metadata": {
  "kernelspec": {
   "display_name": "Python 3",
   "language": "python",
   "name": "python3"
  },
  "language_info": {
   "codemirror_mode": {
    "name": "ipython",
    "version": 3
   },
   "file_extension": ".py",
   "mimetype": "text/x-python",
   "name": "python",
   "nbconvert_exporter": "python",
   "pygments_lexer": "ipython3",
   "version": "3.8.5"
  }
 },
 "nbformat": 4,
 "nbformat_minor": 4
}
