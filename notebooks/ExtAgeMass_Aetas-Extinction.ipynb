{
 "cells": [
  {
   "cell_type": "code",
   "execution_count": 5,
   "metadata": {},
   "outputs": [],
   "source": [
    "from tqdm.notebook import tqdm\n",
    "import pdb # pdb.set_trace()"
   ]
  },
  {
   "cell_type": "code",
   "execution_count": 59,
   "metadata": {},
   "outputs": [],
   "source": [
    "#Astropy\n",
    "import astropy\n",
    "from astropy.io import fits\n",
    "from astropy.table import Table\n",
    "\n",
    "# Dlnpyutils\n",
    "from dlnpyutils.utils import bspline,mad,interp\n",
    "\n",
    "# dust_extinction\n",
    "from dust_extinction.parameter_averages import CCM89,O94,F99,VCG04,GCC09,M14,F19,D22\n",
    "\n",
    "# Matplotlib\n",
    "import matplotlib\n",
    "import matplotlib.pyplot as plt\n",
    "# %matplotlib inline\n",
    "matplotlib.rcParams.update({'font.size': 25})\n",
    "\n",
    "#Numpy/Scipy\n",
    "import numpy as np\n",
    "import scipy\n",
    "from scipy.interpolate import interp1d\n",
    "from scipy.optimize import curve_fit\n",
    "\n",
    "class Aetas():\n",
    "    '''\n",
    "    A class to calculate a star's extinction, age and mass using PARSEC isochrones with \n",
    "    Gaia (E)DR3 and 2MASS photometry.\n",
    "    \n",
    "    \n",
    "    #################### Add verbose/debug so that everything prints out ################# \n",
    "    '''\n",
    "    def __init__(self,teff,logg,abund,obsphot,distance,isochrones,ext_law='CCM89',rv=3.1,\n",
    "                 debug=False,teff_extrapolation_limit=100):\n",
    "        \n",
    "        '''\n",
    "        Inputs:\n",
    "        ------\n",
    "            teff:       2x1 array-like\n",
    "                        Teff and error of star np.array([teff,teff_err])\n",
    "                        \n",
    "            logg:       2x1 array-like\n",
    "                        Log(g) and error of star np.array([logg,logg_err])\n",
    "                    \n",
    "            abund:      2x1 array-like\n",
    "                        first column is [M/H] and [Alpha/M] and the second column is the errors\n",
    "                    \n",
    "            obs_phot:   6x2 array-like\n",
    "                        first column is BP, G, RP, J, H, and K and the second column is the errors\n",
    "                        \n",
    "            distance:   float\n",
    "                        distance to star in pc\n",
    "                    \n",
    "            isochrones: astropy Table \n",
    "                        PARSEC isochrone table\n",
    "                        \n",
    "            ext_law:    string, optional\n",
    "                        extinction law to use. Default is CCM89.\n",
    "                        \n",
    "                        Available Extinction Laws: \n",
    "                        -------------------------\n",
    "\n",
    "                        CCM89 - Cardelli, Clayton, & Mathis 1989\n",
    "                        O94 - O'Donnell 1994\n",
    "                        F99 - Fitzpatrick 1999\n",
    "                        F04 - Fitzpatrick 2004\n",
    "                        VCG04 - Valencic, Clayton, & Gordon 2004\n",
    "                        GCC09 - Grodon, Cartledge, & Clayton 2009\n",
    "                        M14 - Maiz Apellaniz et al 2014\n",
    "                        F19 - Fitzpatrick, Massa, Gordon, Bohlin & Clayton 2019\n",
    "                        D22 - Decleir et al. 2022\n",
    "                        \n",
    "            rv:         float, optional\n",
    "                        Rv (=Av/E(B-V)) extinction law slope. Default is 3.1 \n",
    "                        (required to be 3.1 if ext_law = 'F99')\n",
    "                        \n",
    "            debug:      boolean\n",
    "                        print useful information to the screen\n",
    "\n",
    "        '''\n",
    "        \n",
    "        # Teff and log(g)\n",
    "        self.teff = teff[0] # temperature\n",
    "        self.teff_err = teff[1] # temperature error\n",
    "        self.logg  = logg[0] # log(g)\n",
    "        self.logg_err = logg[1] # log(g) error\n",
    "        \n",
    "        # Salaris [Fe/H] Asplund 2021 et al.\n",
    "        self.salfeh = abund[0,0]+np.log10(0.659*(10**(abund[1,0]))+0.341) # Salaris Corrected [Fe/H]\n",
    "        self.salfeh_err = np.sqrt(abund[0,1]**2+((1-0.341/(0.659*(10**(abund[1,0]))+0.341))*abund[1,1])**2)\n",
    "        self.phot = obsphot[:,0] # photometry\n",
    "        self.phot_err = obsphot[:,1] # photometry errors\n",
    "        \n",
    "        # Distance modulus\n",
    "        self.distance = distance\n",
    "        self.distmod = 5.0*np.log10(distance)-5.0\n",
    "        \n",
    "        # Absolute Magnitudes Not Derreddened\n",
    "        self.absphot = self.phot-self.distmod\n",
    "        \n",
    "        # PARSEC isochrones\n",
    "        self.labels = ['G_BPEDR3mag','GEDR3mag','G_RPEDR3mag','Jmag','Hmag','Ksmag']\n",
    "        \n",
    "        self.iso = isochrones[np.where(isochrones['MH']==self.closest(isochrones['MH'],self.salfeh))]\n",
    "        self.uniq_ages = np.unique(self.iso['logAge'])\n",
    "        \n",
    "        age_idx = []\n",
    "        for i in range(len(self.uniq_ages)):\n",
    "            ages, = np.where(self.iso['logAge']==self.uniq_ages[i])\n",
    "            age_idx.append(np.array([min(ages),max(ages)]))\n",
    "        \n",
    "        self.age_idx = np.asarray(age_idx)\n",
    "                \n",
    "        # Effective Wavelengths of different passbands in units of microns\n",
    "        self.rv = rv\n",
    "        self.leff = np.array([0.5387,0.6419,0.7667,1.2345,1.6393,2.1757]) #BP, G, RP, J, H, K\n",
    "        self.extlaw_coeff = self.extcoeff(law=ext_law)\n",
    "        \n",
    "        self.debug = debug\n",
    "        self.teff_extrapolation_limit = teff_extrapolation_limit \n",
    "        \n",
    "    #################\n",
    "    ### Utilities ###\n",
    "    #################\n",
    "        \n",
    "    def closest(self,data,value):\n",
    "        '''\n",
    "        Find nearest value in array to given value\n",
    "\n",
    "        Inputs:\n",
    "        ------\n",
    "            data:  array-like\n",
    "                   data to search through\n",
    "\n",
    "            value: float or int\n",
    "                   value of interest\n",
    "\n",
    "        Output:\n",
    "        ------\n",
    "            close: float or int\n",
    "                   value in data closest to given value\n",
    "        '''\n",
    "        \n",
    "        data = np.asarray(data)\n",
    "        \n",
    "        return data[(np.abs(np.subtract(data,value))).argmin()]\n",
    "    \n",
    "    def neighbors(self,data,value):\n",
    "        '''\n",
    "        Find values of two elements closest to the given value\n",
    "\n",
    "        Inputs:\n",
    "        ------\n",
    "            data:   array-like\n",
    "                    data to search through\n",
    "\n",
    "            value:  float or int\n",
    "                    value of interest\n",
    "\n",
    "        Output:\n",
    "        ------\n",
    "            close1: float or int\n",
    "                    closest value under the given value\n",
    "\n",
    "            close2: float or int\n",
    "                    closest value over the given value\n",
    "        '''\n",
    "    \n",
    "        data = np.asarray(data)\n",
    "        close1 = data[(np.abs(np.subtract(data,value))).argmin()]\n",
    "        data = data[np.where(data!=close1)]\n",
    "        close2 = data[(np.abs(np.subtract(data,value))).argmin()]\n",
    "    \n",
    "        return close1,close2\n",
    "    \n",
    "    ##################\n",
    "    ### Extinction ###\n",
    "    ##################\n",
    "    \n",
    "    def extcoeff(self,rv=3.1,law='CCM89'):#,ref='G'):\n",
    "\n",
    "        '''\n",
    "        Calculate the relative extincion law coefficients for a given wavelength relative to the \n",
    "        BP, G, RP, J, H, K or user defined band\n",
    "\n",
    "        Input:\n",
    "        -----\n",
    "            wavelength: float\n",
    "                        Effective wavelength of band of interest in microns\n",
    "\n",
    "            law:        str\n",
    "                        extinction law to use\n",
    "\n",
    "                        Available Extinction Laws: \n",
    "                        -------------------------\n",
    "\n",
    "                        CCM89 - Cardelli, Clayton, & Mathis 1989\n",
    "                        O94 - O'Donnell 1994\n",
    "                        F99 - Fitzpatrick 1999\n",
    "                        F04 - Fitzpatrick 2004\n",
    "                        VCG04 - Valencic, Clayton, & Gordon 2004\n",
    "                        GCC09 - Grodon, Cartledge, & Clayton 2009\n",
    "                        M14 - Maiz Apellaniz et al 2014\n",
    "                        F19 - Fitzpatrick, Massa, Gordon, Bohlin & Clayton 2019\n",
    "                        D22 - Decleir et al. 2022\n",
    "\n",
    "            rv:         float\n",
    "                        Rv (=Av/E(B-V)) extinction law slope. Default is 3.1\n",
    "\n",
    "        Output:\n",
    "        ------\n",
    "            ext_coeff:  float\n",
    "                        calculated extinction coefficients for the BP, G, RP, J, H, and K bands\n",
    "\n",
    "        '''\n",
    "\n",
    "        leff = {'BP':0.5387,'G':0.6419,'RP':0.7667,'J':1.2345,'H':1.6393,'K':2.1757}\n",
    "\n",
    "        # select the extinction model\n",
    "        if law == 'CCM89':\n",
    "            ext_model = CCM89(Rv=rv)\n",
    "\n",
    "        elif law == 'O94':\n",
    "            ext_model = O94(Rv=rv)\n",
    "\n",
    "        elif law == 'F99':\n",
    "            ext_model = F99(Rv=rv)\n",
    "\n",
    "        elif law == 'F04':\n",
    "            ext_model = F04(Rv=rv)\n",
    "\n",
    "        elif law == 'VCG04':\n",
    "            ext_model = VCG04(Rv=rv)\n",
    "\n",
    "        elif law == 'GCC09':\n",
    "            ext_model = GCC09(Rv=rv)\n",
    "\n",
    "        elif law == 'M14':\n",
    "            ext_model = M14(Rv=rv)\n",
    "\n",
    "        elif law == 'F19':\n",
    "            ext_model = F19(Rv=rv)\n",
    "\n",
    "        elif law == 'D22':\n",
    "            ext_model = D22(Rv=rv)   \n",
    "\n",
    "        # Calculate the relative extinction coefficient\n",
    "        ext_coeff_array = ext_model(np.reciprocal(self.leff*u.micron))\n",
    "\n",
    "        return ext_coeff_array\n",
    "    \n",
    "    def extinction(self):\n",
    "        '''\n",
    "        Calulate the extinctions for the BP, G, RP, J, H, and K bands\n",
    "        \n",
    "        Output:\n",
    "        ------\n",
    "            ext: 6x2 array\n",
    "                 first column is the extinction values and the second is the errors\n",
    "            \n",
    "        '''\n",
    "        \n",
    "        if self.debug:\n",
    "            print('Running Aetas.extinction()')\n",
    "            print('Salaris Corrected Metallicity:',self.salfeh)\n",
    "            print('Temperature:',self.teff)\n",
    "\n",
    "        # isochrone magnitude labels\n",
    "        color_labels = np.array([['G_BPEDR3mag','GEDR3mag','GEDR3mag','GEDR3mag','GEDR3mag'],\n",
    "                                 ['GEDR3mag','G_RPEDR3mag','Jmag','Hmag','Ksmag']]).T\n",
    "        \n",
    "        # pdb.set_trace()\n",
    "        \n",
    "        # pick isochrone points with temperatures within 500 K of the star's Teff\n",
    "        teffcut = np.where((self.iso['logTe']<np.log10(self.teff+500.))&\n",
    "                           (self.iso['logTe']>np.log10(self.teff-500.)))\n",
    "        \n",
    "        iso_ = self.iso[teffcut]\n",
    "        \n",
    "        # pdb.set_trace()\n",
    "        \n",
    "        # check to make sure teff of star is in range of the isochrone\n",
    "        if np.size(np.squeeze(teffcut))==0:\n",
    "            self.ext = 999999.0*np.ones((6,2))\n",
    "            return 999999.0*np.ones((6,2))\n",
    "        \n",
    "#         # check of the teff of star falls more than 100 K\n",
    "#         if 10**min(iso_['logTe'])-self.teff > 100 or self.teff - 10**max(iso_['logTe']) > 100:\n",
    "#             print('If within 100')\n",
    "#             # pdb.set_trace()\n",
    "#             return 999999.0*np.ones((6,2))\n",
    "        \n",
    "#         # if teff is outside isochrone but less than 100 K set extrapolate\n",
    "#         extrap = False\n",
    "        \n",
    "#         if np.log10(self.teff) < min(iso_['logTe']) or np.log10(self.teff) > max(iso_lo['logTe']):\n",
    "#                 extrap = True\n",
    "    \n",
    "        # get colors and errors\n",
    "        obs_colors = np.delete(self.phot-self.phot[1],1)\n",
    "        obs_colors[1:] = -1*obs_colors[1:]\n",
    "        obs_colors_err = np.delete(np.sqrt(self.phot_err**2+self.phot_err[1]**2),1)\n",
    "        \n",
    "        if self.debug:\n",
    "            print('Observed Colors:',obs_colors)\n",
    "            print('Observed Color Errors:',obs_colors_err)\n",
    "        \n",
    "        # create \"reddening\" vector (slightly modified from the normal definition)\n",
    "        red_vec = np.delete(1-self.extlaw_coeff/self.extlaw_coeff[1],1)\n",
    "        red_vec[0] = -1*red_vec[0]\n",
    "        \n",
    "        ext_vec = self.extlaw_coeff/self.extlaw_coeff[1]\n",
    "        \n",
    "        # calculate the intrinsic colors using a b-spline\n",
    "        iso_color = 999999.0*np.ones(5)\n",
    "        iso_color_deriv = 999999.0*np.ones(5)\n",
    "        \n",
    "        print('''I'm Here !!!!!!!''')\n",
    "        \n",
    "#         closest_lgteff = closest(iso_['logTe'],np.log10(self.teff))\n",
    "        \n",
    "        use_lgteff = np.log10(self.teff)\n",
    "        if use_lgteff < np.min(iso_['logTe']) or use_lgteff > np.max(iso_['logTe']):\n",
    "            use_lgteff = closest(iso_['logTe'],np.log10(self.teff))\n",
    "        \n",
    "        for i in range(5):\n",
    "            \n",
    "#             # Interpolate the color-Teff relation using a b-spline\n",
    "#                 color = (iso_[color_labels[i,0]]-iso_[color_labels[i,1]])\n",
    "#                 logTe = iso_['logTe']\n",
    "                \n",
    "#             if extrap:\n",
    "#                 bspline_vec[i] = interp(logTe,color,np.log10(self.teff),assume_sorted=False,extrapolate=True)\n",
    "#                 bspline_vec_derive[i] = 999999.0 \n",
    "            \n",
    "            \n",
    "            try:\n",
    "                # Interpolate the color-Teff relation using a b-spline\n",
    "                color = (iso_[color_labels[i,0]]-iso_[color_labels[i,1]])\n",
    "                logTe = iso_['logTe']\n",
    "\n",
    "                bspl = bspline(logTe,color)\n",
    "                iso_color[i] = bspl(use_lgteff)\n",
    "                iso_color_deriv[i] = bspl.derivative()(use_lgteff)\n",
    "                \n",
    "            except:\n",
    "                try:\n",
    "                    bspl = bspline(logTe,color,extrapolate=True)\n",
    "                    iso_color[i] = bspl(use_lgteff)\n",
    "                    iso_color_deriv[i] = bspl.derivative()(use_lgteff)\n",
    "                \n",
    "                except:\n",
    "                    iso_color[i] = 999999.0\n",
    "                    iso_color_deriv[i] = 999999.0\n",
    "                    \n",
    "        print(\"Now I'm Here!!!!!!!\")\n",
    "        print('Isochrone Colors:',iso_color)\n",
    "                    \n",
    "        # pdb.set_trace()\n",
    "                \n",
    "        # calculate the extinctions and errors\n",
    "        color_diff = obs_colors-iso_color\n",
    "        color_errs = np.abs((iso_color_deriv*self.teff_err)/(self.teff*np.log(10)))\n",
    "        color_diff_err = np.sqrt(obs_colors_err**2+color_errs**2)\n",
    "        \n",
    "        # find bad values this should take care of bad values from the spline\n",
    "        neg_cut = np.where(color_diff>0)\n",
    "        \n",
    "        # if all bad return bad values\n",
    "        if np.size(np.squeeze(neg_cut))==0:\n",
    "            if self.debug:\n",
    "                print('All Colors are bad')\n",
    "                print('Max Iso Teff:',10**np.nanmax(iso_['logTe']))\n",
    "                print('Min Iso Teff:',10**np.nanmin(iso_['logTe']))\n",
    "                print('Obs Teff:',self.teff)\n",
    "            \n",
    "            self.ext = 999999.0*np.ones((6,2))\n",
    "            return 999999.0*np.ones((6,2))\n",
    "        \n",
    "        # calculate the extinction value and error\n",
    "        ag = np.dot(red_vec[neg_cut],color_diff[neg_cut])/np.linalg.norm(red_vec[neg_cut])**2\n",
    "        ag_err = np.dot(red_vec[neg_cut],color_diff_err[neg_cut])/np.linalg.norm(red_vec[neg_cut])**2\n",
    "        \n",
    "        \n",
    "        ext = 999999.0*np.ones((6,2))\n",
    "        ext[:,0] = ext_vec*ag\n",
    "        ext[:,1] = ext_vec*ag_err\n",
    "        \n",
    "        iso_colors_extincted = iso_color+red_vec*ag\n",
    "        \n",
    "        ext_chi = sum((obs_colors-iso_colors_extincted)**2/obs_colors_err**2)\n",
    "        \n",
    "        self.ext = ext\n",
    "        \n",
    "        if self.debug:\n",
    "            print('A(G)+ Error:',ag,ag_err)\n",
    "            print('All Extinctions:',ext[:,0])\n",
    "            print('chisq:',ext_chi)\n",
    "            print('resid:',obs_colors-iso_colors_extincted)\n",
    "        \n",
    "        return ext\n",
    "    \n",
    "    ##############################################\n",
    "    ### Magnitudes, Extinctions, Ages & Masses ###\n",
    "    ##############################################\n",
    "    \n",
    "    def teff_2_appmags(self,teff,age,verbose=False):\n",
    "        '''\n",
    "        Calculate the expected apparent magnitude of a star\n",
    "        \n",
    "        Inputs:\n",
    "        ------\n",
    "            teff:     float\n",
    "                      Teff of star \n",
    "                      \n",
    "            age:      float\n",
    "                      age of star\n",
    "        \n",
    "        Output:\n",
    "        ------\n",
    "            calc_mag: 6x2 array \n",
    "                      expected intrinsic magnitude for the given temperature\n",
    "        '''\n",
    "        \n",
    "        #Some calcualtions to set things up\n",
    "        lgteff = np.log10(teff)\n",
    "        \n",
    "        extincts = self.ext[:,0]\n",
    "        \n",
    "        lgage = np.log10(age*10**9)\n",
    "        \n",
    "        # Figure out if age is actually in the ages given in the isochrone table\n",
    "        if lgage in self.uniq_ages:\n",
    "            \n",
    "            ### pick out a single isochrone \n",
    "            aidx, = np.where(self.uniq_ages==lgage)\n",
    "            iso_ = self.iso[self.age_idx[int(aidx)][0]:self.age_idx[int(aidx)][1]]\n",
    "            \n",
    "#             if lgteff < min(iso_['logTe']) or lgteff > max(iso_['logTe']):\n",
    "#                 return np.array([999999.0, 999999.0, 999999.0, 999999.0, 999999.0, 999999.0, 999999.0])\n",
    "\n",
    "            extrap = False\n",
    "\n",
    "            if 10**min(iso_['logTe'])-self.teff > self.teff_extrapolation_limit or self.teff - 10**max(iso_['logTe']) > self.teff_extrapolation_limit:\n",
    "                return np.array([999999.0, 999999.0, 999999.0, 999999.0, 999999.0, 999999.0, 999999.0])\n",
    "            \n",
    "            ### use a spline to get the apparent mags\n",
    "            calc_mags = 999999.0*np.ones(6)\n",
    "            for i in range(6):\n",
    "                \n",
    "                if extrap:\n",
    "                    mag_spl = interp(iso_['logTe'],iso_[self.labels[i]],lgteff,\n",
    "                                     assume_sorted=False,extrapolate=True)\n",
    "                else:\n",
    "                    mag_spl = bspline(iso_['logTe'],iso_[self.labels[i]])\n",
    "                \n",
    "                calc_mags[i] = mag_spl(lgteff)+self.distmod+extincts[i]\n",
    "            \n",
    "            ### logg spline\n",
    "            if extrap:\n",
    "                lgg_spl = interp(iso_['logTe'],iso_['logg'],lgteff,assume_sorted=False,extrapolate=True)\n",
    "                \n",
    "            else:\n",
    "                lgg_spl = utils.bspline(iso_['logTe'],iso_['logg'])\n",
    "            \n",
    "            calc_logg = lgg_spl(lgteff)\n",
    "            \n",
    "            self.age_spl_interp_deriv = mp.median(np.diff(self.unique_ages)/2.0)\n",
    "                \n",
    "            return np.append(calc_mags, calc_logg)\n",
    "            \n",
    "        else:\n",
    "            lgage_lo,lgage_hi = self.neighbors(self.uniq_ages,lgage)\n",
    "            if verbose:\n",
    "                print('[age_lo,age_hi]: ',[10**lgage_lo/10**9,10**lgage_hi/10**9])\n",
    "            \n",
    "            ### Pick out single isochrones\n",
    "        \n",
    "            # younger\n",
    "            aidx_lo, = np.where(self.uniq_ages==lgage_lo)\n",
    "            iso_lo = self.iso[self.age_idx[int(aidx_lo)][0]:self.age_idx[int(aidx_lo)][1]]\n",
    "            \n",
    "            # older\n",
    "            aidx_hi, = np.where(self.uniq_ages==lgage_hi)\n",
    "            iso_hi = self.iso[self.age_idx[int(aidx_hi)][0]:self.age_idx[int(aidx_hi)][1]]\n",
    "            \n",
    "            ### Temperature Check\n",
    "            \n",
    "            extrap_lo = False\n",
    "            extrap_hi = False\n",
    "            \n",
    "#             # pdb.set_trace()\n",
    "            \n",
    "            if 10**min(iso_lo['logTe'])-self.teff > self.teff_extrapolation_limit or self.teff - 10**max(iso_lo['logTe']) > self.teff_extrapolation_limit:\n",
    "            \n",
    "                if self.debug:\n",
    "                    print('outside iso_lo')\n",
    "                    print('Age',10**lgage_lo/10**9)\n",
    "                    print('max iso_lo',max(iso_lo['logTe']))\n",
    "                    print('min iso_lo',min(iso_lo['logTe']))\n",
    "                    print('Teff',np.log10(self.teff))\n",
    "                    print('Lower - Teff',10**min(iso_lo['logTe'])-self.teff)\n",
    "                return np.array([999999.0, 999999.0, 999999.0, 999999.0, 999999.0, 999999.0, 999999.0])\n",
    "            \n",
    "            if 10**min(iso_hi['logTe'])-self.teff > self.teff_extrapolation_limit or self.teff - 10**max(iso_hi['logTe']) > self.teff_extrapolation_limit:\n",
    "                if self.debug:\n",
    "                    print('outside iso_hi')\n",
    "                    print('max iso_hi',max(iso_hi['logTe']))\n",
    "                    print('min iso_hi',min(iso_hi['logTe']))\n",
    "                    print('Teff',np.log10(self.teff))\n",
    "                return np.array([999999.0, 999999.0, 999999.0, 999999.0, 999999.0, 999999.0, 999999.0])\n",
    "            \n",
    "            if lgteff < min(iso_lo['logTe']) or lgteff > max(iso_lo['logTe']):\n",
    "                extrap_lo = True\n",
    "                \n",
    "            if lgteff < min(iso_hi['logTe']) or lgteff > max(iso_hi['logTe']):\n",
    "                extrap_hi = True\n",
    "            \n",
    "#             # pdb.set_trace()    \n",
    "            \n",
    "            ### use a b-spline to get the apparent mags\n",
    "            age_lo = 10**lgage_lo/10**9\n",
    "            age_hi = 10**lgage_hi/10**9\n",
    "            calc_mags = 999999.0*np.ones(6)\n",
    "            for i in range(6):\n",
    "                \n",
    "                if extrap_lo:\n",
    "                    mag_spl_lo = interp(iso_lo['logTe'],iso_lo[self.labels[i]],lgteff,\n",
    "                                        assume_sorted=False,extrapolate=True)\n",
    "                        \n",
    "                else:\n",
    "                    mag_spl_lo = bspline(iso_lo['logTe'],iso_lo[self.labels[i]])(lgteff)\n",
    "                    \n",
    "                if extrap_hi:\n",
    "                    mag_spl_hi = interp(iso_hi['logTe'],iso_hi[self.labels[i]],lgteff,\n",
    "                                        assume_sorted=False,extrapolate=True)\n",
    "                        \n",
    "                else:\n",
    "                    mag_spl_hi = bspline(iso_hi['logTe'],iso_hi[self.labels[i]])(lgteff)\n",
    "                 \n",
    "                age_spl_interp = np.poly1d(np.squeeze(np.polyfit([age_lo,age_hi],[mag_spl_lo,mag_spl_hi],1)))\n",
    "                self.age_spl_interp_deriv = age_spl_interp.deriv()\n",
    "                \n",
    "                calc_mags[i] = age_spl_interp(age)+self.distmod+extincts[i]\n",
    "            \n",
    "            ### logg spline\n",
    "            if extrap_lo:\n",
    "                lgg_spl_lo = interp(iso_lo['logTe'],iso_lo['logg'],lgteff,assume_sorted=False,extrapolate=True)\n",
    "                \n",
    "            else:\n",
    "                lgg_spl_lo = bspline(iso_lo['logTe'],iso_lo['logg'])(lgteff)\n",
    "                \n",
    "            if extrap_hi:\n",
    "                lgg_spl_hi = interp(iso_hi['logTe'],iso_hi['logg'],lgteff,assume_sorted=False,extrapolate=True)\n",
    "            \n",
    "            else:\n",
    "                lgg_spl_hi = bspline(iso_hi['logTe'],iso_hi['logg'])(lgteff)\n",
    "            \n",
    "            lgg_spl_interp = np.poly1d(np.squeeze(np.polyfit([age_lo,age_hi],[lgg_spl_lo,lgg_spl_hi],1)))\n",
    "            \n",
    "            calc_logg = lgg_spl_interp(age)\n",
    "            \n",
    "\n",
    "            return np.append(calc_mags, calc_logg)\n",
    "        \n",
    "    #######################\n",
    "    ### Ages and Masses ###\n",
    "    #######################\n",
    "    \n",
    "    def isochrone_check(self,flags=False,filename=None):\n",
    "        '''\n",
    "        Diagnostic to check if a star falls on isochrones or not. \n",
    "        \n",
    "        Input:\n",
    "        -----\n",
    "            flags:    boolean\n",
    "                      if True return flags stating if the star falls on the isochrones.\n",
    "                      prints a flag for Teff, log(g)\n",
    "        \n",
    "            filename: str (optional)\n",
    "                      filename without extension\n",
    "        '''\n",
    "        \n",
    "        color_labels = np.array([['G_BPEDR3mag','GEDR3mag','GEDR3mag','GEDR3mag','GEDR3mag'],\n",
    "                                 ['GEDR3mag','G_RPEDR3mag','Jmag','Hmag','Ksmag']]).T\n",
    "        \n",
    "        colorteff_labels = np.array(['BP - G','G - RP','G - J','G - H','G - Ks'])\n",
    "        \n",
    "        # get colors\n",
    "        obs_colors = np.delete(self.phot-self.phot[1],1)\n",
    "        obs_colors[1:] = -1*obs_colors[1:]\n",
    "#         obs_colors_err = np.delete(np.sqrt(self.phot_err**2+self.phot_err[1]**2),1)\n",
    "        \n",
    "        ### Spectroscopic HR diagram\n",
    "        plt.figure(figsize=[12,10])\n",
    "        plt.scatter(10**self.iso['logTe'],self.iso['logg'],\n",
    "                    c=10**self.iso['logAge']/10**9,cmap='nipy_spectral')\n",
    "        plt.colorbar()\n",
    "        plt.scatter(self.teff,self.logg)\n",
    "        \n",
    "        plt.gca().invert_xaxis()\n",
    "        plt.gca().invert_yaxis()\n",
    "        \n",
    "        plt.xlabel(r'Teff')\n",
    "        plt.ylabel(r'Log(g)')\n",
    "        \n",
    "        if filename != None:\n",
    "            plt.savefig('{}.png'.format(filename),bbox_inches='tight')\n",
    "        plt.show()\n",
    "        \n",
    "        ### Color Teff relationships\n",
    "        fig,ax = plt.subplots(figsize=[72,10])\n",
    "        \n",
    "        for i in range(5):\n",
    "            color = (iso_[color_labels[i,0]]-iso_[color_labels[i,1]])\n",
    "            im = ax[i].scatter(10**self.iso['logTe'],color,c=10**self.iso['logAge']/10**9,cmap='nipy_spectral')\n",
    "            ax[i].scatter(self.teff,obs_colors[i],marker='*',s=500)\n",
    "            \n",
    "            ax[i].set_xlabel(r'Teff')\n",
    "            ax[i].set_ylabel(r'{}'.format(colorteff_labels[i]))\n",
    "        \n",
    "        fig.colorbar(im, ax=ax.ravel().tolist())\n",
    "        \n",
    "        if filename != None:\n",
    "            plt.savefig('{}.png'.format(filename),bbox_inches='tight')\n",
    "        plt.show()\n",
    "\n",
    "    def get_age(self,guess_ages=np.linspace(0.012,17.)[::10]):\n",
    "        '''\n",
    "        Find best fitting age for a star by searching chisq space given initial guesses for\n",
    "        age and extinction.\n",
    "        \n",
    "        Inputs:\n",
    "        ------\n",
    "            guess_ages: array \n",
    "                        initial guesses for ages in Gyr\n",
    "\n",
    "            \n",
    "        Output:\n",
    "        ------\n",
    "            age:        float \n",
    "                        best age according to chi^2 space search\n",
    "                        \n",
    "            chi:        float\n",
    "                        best chi^2 according to chi^2 space search\n",
    "                        \n",
    "            rms:        float\n",
    "                        RMSE of the result\n",
    "            \n",
    "        '''\n",
    "            \n",
    "        # initialize lists\n",
    "        \n",
    "        curve_ages = []\n",
    "        curve_chi = []\n",
    "        curve_rms = []\n",
    "        \n",
    "        # set photometry error or 0.01 if tiny\n",
    "        phot_err = np.maximum(self.phot_err,0.01)\n",
    "        \n",
    "        if self.debug:\n",
    "            print('Running Aetas.get_age()')\n",
    "            print('guess_ages:',guess_ages)\n",
    "\n",
    "        # loop over age and ak space \n",
    "        for j in range(len(guess_ages)):\n",
    "            try:\n",
    "                # calculate best fit parameters and covariance matrix\n",
    "                obs_quants = np.append(np.copy(self.phot),self.logg)\n",
    "                obs_quants_err = np.append(phot_err,self.logg_err)\n",
    "\n",
    "\n",
    "                popt,pcov = curve_fit(self.teff_2_appmags,self.teff,obs_quants,p0=guess_ages[j],\n",
    "                                      method='lm',sigma=obs_quants_err,\n",
    "                                      absolute_sigma=True,maxfev=5000)\n",
    "\n",
    "                # populate lists\n",
    "                curve_ages.append(popt[0])\n",
    "                curve_mags_logg = np.asarray(self.teff_2_appmags(self.teff,popt[0]))\n",
    "                \n",
    "                if self.debug:\n",
    "                    print('Calc App Mags + logg:',curve_mags_logg)\n",
    "\n",
    "                curve_chi.append(sum((curve_mags_logg-obs_quants)**2/obs_quants_err**2))\n",
    "                curve_rms.append(np.std(curve_mags_logg-obs_quants))\n",
    "    #             curve_rms.append(np.sqrt(sum((curve_mags_logg-obs_quants)**2)/len(curve_mags_logg)))\n",
    "\n",
    "            except:\n",
    "                # populate lists\n",
    "                curve_ages.append(999999.0)\n",
    "                curve_chi.append(999999.0)\n",
    "                curve_rms.append(999999.0)\n",
    "                \n",
    "                \n",
    "            if self.debug:\n",
    "                print(j+1,guess_ages[j],curve_ages[j],curve_chi[j],curve_rms[j])\n",
    "                \n",
    "\n",
    "                \n",
    "        if np.sum(np.array(curve_ages)<1e5)==0:\n",
    "            if self.debug:\n",
    "                print('All Bad')\n",
    "            return 999999.0, 999999.0, 999999.0\n",
    "#         # pdb.set_trace()\n",
    "        \n",
    "        # find smallest chisq value and corresponding age and Ak\n",
    "        idx = np.asarray(curve_chi).argmin()\n",
    "        age = np.asarray(curve_ages)[idx]\n",
    "        chi = np.asarray(curve_chi)[idx]\n",
    "        rms = np.asarray(curve_rms)[idx]\n",
    "        self.age = age\n",
    "        self.chi = chi\n",
    "        self.rms = rms\n",
    "        \n",
    "        if self.debug:\n",
    "            print('Best Fit Age, chi, RMS:',self.age,self.chi,self.rms)\n",
    "\n",
    "        return age, chi, rms\n",
    "    \n",
    "    ##############\n",
    "    ### Masses ###\n",
    "    ##############\n",
    "    \n",
    "    def age_2_mass(self,age):\n",
    "        '''\n",
    "        Calculate the mass of a star from its age\n",
    "        \n",
    "        Input:\n",
    "        -----\n",
    "            age:      2x1 array\n",
    "                      age of a star in Gyr and associated error\n",
    "\n",
    "        Output:\n",
    "        ------\n",
    "            mass:     float \n",
    "                      mass of star in solar masses\n",
    "            \n",
    "            mass_err: float\n",
    "                      error in the calculated mass of the star\n",
    "        '''\n",
    "\n",
    "        if self.age == 999999.0:\n",
    "            return 999999.0\n",
    "        \n",
    "        teffcut = np.where((self.iso['logTe']<np.log10(self.teff+200.))&\n",
    "                           (self.iso['logTe']>np.log10(self.teff-200.)))\n",
    "        iso_ = self.iso[teffcut]\n",
    "        \n",
    "        if np.size(iso_) < 2:\n",
    "            return 999999.0\n",
    "        try:\n",
    "            ### calculate the mass and error using interpolation\n",
    "            bspl = bspline(iso_['logAge'],iso_['Mass'])\n",
    "            mass = bspl(np.log10(age*10**9))\n",
    "            \n",
    "        except:\n",
    "            mass = 999999.0\n",
    "\n",
    "        if np.isfinite(mass)==False:\n",
    "            return 999999.0\n",
    "        \n",
    "        return mass"
   ]
  },
  {
   "cell_type": "code",
   "execution_count": 7,
   "metadata": {},
   "outputs": [],
   "source": [
    "import MagellanicStream as MagellanicStream\n",
    "\n",
    "def closest(data,value):\n",
    "    '''\n",
    "    Find nearest value in array to given value\n",
    "\n",
    "    Inputs:\n",
    "    ------\n",
    "        data:  array-like\n",
    "               data to search through\n",
    "\n",
    "        value: float or int\n",
    "               value of interest\n",
    "\n",
    "    Output:\n",
    "    ------\n",
    "        close: float or int\n",
    "               value in data closest to given value\n",
    "    '''\n",
    "\n",
    "    data = np.asarray(data)\n",
    "\n",
    "    return data[(np.abs(np.subtract(data,value))).argmin()]\n",
    "\n",
    "def neighbors(data,value):\n",
    "    '''\n",
    "    Find values of two elements closest to the given value\n",
    "\n",
    "    Inputs:\n",
    "    ------\n",
    "        data:   array-like\n",
    "                data to search through\n",
    "\n",
    "        value:  float or int\n",
    "                value of interest\n",
    "\n",
    "    Output:\n",
    "    ------\n",
    "        close1: float or int\n",
    "                closest value under the given value\n",
    "\n",
    "        close2: float or int\n",
    "                closest value over the given value\n",
    "    '''\n",
    "\n",
    "    data = np.asarray(data)\n",
    "    close1 = data[(np.abs(np.subtract(data,value))).argmin()]\n",
    "    data = data[np.where(data!=close1)]\n",
    "    close2 = data[(np.abs(np.subtract(data,value))).argmin()]\n",
    "\n",
    "    return close1,close2\n",
    "\n",
    "def LMCdisk_cart(ra, dec):\n",
    "    \n",
    "    '''\n",
    "    Calculate the position of stars in the LMC disk plane with \n",
    "    center at the LMC center in cartesian coordinates (x, y).\n",
    "    This also calculates the distance to the individual stars.\n",
    "    \n",
    "    This follows van der Marel and Cioni 2001 with parameters from Choi et al. 2018 (SMASHing the LMC: \n",
    "    Mapping a Ring-like Stellar Overdensity in the LMC Disk)\n",
    "    \n",
    "    Input\n",
    "    - ra: right ascension of stars\n",
    "    - dec: declination of stars\n",
    "    \n",
    "    Output\n",
    "    - x_m: x coordinate\n",
    "    - y_m: y coordinate\n",
    "    - dis: distance to LMC star\n",
    "    '''\n",
    "    alph0 = np.radians(82.25) #right ascension of center of LMC\n",
    "    delt0 = np.radians(-69.50) #declination of center of LMC\n",
    "    pa = np.radians(149.23+90.00) #146.37 #position angle of line of nodes\n",
    "    io = np.radians(25.86) #27.81 #inclination of LMC disk\n",
    "    d0 = 49.90 #distance to center of LMC\n",
    "    \n",
    "    #convert to radians\n",
    "    ra = np.radians(ra)\n",
    "    dec = np.radians(dec)\n",
    "    sd = np.sin(delt0)\n",
    "    cd = np.cos(delt0)\n",
    "    \n",
    "    cr = cd*np.cos(dec)*np.cos(ra-alph0)+sd*np.sin(dec)\n",
    "    srcp = -np.cos(dec)*np.sin(ra-alph0)\n",
    "    srsp = cd*np.sin(dec) - sd*np.cos(dec)*np.cos(ra-alph0)\n",
    "    dis = d0*np.cos(io)/(np.cos(io)*cr - np.sin(io)*np.cos(pa)*srsp + np.sin(io)*np.sin(pa)*srcp)\n",
    "    \n",
    "    x_m = dis*srcp\n",
    "    y_m = dis*(np.cos(io)*srsp + np.sin(io)*cr) - d0*np.sin(io)\n",
    "    \n",
    "    return x_m, y_m, dis\n",
    "\n",
    "def elliptical_radius(x,y):\n",
    "    '''\n",
    "    Calculate elliptical radius from cartesian(x,y) using equation 6 form Choi et al. 2018 (SMASHing the LMC: \n",
    "    Mapping a Ring-like Stellar Overdensity in the LMC Disk)\n",
    "    \n",
    "    Parameters:\n",
    "    ----------\n",
    "        x: x cartesian coordinate\n",
    "        y: y cartesian coordinate\n",
    "        psi: semimajor axis position angle\n",
    "    Returns:\n",
    "    -------\n",
    "        ell_r: elliptical radius\n",
    "    '''\n",
    "    \n",
    "    \n",
    "    b_a = 0.836 # disk axis ratio\n",
    "    psi = 227.24 + 90 # position angle of semi major axis\n",
    "    cpsi = np.cos(np.radians(psi)) \n",
    "    spsi = np.cos(np.radians(psi))\n",
    "    \n",
    "    ell_r = np.sqrt(np.square(x*cpsi-y*spsi) + np.square(b_a*(x*spsi + y*cpsi)))\n",
    "    \n",
    "    return ell_r"
   ]
  },
  {
   "cell_type": "markdown",
   "metadata": {},
   "source": [
    "# PARSEC"
   ]
  },
  {
   "cell_type": "code",
   "execution_count": 8,
   "metadata": {},
   "outputs": [],
   "source": [
    "massive = fits.getdata('/Users/joshuapovick/Desktop/Research/parsec/parsec36_DR2_EDR3.fits')\n",
    "massive = Table(massive[np.where(massive['label']==3.0)])\n",
    "massive = massive[np.argsort(massive['logAge'])]\n",
    "massive = massive['MH','Mass','logAge','logTe','logg','GEDR3mag','G_BPEDR3mag','G_RPEDR3mag',\n",
    "                  'Jmag','Hmag','Ksmag']\n",
    "# I noticed that there's some weird points marked as RGB, so I cut those out with\n",
    "cut = np.poly1d(np.polyfit([4600,5400],[0.5,2],1))\n",
    "massive = massive[np.where(massive['logg']>cut(10**massive['logTe']))]"
   ]
  },
  {
   "cell_type": "markdown",
   "metadata": {},
   "source": [
    "# APOGEE"
   ]
  },
  {
   "cell_type": "code",
   "execution_count": 9,
   "metadata": {},
   "outputs": [],
   "source": [
    "lmcdr17 = fits.getdata('/Users/joshuapovick/Desktop/Research/fits/lmc_rgbmembers.dr17rev1_qacuts.fits.gz')\n",
    "\n",
    "apoafe = lmcdr17['ALPHA_M']+lmcdr17['M_H']-lmcdr17['FE_H']\n",
    "apoafe_err = np.sqrt(lmcdr17['ALPHA_M_ERR']**2+lmcdr17['M_H_ERR']**2+lmcdr17['FE_H']**2)\n",
    "\n",
    "salfeh = lmcdr17['FE_H']+np.log10(0.659*(10**(apoafe))+0.341)\n",
    "salfeh_err = np.sqrt(lmcdr17['FE_H_ERR']**2+((1-0.341/(0.659*(10**(apoafe))+0.341))*apoafe_err)**2)\n",
    "\n",
    "diane = fits.getdata('/Users/joshuapovick/Desktop/Research/fits/output_LMC_DR16_all.fits.gz')\n",
    "\n",
    "_, diane_idx, me_idx = np.intersect1d(diane['APOGEE_ID'],lmcdr17['APOGEE_ID'], return_indices=True)"
   ]
  },
  {
   "cell_type": "code",
   "execution_count": 10,
   "metadata": {},
   "outputs": [],
   "source": [
    "from dlnpyutils import coords\n",
    "import astropy.units as u\n",
    "from astropy.coordinates import SkyCoord\n",
    "\n",
    "lmcx, lmcy, lmcdis = LMCdisk_cart(lmcdr17['RA'], lmcdr17['DEC'])\n",
    "lmcr = elliptical_radius(lmcx,lmcy)\n",
    "\n",
    "### lmcdr17\n",
    "gc = SkyCoord(ra=lmcdr17['RA']*u.degree, dec=lmcdr17['DEC']*u.degree, frame='icrs')\n",
    "lms_lmc,bms_lmc = coords.gal2mag(gc.galactic.l.value,gc.galactic.b.value)\n",
    "\n",
    "for i in range(len(lms_lmc)):\n",
    "    if lms_lmc[i] > 180.:\n",
    "        lms_lmc[i] = lms_lmc[i]-360"
   ]
  },
  {
   "cell_type": "code",
   "execution_count": 11,
   "metadata": {},
   "outputs": [],
   "source": [
    "gaiaedr3 = fits.getdata('/Users/joshuapovick/Desktop/Research/gaia/GAIAEDR3allStar.fits.gz')"
   ]
  },
  {
   "cell_type": "code",
   "execution_count": 12,
   "metadata": {},
   "outputs": [],
   "source": [
    "from scipy.stats import binned_statistic, binned_statistic_2d\n",
    "\n",
    "binnum = 75\n",
    "\n",
    "### BP\n",
    "bp_fin = np.where(np.isfinite(gaiaedr3['phot_bp_mean_mag'])==True)\n",
    "\n",
    "bpmin = min(gaiaedr3['phot_bp_mean_mag'][bp_fin])\n",
    "bpmax = max(gaiaedr3['phot_bp_mean_mag'][bp_fin])\n",
    "\n",
    "bpdiff = bpmax-bpmin\n",
    "bpfluxerr = (2.5*0.434)/gaiaedr3['phot_bp_mean_flux_over_error'][bp_fin]\n",
    "bpmagerr = np.sqrt((bpfluxerr)**2+0.0027901700**2)\n",
    "\n",
    "bpbin ,_,_ = binned_statistic(gaiaedr3['phot_bp_mean_mag'][bp_fin],np.log10(bpmagerr),'median',bins=binnum)\n",
    "\n",
    "### G\n",
    "g_fin = np.where(np.isfinite(gaiaedr3['phot_g_mean_mag'])==True)\n",
    "\n",
    "gmin = min(gaiaedr3['phot_g_mean_mag'][g_fin])\n",
    "gmax = max(gaiaedr3['phot_g_mean_mag'][g_fin])\n",
    "\n",
    "gdiff = gmax-gmin\n",
    "gfluxerr = (2.5*0.434)/gaiaedr3['phot_g_mean_flux_over_error'][g_fin]\n",
    "gmagerr = np.sqrt((gfluxerr)**2+0.0027553202**2)\n",
    "\n",
    "gbin ,_,_ = binned_statistic(gaiaedr3['phot_g_mean_mag'][g_fin],np.log10(gmagerr),'median',bins=binnum)\n",
    "\n",
    "### RP \n",
    "rp_fin = np.where(np.isfinite(gaiaedr3['phot_rp_mean_mag'])==True)\n",
    "\n",
    "rpmin = min(gaiaedr3['phot_rp_mean_mag'][rp_fin])\n",
    "rpmax = max(gaiaedr3['phot_rp_mean_mag'][rp_fin])\n",
    "\n",
    "rpdiff = rpmax-rpmin\n",
    "rpfluxerr = (2.5*0.434)/gaiaedr3['phot_rp_mean_flux_over_error'][rp_fin]\n",
    "rpmagerr = np.sqrt((rpfluxerr)**2+0.0037793818**2)\n",
    "\n",
    "rpbin ,_,_ = binned_statistic(gaiaedr3['phot_rp_mean_mag'][rp_fin],np.log10(rpmagerr),'median',bins=binnum)\n",
    "\n",
    "### Fit the errors\n",
    "bp_fin = np.where(np.isfinite(bpbin)==True)\n",
    "g_fin = np.where(np.isfinite(gbin)==True)\n",
    "rp_fin = np.where(np.isfinite(rpbin)==True)\n",
    "\n",
    "bperrfunc = bspline(np.arange(bpmin,bpmax,bpdiff/binnum)[bp_fin],bpbin[bp_fin])\n",
    "gerrfunc = bspline(np.arange(gmin,gmax,gdiff/binnum)[g_fin],gbin[g_fin])\n",
    "rperrfunc = bspline(np.arange(rpmin,rpmax,rpdiff/binnum)[rp_fin],rpbin[rp_fin])\n",
    "\n",
    "### Replace nan's with zeropoint error\n",
    "bperr = np.nan_to_num(10**bperrfunc(lmcdr17['GAIAEDR3_PHOT_BP_MEAN_MAG']),nan=0.0027901700)\n",
    "gerr = np.nan_to_num(10**gerrfunc(lmcdr17['GAIAEDR3_PHOT_G_MEAN_MAG']),nan=0.0027553202)\n",
    "rperr = np.nan_to_num(10**rperrfunc(lmcdr17['GAIAEDR3_PHOT_RP_MEAN_MAG']),nan=0.0037793818)"
   ]
  },
  {
   "cell_type": "code",
   "execution_count": 13,
   "metadata": {},
   "outputs": [
    {
     "data": {
      "image/png": "[encoded data removed]",
      "text/plain": [
       "<Figure size 720x720 with 1 Axes>"
      ]
     },
     "metadata": {
      "needs_background": "light"
     },
     "output_type": "display_data"
    }
   ],
   "source": [
    "### Plot\n",
    "plt.figure(figsize=[10,10])\n",
    "plt.plot(np.arange(bpmin,bpmax,bpdiff/binnum),bpbin,lw=3.0,c='blue',label=r'$G_{BP}$')\n",
    "plt.plot(np.arange(gmin,gmax,gdiff/binnum),gbin,lw=3.0,c='green',label=r'$G$')\n",
    "plt.plot(np.arange(rpmin,rpmax,rpdiff/binnum),rpbin,lw=3.0,c='red',label=r'$G_{RP}$')\n",
    "plt.legend()\n",
    "plt.ylim(bottom=-3.0)\n",
    "plt.xlabel('Magnitude')\n",
    "plt.ylabel('Log(Error)')\n",
    "plt.savefig('../plots/gaiaerrorcurve.pdf',dpi=300,bbox_inches='tight');"
   ]
  },
  {
   "cell_type": "code",
   "execution_count": 14,
   "metadata": {},
   "outputs": [],
   "source": [
    "from scipy.interpolate import BSpline\n",
    "\n",
    "\n",
    "teff_tck = (np.array([3527.46704102, 3527.46704102, 3527.46704102, 3527.46704102, 3708.91847923, 3890.36991744, \n",
    "                      4071.82144442, 4253.27263849, 4434.72434304, 4616.17578125, 4797.62695312, 4979.07848011,\n",
    "                      5160.53018466, 5341.98144531, 5523.43261719, 5523.43261719, 5523.43261719, 5523.43261719]),\n",
    "            np.array([ -36.38271977,  -43.37201334,  -17.08585409,   67.8896712 , 69.84606503,  100.46933976,  \n",
    "                      103.94758719,   75.90855137,60.21227975,   -5.14343676,   -6.42134699,  217.36965544,\n",
    "                      -447.26168354, -197.7697192 ,    0.        ,    0.        , 0.        ,    0.        ]),3)\n",
    "\n",
    "\n",
    "tcorr_spl = BSpline(teff_tck[0],teff_tck[1],teff_tck[2])\n",
    "\n",
    "tcorr = tcorr_spl(lmcdr17['FPARAM'][:,0])+lmcdr17['FPARAM'][:,0]\n",
    "\n",
    "mh_tck = (np.array([-2.21858025e+00, -2.21858025e+00, -2.21858025e+00, -2.21858025e+00, -1.96716837e+00,\n",
    "                    -1.71575650e+00, -1.46434463e+00, -1.21293276e+00, -9.61520889e-01, -7.10109077e-01,\n",
    "                    -4.58697175e-01, -2.07285313e-01, 4.41265486e-02, 2.95538409e-01, 5.46950281e-01, \n",
    "                    5.46950281e-01, 5.46950281e-01, 5.46950281e-01]),\n",
    "          np.array([1.12848696e+02, 1.00546777e+02, 1.15992357e+02, 9.79509398e+01, 3.87315323e+01, \n",
    "                    1.86357031e+01, -1.50821811e+01, 1.21509274e+01, 6.69424869e+00, -2.90025110e+00,\n",
    "                    -2.68067104e+01, -3.13392475e+01, -8.25826363e+01,-6.49082047e+01, 0.00000000e+00, \n",
    "                    0.00000000e+00, 0.00000000e+00, 0.00000000e+00]),3)\n",
    "\n",
    "teff_cal = BSpline(mh_tck[0],mh_tck[1],mh_tck[2])(lmcdr17['FPARAM'][:,3])+tcorr"
   ]
  },
  {
   "cell_type": "code",
   "execution_count": 15,
   "metadata": {},
   "outputs": [
    {
     "data": {
      "text/plain": [
       "(array([   1,    2,    3,    4,   24,   25,   29,   33,   36,   38,   43,\n",
       "          72,   83,   85,   87,   97,  112,  115,  122,  123,  130,  131,\n",
       "         137,  142,  148,  157,  160,  162,  163,  171,  187,  196,  211,\n",
       "         335,  346,  363,  376,  379,  396,  404,  431,  438,  440,  460,\n",
       "         463,  467,  473,  474,  477,  478,  482,  489,  491,  502,  515,\n",
       "         526,  527,  533,  546,  556,  560,  569,  572,  576,  578,  581,\n",
       "         586,  587,  588,  591,  595,  603,  612,  618,  620,  640,  641,\n",
       "         659,  665,  668,  679,  680,  687,  697,  705,  708,  709,  714,\n",
       "         716,  735,  746,  750,  774,  777,  792,  797,  803,  809,  816,\n",
       "         823,  827,  837,  846,  859,  860,  866,  870,  877,  883,  884,\n",
       "         886,  892,  894,  901,  905,  913,  925,  929,  940,  948,  953,\n",
       "         961,  970,  971,  984,  985,  987,  990,  994,  998, 1009, 1024,\n",
       "        1032, 1040, 1046, 1052, 1057, 1074, 1107, 1113, 1119, 1137, 1138,\n",
       "        1143, 1145, 1158, 1159, 1166, 1171, 1177, 1209, 1213, 1216, 1219,\n",
       "        1230, 1251, 1269, 1285, 1289, 1295, 1315, 1316, 1317, 1329, 1330,\n",
       "        1334, 1335, 1336, 1345, 1360, 1362, 1389, 1398, 1404, 1409, 1414,\n",
       "        1445, 1483, 1512, 1513, 1519, 1580, 1596, 1634, 1662, 1674, 1695,\n",
       "        1696, 1697, 1702, 1725, 1729, 1735, 1737, 1761, 1763, 1764, 1852,\n",
       "        1861, 1877, 1900, 1940, 1941, 1987, 1992, 1993, 2005, 2098, 2109,\n",
       "        2111, 2126, 2132, 2134, 2177, 2183, 2284, 2289, 2324, 2364, 2392,\n",
       "        2405, 2413, 2415, 2446, 2459, 2462, 2491, 2510, 2548, 2588, 2596,\n",
       "        2606, 2637, 2660, 2669, 2727, 2734, 2759, 2841, 2846, 2851, 2858,\n",
       "        2900, 2916, 2921, 2932, 2950, 2971, 2983, 3007, 3047, 3072, 3095,\n",
       "        3102, 3110, 3115, 3132, 3137, 3139, 3169, 3172, 3195, 3196, 3214,\n",
       "        3230, 3268, 3272, 3284, 3294, 3320, 3330, 3338, 3340, 3341, 3351,\n",
       "        3374, 3375, 3399, 3400, 3407, 3411, 3424, 3452, 3478, 3497, 3506,\n",
       "        3515, 3530, 3545, 3546, 3547, 3549, 3560, 3561, 3562, 3565, 3568,\n",
       "        3574, 3582, 3586, 3589, 3592, 3594, 3596, 3606, 3612, 3613, 3616,\n",
       "        3619, 3625, 3637, 3642, 3646, 3668, 3674, 3678, 3682, 3683, 3688,\n",
       "        3689, 3694, 3697, 3727, 3728, 3730, 3731, 3735, 3779, 3786, 3803,\n",
       "        3809, 3815, 3827, 3828, 3834, 3836, 3863, 3865, 3868, 3870, 3871,\n",
       "        3875, 3877, 3879, 3893, 3901, 3906, 3913, 3923, 3925, 3956, 3961,\n",
       "        3988, 3992, 3993, 3994, 3996, 4000, 4009, 4013, 4014, 4015, 4034,\n",
       "        4038, 4039, 4061, 4064, 4067, 4069, 4078, 4121, 4140, 4257, 4366,\n",
       "        4382, 4384, 4429, 4453, 4474, 4499, 4500, 4513, 4523, 4526, 4534,\n",
       "        4542, 4543, 4563, 4567, 4569, 4571, 4586, 4591, 4596, 4620, 4628,\n",
       "        4661, 4671, 4735, 4764, 4792, 4819, 4837, 4842, 4847, 4855, 4866,\n",
       "        4870, 4880, 4903, 4911, 4923, 4933, 4936, 4954, 4974, 4978, 5016,\n",
       "        5024, 5034, 5057, 5062, 5068, 5069, 5071, 5079, 5088, 5102, 5108,\n",
       "        5112, 5120, 5127, 5138, 5152, 5153, 5161, 5167, 5184, 5189, 5198,\n",
       "        5200, 5202, 5207, 5211, 5223, 5264, 5267, 5283, 5292, 5301, 5304,\n",
       "        5306, 5313, 5330, 5333, 5341, 5354, 5363, 5364, 5389, 5423, 5425,\n",
       "        5432, 5434, 5436, 5459, 5480, 5544, 5671, 5679, 5697, 5749, 5765,\n",
       "        5781, 5803, 5813, 5816, 5837, 5848, 5850, 5867, 5870, 5877, 5878,\n",
       "        5891, 5893, 5896, 5915, 5928, 5930, 5951, 5954, 5958, 5966, 6023,\n",
       "        6070, 6087]),)"
      ]
     },
     "execution_count": 15,
     "metadata": {},
     "output_type": "execute_result"
    }
   ],
   "source": [
    "agetab = fits.getdata('lmc_dr17_lm_calteff_31AUG2022.fits')\n",
    "ygridage = np.where(agetab['AGE']==0.0)\n",
    "ygridage"
   ]
  },
  {
   "cell_type": "code",
   "execution_count": 16,
   "metadata": {
    "scrolled": false
   },
   "outputs": [
    {
     "data": {
      "text/plain": [
       "(array([389.,   0.,   0.,   0.,   0.,   0.,   3.,   9.,   6.,   6.]),\n",
       " array([0. , 0.2, 0.4, 0.6, 0.8, 1. , 1.2, 1.4, 1.6, 1.8, 2. ]),\n",
       " <BarContainer object of 10 artists>)"
      ]
     },
     "execution_count": 16,
     "metadata": {},
     "output_type": "execute_result"
    },
    {
     "data": {
      "image/png": "[encoded data removed]",
      "text/plain": [
       "<Figure size 432x288 with 1 Axes>"
      ]
     },
     "metadata": {
      "needs_background": "light"
     },
     "output_type": "display_data"
    }
   ],
   "source": [
    "plt.hist(agetab['AGE'][np.where(agetab['EXT'][:,1]==999999.0)],range=(0,2))"
   ]
  },
  {
   "cell_type": "code",
   "execution_count": 17,
   "metadata": {},
   "outputs": [
    {
     "data": {
      "text/plain": [
       "(array([   1,    2,    3,    4,   29,   36,   43,   72,   83,   85,   87,\n",
       "         112,  115,  123,  130,  131,  137,  142,  148,  157,  160,  162,\n",
       "         163,  187,  211,  282,  329,  333,  335,  341,  356,  363,  376,\n",
       "         379,  404,  431,  440,  463,  467,  473,  474,  482,  487,  489,\n",
       "         491,  502,  515,  520,  526,  527,  533,  546,  556,  560,  568,\n",
       "         569,  576,  578,  581,  586,  587,  588,  591,  595,  603,  612,\n",
       "         618,  620,  641,  659,  665,  668,  679,  680,  687,  697,  705,\n",
       "         708,  714,  716,  735,  746,  750,  777,  792,  803,  816,  823,\n",
       "         827,  837,  846,  859,  860,  866,  870,  877,  894,  901,  905,\n",
       "         911,  913,  925,  929,  937,  940,  948,  953,  959,  970,  971,\n",
       "         984,  985,  990,  994, 1024, 1032, 1040, 1046, 1052, 1057, 1107,\n",
       "        1113, 1138, 1143, 1145, 1158, 1159, 1166, 1171, 1177, 1209, 1213,\n",
       "        1216, 1219, 1230, 1251, 1252, 1264, 1269, 1278, 1285, 1289, 1295,\n",
       "        1302, 1308, 1315, 1317, 1329, 1334, 1335, 1336, 1345, 1360, 1362,\n",
       "        1363, 1365, 1368, 1398, 1404, 1409, 1414, 1442, 1445, 1478, 1501,\n",
       "        1510, 1512, 1513, 1519, 1532, 1563, 1584, 1596, 1634, 1662, 1695,\n",
       "        1696, 1697, 1703, 1735, 1761, 1764, 1805, 1852, 1861, 1877, 1900,\n",
       "        1941, 1993, 2109, 2111, 2126, 2132, 2134, 2160, 2284, 2304, 2305,\n",
       "        2315, 2324, 2332, 2364, 2384, 2392, 2395, 2405, 2413, 2415, 2431,\n",
       "        2446, 2462, 2466, 2472, 2475, 2480, 2481, 2482, 2485, 2491, 2510,\n",
       "        2537, 2588, 2596, 2606, 2637, 2727, 2734, 2774, 2776, 2777, 2781,\n",
       "        2787, 2788, 2789, 2795, 2829, 2832, 2835, 2841, 2846, 2847, 2851,\n",
       "        2861, 2865, 2885, 2886, 2891, 2895, 2900, 2902, 2903, 2909, 2914,\n",
       "        2916, 2921, 2928, 2932, 2941, 2950, 2971, 2972, 2983, 3007, 3047,\n",
       "        3049, 3063, 3081, 3088, 3095, 3102, 3110, 3130, 3132, 3139, 3153,\n",
       "        3168, 3172, 3187, 3195, 3196, 3230, 3243, 3268, 3272, 3284, 3294,\n",
       "        3321, 3326, 3330, 3341, 3342, 3351, 3352, 3374, 3375, 3399, 3400,\n",
       "        3405, 3407, 3411, 3413, 3424, 3478, 3497, 3515, 3530, 3545, 3546,\n",
       "        3549, 3562, 3565, 3568, 3574, 3582, 3586, 3589, 3592, 3594, 3596,\n",
       "        3606, 3613, 3619, 3625, 3637, 3642, 3668, 3674, 3676, 3678, 3682,\n",
       "        3688, 3689, 3692, 3694, 3696, 3698, 3709, 3727, 3728, 3730, 3731,\n",
       "        3733, 3734, 3735, 3738, 3748, 3762, 3771, 3774, 3779, 3786, 3803,\n",
       "        3805, 3809, 3815, 3827, 3828, 3834, 3836, 3837, 3843, 3863, 3865,\n",
       "        3868, 3870, 3871, 3879, 3901, 3906, 3913, 3923, 3925, 3956, 3961,\n",
       "        3988, 3992, 3994, 4000, 4013, 4014, 4034, 4038, 4039, 4061, 4064,\n",
       "        4067, 4069, 4140, 4257, 4269, 4315, 4366, 4382, 4399, 4402, 4408,\n",
       "        4416, 4429, 4431, 4433, 4434, 4435, 4436, 4453, 4459, 4474, 4475,\n",
       "        4500, 4505, 4513, 4516, 4523, 4530, 4534, 4543, 4563, 4569, 4576,\n",
       "        4586, 4591, 4605, 4620, 4622, 4628, 4631, 4637, 4641, 4645, 4652,\n",
       "        4654, 4655, 4656, 4661, 4662, 4667, 4671, 4677, 4678, 4682, 4684,\n",
       "        4691, 4696, 4705, 4718, 4720, 4724, 4726, 4729, 4738, 4741, 4747,\n",
       "        4748, 4758, 4760, 4762, 4764, 4769, 4773, 4777, 4794, 4796, 4816,\n",
       "        4819, 4831, 4841, 4847, 4866, 4870, 4880, 4895, 4903, 4908, 4909,\n",
       "        4910, 4923, 4933, 4936, 4954, 4960, 4974, 4978, 4982, 4987, 4997,\n",
       "        5013, 5016, 5024, 5034, 5038, 5052, 5057, 5059, 5062, 5068, 5071,\n",
       "        5079, 5083, 5084, 5086, 5088, 5096, 5100, 5102, 5112, 5120, 5123,\n",
       "        5127, 5131, 5134, 5138, 5140, 5141, 5147, 5148, 5151, 5153, 5154,\n",
       "        5167, 5177, 5178, 5182, 5184, 5192, 5197, 5198, 5200, 5202, 5203,\n",
       "        5211, 5223, 5264, 5267, 5270, 5275, 5280, 5283, 5292, 5301, 5304,\n",
       "        5306, 5309, 5313, 5330, 5333, 5334, 5341, 5354, 5363, 5364, 5378,\n",
       "        5379, 5389, 5395, 5406, 5423, 5425, 5432, 5434, 5436, 5448, 5480,\n",
       "        5491, 5492, 5496, 5497, 5509, 5512, 5519, 5539, 5544, 5567, 5584,\n",
       "        5615, 5616, 5623, 5671, 5679, 5697, 5733, 5749, 5765, 5781, 5803,\n",
       "        5813, 5816, 5837, 5848, 5850, 5851, 5867, 5877, 5878, 5891, 5896,\n",
       "        5915, 5928, 5930, 5937, 5951, 5958, 6058, 6070, 6087, 6090]),)"
      ]
     },
     "execution_count": 17,
     "metadata": {},
     "output_type": "execute_result"
    }
   ],
   "source": [
    "grid_ext = np.where(agetab['EXT'][:,1]==999999.0)\n",
    "grid_ext"
   ]
  },
  {
   "cell_type": "markdown",
   "metadata": {},
   "source": [
    "# Star"
   ]
  },
  {
   "cell_type": "code",
   "execution_count": 23,
   "metadata": {},
   "outputs": [
    {
     "name": "stdout",
     "output_type": "stream",
     "text": [
      "['2M04501902-6843319']\n"
     ]
    }
   ],
   "source": [
    "# star = np.where(lmcdr17['APOGEE_ID']=='2M04593466-7058582')\n",
    "\n",
    "# # star = np.where(lmcdr17['APOGEE_ID']=='2M05200753-6945446')\n",
    "# # star\n",
    "\n",
    "# star = np.where(lmcdr17['APOGEE_ID']==lmcdr17['APOGEE_ID'][ygridage][131])\n",
    "# star\n",
    "\n",
    "star = np.where(lmcdr17['APOGEE_ID']==agetab['NAME'][1024])\n",
    "print(lmcdr17['APOGEE_ID'][star])"
   ]
  },
  {
   "cell_type": "code",
   "execution_count": 24,
   "metadata": {},
   "outputs": [
    {
     "data": {
      "text/plain": [
       "array([[999999., 999999., 999999., 999999., 999999., 999999.]])"
      ]
     },
     "execution_count": 24,
     "metadata": {},
     "output_type": "execute_result"
    }
   ],
   "source": [
    "agetab['EXT'][star]"
   ]
  },
  {
   "cell_type": "code",
   "execution_count": 60,
   "metadata": {
    "scrolled": false
   },
   "outputs": [
    {
     "name": "stdout",
     "output_type": "stream",
     "text": [
      "<bound method Aetas.extcoeff of <__main__.Aetas object at 0x7f8cbbab05b0>>\n",
      "Running Aetas.extinction()\n",
      "Salaris Corrected Metallicity: -1.3209730415953915\n",
      "Temperature: [3794.41372978]\n",
      "Observed Colors: [0.97729874 0.94950008 2.2449007  3.07290077 3.21590042]\n",
      "Observed Color Errors: [0.00639412 0.0050329  0.02218011 0.02218011 0.02317233]\n",
      "I'm Here !!!!!!!\n",
      "Now I'm Here!!!!!!!\n",
      "Isochrone Colors: [0.90436806 0.9306438  2.1898666  3.00569846 3.16339298]\n",
      "A(G)+ Error: 0.08167928173795311 0.03390352341140829\n",
      "All Extinctions: [0.0995032  0.08167928 0.06289792 0.02798411 0.01772605 0.01123771]\n",
      "chisq: 74.90034343983793\n",
      "resid: [ 5.51067622e-02  7.49178143e-05  1.33893268e-03  3.24907893e-03\n",
      " -1.79341364e-02]\n",
      "Running Aetas.get_age()\n",
      "guess_ages: [1.20000000e-02 3.47893878e+00 6.94587755e+00 1.04128163e+01\n",
      " 1.38797551e+01]\n",
      "outside iso_lo\n",
      "Age 0.02499999950079735\n",
      "max iso_lo 3.6634\n",
      "min iso_lo 3.6492\n",
      "Teff [3.57914468]\n",
      "Lower - Teff [664.2015497]\n",
      "outside iso_lo\n",
      "Age 0.02499999950079735\n",
      "max iso_lo 3.6634\n",
      "min iso_lo 3.6492\n",
      "Teff [3.57914468]\n",
      "Lower - Teff [664.2015497]\n",
      "outside iso_lo\n",
      "Age 0.02499999950079735\n",
      "max iso_lo 3.6634\n",
      "min iso_lo 3.6492\n",
      "Teff [3.57914468]\n",
      "Lower - Teff [664.2015497]\n",
      "outside iso_lo\n",
      "Age 0.02499999950079735\n",
      "max iso_lo 3.6634\n",
      "min iso_lo 3.6492\n",
      "Teff [3.57914468]\n",
      "Lower - Teff [664.2015497]\n",
      "outside iso_lo\n",
      "Age 0.02499999950079735\n",
      "max iso_lo 3.6634\n",
      "min iso_lo 3.6492\n",
      "Teff [3.57914468]\n",
      "Lower - Teff [664.2015497]\n",
      "Calc App Mags + logg: [999999. 999999. 999999. 999999. 999999. 999999. 999999.]\n",
      "1 0.012 0.012 3.656855793688002e+16 5.028264620161781\n",
      "outside iso_lo\n",
      "Age 3.4749615216713865\n",
      "max iso_lo 3.744\n",
      "min iso_lo 3.6211\n",
      "Teff [3.57914468]\n",
      "Lower - Teff [384.85213743]\n",
      "outside iso_lo\n",
      "Age 3.4749615216713865\n",
      "max iso_lo 3.744\n",
      "min iso_lo 3.6211\n",
      "Teff [3.57914468]\n",
      "Lower - Teff [384.85213743]\n",
      "outside iso_lo\n",
      "Age 3.4749615216713865\n",
      "max iso_lo 3.744\n",
      "min iso_lo 3.6211\n",
      "Teff [3.57914468]\n",
      "Lower - Teff [384.85213743]\n",
      "outside iso_lo\n",
      "Age 3.4749615216713865\n",
      "max iso_lo 3.744\n",
      "min iso_lo 3.6211\n",
      "Teff [3.57914468]\n",
      "Lower - Teff [384.85213743]\n",
      "outside iso_lo\n",
      "Age 3.4749615216713865\n",
      "max iso_lo 3.744\n",
      "min iso_lo 3.6211\n",
      "Teff [3.57914468]\n",
      "Lower - Teff [384.85213743]\n",
      "Calc App Mags + logg: [999999. 999999. 999999. 999999. 999999. 999999. 999999.]\n",
      "2 3.478938775510204 3.478938775510204 3.656855793688002e+16 5.028264620161781\n",
      "Calc App Mags + logg: [ 10.98971316  10.73748915   8.30880536  -8.1863368  -25.87490191\n",
      "  -0.98832781  -1.41128819]\n",
      "3 6.945877551020407 6.937928631211545 5379615.319073152 12.002870857666824\n",
      "Calc App Mags + logg: [16.05907482 15.01209058 13.99479253 12.80293066 11.71189623 11.52179682\n",
      " -0.04646918]\n",
      "4 10.412816326530612 10.699907244816833 20386.773754067788 0.1393374357330063\n",
      "Calc App Mags + logg: [14.67853097 13.83969609 12.87310995 11.62590825 11.02539141 10.7057981\n",
      " -0.34215144]\n",
      "5 13.879755102040816 13.899653187008601 132517.88687729288 0.3547345901875062\n",
      "Best Fit Age, chi, RMS: 10.699907244816833 20386.773754067788 0.1393374357330063\n"
     ]
    }
   ],
   "source": [
    "star_ext = 999999.0*np.ones(6)\n",
    "star_ext_err = 999999.0*np.ones(6)\n",
    "star_age = 999999.0\n",
    "star_chi = 999999.0\n",
    "star_rms = 999999.0\n",
    "star_mass = 999999.0\n",
    "    \n",
    "# Initialize Aetas \n",
    "te = np.array([teff_cal[star],lmcdr17['TEFF_ERR'][star]])\n",
    "\n",
    "lg = np.array([lmcdr17['LOGG'][star],lmcdr17['LOGG_ERR'][star]])\n",
    "\n",
    "ab = np.array([lmcdr17['FE_H'][star],apoafe[star],\n",
    "               lmcdr17['FE_H_ERR'][star],apoafe_err[star]]).reshape((2,2)).T\n",
    "\n",
    "op = np.array([lmcdr17['GAIAEDR3_PHOT_BP_MEAN_MAG'][star],\n",
    "               lmcdr17['GAIAEDR3_PHOT_G_MEAN_MAG'][star],\n",
    "               lmcdr17['GAIAEDR3_PHOT_RP_MEAN_MAG'][star],\n",
    "               lmcdr17['J'][star],lmcdr17['H'][star],lmcdr17['K'][star],\n",
    "               bperr[star],gerr[star],rperr[star],lmcdr17['J_ERR'][star],\n",
    "               lmcdr17['H_ERR'][star],lmcdr17['K_ERR'][star]]).reshape((2,6)).T\n",
    "\n",
    "di = lmcdis[star]*1000\n",
    "\n",
    "CalcAge = Aetas(te,lg,ab,op,di,massive,debug=True,teff_extrapolation_limit=300)\n",
    "\n",
    "print(CalcAge.extcoeff)\n",
    "\n",
    "exts = CalcAge.extinction()\n",
    "star_ext,star_ext_err = exts[:,0],exts[:,1]\n",
    "\n",
    "star_age,star_chi,star_rms = CalcAge.get_age()\n",
    "# star_mass = CalcAge.age_2_mass(star_age)"
   ]
  },
  {
   "cell_type": "code",
   "execution_count": 54,
   "metadata": {},
   "outputs": [
    {
     "data": {
      "text/plain": [
       "array([0.0995032 , 0.08167928, 0.06289792, 0.02798411, 0.01772605,\n",
       "       0.01123771])"
      ]
     },
     "execution_count": 54,
     "metadata": {},
     "output_type": "execute_result"
    }
   ],
   "source": [
    "star_ext"
   ]
  },
  {
   "cell_type": "code",
   "execution_count": 19,
   "metadata": {},
   "outputs": [],
   "source": [
    "# star_iso.columns "
   ]
  },
  {
   "cell_type": "code",
   "execution_count": 20,
   "metadata": {},
   "outputs": [
    {
     "data": {
      "text/plain": [
       "521.05"
      ]
     },
     "execution_count": 20,
     "metadata": {},
     "output_type": "execute_result"
    }
   ],
   "source": [
    "85*1000*6130/10**6"
   ]
  },
  {
   "cell_type": "code",
   "execution_count": 21,
   "metadata": {},
   "outputs": [
    {
     "ename": "NameError",
     "evalue": "name 'iso_feh' is not defined",
     "output_type": "error",
     "traceback": [
      "\u001b[0;31m---------------------------------------------------------------------------\u001b[0m",
      "\u001b[0;31mNameError\u001b[0m                                 Traceback (most recent call last)",
      "\u001b[0;32m<ipython-input-21-21672e29c3b1>\u001b[0m in \u001b[0;36m<module>\u001b[0;34m\u001b[0m\n\u001b[0;32m----> 1\u001b[0;31m \u001b[0miso_feh\u001b[0m\u001b[0;34m\u001b[0m\u001b[0;34m\u001b[0m\u001b[0m\n\u001b[0m",
      "\u001b[0;31mNameError\u001b[0m: name 'iso_feh' is not defined"
     ]
    }
   ],
   "source": [
    "iso_feh"
   ]
  },
  {
   "cell_type": "code",
   "execution_count": 22,
   "metadata": {},
   "outputs": [
    {
     "data": {
      "text/plain": [
       "9.841322579054841"
      ]
     },
     "execution_count": 22,
     "metadata": {},
     "output_type": "execute_result"
    }
   ],
   "source": [
    "np.log10(star_age*10**9)"
   ]
  },
  {
   "cell_type": "code",
   "execution_count": 23,
   "metadata": {},
   "outputs": [
    {
     "data": {
      "image/png": "[encoded data removed]",
      "text/plain": [
       "<Figure size 5040x720 with 7 Axes>"
      ]
     },
     "metadata": {
      "needs_background": "light"
     },
     "output_type": "display_data"
    }
   ],
   "source": [
    "star_iso = massive[np.where((massive['MH']==closest(massive['MH'],salfeh[star]))&\n",
    "                            (massive['logAge']==closest(massive['logAge'],np.log10(star_age*10**9))))]\n",
    "\n",
    "star_name = lmcdr17['APOGEE_ID'][star]\n",
    "star_salfeh = salfeh[star]\n",
    "iso_age = 10**closest(massive['logAge'],np.log10(star_age*10**9))/10**9\n",
    "iso_feh = closest(massive['MH'],salfeh[star])\n",
    "\n",
    "plt.figure(figsize=[70,10])\n",
    "plt.subplot(171)\n",
    "plt.scatter(10**star_iso['logTe'],star_iso['logg'],s=10)\n",
    "plt.scatter(lmcdr17['TEFF'][star],lmcdr17['LOGG'][star])\n",
    "plt.gca().invert_xaxis()\n",
    "plt.gca().invert_yaxis()\n",
    "plt.xlabel(r'Teff')\n",
    "plt.ylabel(r'Log(g)')\n",
    "\n",
    "plt.subplot(172)\n",
    "plt.scatter(10**star_iso['logTe'],star_iso['G_BPEDR3mag'],s=10)\n",
    "plt.scatter(lmcdr17['TEFF'][star],\n",
    "            lmcdr17['GAIAEDR3_PHOT_BP_MEAN_MAG'][star]-star_ext[0]-5*np.log10(lmcdis[star]*1000)+5)\n",
    "plt.gca().invert_xaxis()\n",
    "plt.gca().invert_yaxis()\n",
    "plt.xlabel(r'Teff')\n",
    "plt.ylabel(r'BP')\n",
    "\n",
    "plt.subplot(173)\n",
    "plt.scatter(10**star_iso['logTe'],star_iso['GEDR3mag'],s=10)\n",
    "plt.scatter(lmcdr17['TEFF'][star],\n",
    "            lmcdr17['GAIAEDR3_PHOT_G_MEAN_MAG'][star]-star_ext[1]-5*np.log10(lmcdis[star]*1000)+5)\n",
    "plt.gca().invert_xaxis()\n",
    "plt.gca().invert_yaxis()\n",
    "plt.xlabel(r'Teff')\n",
    "plt.ylabel(r'G')\n",
    "\n",
    "plt.subplot(174)\n",
    "plt.scatter(10**star_iso['logTe'],star_iso['G_RPEDR3mag'],s=10)\n",
    "plt.scatter(lmcdr17['TEFF'][star],\n",
    "            lmcdr17['GAIAEDR3_PHOT_RP_MEAN_MAG'][star]-star_ext[2]-5*np.log10(lmcdis[star]*1000)+5)\n",
    "plt.gca().invert_xaxis()\n",
    "plt.gca().invert_yaxis()\n",
    "plt.xlabel(r'Teff')\n",
    "plt.ylabel(r'RP')\n",
    "\n",
    "plt.subplot(175)\n",
    "plt.scatter(10**star_iso['logTe'],star_iso['Jmag'],s=10)\n",
    "plt.scatter(lmcdr17['TEFF'][star],lmcdr17['J'][star]-star_ext[3]-5*np.log10(lmcdis[star]*1000)+5)\n",
    "plt.gca().invert_xaxis()\n",
    "plt.gca().invert_yaxis()\n",
    "plt.xlabel(r'Teff')\n",
    "plt.ylabel(r'J')\n",
    "\n",
    "plt.subplot(176)\n",
    "plt.scatter(10**star_iso['logTe'],star_iso['Hmag'],s=10)\n",
    "plt.scatter(lmcdr17['TEFF'][star],lmcdr17['H'][star]-star_ext[4]-5*np.log10(lmcdis[star]*1000)+5)\n",
    "plt.gca().invert_xaxis()\n",
    "plt.gca().invert_yaxis()\n",
    "plt.xlabel(r'Teff')\n",
    "plt.ylabel(r'H')\n",
    "\n",
    "plt.subplot(177)\n",
    "plt.scatter(10**star_iso['logTe'],star_iso['Ksmag'],s=10)\n",
    "plt.scatter(lmcdr17['TEFF'][star],lmcdr17['K'][star]-star_ext[5]-5*np.log10(lmcdis[star]*1000)+5)\n",
    "plt.gca().invert_xaxis()\n",
    "plt.gca().invert_yaxis()\n",
    "plt.xlabel(r'Teff')\n",
    "plt.ylabel(r'Ks')\n",
    "\n",
    "plt.suptitle(r'{} Calc Age: {:.3f}; Iso Age: {:.3f}; Sal [Fe/H]: {:.3f}; Iso [Fe/H]'.format(star_name[0],float(star_age),float(iso_age),float(star_salfeh),float(iso_feh)))\n",
    "\n",
    "plt.savefig('{}.png'.format(str(star_name)),bbox_inches='tight')\n",
    "plt.show()"
   ]
  },
  {
   "cell_type": "code",
   "execution_count": 24,
   "metadata": {},
   "outputs": [
    {
     "data": {
      "text/plain": [
       "(chararray(['2M04593466-7058582'], dtype='<U18'),\n",
       " 6.9394105026591,\n",
       " 6.925003544081933,\n",
       " array([-0.8629866], dtype=float32),\n",
       " -0.86)"
      ]
     },
     "execution_count": 24,
     "metadata": {},
     "output_type": "execute_result"
    }
   ],
   "source": [
    "star_name,star_age,iso_age,star_salfeh,iso_feh"
   ]
  },
  {
   "cell_type": "code",
   "execution_count": 25,
   "metadata": {},
   "outputs": [
    {
     "data": {
      "text/plain": [
       "array([[-0.83126   ],\n",
       "       [-0.049101  ],\n",
       "       [ 0.01894066],\n",
       "       [ 0.83151686]], dtype=float32)"
      ]
     },
     "execution_count": 25,
     "metadata": {},
     "output_type": "execute_result"
    }
   ],
   "source": [
    "np.array([lmcdr17['FE_H'][star],apoafe[star],\n",
    "               lmcdr17['FE_H_ERR'][star],apoafe_err[star]])"
   ]
  },
  {
   "cell_type": "code",
   "execution_count": 26,
   "metadata": {},
   "outputs": [
    {
     "name": "stdout",
     "output_type": "stream",
     "text": [
      "[-33.57341185]\n"
     ]
    }
   ],
   "source": [
    "test_feh = massive[np.where(massive['MH']==closest(massive['MH'],lmcdr17['FE_H'][star]))]\n",
    "print(10**np.nanmin(test_feh['logTe'])-teff_cal[star])"
   ]
  },
  {
   "cell_type": "code",
   "execution_count": 27,
   "metadata": {},
   "outputs": [
    {
     "data": {
      "text/plain": [
       "array([9.99999000e+05, 9.99999000e+05, 9.99999000e+05, 9.99999000e+05,\n",
       "       9.16758054e-02, 7.29004073e-01, 9.99999000e+05, 1.00008905e-01,\n",
       "       9.99999000e+05, 1.58916596e-01, 9.99999000e+05, 9.99999000e+05,\n",
       "       9.99999000e+05, 9.99999000e+05, 9.99999000e+05, 2.87992893e-01,\n",
       "       9.99999000e+05, 9.99999000e+05, 2.21488885e-01, 9.99999000e+05,\n",
       "       9.99999000e+05, 9.99999000e+05, 9.99999000e+05, 9.99999000e+05,\n",
       "       9.99999000e+05, 9.99999000e+05, 9.99999000e+05, 9.99999000e+05,\n",
       "       9.99999000e+05, 1.16677482e-02, 9.99999000e+05, 4.38014817e-02,\n",
       "       9.99999000e+05, 9.99999000e+05, 3.63692676e-02, 9.99999000e+05,\n",
       "       9.99999000e+05, 9.99999000e+05, 1.72539056e-01, 9.99999000e+05,\n",
       "       9.99999000e+05, 2.75177455e-02, 9.99999000e+05, 3.01453778e-02,\n",
       "       9.99999000e+05, 9.99999000e+05, 9.99999000e+05, 9.99999000e+05,\n",
       "       1.82360548e-01, 2.93754902e-02, 9.99999000e+05, 9.99999000e+05,\n",
       "       9.99999000e+05, 9.99999000e+05, 9.99999000e+05, 9.99999000e+05,\n",
       "       9.99999000e+05, 9.99999000e+05, 9.99999000e+05, 9.99999000e+05,\n",
       "       9.99999000e+05, 9.99999000e+05, 1.16276285e-01, 9.99999000e+05,\n",
       "       9.99999000e+05, 9.99999000e+05, 9.99999000e+05, 9.99999000e+05,\n",
       "       9.99999000e+05, 9.99999000e+05, 9.99999000e+05, 9.99999000e+05,\n",
       "       9.99999000e+05, 9.99999000e+05, 9.99999000e+05, 7.25196938e-02,\n",
       "       9.99999000e+05, 9.99999000e+05, 9.99999000e+05, 9.99999000e+05,\n",
       "       9.99999000e+05, 9.99999000e+05, 9.99999000e+05, 9.99999000e+05,\n",
       "       9.99999000e+05, 9.99999000e+05, 1.94658480e-02, 9.99999000e+05,\n",
       "       9.99999000e+05, 9.99999000e+05, 9.99999000e+05, 9.99999000e+05,\n",
       "       3.92975071e-02, 9.99999000e+05, 9.99999000e+05, 7.40563829e-02,\n",
       "       9.99999000e+05, 8.23465670e-02, 9.99999000e+05, 9.99999000e+05,\n",
       "       9.99999000e+05, 9.99999000e+05, 9.99999000e+05, 9.99999000e+05,\n",
       "       9.99999000e+05, 9.99999000e+05, 9.99999000e+05, 9.99999000e+05,\n",
       "       6.78968721e-02, 1.10283110e-01, 1.11169947e-01, 3.76251628e-02,\n",
       "       9.99999000e+05, 9.99999000e+05, 9.99999000e+05, 9.99999000e+05,\n",
       "       9.99999000e+05, 9.99999000e+05, 9.99999000e+05, 9.99999000e+05,\n",
       "       9.99999000e+05, 5.12037092e-02, 9.99999000e+05, 9.99999000e+05,\n",
       "       9.99999000e+05, 9.99999000e+05, 2.27593062e-01, 9.99999000e+05,\n",
       "       9.99999000e+05, 2.66712553e-01, 1.18957992e-01, 9.99999000e+05,\n",
       "       9.99999000e+05, 9.99999000e+05, 9.99999000e+05, 9.99999000e+05,\n",
       "       9.99999000e+05, 3.74202253e-01, 9.99999000e+05, 9.99999000e+05,\n",
       "       5.26780315e-02, 1.13068018e-01, 9.99999000e+05, 9.99999000e+05,\n",
       "       9.99999000e+05, 9.99999000e+05, 9.99999000e+05, 9.99999000e+05,\n",
       "       9.99999000e+05, 9.99999000e+05, 9.99999000e+05, 9.99999000e+05,\n",
       "       9.99999000e+05, 9.99999000e+05, 9.99999000e+05, 9.99999000e+05,\n",
       "       9.99999000e+05, 9.99999000e+05, 9.99999000e+05, 9.99999000e+05,\n",
       "       9.99999000e+05, 1.31885182e-02, 9.99999000e+05, 9.99999000e+05,\n",
       "       3.66962198e-02, 9.99999000e+05, 9.99999000e+05, 9.99999000e+05,\n",
       "       9.99999000e+05, 9.99999000e+05, 9.99999000e+05, 2.45557580e-02,\n",
       "       9.99999000e+05, 9.99999000e+05, 9.99999000e+05, 9.99999000e+05,\n",
       "       9.99999000e+05, 2.07213006e-02, 9.99999000e+05, 9.99999000e+05,\n",
       "       9.99999000e+05, 3.34765918e-02, 9.99999000e+05, 9.99999000e+05,\n",
       "       9.99999000e+05, 5.62381830e-02, 9.99999000e+05, 9.99999000e+05,\n",
       "       9.99999000e+05, 1.16645413e-01, 8.80475817e-02, 2.10177921e-02,\n",
       "       9.99999000e+05, 4.14234599e-02, 9.99999000e+05, 4.69032104e-02,\n",
       "       9.99999000e+05, 9.99999000e+05, 9.99999000e+05, 9.99999000e+05,\n",
       "       9.99999000e+05, 4.27510217e-02, 9.99999000e+05, 2.35092415e-02,\n",
       "       1.34899307e-01, 9.99999000e+05, 1.18470638e-01, 4.36738913e-01,\n",
       "       9.99999000e+05, 9.99999000e+05, 9.99999000e+05, 9.99999000e+05,\n",
       "       9.99999000e+05, 1.63201730e-01, 2.36448760e-01, 9.99999000e+05,\n",
       "       1.54052226e-01, 9.99999000e+05, 9.99999000e+05, 9.99999000e+05,\n",
       "       9.99999000e+05, 9.99999000e+05, 9.99999000e+05, 9.99999000e+05,\n",
       "       2.83972921e-02, 9.99999000e+05, 9.99999000e+05, 9.99999000e+05,\n",
       "       8.73554865e-02, 9.99999000e+05, 9.99999000e+05, 9.99999000e+05,\n",
       "       9.99999000e+05, 1.49980818e-01, 1.21992468e-01, 9.99999000e+05,\n",
       "       9.99999000e+05, 1.16205162e-01, 9.99999000e+05, 9.99999000e+05,\n",
       "       9.99999000e+05, 1.29808967e-02, 9.99999000e+05, 9.99999000e+05,\n",
       "       9.99999000e+05, 9.99999000e+05, 9.99999000e+05, 9.99999000e+05,\n",
       "       9.99999000e+05, 9.99999000e+05, 9.99999000e+05, 1.08326431e-01,\n",
       "       9.99999000e+05, 9.99999000e+05, 9.99999000e+05, 5.53414283e-01,\n",
       "       9.99999000e+05, 1.28562145e-01, 9.99999000e+05, 1.22016677e-02,\n",
       "       9.99999000e+05, 9.99999000e+05, 9.99999000e+05, 1.09614495e-01,\n",
       "       9.99999000e+05, 9.99999000e+05, 9.99999000e+05, 9.99999000e+05,\n",
       "       9.99999000e+05, 5.65092059e-02, 9.99999000e+05, 7.61548468e-03,\n",
       "       2.26781466e-02, 9.99999000e+05, 9.99999000e+05, 9.99999000e+05,\n",
       "       9.99999000e+05, 9.99999000e+05, 9.99999000e+05, 9.99999000e+05,\n",
       "       9.99999000e+05, 9.99999000e+05, 3.07386644e-01, 9.99999000e+05,\n",
       "       9.99999000e+05, 1.00986340e-01, 9.99999000e+05, 9.99999000e+05,\n",
       "       9.99999000e+05, 9.99999000e+05, 1.15966382e-01, 9.99999000e+05,\n",
       "       4.51190837e-02, 2.04194535e-01, 9.99999000e+05, 9.99999000e+05,\n",
       "       9.99999000e+05, 9.99999000e+05, 9.99999000e+05, 9.99999000e+05,\n",
       "       9.99999000e+05, 9.99999000e+05, 9.99999000e+05, 9.99999000e+05,\n",
       "       9.99999000e+05, 1.40862265e-01, 9.99999000e+05, 1.94637513e-02,\n",
       "       9.99999000e+05, 9.99999000e+05, 9.99999000e+05, 9.99999000e+05,\n",
       "       1.00674171e-01, 9.99999000e+05, 9.99999000e+05, 9.99999000e+05,\n",
       "       9.99999000e+05, 2.10609261e-01, 9.99999000e+05, 9.99999000e+05,\n",
       "       9.99999000e+05, 1.65199963e-02, 9.99999000e+05, 9.99999000e+05,\n",
       "       9.99999000e+05, 9.99999000e+05, 9.99999000e+05, 9.99999000e+05,\n",
       "       9.99999000e+05, 9.99999000e+05, 9.99999000e+05, 9.99999000e+05,\n",
       "       9.99999000e+05, 9.99999000e+05, 9.99999000e+05, 9.99999000e+05,\n",
       "       9.99999000e+05, 9.99999000e+05, 9.99999000e+05, 9.99999000e+05,\n",
       "       9.99999000e+05, 2.21845461e-02, 2.65324086e-01, 9.99999000e+05,\n",
       "       7.46065859e-02, 9.99999000e+05, 9.99999000e+05, 9.99999000e+05,\n",
       "       9.99999000e+05, 9.99999000e+05, 9.99999000e+05, 9.99999000e+05,\n",
       "       9.99999000e+05, 9.99999000e+05, 1.76627288e-01, 9.99999000e+05,\n",
       "       6.29575532e-02, 9.99999000e+05, 1.69405866e-01, 9.99999000e+05,\n",
       "       9.99999000e+05, 1.82088482e-01, 9.99999000e+05, 9.99999000e+05,\n",
       "       9.99999000e+05, 9.99999000e+05, 9.99999000e+05, 9.99999000e+05,\n",
       "       9.99999000e+05, 5.48999822e-01, 3.74402624e-01, 9.99999000e+05,\n",
       "       9.99999000e+05, 9.99999000e+05, 9.99999000e+05, 5.36100980e-02,\n",
       "       9.99999000e+05, 9.99999000e+05, 9.99999000e+05, 1.12498078e-01,\n",
       "       9.99999000e+05, 9.99999000e+05, 9.99999000e+05, 1.87654512e-01,\n",
       "       9.99999000e+05, 2.05127729e-01, 9.99999000e+05, 9.99999000e+05,\n",
       "       6.46961282e-02, 9.99999000e+05, 8.06544401e-02, 9.99999000e+05,\n",
       "       9.99999000e+05, 2.45321811e-01, 9.99999000e+05, 9.99999000e+05,\n",
       "       9.99999000e+05, 9.99999000e+05, 1.09805075e-01, 9.99999000e+05,\n",
       "       1.88876903e-02, 9.99999000e+05, 1.08813113e-01, 9.60830394e-02,\n",
       "       9.99999000e+05, 1.09373508e-01, 9.99999000e+05, 9.99999000e+05,\n",
       "       9.99999000e+05, 9.99999000e+05, 5.65215629e-02, 9.99999000e+05,\n",
       "       9.99999000e+05, 9.99999000e+05, 9.99999000e+05, 9.99999000e+05,\n",
       "       9.99999000e+05, 9.99999000e+05, 9.99999000e+05, 9.99999000e+05,\n",
       "       9.99999000e+05, 9.99999000e+05, 9.99999000e+05, 2.40613619e-02,\n",
       "       9.99999000e+05, 9.99999000e+05, 9.99999000e+05, 9.99999000e+05,\n",
       "       1.10311735e-02, 9.99999000e+05, 9.99999000e+05, 9.99999000e+05,\n",
       "       9.99999000e+05, 1.85266991e-01, 9.99999000e+05, 1.65790284e-01,\n",
       "       9.99999000e+05, 9.99999000e+05, 2.74431129e-01, 9.99999000e+05,\n",
       "       9.99999000e+05, 9.99999000e+05, 7.61474092e-02, 9.99999000e+05,\n",
       "       9.99999000e+05, 9.99999000e+05, 9.99999000e+05, 9.99999000e+05,\n",
       "       9.99999000e+05, 9.99999000e+05, 9.99999000e+05, 9.99999000e+05,\n",
       "       9.99999000e+05, 9.99999000e+05, 9.99999000e+05, 9.99999000e+05,\n",
       "       9.99999000e+05, 9.99999000e+05, 9.99999000e+05, 9.99999000e+05,\n",
       "       9.99999000e+05, 9.99999000e+05, 9.99999000e+05, 9.99999000e+05,\n",
       "       9.99999000e+05, 7.45492054e-01, 9.99999000e+05, 9.99999000e+05,\n",
       "       9.99999000e+05, 9.99999000e+05, 9.99999000e+05, 9.99999000e+05,\n",
       "       9.99999000e+05, 9.99999000e+05, 9.99999000e+05, 9.99999000e+05,\n",
       "       9.99999000e+05, 9.99999000e+05, 9.99999000e+05, 9.99999000e+05,\n",
       "       9.99999000e+05, 8.29826504e-02, 9.99999000e+05, 9.99999000e+05,\n",
       "       9.99999000e+05, 1.18806769e-01, 9.99999000e+05, 9.99999000e+05,\n",
       "       9.99999000e+05, 9.99999000e+05, 9.99999000e+05, 1.29153957e-01,\n",
       "       9.99999000e+05, 3.18492162e-02, 2.80787394e-01, 9.99999000e+05,\n",
       "       9.99999000e+05])"
      ]
     },
     "execution_count": 27,
     "metadata": {},
     "output_type": "execute_result"
    }
   ],
   "source": [
    "agetab[ygridage]['EXT'][:,1]"
   ]
  },
  {
   "cell_type": "code",
   "execution_count": 28,
   "metadata": {},
   "outputs": [],
   "source": [
    "gridage_teffdiff = 999999.0*np.ones(len(np.squeeze(ygridage)))\n",
    "\n",
    "for i in range(len(lmcdr17[ygridage])):\n",
    "    iso_feh = massive[np.where(massive['MH']==closest(massive['MH'],lmcdr17['FE_H'][ygridage][i]))]\n",
    "    gridage_teffdiff[i] = 10**np.nanmin(iso_feh['logTe'])-teff_cal[ygridage][i] "
   ]
  },
  {
   "cell_type": "code",
   "execution_count": 29,
   "metadata": {
    "scrolled": false
   },
   "outputs": [
    {
     "name": "stdout",
     "output_type": "stream",
     "text": [
      "[ 1.11874548e+02  4.04733266e+01  5.09948898e+01  1.42820796e+01\n",
      " -1.77003848e+01 -2.67821581e+02  9.77139576e+01 -2.36468155e+01\n",
      "  5.26598554e+01 -8.10974157e+00  5.87771127e+01 -1.24663145e+01\n",
      "  3.57790561e+01  2.83014293e+01  2.21917889e+02 -3.96937949e+02\n",
      "  2.74696191e+01  6.39417982e+01 -1.19470421e+03  4.38277320e+01\n",
      "  1.48192662e+01  6.28691522e+02 -1.41904572e+01  2.56346083e+02\n",
      "  3.10865438e+01  7.87424693e+01  3.53461197e+01  1.76641372e+01\n",
      "  3.24562180e+02 -2.14819782e+01  5.20966295e+01 -6.54589195e-01\n",
      "  4.21653178e+01  3.69801750e+01 -2.63518209e+01  9.16842117e+01\n",
      "  6.39767163e+02  8.96037068e+01 -2.56687781e+02  1.40174351e+02\n",
      "  1.64449444e+01 -4.72085462e+01  7.70379970e+01  7.28733953e+00\n",
      "  3.27858360e+01  3.23679388e+01  5.85676339e+01  2.67071387e+02\n",
      " -1.78371314e+01 -2.90313075e+01  1.56032797e+01  3.67437079e+02\n",
      "  1.40619733e+02  2.56757530e+01  2.45046505e+01  2.30913189e+01\n",
      " -1.75486566e+01  1.76821687e+02  4.09498573e+01  8.87742323e+01\n",
      "  9.02619666e+01  4.45727095e+01 -2.02946155e+01  2.78333774e+02\n",
      "  1.49035805e+01  8.42324826e+01  8.33164750e+01  4.14004488e+01\n",
      "  1.40664046e+02 -5.75055002e+00  6.43922496e+00  2.01203048e+02\n",
      "  1.29945541e+02  8.24374046e+01  2.49875491e+02 -8.98207302e+00\n",
      "  1.30739018e+02  4.40321422e+01  1.16767048e+02  5.68329169e+01\n",
      "  5.74021400e+01  9.95442437e+01  9.13821921e+01 -3.50872105e+01\n",
      "  1.37446817e+02  1.82838754e+02 -1.69181094e+01  7.56908745e+01\n",
      " -1.17867144e+00  2.80646938e+01  3.68089502e+01  1.21517299e+02\n",
      " -1.86670879e+01  3.73509582e+01  1.76784397e+02 -1.34362059e+01\n",
      "  1.01557362e+02 -1.25958927e+01  5.40500509e+01 -8.66476882e+00\n",
      "  6.07103232e+01  1.39040712e+01 -2.95015992e+01 -1.46600743e+01\n",
      "  1.25003428e+01  3.06043229e+01  2.00350481e-02  1.10466427e+02\n",
      " -1.82780842e+01 -4.15090201e+01 -2.10158851e+02 -3.35734119e+01\n",
      "  1.06198151e+02 -2.17847583e+01  4.75363761e+01  4.77607647e+01\n",
      "  7.07377368e+01  6.51906900e+01  1.35640475e+01  1.35573049e+02\n",
      "  1.60195647e+02 -3.31922060e+01  1.17175750e+02  4.53980809e+01\n",
      "  7.56272778e+01  1.52862918e+02 -2.99465756e+02  1.17636675e+02\n",
      "  4.21838918e+01  3.91884050e+00 -4.16169970e+01  1.34748856e+02\n",
      "  5.21075420e+01  3.62297128e+02  7.87527810e+01  1.72268544e+02\n",
      "  7.69870304e+01 -1.63225473e+02  1.50152884e+01  8.91993798e+01\n",
      " -3.78628595e+01 -8.66021135e+00  1.82593789e+02  2.45493989e+01\n",
      "  2.86683064e+01  1.15645761e+02  3.17284336e+01  1.16975157e+02\n",
      "  8.69777854e+01 -1.94217013e+01  1.88764172e+02  1.20825164e+02\n",
      "  3.09252099e+01  1.89406113e+02  8.58348887e+01  8.52527207e+01\n",
      "  1.47715759e+02  1.10039513e+02  5.18363775e+01  1.92858476e+02\n",
      "  4.73751085e+01 -1.79815000e+00  6.64303604e+01  2.29374714e+01\n",
      " -1.37598463e+01  8.89537519e+01 -2.75907639e+01  4.96941437e+01\n",
      "  2.61875419e+02 -5.61069919e+01 -2.72717394e+00 -1.14486930e+01\n",
      "  1.56374238e+02  1.11223035e+02  7.12447463e+00  8.25334517e+01\n",
      "  3.10973374e+01  1.36501854e+01 -3.75474614e+01  1.47991514e+01\n",
      "  5.35222280e+01 -1.49011600e+00  1.16094709e+02 -2.29812498e+01\n",
      "  1.92878087e+02  2.66670251e+00  3.16256575e+01  1.08102012e+01\n",
      "  6.67741878e+01 -2.70999602e+01 -2.81990470e+01 -5.97220290e+01\n",
      " -6.72200758e+01 -6.99456511e+00 -9.10594980e+00 -1.71236371e+02\n",
      "  5.66851425e+02  1.18156768e+02  1.17397918e+02  1.74363171e+02\n",
      "  1.20989480e+02 -2.64342910e+00  2.09831132e+02 -2.75929879e+01\n",
      " -2.66873212e+02  5.54134771e+01  5.34626896e+00 -5.95056714e+02\n",
      "  9.88853024e+01  7.16734708e+01  1.52058344e+02  1.67619662e+02\n",
      "  1.44581513e+02  1.23990931e+01 -4.02324898e+01  9.03953960e+01\n",
      " -4.64123838e+00  2.27386863e+01  9.26425413e+01  6.07617665e+01\n",
      "  9.32203063e+01  4.56116003e+01  1.04776170e+02  9.24596503e+01\n",
      " -1.62935395e+01  8.27506835e+00  3.65934672e+01  1.59445576e+02\n",
      " -3.92046335e+02  5.30255803e+00  1.01799539e+02 -1.62473719e+01\n",
      "  2.54204519e+01 -3.64514086e+01 -3.22813944e+01  1.19346779e+02\n",
      " -7.11468116e+00 -2.77461084e+01  1.00667591e+02  3.88470255e+01\n",
      "  5.05826707e+01 -1.50700384e+01  1.59703660e+01  1.19913914e+02\n",
      "  3.68200323e+01  5.08606682e+01  5.96755457e+00  1.13409068e+02\n",
      "  4.93620119e+01  3.66066347e+01  1.02072073e+02  2.91343270e+01\n",
      "  1.24451365e+02  3.06973890e+01  1.40118271e+02 -6.40165120e+02\n",
      "  1.33779242e+02  1.46662049e+01  5.86865322e+01 -1.53752556e+01\n",
      "  9.27105028e+01  8.91776961e+01  4.26830989e+01 -2.50140645e+01\n",
      "  2.66454922e+01  1.23087686e+02  1.62120569e+01  1.17467799e+02\n",
      "  8.74573861e+00 -8.71343798e+00  2.75694024e+01 -3.60153913e+01\n",
      " -1.41195807e+00 -8.41203180e+00  1.52562362e+01  1.93265242e+02\n",
      "  1.18535226e+02  8.20376335e+01  3.12844008e+01  1.34143551e+02\n",
      "  1.92262415e+01  6.68026422e+01  2.35857541e+01  4.96393151e+01\n",
      "  4.75968057e+02 -2.84443747e+01  3.16024781e+01  5.70091563e+01\n",
      "  2.67357085e+01  7.08789641e+01 -2.97585791e+01  4.77367826e+02\n",
      " -4.07859484e+00 -4.25377941e+02  7.98331054e+01  2.28582170e+00\n",
      "  1.24826576e+02  1.18172324e+02 -6.59777295e+00  5.44207343e+01\n",
      "  1.44060294e+02  1.77199006e+02  3.02089523e+01  5.90614921e+01\n",
      "  1.89920140e+02 -6.88637523e+00  3.07942579e+02 -2.34755585e+01\n",
      "  3.29948716e+01  2.15936407e+02  1.72198605e+02  9.66509342e+01\n",
      "  2.70081000e+00  3.20114746e+01  1.23974715e+02  9.90778630e+00\n",
      "  2.65115733e+02 -1.99102245e+01  5.50760828e+01  1.57491424e+02\n",
      "  5.92042885e+01 -1.40583414e+01  2.99883755e+02  5.88959336e+00\n",
      "  2.12443368e+02  1.51904702e+02  5.38777646e+02 -2.19135679e+00\n",
      "  1.50937771e+02  1.37777619e+02  8.87151102e+01  1.23427672e+02\n",
      "  4.09854254e+01  5.61363866e+01  6.29694667e+01  1.11285809e+02\n",
      "  6.32900763e+01  8.82441167e+01  4.68006992e+01  7.79489112e+00\n",
      "  9.26918376e+00 -1.66725623e+01 -2.43169738e+01  2.78838430e+01\n",
      " -2.28563356e+01  1.15380370e+02  3.84055438e+01  8.06123809e+01\n",
      "  1.05579004e+02 -3.36035475e+01  8.53756462e+01  1.54977107e+02\n",
      "  1.44479144e+02  8.26303600e+00 -3.74475972e+01  1.11954409e+02\n",
      " -2.92697819e+02  4.53559623e+01 -2.99420263e+02  1.42926448e+02\n",
      "  2.53597950e+01 -2.93649910e+02  1.30845616e+02  1.52262472e+02\n",
      "  9.49369326e+01  1.26077361e+02  9.84823724e+01 -1.62241403e+01\n",
      "  5.06085916e+01 -1.29809574e+03 -9.44237726e+02 -1.17497081e+01\n",
      "  5.57652503e+01  2.57593480e+01 -4.09900119e+01  1.74623856e+01\n",
      "  8.08967318e+00  9.93155168e+01  1.26410053e+01 -3.89991411e+01\n",
      "  1.46153180e+02  5.86557757e+01  1.08725182e+02 -2.76930171e+02\n",
      "  3.28644127e+02  3.51427012e+01  1.41380307e+02  5.91701488e+01\n",
      " -1.56610860e+01  4.75048710e+01 -2.15985177e+01  7.94851901e+01\n",
      "  3.44427658e+01  2.14677250e+01  4.64990709e+00  9.34578816e+01\n",
      "  1.22172430e+02 -2.68562750e+01 -4.66860616e+00  3.54985369e+01\n",
      "  1.43448766e+01  2.76071355e+01 -3.14836264e+02 -5.39351585e+01\n",
      "  2.29345111e+01 -2.49638550e+00  2.40723637e+01 -2.15479114e+00\n",
      "  7.28281074e+01  7.40021951e+01 -1.43824787e+01  6.02003843e+00\n",
      "  1.63461298e+02  7.77420488e+01  7.32289623e+01  2.15613890e+01\n",
      "  3.63253750e+01  7.13199646e+01  3.79550071e+01  4.43340051e+01\n",
      "  1.50380082e+01  1.29832955e+02  8.55525385e+01 -2.14770443e+02\n",
      "  5.77114984e+00  1.03323657e+01  5.05477256e+01  1.20806802e+02\n",
      " -1.42461074e+01  1.02276816e+02  5.25732504e+01  7.08063153e+01\n",
      "  1.18118382e+01 -4.38905417e+01  3.29590198e+01 -1.19054031e+01\n",
      " -1.19245738e+01  4.64785594e+01 -4.16191171e+02  4.35825251e+01\n",
      "  5.60709750e+02  1.75944147e+01 -1.43440770e+02  1.83205776e+02\n",
      "  6.93045798e+02  9.40972430e+01  2.54575675e+00  1.05395996e+02\n",
      "  2.10397395e+02  1.93772564e+02  9.40397391e+01  3.53009509e+01\n",
      "  9.34005232e+01 -3.37787704e+01  1.01293864e+02  2.27382077e+02\n",
      "  5.06634260e+01  3.07560244e+00  1.65499602e+02  9.07456395e+01\n",
      "  6.31451365e+02  1.07284994e+01 -1.32907647e+01 -1.72915879e+01\n",
      "  1.63820312e+02 -6.15502055e+02  5.97852241e+01 -1.29570693e+01\n",
      "  5.90122986e+01  8.09559274e+00  6.71397374e+00  6.60284568e+01\n",
      "  9.51138031e-03  1.37460385e+01  2.86866323e+01  3.59391014e+01\n",
      "  3.19026044e+01  7.82876487e+01  6.05265638e+01  1.07153359e+02\n",
      "  1.17888467e+02 -6.03502633e+00  4.53838466e+01  2.28070568e+01\n",
      "  4.42598868e+01 -1.83658385e-01  3.16428083e+02  1.52194802e+01\n",
      "  4.45788895e+01  1.29461681e+02  1.98870400e+01 -1.75884850e+01\n",
      "  1.26446840e+01 -6.71254541e+00 -1.91027351e+01  1.68438685e+01\n",
      "  6.76045887e+01]\n"
     ]
    }
   ],
   "source": [
    "print(gridage_teffdiff)"
   ]
  },
  {
   "cell_type": "code",
   "execution_count": 30,
   "metadata": {},
   "outputs": [
    {
     "data": {
      "text/plain": [
       "6.9394105026591"
      ]
     },
     "execution_count": 30,
     "metadata": {},
     "output_type": "execute_result"
    }
   ],
   "source": [
    "star_age"
   ]
  },
  {
   "cell_type": "code",
   "execution_count": 31,
   "metadata": {},
   "outputs": [
    {
     "data": {
      "text/plain": [
       "array([1.20000000e-02, 3.47893878e+00, 6.94587755e+00, 1.04128163e+01,\n",
       "       1.38797551e+01])"
      ]
     },
     "execution_count": 31,
     "metadata": {},
     "output_type": "execute_result"
    }
   ],
   "source": [
    "np.linspace(0.012,17.)[::10]"
   ]
  },
  {
   "cell_type": "code",
   "execution_count": 32,
   "metadata": {},
   "outputs": [
    {
     "data": {
      "text/plain": [
       "(array([ 2.,  1.,  5.,  4.,  4.,  4.,  4., 13.,  8.,  5.,  8.,  9.,  9.,\n",
       "         9.,  2.,  4.,  4.,  3.,  1.,  1.]),\n",
       " array([3658.15249983, 3660.18716096, 3662.22182208, 3664.25648321,\n",
       "        3666.29114433, 3668.32580545, 3670.36046658, 3672.3951277 ,\n",
       "        3674.42978883, 3676.46444995, 3678.49911108, 3680.5337722 ,\n",
       "        3682.56843332, 3684.60309445, 3686.63775557, 3688.6724167 ,\n",
       "        3690.70707782, 3692.74173894, 3694.77640007, 3696.81106119,\n",
       "        3698.84572232]),\n",
       " <BarContainer object of 20 artists>)"
      ]
     },
     "execution_count": 32,
     "metadata": {},
     "output_type": "execute_result"
    },
    {
     "data": {
      "image/png": "[encoded data removed]",
      "text/plain": [
       "<Figure size 432x288 with 1 Axes>"
      ]
     },
     "metadata": {
      "needs_background": "light"
     },
     "output_type": "display_data"
    }
   ],
   "source": [
    "plt.hist(np.random.normal(loc=teff_cal[star],scale=lmcdr17['TEFF_ERR'][star],size=100),bins=20)"
   ]
  },
  {
   "cell_type": "code",
   "execution_count": 33,
   "metadata": {},
   "outputs": [
    {
     "data": {
      "image/png": "[encoded data removed]",
      "text/plain": [
       "<Figure size 864x504 with 1 Axes>"
      ]
     },
     "metadata": {
      "needs_background": "light"
     },
     "output_type": "display_data"
    }
   ],
   "source": [
    "plt.figure(figsize=[12,7])\n",
    "plt.hist(bperr,bins=50,histtype='step',lw=3.0,label='BP_ERR',color='blue')\n",
    "plt.hist(gerr,bins=50,histtype='step',lw=3.0,label='G_ERR',color='green')\n",
    "plt.hist(rperr,bins=50,histtype='step',lw=3.0,label='RP_ERR',color='red')\n",
    "plt.legend()\n",
    "plt.xlabel(r'Error')\n",
    "plt.show()"
   ]
  },
  {
   "cell_type": "code",
   "execution_count": 34,
   "metadata": {},
   "outputs": [
    {
     "data": {
      "text/plain": [
       "(array([ 2.,  0.,  3.,  4.,  7.,  3.,  7.,  8.,  9.,  6.,  6., 11.,  5.,\n",
       "         9.,  4.,  2.,  4.,  5.,  2.,  3.]),\n",
       " array([0.00268017, 0.00269881, 0.00271746, 0.00273611, 0.00275476,\n",
       "        0.00277341, 0.00279205, 0.0028107 , 0.00282935, 0.002848  ,\n",
       "        0.00286665, 0.0028853 , 0.00290394, 0.00292259, 0.00294124,\n",
       "        0.00295989, 0.00297854, 0.00299719, 0.00301583, 0.00303448,\n",
       "        0.00305313]),\n",
       " <BarContainer object of 20 artists>)"
      ]
     },
     "execution_count": 34,
     "metadata": {},
     "output_type": "execute_result"
    },
    {
     "data": {
      "image/png": "[encoded data removed]",
      "text/plain": [
       "<Figure size 864x504 with 1 Axes>"
      ]
     },
     "metadata": {
      "needs_background": "light"
     },
     "output_type": "display_data"
    }
   ],
   "source": [
    "plt.figure(figsize=[12,7])\n",
    "plt.hist(np.random.normal(loc=np.mean(gerr),scale=np.std(gerr),size=100),bins=20)"
   ]
  },
  {
   "cell_type": "code",
   "execution_count": 35,
   "metadata": {},
   "outputs": [
    {
     "data": {
      "image/png": "[encoded data removed]",
      "text/plain": [
       "<Figure size 432x288 with 2 Axes>"
      ]
     },
     "metadata": {
      "needs_background": "light"
     },
     "output_type": "display_data"
    },
    {
     "data": {
      "image/png": "[encoded data removed]",
      "text/plain": [
       "<Figure size 432x288 with 2 Axes>"
      ]
     },
     "metadata": {
      "needs_background": "light"
     },
     "output_type": "display_data"
    }
   ],
   "source": [
    "mag_fin = np.where((np.isfinite(lmcdr17['GAIAEDR3_PHOT_BP_MEAN_MAG'])==True)&\n",
    "                   (np.isfinite(lmcdr17['GAIAEDR3_PHOT_G_MEAN_MAG'])==True)&\n",
    "                   (np.isfinite(lmcdr17['GAIAEDR3_PHOT_RP_MEAN_MAG'])==True)&\n",
    "                   (np.isfinite(lmcdr17['J'])==True)&(np.isfinite(lmcdr17['H'])==True)&\n",
    "                   (np.isfinite(lmcdr17['K'])==True))\n",
    "\n",
    "mag_cov = np.cov(np.array([lmcdr17['GAIAEDR3_PHOT_BP_MEAN_MAG'][mag_fin],\n",
    "                           lmcdr17['GAIAEDR3_PHOT_G_MEAN_MAG'][mag_fin],\n",
    "                           lmcdr17['GAIAEDR3_PHOT_RP_MEAN_MAG'][mag_fin],\n",
    "                           lmcdr17['J'][mag_fin],lmcdr17['H'][mag_fin],lmcdr17['K'][mag_fin]]))\n",
    "\n",
    "plt.figure()\n",
    "plt.imshow(mag_cov,cmap='nipy_spectral')\n",
    "plt.colorbar()\n",
    "plt.title(r'Cov(mag$_1$,mag$_2$)')\n",
    "plt.show()\n",
    "\n",
    "err_fin = np.where((np.isfinite(bperr)==True)&(np.isfinite(gerr)==True)&(np.isfinite(rperr)==True)&\n",
    "         (np.isfinite(lmcdr17['J_ERR'])==True)&(np.isfinite(lmcdr17['H_ERR'])==True)&\n",
    "         (np.isfinite(lmcdr17['K_ERR'])==True))\n",
    "\n",
    "mag_err_cov = np.cov(np.array([bperr[err_fin],gerr[err_fin],rperr[err_fin],lmcdr17['J_ERR'][err_fin],\n",
    "                 lmcdr17['H_ERR'][err_fin],lmcdr17['K_ERR'][err_fin]]))\n",
    "\n",
    "plt.figure()\n",
    "plt.imshow(mag_err_cov,cmap='nipy_spectral')\n",
    "plt.colorbar()\n",
    "plt.title(r'Cov(mag_err$_1$,mag_err$_2$)')\n",
    "plt.show()"
   ]
  },
  {
   "cell_type": "code",
   "execution_count": 36,
   "metadata": {},
   "outputs": [
    {
     "data": {
      "image/png": "[encoded data removed]",
      "text/plain": [
       "<Figure size 432x288 with 1 Axes>"
      ]
     },
     "metadata": {
      "needs_background": "light"
     },
     "output_type": "display_data"
    }
   ],
   "source": [
    "import matplotlib.pyplot as plt\n",
    "from scipy.stats import qmc\n",
    "dist = qmc.MultivariateNormalQMC(mean=[0, 5], cov=[[1, 0], [0, 1]])\n",
    "sample = dist.random(1024)\n",
    "_ = plt.scatter(sample[:, 0], sample[:, 1], s=10)\n",
    "plt.show()"
   ]
  },
  {
   "cell_type": "code",
   "execution_count": 37,
   "metadata": {},
   "outputs": [
    {
     "data": {
      "text/plain": [
       "array([1., 1., 1., 1., 1., 1.])"
      ]
     },
     "execution_count": 37,
     "metadata": {},
     "output_type": "execute_result"
    }
   ],
   "source": [
    "np.diag(np.ones((6,6)))"
   ]
  },
  {
   "cell_type": "code",
   "execution_count": 38,
   "metadata": {},
   "outputs": [
    {
     "data": {
      "text/plain": [
       "array([[16.13700476, 14.93940685, 13.82465967, 12.33602041, 11.28566859,\n",
       "        11.0680843 ],\n",
       "       [17.25985174, 16.2096805 , 15.21633166, 13.8408337 , 12.98452658,\n",
       "        12.88461973],\n",
       "       [17.55589526, 16.33706299, 15.19771145, 13.68264748, 12.65706411,\n",
       "        12.46399501],\n",
       "       [16.80656909, 15.89130099, 14.99367333, 13.74573068, 12.86202051,\n",
       "        12.69794965]])"
      ]
     },
     "execution_count": 38,
     "metadata": {},
     "output_type": "execute_result"
    }
   ],
   "source": [
    "mags = np.array([lmcdr17['GAIAEDR3_PHOT_BP_MEAN_MAG'][star][0],lmcdr17['GAIAEDR3_PHOT_G_MEAN_MAG'][star][0],\n",
    "                 lmcdr17['GAIAEDR3_PHOT_RP_MEAN_MAG'][star][0],lmcdr17['J'][star][0],lmcdr17['H'][star][0],\n",
    "                 lmcdr17['K'][star][0]])\n",
    "\n",
    "test = qmc.MultivariateNormalQMC(mean=mags,cov=mag_cov)\n",
    "test.random(4)"
   ]
  },
  {
   "cell_type": "code",
   "execution_count": 39,
   "metadata": {},
   "outputs": [
    {
     "data": {
      "text/plain": [
       "array([[17.0106],\n",
       "       [15.9139],\n",
       "       [14.887 ],\n",
       "       [13.486 ],\n",
       "       [12.535 ],\n",
       "       [12.362 ]], dtype=float32)"
      ]
     },
     "execution_count": 39,
     "metadata": {},
     "output_type": "execute_result"
    }
   ],
   "source": [
    "np.array([lmcdr17['GAIAEDR3_PHOT_BP_MEAN_MAG'][star],lmcdr17['GAIAEDR3_PHOT_G_MEAN_MAG'][star],\n",
    "          lmcdr17['GAIAEDR3_PHOT_RP_MEAN_MAG'][star],lmcdr17['J'][star],lmcdr17['H'][star],lmcdr17['K'][star]])"
   ]
  },
  {
   "cell_type": "code",
   "execution_count": 40,
   "metadata": {},
   "outputs": [
    {
     "data": {
      "text/plain": [
       "array([[17.43055935, 16.40638915, 15.37947456, 13.91502931, 12.95773344,\n",
       "        12.76597964],\n",
       "       [17.29691904, 16.18436851, 15.16233627, 13.78848648, 12.81507208,\n",
       "        12.63620395],\n",
       "       [16.60197015, 15.69861443, 14.76025446, 13.59585722, 12.87012249,\n",
       "        12.56498179],\n",
       "       [17.22267075, 16.33668254, 15.41320113, 14.21231256, 13.42435819,\n",
       "        13.18987266]])"
      ]
     },
     "execution_count": 40,
     "metadata": {},
     "output_type": "execute_result"
    }
   ],
   "source": [
    "np.random.multivariate_normal([lmcdr17['GAIAEDR3_PHOT_BP_MEAN_MAG'][star][0],\n",
    "                               lmcdr17['GAIAEDR3_PHOT_G_MEAN_MAG'][star][0],\n",
    "                               lmcdr17['GAIAEDR3_PHOT_RP_MEAN_MAG'][star][0],\n",
    "                               lmcdr17['J'][star][0],lmcdr17['H'][star][0],lmcdr17['K'][star][0]],\n",
    "                              mag_cov,size=4)"
   ]
  },
  {
   "cell_type": "code",
   "execution_count": 41,
   "metadata": {},
   "outputs": [
    {
     "data": {
      "text/plain": [
       "array([3684.94292123, 3682.81133073, 3682.25564826, 3678.20684289])"
      ]
     },
     "execution_count": 41,
     "metadata": {},
     "output_type": "execute_result"
    }
   ],
   "source": [
    "test_cov = np.diag([bperr[star][0],gerr[star][0],rperr[star][0],lmcdr17['J_ERR'][star][0],\n",
    "                    lmcdr17['H_ERR'][star][0],lmcdr17['K_ERR'][star][0],lmcdr17['TEFF_ERR'][star][0]])\n",
    "\n",
    "test_samp = np.random.multivariate_normal([lmcdr17['GAIAEDR3_PHOT_BP_MEAN_MAG'][star][0],\n",
    "                               lmcdr17['GAIAEDR3_PHOT_G_MEAN_MAG'][star][0],\n",
    "                               lmcdr17['GAIAEDR3_PHOT_RP_MEAN_MAG'][star][0],\n",
    "                               lmcdr17['J'][star][0],lmcdr17['H'][star][0],\n",
    "                               lmcdr17['K'][star][0],teff_cal[star][0]],\n",
    "                              test_cov,size=4)\n",
    "\n",
    "test_samp[:,-1]"
   ]
  },
  {
   "cell_type": "code",
   "execution_count": 42,
   "metadata": {},
   "outputs": [
    {
     "data": {
      "text/plain": [
       "[17.0106, 15.9139, 14.887, 13.486, 12.535, 12.362]"
      ]
     },
     "execution_count": 42,
     "metadata": {},
     "output_type": "execute_result"
    }
   ],
   "source": [
    "[lmcdr17['GAIAEDR3_PHOT_BP_MEAN_MAG'][star][0],\n",
    "                                        lmcdr17['GAIAEDR3_PHOT_G_MEAN_MAG'][star][0],\n",
    "                                        lmcdr17['GAIAEDR3_PHOT_RP_MEAN_MAG'][star][0],\n",
    "                                        lmcdr17['J'][star][0],lmcdr17['H'][star][0],lmcdr17['K'][star][0]]"
   ]
  },
  {
   "cell_type": "code",
   "execution_count": 43,
   "metadata": {},
   "outputs": [
    {
     "data": {
      "text/plain": [
       "array([[0.00689291, 0.        , 0.        , 0.        , 0.        ,\n",
       "        0.        ],\n",
       "       [0.        , 0.00283045, 0.        , 0.        , 0.        ,\n",
       "        0.        ],\n",
       "       [0.        , 0.        , 0.00423762, 0.        , 0.        ,\n",
       "        0.        ],\n",
       "       [0.        , 0.        , 0.        , 0.024     , 0.        ,\n",
       "        0.        ],\n",
       "       [0.        , 0.        , 0.        , 0.        , 0.027     ,\n",
       "        0.        ],\n",
       "       [0.        , 0.        , 0.        , 0.        , 0.        ,\n",
       "        0.026     ]])"
      ]
     },
     "execution_count": 43,
     "metadata": {},
     "output_type": "execute_result"
    }
   ],
   "source": [
    "np.diag([bperr[star][0],gerr[star][0],rperr[star][0],lmcdr17['J_ERR'][star][0],lmcdr17['H_ERR'][star][0],\n",
    "         lmcdr17['K_ERR'][star][0]])"
   ]
  },
  {
   "cell_type": "code",
   "execution_count": 44,
   "metadata": {},
   "outputs": [
    {
     "data": {
      "text/plain": [
       "14.590445158202169"
      ]
     },
     "execution_count": 44,
     "metadata": {},
     "output_type": "execute_result"
    }
   ],
   "source": [
    "np.sqrt(np.sum(np.reciprocal([bperr[star][0],gerr[star][0],rperr[star][0],lmcdr17['J_ERR'][star][0],lmcdr17['H_ERR'][star][0],\n",
    "         lmcdr17['K_ERR'][star][0]])))/2"
   ]
  },
  {
   "cell_type": "code",
   "execution_count": 45,
   "metadata": {},
   "outputs": [
    {
     "data": {
      "image/png": "[encoded data removed]",
      "text/plain": [
       "<Figure size 864x720 with 2 Axes>"
      ]
     },
     "metadata": {
      "needs_background": "light"
     },
     "output_type": "display_data"
    },
    {
     "data": {
      "image/png": "[encoded data removed]",
      "text/plain": [
       "<Figure size 864x720 with 2 Axes>"
      ]
     },
     "metadata": {
      "needs_background": "light"
     },
     "output_type": "display_data"
    }
   ],
   "source": [
    "singfeh = massive[np.where(massive['MH']==closest(massive['MH'],-0.5))]\n",
    "\n",
    "teffclose = np.where(singfeh['logTe']==closest(singfeh['logTe'],np.log10(4500)))\n",
    "\n",
    "plt.figure(figsize=[12,10])\n",
    "plt.scatter(10**singfeh['logTe'],singfeh['GEDR3mag'],c=10**singfeh['logAge']/10**9,cmap='nipy_spectral')\n",
    "plt.colorbar()\n",
    "plt.gca().invert_xaxis()\n",
    "plt.gca().invert_yaxis()\n",
    "plt.title(r'Color as Age')\n",
    "plt.xlabel(r'Teff')\n",
    "plt.ylabel(r'G')\n",
    "plt.show()\n",
    "\n",
    "plt.figure(figsize=[12,10])\n",
    "plt.scatter(10**singfeh['logAge'][teffclose]/10**9,singfeh['GEDR3mag'][teffclose],\n",
    "            c=10**singfeh['logTe'][teffclose],cmap='nipy_spectral')\n",
    "plt.scatter(10**singfeh['logAge'][teffclose]/10**9,singfeh['GEDR3mag'][teffclose],\n",
    "            c=10**singfeh['logTe'][teffclose],cmap='nipy_spectral')\n",
    "plt.colorbar()\n",
    "plt.gca().invert_xaxis()\n",
    "plt.gca().invert_yaxis()\n",
    "plt.title(r'Teff: 4500')\n",
    "plt.xlabel(r'Age')\n",
    "plt.ylabel(r'G')\n",
    "plt.show()"
   ]
  },
  {
   "cell_type": "code",
   "execution_count": 46,
   "metadata": {},
   "outputs": [
    {
     "data": {
      "text/plain": [
       "[<matplotlib.lines.Line2D at 0x7fc43379a220>]"
      ]
     },
     "execution_count": 46,
     "metadata": {},
     "output_type": "execute_result"
    },
    {
     "data": {
      "image/png": "[encoded data removed]",
      "text/plain": [
       "<Figure size 432x288 with 1 Axes>"
      ]
     },
     "metadata": {
      "needs_background": "light"
     },
     "output_type": "display_data"
    }
   ],
   "source": [
    "plt.plot(np.diff(np.unique(singfeh['logTe'])))"
   ]
  },
  {
   "cell_type": "code",
   "execution_count": null,
   "metadata": {},
   "outputs": [],
   "source": []
  }
 ],
 "metadata": {
  "kernelspec": {
   "display_name": "Python 3",
   "language": "python",
   "name": "python3"
  },
  "language_info": {
   "codemirror_mode": {
    "name": "ipython",
    "version": 3
   },
   "file_extension": ".py",
   "mimetype": "text/x-python",
   "name": "python",
   "nbconvert_exporter": "python",
   "pygments_lexer": "ipython3",
   "version": "3.8.5"
  }
 },
 "nbformat": 4,
 "nbformat_minor": 4
}
