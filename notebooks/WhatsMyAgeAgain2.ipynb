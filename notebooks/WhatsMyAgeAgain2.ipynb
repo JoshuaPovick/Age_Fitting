{
 "cells": [
  {
   "cell_type": "code",
   "execution_count": 1,
   "metadata": {},
   "outputs": [],
   "source": [
    "##################################\n",
    "### Import the usual libraries ###\n",
    "##################################\n",
    "\n",
    "### Other\n",
    "import warnings\n",
    "warnings.filterwarnings('ignore')\n",
    "\n",
    "### Matplotlib\n",
    "import matplotlib\n",
    "import matplotlib.pyplot as plt\n",
    "%matplotlib inline\n",
    "matplotlib.rcParams.update({'font.size': 30})"
   ]
  },
  {
   "cell_type": "code",
   "execution_count": null,
   "metadata": {},
   "outputs": [],
   "source": [
    "# def MCDistribution(self,teff,teff_err,feh,feh_err,am,am_err,mag,mag_err,number):\n",
    "#         '''\n",
    "#         Generate a distribution to do a Monte Simulation to calculate age and extinction\n",
    "            \n",
    "#         Inputs:\n",
    "#         ------\n",
    "            \n",
    "#             teff: temperature of star\n",
    "#             teff_err: error in temperature of star\n",
    "#             feh: metallicity of star\n",
    "#             feh_err: error in metallicity of star\n",
    "#             am: alpha abundance of star\n",
    "#             am_err: error in alpha abundance of star\n",
    "#             mag: magnitude of star corresponding to self.band \n",
    "#             mag_err: error in magnitude of star corresponding to self.band\n",
    "#             number: number of points to sample\n",
    "              \n",
    "#         Outputs:\n",
    "#         -------\n",
    "#             noisy_feh\n",
    "#             noisy_teff\n",
    "#             noisy_mag\n",
    "#         '''\n",
    "            \n",
    "#         noisy_teff = np.random.normal(teff,teff_err,number)\n",
    "#         noisy_feh = np.random.normal(feh,feh_err,number)\n",
    "#         noisy_am = np.random.normal(am,am_err,number)\n",
    "#         noisy_mag = np.random.normal(mag,mag_err,number)\n",
    "            \n",
    "#         return noisy_teff, noisy_feh, noisy_am, noisy_mag"
   ]
  },
  {
   "cell_type": "code",
   "execution_count": null,
   "metadata": {},
   "outputs": [],
   "source": []
  },
  {
   "cell_type": "code",
   "execution_count": 36,
   "metadata": {},
   "outputs": [],
   "source": [
    "import numpy as np\n",
    "import astropy\n",
    "from astropy.io import fits\n",
    "from astropy.table import Table\n",
    "from scipy.interpolate import InterpolatedUnivariateSpline\n",
    "\n",
    "def closest(data,value):\n",
    "    '''\n",
    "    Find nearest value in array to given value\n",
    "        \n",
    "    Inputs:\n",
    "    ------\n",
    "        data: data to search through \n",
    "        value: value of interest\n",
    "        \n",
    "    Output:\n",
    "    ------\n",
    "        close_value\n",
    "    '''\n",
    "    \n",
    "    value = np.asarray(value)\n",
    "    data = np.asarray(data)\n",
    "    \n",
    "    close_value = data[(np.abs(np.subtract(data,value))).argmin()]\n",
    "    return close_value\n",
    "\n",
    "class WhatsMyAgeAgain():\n",
    "    '''\n",
    "    Class to calculate a star's age and extinction using PARSEC isochrones\n",
    "    '''\n",
    "    def __init__(self,band,distance,isochrones):\n",
    "        \n",
    "        '''\n",
    "        #mag: [float] apparent magnitude of star\n",
    "        #feh: [float] metallicity of star\n",
    "        band: [str] photometric band of interest\n",
    "        distance: [float] distance to star in pc\n",
    "        isochrones: [astropy.io.fits.fitsrec.FITS_rec / astropy.table.table.Table] PARSEC isochrone table\n",
    "        '''\n",
    "        \n",
    "        # stellar parameters\n",
    "#         self.mag = mag\n",
    "#         self.feh = feh\n",
    "        self.dist = distance\n",
    "        \n",
    "        # PARSEC isochrones\n",
    "        self.band = band\n",
    "        self.iso = isochrones\n",
    "        \n",
    "        # effective wavelengths of different bands\n",
    "#         self.leff = {'BP':0.5387,'G':0.6419,'RP':0.7667,'J':1.2345,'H':1.6393,'K':2.1757}\n",
    "\n",
    "    def Salaris(self,feh,am):\n",
    "        '''\n",
    "        Calculate the Salaris et al. 1993 corrected [Fe/H]\n",
    "        \n",
    "        Inputs:\n",
    "        ------\n",
    "            feh: uncorrected metallicity of star\n",
    "            am: alpha abundance of star\n",
    "        \n",
    "        Output:\n",
    "        ------\n",
    "            sal_feh: corrected metallicity\n",
    "        '''\n",
    "        \n",
    "        sal_feh = feh + np.log10(0.638*(10**am)+0.362)\n",
    "        return sal_feh\n",
    "        \n",
    "    def Teff2AppMag(self,teff_feh,age,al):\n",
    "        '''\n",
    "        Calculate the expected apparent magnitude of a star\n",
    "        \n",
    "        Inputs:\n",
    "        ------\n",
    "            XXXteff: temperature of star\n",
    "            XXXfeh: metallicity of star\n",
    "            teff_feh: (teff,feh) temperature and metallicity of star\n",
    "            age: age of star\n",
    "            al: extinction in the same band used to initialize the class\n",
    "        \n",
    "        Output:\n",
    "        ------\n",
    "            calc_mag: expected intrinsic magnitude for the given temperature\n",
    "        '''\n",
    "        \n",
    "        teff = teff_feh[0]#[:,0]\n",
    "        feh = teff_feh[1]#[:,1]\n",
    "        single = self.iso[np.where((self.iso['logAge']==closest(self.iso['logAge'],np.log10(age*10**9)))&\n",
    "                                   (self.iso['MH']==closest(self.iso['MH'],np.mean(feh))))]\n",
    "    \n",
    "        sidx = np.argsort(single['logTe'])\n",
    "        slogTe = single['logTe'][sidx]\n",
    "        smag = single[self.band][sidx]\n",
    "\n",
    "        _, uidx = np.unique(slogTe,return_index=True)\n",
    "    \n",
    "        try:\n",
    "            spl = InterpolatedUnivariateSpline(slogTe[uidx],smag[uidx])\n",
    "    \n",
    "            calc_mag = spl(np.log10(teff))+5.0*np.log10(self.dist)-5.0+al\n",
    "            return calc_mag\n",
    "    \n",
    "        except:\n",
    "            return -9999.0\n",
    "        \n",
    "        "
   ]
  },
  {
   "cell_type": "code",
   "execution_count": 3,
   "metadata": {},
   "outputs": [],
   "source": [
    "# massive\n",
    "massive = fits.getdata('/Users/joshuapovick/Desktop/Research/parsec/parsec_massive.fits.gz',0)\n",
    "massive = massive[np.where(massive['label']==3.0)]"
   ]
  },
  {
   "cell_type": "code",
   "execution_count": 6,
   "metadata": {},
   "outputs": [
    {
     "name": "stdout",
     "output_type": "stream",
     "text": [
      "bad:  24\n",
      "bad:  27\n",
      "bad:  37\n",
      "['47Tuc', 'M10', 'M107', 'M12', 'M13', 'M19', 'M2', 'M22', 'M3', 'M4', 'M5', 'M53', 'M54', 'M55', 'M71', 'M79', 'NGC1851', 'NGC2808', 'NGC288', 'NGC3201', 'NGC362', 'NGC6388', 'NGC6397', 'NGC6752', 'omegaCen']\n"
     ]
    }
   ],
   "source": [
    "### GCS Data\n",
    "gcs = fits.getdata('/Users/joshuapovick/Desktop/Research/fits/allStar-r13-l33-58932beta_apa_dist_galvel_gc.fits.gz')\n",
    "cln = np.where((gcs['FE_H']>-9999.0)&(gcs['AK_TARG']>-9999.0)&(gcs['LOGG']>0.0)&(gcs['M_H_ERR']>-90.0)&\n",
    "                (gcs['C_FE']>-9999.0)&(gcs['N_FE']>-9999.0))\n",
    "gcs = Table(gcs[cln])\n",
    "\n",
    "### Find Cluster with more than one star\n",
    "\n",
    "idx = []\n",
    "for i in range(len(np.unique(gcs['CLUSTER']))):\n",
    "    idx.append(np.squeeze(np.where(gcs['CLUSTER']==np.unique(gcs['CLUSTER'])[i])))\n",
    "\n",
    "for i in range(len(idx)):\n",
    "    try:\n",
    "        len(idx[i])\n",
    "    except:\n",
    "        print('bad: ',i)\n",
    "        \n",
    "good_names = []\n",
    "for i in np.asarray(idx)[np.delete(np.asarray(list(range(len(idx)))),[24,27,37])]:\n",
    "    if len(i)>10:\n",
    "        good_names.append(gcs['CLUSTER'][i][0])\n",
    "\n",
    "print(good_names)\n",
    "\n",
    "good_clus = np.where((gcs['CLUSTER']=='47Tuc')|(gcs['CLUSTER']=='M10')|(gcs['CLUSTER']=='M107')|\n",
    "                     (gcs['CLUSTER']=='M12')|(gcs['CLUSTER']=='M13')|(gcs['CLUSTER']=='M19')|\n",
    "                     (gcs['CLUSTER']=='M2')|(gcs['CLUSTER']=='M22')|(gcs['CLUSTER']=='M3')|\n",
    "                     (gcs['CLUSTER']=='M4')|(gcs['CLUSTER']=='M5')|(gcs['CLUSTER']=='M53')|\n",
    "                     (gcs['CLUSTER']=='M54')|(gcs['CLUSTER']=='M55')|(gcs['CLUSTER']=='M71')|\n",
    "                     (gcs['CLUSTER']=='M79')|(gcs['CLUSTER']=='NGC1851')|(gcs['CLUSTER']=='NGC2808')|\n",
    "                     (gcs['CLUSTER']=='NGC288')|(gcs['CLUSTER']=='NGC3201')|(gcs['CLUSTER']=='NGC362')|\n",
    "                     (gcs['CLUSTER']=='NGGC6388')|(gcs['CLUSTER']=='NGC6397')|(gcs['CLUSTER']=='NGC6752')|\n",
    "                     (gcs['CLUSTER']=='omegaCen'))\n",
    "\n",
    "gcs = gcs[good_clus]"
   ]
  },
  {
   "cell_type": "code",
   "execution_count": 7,
   "metadata": {},
   "outputs": [],
   "source": [
    "def closest2(data,value):\n",
    "    '''\n",
    "    Find values of two elements closest to the given value\n",
    "    \n",
    "    Inputs:\n",
    "    ------\n",
    "        data: data to search through \n",
    "        value: value of interest\n",
    "        \n",
    "    Output:\n",
    "    ------\n",
    "        close1: closest value under the given value\n",
    "        close2: closest value over the given value\n",
    "    '''\n",
    "    \n",
    "    value = np.asarray(value)\n",
    "    data = np.asarray(data)\n",
    "    \n",
    "    close1 = data[(np.abs(np.subtract(data,value))).argmin()]\n",
    "    \n",
    "    data = data[np.where(data!=close1)]\n",
    "    \n",
    "    close2 = data[(np.abs(np.subtract(data,value))).argmin()]\n",
    "    \n",
    "    return close1,close2\n",
    "    "
   ]
  },
  {
   "cell_type": "code",
   "execution_count": 9,
   "metadata": {},
   "outputs": [
    {
     "data": {
      "text/plain": [
       "(5000, 1000)"
      ]
     },
     "execution_count": 9,
     "metadata": {},
     "output_type": "execute_result"
    }
   ],
   "source": [
    "closest2([9,202,93,9,92929,4,5,3,7,43,450,1000,5000],4000)"
   ]
  },
  {
   "cell_type": "code",
   "execution_count": 12,
   "metadata": {},
   "outputs": [],
   "source": [
    "from scipy.optimize import minimize"
   ]
  },
  {
   "cell_type": "code",
   "execution_count": 25,
   "metadata": {},
   "outputs": [
    {
     "ename": "TypeError",
     "evalue": "chi_square() missing 2 required positional arguments: 'age' and 'al'",
     "output_type": "error",
     "traceback": [
      "\u001b[0;31m---------------------------------------------------------------------------\u001b[0m",
      "\u001b[0;31mTypeError\u001b[0m                                 Traceback (most recent call last)",
      "\u001b[0;32m<ipython-input-25-610239d7ed98>\u001b[0m in \u001b[0;36m<module>\u001b[0;34m\u001b[0m\n\u001b[1;32m      4\u001b[0m \u001b[0mfeh\u001b[0m \u001b[0;34m=\u001b[0m \u001b[0mCalcAgek\u001b[0m\u001b[0;34m.\u001b[0m\u001b[0mSalaris\u001b[0m\u001b[0;34m(\u001b[0m\u001b[0mgcs\u001b[0m\u001b[0;34m[\u001b[0m\u001b[0;34m'M_H'\u001b[0m\u001b[0;34m]\u001b[0m\u001b[0;34m[\u001b[0m\u001b[0mg_idx\u001b[0m\u001b[0;34m]\u001b[0m\u001b[0;34m,\u001b[0m\u001b[0mgcs\u001b[0m\u001b[0;34m[\u001b[0m\u001b[0;34m'ALPHA_M'\u001b[0m\u001b[0;34m]\u001b[0m\u001b[0;34m[\u001b[0m\u001b[0mg_idx\u001b[0m\u001b[0;34m]\u001b[0m\u001b[0;34m)\u001b[0m\u001b[0;34m\u001b[0m\u001b[0;34m\u001b[0m\u001b[0m\n\u001b[1;32m      5\u001b[0m \u001b[0;34m\u001b[0m\u001b[0m\n\u001b[0;32m----> 6\u001b[0;31m \u001b[0mminimize\u001b[0m\u001b[0;34m(\u001b[0m\u001b[0mCalcAgek\u001b[0m\u001b[0;34m.\u001b[0m\u001b[0mchi_square\u001b[0m\u001b[0;34m,\u001b[0m\u001b[0;34m[\u001b[0m\u001b[0mgcs\u001b[0m\u001b[0;34m[\u001b[0m\u001b[0;34m'TEFF'\u001b[0m\u001b[0;34m]\u001b[0m\u001b[0;34m[\u001b[0m\u001b[0mg_idx\u001b[0m\u001b[0;34m]\u001b[0m\u001b[0;34m,\u001b[0m\u001b[0mgcs\u001b[0m\u001b[0;34m[\u001b[0m\u001b[0;34m'K'\u001b[0m\u001b[0;34m]\u001b[0m\u001b[0;34m[\u001b[0m\u001b[0mg_idx\u001b[0m\u001b[0;34m]\u001b[0m\u001b[0;34m,\u001b[0m\u001b[0mfeh\u001b[0m\u001b[0;34m]\u001b[0m\u001b[0;34m)\u001b[0m\u001b[0;34m\u001b[0m\u001b[0;34m\u001b[0m\u001b[0m\n\u001b[0m",
      "\u001b[0;32m/opt/anaconda3/lib/python3.8/site-packages/scipy/optimize/_minimize.py\u001b[0m in \u001b[0;36mminimize\u001b[0;34m(fun, x0, args, method, jac, hess, hessp, bounds, constraints, tol, callback, options)\u001b[0m\n\u001b[1;32m    602\u001b[0m         \u001b[0;32mreturn\u001b[0m \u001b[0m_minimize_cg\u001b[0m\u001b[0;34m(\u001b[0m\u001b[0mfun\u001b[0m\u001b[0;34m,\u001b[0m \u001b[0mx0\u001b[0m\u001b[0;34m,\u001b[0m \u001b[0margs\u001b[0m\u001b[0;34m,\u001b[0m \u001b[0mjac\u001b[0m\u001b[0;34m,\u001b[0m \u001b[0mcallback\u001b[0m\u001b[0;34m,\u001b[0m \u001b[0;34m**\u001b[0m\u001b[0moptions\u001b[0m\u001b[0;34m)\u001b[0m\u001b[0;34m\u001b[0m\u001b[0;34m\u001b[0m\u001b[0m\n\u001b[1;32m    603\u001b[0m     \u001b[0;32melif\u001b[0m \u001b[0mmeth\u001b[0m \u001b[0;34m==\u001b[0m \u001b[0;34m'bfgs'\u001b[0m\u001b[0;34m:\u001b[0m\u001b[0;34m\u001b[0m\u001b[0;34m\u001b[0m\u001b[0m\n\u001b[0;32m--> 604\u001b[0;31m         \u001b[0;32mreturn\u001b[0m \u001b[0m_minimize_bfgs\u001b[0m\u001b[0;34m(\u001b[0m\u001b[0mfun\u001b[0m\u001b[0;34m,\u001b[0m \u001b[0mx0\u001b[0m\u001b[0;34m,\u001b[0m \u001b[0margs\u001b[0m\u001b[0;34m,\u001b[0m \u001b[0mjac\u001b[0m\u001b[0;34m,\u001b[0m \u001b[0mcallback\u001b[0m\u001b[0;34m,\u001b[0m \u001b[0;34m**\u001b[0m\u001b[0moptions\u001b[0m\u001b[0;34m)\u001b[0m\u001b[0;34m\u001b[0m\u001b[0;34m\u001b[0m\u001b[0m\n\u001b[0m\u001b[1;32m    605\u001b[0m     \u001b[0;32melif\u001b[0m \u001b[0mmeth\u001b[0m \u001b[0;34m==\u001b[0m \u001b[0;34m'newton-cg'\u001b[0m\u001b[0;34m:\u001b[0m\u001b[0;34m\u001b[0m\u001b[0;34m\u001b[0m\u001b[0m\n\u001b[1;32m    606\u001b[0m         return _minimize_newtoncg(fun, x0, args, jac, hess, hessp, callback,\n",
      "\u001b[0;32m/opt/anaconda3/lib/python3.8/site-packages/scipy/optimize/optimize.py\u001b[0m in \u001b[0;36m_minimize_bfgs\u001b[0;34m(fun, x0, args, jac, callback, gtol, norm, eps, maxiter, disp, return_all, **unknown_options)\u001b[0m\n\u001b[1;32m   1001\u001b[0m     \u001b[0mfunc_calls\u001b[0m\u001b[0;34m,\u001b[0m \u001b[0mf\u001b[0m \u001b[0;34m=\u001b[0m \u001b[0mwrap_function\u001b[0m\u001b[0;34m(\u001b[0m\u001b[0mf\u001b[0m\u001b[0;34m,\u001b[0m \u001b[0margs\u001b[0m\u001b[0;34m)\u001b[0m\u001b[0;34m\u001b[0m\u001b[0;34m\u001b[0m\u001b[0m\n\u001b[1;32m   1002\u001b[0m \u001b[0;34m\u001b[0m\u001b[0m\n\u001b[0;32m-> 1003\u001b[0;31m     \u001b[0mold_fval\u001b[0m \u001b[0;34m=\u001b[0m \u001b[0mf\u001b[0m\u001b[0;34m(\u001b[0m\u001b[0mx0\u001b[0m\u001b[0;34m)\u001b[0m\u001b[0;34m\u001b[0m\u001b[0;34m\u001b[0m\u001b[0m\n\u001b[0m\u001b[1;32m   1004\u001b[0m \u001b[0;34m\u001b[0m\u001b[0m\n\u001b[1;32m   1005\u001b[0m     \u001b[0;32mif\u001b[0m \u001b[0mfprime\u001b[0m \u001b[0;32mis\u001b[0m \u001b[0;32mNone\u001b[0m\u001b[0;34m:\u001b[0m\u001b[0;34m\u001b[0m\u001b[0;34m\u001b[0m\u001b[0m\n",
      "\u001b[0;32m/opt/anaconda3/lib/python3.8/site-packages/scipy/optimize/optimize.py\u001b[0m in \u001b[0;36mfunction_wrapper\u001b[0;34m(*wrapper_args)\u001b[0m\n\u001b[1;32m    325\u001b[0m     \u001b[0;32mdef\u001b[0m \u001b[0mfunction_wrapper\u001b[0m\u001b[0;34m(\u001b[0m\u001b[0;34m*\u001b[0m\u001b[0mwrapper_args\u001b[0m\u001b[0;34m)\u001b[0m\u001b[0;34m:\u001b[0m\u001b[0;34m\u001b[0m\u001b[0;34m\u001b[0m\u001b[0m\n\u001b[1;32m    326\u001b[0m         \u001b[0mncalls\u001b[0m\u001b[0;34m[\u001b[0m\u001b[0;36m0\u001b[0m\u001b[0;34m]\u001b[0m \u001b[0;34m+=\u001b[0m \u001b[0;36m1\u001b[0m\u001b[0;34m\u001b[0m\u001b[0;34m\u001b[0m\u001b[0m\n\u001b[0;32m--> 327\u001b[0;31m         \u001b[0;32mreturn\u001b[0m \u001b[0mfunction\u001b[0m\u001b[0;34m(\u001b[0m\u001b[0;34m*\u001b[0m\u001b[0;34m(\u001b[0m\u001b[0mwrapper_args\u001b[0m \u001b[0;34m+\u001b[0m \u001b[0margs\u001b[0m\u001b[0;34m)\u001b[0m\u001b[0;34m)\u001b[0m\u001b[0;34m\u001b[0m\u001b[0;34m\u001b[0m\u001b[0m\n\u001b[0m\u001b[1;32m    328\u001b[0m \u001b[0;34m\u001b[0m\u001b[0m\n\u001b[1;32m    329\u001b[0m     \u001b[0;32mreturn\u001b[0m \u001b[0mncalls\u001b[0m\u001b[0;34m,\u001b[0m \u001b[0mfunction_wrapper\u001b[0m\u001b[0;34m\u001b[0m\u001b[0;34m\u001b[0m\u001b[0m\n",
      "\u001b[0;31mTypeError\u001b[0m: chi_square() missing 2 required positional arguments: 'age' and 'al'"
     ]
    }
   ],
   "source": [
    "g_idx = 1000\n",
    "CalcAgek = WhatsMyAgeAgain('Ksmag',10400,massive)\n",
    "\n",
    "feh = CalcAgek.Salaris(gcs['M_H'][g_idx],gcs['ALPHA_M'][g_idx])\n",
    "\n",
    "minimize(CalcAgek.chi_square,[gcs['TEFF'][g_idx],gcs['K'][g_idx],feh])"
   ]
  },
  {
   "cell_type": "code",
   "execution_count": 26,
   "metadata": {},
   "outputs": [
    {
     "data": {
      "application/vnd.jupyter.widget-view+json": {
       "model_id": "7e14a3b37e034cd794ad5cd595819f68",
       "version_major": 2,
       "version_minor": 0
      },
      "text/plain": [
       "HBox(children=(FloatProgress(value=0.0, max=560.0), HTML(value='')))"
      ]
     },
     "metadata": {},
     "output_type": "display_data"
    },
    {
     "name": "stdout",
     "output_type": "stream",
     "text": [
      "\n"
     ]
    }
   ],
   "source": [
    "from tqdm import tqdm_notebook\n",
    "\n",
    "age_len = len(np.unique(massive['logAge']))\n",
    "al_len = len(np.arange(0.0,1.0,0.1))\n",
    "chi_space = np.empty((age_len,al_len))\n",
    "for i in tqdm_notebook(range(len(np.unique(massive['logAge'])))):\n",
    "    for j in range(len(np.arange(0.0,1.0,0.1))):\n",
    "        chi_space[i][j] = CalcAgek.chi_square([gcs['TEFF'][g_idx],gcs['K'][g_idx],feh],\n",
    "                                              10**np.unique(massive['logAge'])[i]/10**9,\n",
    "                                              np.arange(0.0,1.0,0.1)[j])"
   ]
  },
  {
   "cell_type": "code",
   "execution_count": 38,
   "metadata": {},
   "outputs": [
    {
     "data": {
      "text/plain": [
       "8.825732095091106e-05"
      ]
     },
     "execution_count": 38,
     "metadata": {},
     "output_type": "execute_result"
    }
   ],
   "source": [
    "max(closest(chi_space/((gcs['FE_H_ERR'][g_idx]**2+gcs['TEFF_ERR'][g_idx]**2+gcs['K_ERR'][g_idx]**2)*(2)),1))"
   ]
  },
  {
   "cell_type": "code",
   "execution_count": 39,
   "metadata": {},
   "outputs": [
    {
     "data": {
      "text/plain": [
       "(array([519]), array([9]))"
      ]
     },
     "execution_count": 39,
     "metadata": {},
     "output_type": "execute_result"
    }
   ],
   "source": [
    "np.where(chi_space/((gcs['FE_H_ERR'][g_idx]**2+gcs['TEFF_ERR'][g_idx]**2+gcs['K_ERR'][g_idx]**2)*(2))==max(closest(chi_space/((gcs['FE_H_ERR'][g_idx]**2+gcs['TEFF_ERR'][g_idx]**2+gcs['K_ERR'][g_idx]**2)*(2)),1)))"
   ]
  },
  {
   "cell_type": "code",
   "execution_count": 31,
   "metadata": {},
   "outputs": [
    {
     "data": {
      "text/plain": [
       "6.974932354244468"
      ]
     },
     "execution_count": 31,
     "metadata": {},
     "output_type": "execute_result"
    }
   ],
   "source": [
    "10**np.unique(massive['logAge'])[278]/10**9"
   ]
  },
  {
   "cell_type": "code",
   "execution_count": 40,
   "metadata": {},
   "outputs": [
    {
     "data": {
      "text/plain": [
       "12.999899653754525"
      ]
     },
     "execution_count": 40,
     "metadata": {},
     "output_type": "execute_result"
    }
   ],
   "source": [
    "10**np.unique(massive['logAge'])[519]/10**9"
   ]
  },
  {
   "cell_type": "code",
   "execution_count": 41,
   "metadata": {},
   "outputs": [
    {
     "data": {
      "text/plain": [
       "0.9"
      ]
     },
     "execution_count": 41,
     "metadata": {},
     "output_type": "execute_result"
    }
   ],
   "source": [
    "np.arange(0.0,1.0,0.1)[9]"
   ]
  },
  {
   "cell_type": "code",
   "execution_count": 43,
   "metadata": {},
   "outputs": [
    {
     "data": {
      "text/plain": [
       "9.987416003999497"
      ]
     },
     "execution_count": 43,
     "metadata": {},
     "output_type": "execute_result"
    }
   ],
   "source": [
    "np.mean([6.974932354244468,12.999899653754525])"
   ]
  },
  {
   "cell_type": "code",
   "execution_count": null,
   "metadata": {},
   "outputs": [],
   "source": []
  }
 ],
 "metadata": {
  "kernelspec": {
   "display_name": "Python 3",
   "language": "python",
   "name": "python3"
  },
  "language_info": {
   "codemirror_mode": {
    "name": "ipython",
    "version": 3
   },
   "file_extension": ".py",
   "mimetype": "text/x-python",
   "name": "python",
   "nbconvert_exporter": "python",
   "pygments_lexer": "ipython3",
   "version": "3.8.5"
  }
 },
 "nbformat": 4,
 "nbformat_minor": 4
}
