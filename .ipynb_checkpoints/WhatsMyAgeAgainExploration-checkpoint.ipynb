{
 "cells": [
  {
   "cell_type": "code",
   "execution_count": 13,
   "metadata": {},
   "outputs": [],
   "source": [
    "##################################\n",
    "### Import the usual libraries ###\n",
    "##################################\n",
    "\n",
    "### Other\n",
    "import warnings\n",
    "warnings.filterwarnings('ignore')\n",
    "\n",
    "### Matplotlib\n",
    "import matplotlib\n",
    "import matplotlib.pyplot as plt\n",
    "%matplotlib inline\n",
    "matplotlib.rcParams.update({'font.size': 30})"
   ]
  },
  {
   "cell_type": "code",
   "execution_count": 1,
   "metadata": {},
   "outputs": [],
   "source": [
    "import numpy as np\n",
    "import astropy\n",
    "from astropy.io import fits\n",
    "from astropy.table import Table\n",
    "from scipy.interpolate import InterpolatedUnivariateSpline\n",
    "import extinction as extinction\n",
    "\n",
    "def mad(dat): #median absolute deviation\n",
    "    return np.median(np.absolute(dat - np.median(dat)))\n",
    "\n",
    "class WhatsMyAgeAgain():\n",
    "    '''\n",
    "    Class to calculate a star's age and extinction using PARSEC isochrones and extinction law\n",
    "    from Cardelli et al. 1989\n",
    "    '''\n",
    "    def __init__(self,feh,am,distance,isochrones):\n",
    "        \n",
    "        '''\n",
    "        feh: [float] metallicity of star\n",
    "        am: [float] [$\\alpha$/M] of star\n",
    "        distance: [float] distance to star in pc\n",
    "        isochrones: [astropy Table] PARSEC isochrone table\n",
    "        '''\n",
    "        \n",
    "        # stellar parameters\n",
    "        self.salfeh = feh+np.log10(0.638*(10**am)+0.362) #Salaris et al. 1993\n",
    "        self.dist = distance\n",
    "        \n",
    "        # PARSEC isochrones\n",
    "        self.jlabel = 'Jmag'\n",
    "        self.hlabel = 'Hmag'\n",
    "        self.klabel = 'Ksmag'\n",
    "        self.uniq_ages = 10**np.unique(isochrones['logAge'])/10**9\n",
    "        self.iso = isochrones\n",
    "        \n",
    "        # Effective Wavelengths of different passbands\n",
    "        self.leff = {'BP':0.5387,'G':0.6419,'RP':0.7667,'J':1.2345,'H':1.6393,'K':2.1757} # mircons\n",
    "        \n",
    "    def closest(self,data,value):\n",
    "        '''\n",
    "        Find nearest value in array to given value\n",
    "        \n",
    "        Inputs:\n",
    "        ------\n",
    "            data: data to search through \n",
    "            value: value of interest\n",
    "        '''\n",
    "        \n",
    "        data = np.asarray(data)\n",
    "    \n",
    "        return data[(np.abs(np.subtract(data,value))).argmin()]\n",
    "    \n",
    "    def neighbors(self,data,value):\n",
    "        '''\n",
    "        Find values of two elements closest to the given value\n",
    "    \n",
    "        Inputs:\n",
    "        ------\n",
    "            data: data to search through \n",
    "            value: value of interest\n",
    "        \n",
    "        Output:\n",
    "        ------\n",
    "            close1: closest value under the given value\n",
    "            close2: closest value over the given value\n",
    "        '''\n",
    "    \n",
    "        data = np.asarray(data)\n",
    "    \n",
    "        close1 = data[(np.abs(np.subtract(data,value))).argmin()]\n",
    "    \n",
    "        data = data[np.where(data!=close1)]\n",
    "    \n",
    "        close2 = data[(np.abs(np.subtract(data,value))).argmin()]\n",
    "    \n",
    "        return close1,close2\n",
    "    \n",
    "    def wang_alav(self,wave):\n",
    "        '''\n",
    "        Calculate the relative extinction to Av accoding to Wang et al. 2019\n",
    "    \n",
    "        Input:\n",
    "        -----\n",
    "            wave: effective wavelength in microns of the passband\n",
    "        \n",
    "        Output:\n",
    "        ------\n",
    "            alav: A\\lambda/Av\n",
    "        '''\n",
    "        x = 1/wave \n",
    "        if 0.3 <= x < 1.0:\n",
    "            y = x - 1.82\n",
    "            alav = (1.0+0.7499*y-0.1086*(y**2)-0.08909*(y**3)+0.02905*(y**4)+\n",
    "                    0.01069*(y**5)+0.001707*(y**6)-0.001002*(y**7))\n",
    "            return alav\n",
    "    \n",
    "        elif 1.0 <= x < 3.33:\n",
    "            #0.3722 +/- 0.0026; -2.070 +/- 0.030\n",
    "            alav = 0.3722*(wave**-2.070)\n",
    "            return alav\n",
    "        \n",
    "    def Teff2AppMags(self,teff,age,ak):\n",
    "        '''\n",
    "        Calculate the expected apparent magnitude of a star\n",
    "        \n",
    "        Inputs:\n",
    "        ------\n",
    "            teff: temperature of star\n",
    "            age: age of star\n",
    "            al: extinction in the same band used to initialize the class\n",
    "            \n",
    "            # parameters defined in __init__\n",
    "            self.dist: distance to star\n",
    "            self.iso: set of PARSEC isochrones\n",
    "        \n",
    "        Output:\n",
    "        ------\n",
    "            calc_mag: expected intrinsic magnitude for the given temperature\n",
    "        '''\n",
    "        \n",
    "        lgteff = np.log10(teff)\n",
    "        \n",
    "        ajak = self.wang_alav(self.leff['J'])/self.wang_alav(self.leff['K'])\n",
    "        ahak = self.wang_alav(self.leff['H'])/self.wang_alav(self.leff['K'])\n",
    "        \n",
    "        # Figure out if age is actually in the ages given in the isochrone table\n",
    "        if age in self.uniq_ages:\n",
    "            \n",
    "#             print('in: ',age)\n",
    "            \n",
    "            # pick out a single isochrone \n",
    "            iso_ = self.iso[np.where((self.iso['logAge']==self.closest(self.iso['logAge'],np.log10(age*10**9)))&\n",
    "                                       (self.iso['MH']==self.closest(self.iso['MH'],np.mean(self.salfeh))))]\n",
    "            \n",
    "            # sort so temp is always increasing\n",
    "            sidx = np.argsort(iso_['logTe'])\n",
    "            slogTe = iso_['logTe'][sidx]\n",
    "            \n",
    "            sj = iso_[self.jlabel][sidx]\n",
    "            sh = iso_[self.hlabel][sidx]\n",
    "            sk = iso_[self.klabel][sidx]\n",
    "            \n",
    "            # splines for each apparent magnitude as function of teff\n",
    "            _, uidx = np.unique(slogTe,return_index=True)\n",
    "            \n",
    "            j_spl = InterpolatedUnivariateSpline(slogTe[uidx],sj[uidx])\n",
    "            h_spl = InterpolatedUnivariateSpline(slogTe[uidx],sh[uidx])\n",
    "            k_spl = InterpolatedUnivariateSpline(slogTe[uidx],sk[uidx])\n",
    "            \n",
    "            j_app = j_spl(lgteff)+5.0*np.log10(self.dist)-5.0+ak*ajak\n",
    "            h_app = h_spl(lgteff)+5.0*np.log10(self.dist)-5.0+ak*ahak\n",
    "            k_app = k_spl(lgteff)+5.0*np.log10(self.dist)-5.0+ak\n",
    "            \n",
    "#             print('Calculated Apparent J: {:.3f} H: {:.3f} K: {:.3f}'.format(j_app,h_app,k_app))\n",
    "#             print('ak: {:.3f}'.format(ak))\n",
    "#             print('---')\n",
    "            \n",
    "            return j_app,h_app,k_app\n",
    "            \n",
    "        else:\n",
    "            age_lo,age_hi = self.neighbors(self.uniq_ages,age)\n",
    "            \n",
    "#             print('age: ',age)\n",
    "            \n",
    "            ### age_lo ###\n",
    "            # pick out a single isochrone \n",
    "            iso_lo = self.iso[np.where((self.iso['logAge']==self.closest(self.iso['logAge'],\n",
    "                                                                         np.log10(age_lo*10**9)))&\n",
    "                                       (self.iso['MH']==self.closest(self.iso['MH'],np.mean(self.salfeh))))]\n",
    "            \n",
    "            # sort so temp is always increasing\n",
    "            sidx_lo = np.argsort(iso_lo['logTe'])\n",
    "            slogTe_lo = iso_lo['logTe'][sidx_lo]\n",
    "            \n",
    "            sj_lo = iso_lo[self.jlabel][sidx_lo]\n",
    "            sh_lo = iso_lo[self.hlabel][sidx_lo]\n",
    "            sk_lo = iso_lo[self.klabel][sidx_lo]\n",
    "            \n",
    "            # splines for each magnitude\n",
    "            _, uidx_lo = np.unique(slogTe_lo,return_index=True)\n",
    "            \n",
    "            j_spl_lo = InterpolatedUnivariateSpline(slogTe_lo[uidx_lo],sj_lo[uidx_lo])\n",
    "            h_spl_lo = InterpolatedUnivariateSpline(slogTe_lo[uidx_lo],sh_lo[uidx_lo])\n",
    "            k_spl_lo = InterpolatedUnivariateSpline(slogTe_lo[uidx_lo],sk_lo[uidx_lo])\n",
    "            \n",
    "            ### age_hi ####\n",
    "            # pick out a single isochrone \n",
    "            iso_hi = self.iso[np.where((self.iso['logAge']==self.closest(self.iso['logAge'],\n",
    "                                                                         np.log10(age_hi*10**9)))&\n",
    "                                       (self.iso['MH']==self.closest(self.iso['MH'],np.mean(self.salfeh))))]\n",
    "            \n",
    "            # sort so temp is always increasing\n",
    "            sidx_hi = np.argsort(iso_hi['logTe'])\n",
    "            slogTe_hi = iso_hi['logTe'][sidx_hi]\n",
    "            \n",
    "            sj_hi = iso_hi[self.jlabel][sidx_hi]\n",
    "            sh_hi = iso_hi[self.hlabel][sidx_hi]\n",
    "            sk_hi = iso_hi[self.klabel][sidx_hi]\n",
    "            \n",
    "            # splines for each magnitude as function of log(teff)\n",
    "            _, uidx_hi = np.unique(slogTe_hi,return_index=True)\n",
    "            \n",
    "            j_spl_hi = InterpolatedUnivariateSpline(slogTe_hi[uidx_hi],sj_hi[uidx_hi])\n",
    "            h_spl_hi = InterpolatedUnivariateSpline(slogTe_hi[uidx_hi],sh_hi[uidx_hi])\n",
    "            k_spl_hi = InterpolatedUnivariateSpline(slogTe_hi[uidx_hi],sk_hi[uidx_hi])\n",
    "            \n",
    "            ### Interpolate Between hi and lo ###\n",
    "            j_spl_interp = np.poly1d(np.polyfit([age_lo,age_hi],[j_spl_lo(lgteff),j_spl_hi(lgteff)],1))\n",
    "            h_spl_interp = np.poly1d(np.polyfit([age_lo,age_hi],[h_spl_lo(lgteff),h_spl_hi(lgteff)],1))\n",
    "            k_spl_interp = np.poly1d(np.polyfit([age_lo,age_hi],[k_spl_lo(lgteff),k_spl_hi(lgteff)],1))\n",
    "            \n",
    "            # Calculate the theoretical apparent magnitude\n",
    "            j_app = j_spl_interp(age)+5.0*np.log10(self.dist)-5.0+ak*ajak\n",
    "            h_app = h_spl_interp(age)+5.0*np.log10(self.dist)-5.0+ak*ahak\n",
    "            k_app = k_spl_interp(age)+5.0*np.log10(self.dist)-5.0+ak\n",
    "            \n",
    "#             print('Calculated Apparent J: {:.3f} H: {:.3f} K: {:.3f}'.format(j_app,h_app,k_app))\n",
    "#             print('ak: {:.3f}'.format(ak))\n",
    "#             print('---')\n",
    "            \n",
    "            return j_app,h_app,k_app"
   ]
  },
  {
   "cell_type": "markdown",
   "metadata": {},
   "source": [
    "# Parsec"
   ]
  },
  {
   "cell_type": "code",
   "execution_count": 2,
   "metadata": {},
   "outputs": [],
   "source": [
    "# massive\n",
    "massive = fits.getdata('/Users/joshuapovick/Desktop/Research/parsec/parsec_massive.fits.gz',0)\n",
    "massive = massive[np.where(massive['label']==3.0)]"
   ]
  },
  {
   "cell_type": "markdown",
   "metadata": {},
   "source": [
    "# Globular Clusters"
   ]
  },
  {
   "cell_type": "code",
   "execution_count": 3,
   "metadata": {},
   "outputs": [
    {
     "name": "stdout",
     "output_type": "stream",
     "text": [
      "bad:  24\n",
      "bad:  27\n",
      "bad:  37\n",
      "['47Tuc', 'M10', 'M107', 'M12', 'M13', 'M19', 'M2', 'M22', 'M3', 'M4', 'M5', 'M53', 'M54', 'M55', 'M71', 'M79', 'NGC1851', 'NGC2808', 'NGC288', 'NGC3201', 'NGC362', 'NGC6388', 'NGC6397', 'NGC6752', 'omegaCen']\n"
     ]
    },
    {
     "name": "stderr",
     "output_type": "stream",
     "text": [
      "/opt/anaconda3/lib/python3.8/site-packages/numpy/core/_asarray.py:102: VisibleDeprecationWarning: Creating an ndarray from ragged nested sequences (which is a list-or-tuple of lists-or-tuples-or ndarrays with different lengths or shapes) is deprecated. If you meant to do this, you must specify 'dtype=object' when creating the ndarray.\n",
      "  return array(a, dtype, copy=False, order=order)\n"
     ]
    }
   ],
   "source": [
    "### GCS Data\n",
    "gcs = fits.getdata('/Users/joshuapovick/Desktop/Research/fits/allStar-r13-l33-58932beta_apa_dist_galvel_gc.fits.gz')\n",
    "cln = np.where((gcs['FE_H']>-9999.0)&(gcs['AK_TARG']>-9999.0)&(gcs['LOGG']>0.0)&(gcs['M_H_ERR']>-90.0)&\n",
    "                (gcs['C_FE']>-9999.0)&(gcs['N_FE']>-9999.0))\n",
    "gcs = Table(gcs[cln])\n",
    "\n",
    "### Find Cluster with more than one star\n",
    "\n",
    "idx = []\n",
    "for i in range(len(np.unique(gcs['CLUSTER']))):\n",
    "    idx.append(np.squeeze(np.where(gcs['CLUSTER']==np.unique(gcs['CLUSTER'])[i])))\n",
    "\n",
    "for i in range(len(idx)):\n",
    "    try:\n",
    "        len(idx[i])\n",
    "    except:\n",
    "        print('bad: ',i)\n",
    "        \n",
    "good_names = []\n",
    "for i in np.asarray(idx)[np.delete(np.asarray(list(range(len(idx)))),[24,27,37])]:\n",
    "    if len(i)>10:\n",
    "        good_names.append(gcs['CLUSTER'][i][0])\n",
    "\n",
    "print(good_names)\n",
    "\n",
    "good_clus = np.where((gcs['CLUSTER']=='47Tuc')|(gcs['CLUSTER']=='M10')|(gcs['CLUSTER']=='M107')|\n",
    "                     (gcs['CLUSTER']=='M12')|(gcs['CLUSTER']=='M13')|(gcs['CLUSTER']=='M19')|\n",
    "                     (gcs['CLUSTER']=='M2')|(gcs['CLUSTER']=='M22')|(gcs['CLUSTER']=='M3')|\n",
    "                     (gcs['CLUSTER']=='M4')|(gcs['CLUSTER']=='M5')|(gcs['CLUSTER']=='M53')|\n",
    "                     (gcs['CLUSTER']=='M54')|(gcs['CLUSTER']=='M55')|(gcs['CLUSTER']=='M71')|\n",
    "                     (gcs['CLUSTER']=='M79')|(gcs['CLUSTER']=='NGC1851')|(gcs['CLUSTER']=='NGC2808')|\n",
    "                     (gcs['CLUSTER']=='NGC288')|(gcs['CLUSTER']=='NGC3201')|(gcs['CLUSTER']=='NGC362')|\n",
    "                     (gcs['CLUSTER']=='NGGC6388')|(gcs['CLUSTER']=='NGC6397')|(gcs['CLUSTER']=='NGC6752')|\n",
    "                     (gcs['CLUSTER']=='omegaCen'))\n",
    "\n",
    "gcs = gcs[good_clus]"
   ]
  },
  {
   "cell_type": "markdown",
   "metadata": {},
   "source": [
    "# Test Code"
   ]
  },
  {
   "cell_type": "code",
   "execution_count": 4,
   "metadata": {},
   "outputs": [],
   "source": [
    "from scipy.optimize import curve_fit"
   ]
  },
  {
   "cell_type": "code",
   "execution_count": 5,
   "metadata": {
    "scrolled": false
   },
   "outputs": [
    {
     "name": "stdout",
     "output_type": "stream",
     "text": [
      "Measured Apparent J: 11.541000 H: 10.898 K: 10.787\n",
      "Measured Ak: 0.004\n",
      "Final Calculated [Age, Ak]: [6.75227458 0.0163029 ]\n"
     ]
    }
   ],
   "source": [
    "# pick star\n",
    "g_idx = 1000\n",
    "\n",
    "# initialize class\n",
    "CalcAge = WhatsMyAgeAgain(gcs['M_H'][g_idx],gcs['ALPHA_M'][g_idx],10400,massive)\n",
    "\n",
    "# curve_fit does its thing\n",
    "popt, pcov = curve_fit(CalcAge.Teff2AppMags,gcs['TEFF'][g_idx],\n",
    "                         np.array([[gcs['J'][g_idx],gcs['H'][g_idx],gcs['K'][g_idx]]],dtype=float).T.ravel(),\n",
    "                         p0=[13.75,gcs['AK_TARG'][g_idx]],bounds=((0.,0.),(14.,1.)),method='dogbox')\n",
    "\n",
    "\n",
    "print('Measured Apparent J: {:3f} H: {:.3f} K: {:.3f}'.format(gcs['J'][g_idx],gcs['H'][g_idx],gcs['K'][g_idx]))\n",
    "print('Measured Ak: {:.3f}'.format(gcs['AK_TARG'][g_idx]))\n",
    "print('Final Calculated [Age, Ak]:',popt)"
   ]
  },
  {
   "cell_type": "code",
   "execution_count": 6,
   "metadata": {},
   "outputs": [],
   "source": [
    "def closest(data,value):\n",
    "    '''\n",
    "    Find nearest value in array to given value\n",
    "        \n",
    "    Inputs:\n",
    "    ------\n",
    "        data: data to search through \n",
    "        value: value of interest\n",
    "    '''\n",
    "        \n",
    "    data = np.asarray(data)\n",
    "    return data[(np.abs(np.subtract(data,value))).argmin()]\n",
    "    \n",
    "def neighbors(data,value):\n",
    "    '''\n",
    "    Find values of two elements closest to the given value\n",
    "    \n",
    "    Inputs:\n",
    "    ------\n",
    "        data: data to search through \n",
    "        value: value of interest\n",
    "        \n",
    "    Output:\n",
    "    ------\n",
    "        close1: closest value under the given value\n",
    "        close2: closest value over the given value\n",
    "    '''\n",
    "    \n",
    "    data = np.asarray(data)\n",
    "    close1 = data[(np.abs(np.subtract(data,value))).argmin()]\n",
    "    data = data[np.where(data!=close1)]\n",
    "    close2 = data[(np.abs(np.subtract(data,value))).argmin()]\n",
    "    return close1,close2"
   ]
  },
  {
   "cell_type": "code",
   "execution_count": 7,
   "metadata": {},
   "outputs": [
    {
     "name": "stdout",
     "output_type": "stream",
     "text": [
      "Closest Age Low: 9.8293\n",
      "Closest Age High: 9.830910000000001\n",
      "Closest [Fe/H]: -1.29\n"
     ]
    }
   ],
   "source": [
    "age_lo,age_hi = neighbors(massive['logAge'],np.log10(6.75227458*10**9))\n",
    "print('Closest Age Low:',age_lo)\n",
    "print('Closest Age High:',age_hi)\n",
    "feh = closest(massive['MH'],gcs['M_H'][g_idx]+np.log10(0.638*(10**gcs['ALPHA_M'][g_idx])+0.362))\n",
    "print('Closest [Fe/H]:',feh)\n",
    "\n",
    "age_calc = 6.75227458 #Gyr\n",
    "ak_calc = 0.0163029"
   ]
  },
  {
   "cell_type": "code",
   "execution_count": 10,
   "metadata": {
    "scrolled": true
   },
   "outputs": [
    {
     "name": "stderr",
     "output_type": "stream",
     "text": [
      "<ipython-input-10-10f3fe16796c>:10: TqdmDeprecationWarning: This function will be removed in tqdm==5.0.0\n",
      "Please use `tqdm.notebook.tqdm` instead of `tqdm.tqdm_notebook`\n",
      "  for i in tqdm_notebook(range(len(age_grid))):\n"
     ]
    },
    {
     "data": {
      "application/vnd.jupyter.widget-view+json": {
       "model_id": "448814a213fd4d8bbb3930e91c989ca3",
       "version_major": 2,
       "version_minor": 0
      },
      "text/plain": [
       "HBox(children=(FloatProgress(value=0.0, max=400.0), HTML(value='')))"
      ]
     },
     "metadata": {},
     "output_type": "display_data"
    },
    {
     "name": "stdout",
     "output_type": "stream",
     "text": [
      "\n"
     ]
    }
   ],
   "source": [
    "from tqdm import tqdm_notebook\n",
    "\n",
    "age_grid = np.random.uniform(0., 14.,400)\n",
    "ak_grid = np.arange(0., 2.0, 0.1)\n",
    "\n",
    "jmag_arr = np.zeros([len(age_grid),len(ak_grid)])\n",
    "hmag_arr = np.zeros([len(age_grid),len(ak_grid)])\n",
    "kmag_arr = np.zeros([len(age_grid),len(ak_grid)])\n",
    "\n",
    "for i in tqdm_notebook(range(len(age_grid))):\n",
    "    for j in range(len(ak_grid)):\n",
    "        jmag_arr[i][j] = CalcAge.Teff2AppMags(gcs['TEFF'][g_idx],age_grid[i],ak_grid[j])[0]\n",
    "        hmag_arr[i][j] = CalcAge.Teff2AppMags(gcs['TEFF'][g_idx],age_grid[i],ak_grid[j])[1]\n",
    "        kmag_arr[i][j] = CalcAge.Teff2AppMags(gcs['TEFF'][g_idx],age_grid[i],ak_grid[j])[2]"
   ]
  },
  {
   "cell_type": "code",
   "execution_count": 16,
   "metadata": {},
   "outputs": [
    {
     "data": {
      "text/plain": [
       "array([ 1.16100997e+01,  1.16445908e+01,  1.13287225e+01,  1.17620870e+01,\n",
       "        1.17283398e+01,  1.15311070e+01,  1.12473878e+01,  1.13657746e+01,\n",
       "        1.17877390e+01,  1.13877828e+01,  1.15156750e+01,  3.62410766e+02,\n",
       "        1.14934994e+01,  1.15281613e+01,  1.12791607e+01,  1.08071309e+01,\n",
       "        1.16620900e+01,  1.14804420e+01,  1.13152731e+01,  1.14652993e+01,\n",
       "        1.17431675e+01,  1.17027590e+01,  1.16789555e+01,  5.07544900e+01,\n",
       "        1.15512208e+01,  1.10532502e+01,  1.17697980e+01,  1.15931687e+01,\n",
       "        1.15286312e+01,  1.15090858e+01,  1.14945174e+01,  1.07473577e+01,\n",
       "        1.08536453e+01,  1.12693138e+01,  1.17156082e+01,  1.14003457e+01,\n",
       "        1.10947995e+01,  1.15849949e+01,  3.34061841e+02,  3.42440303e+02,\n",
       "        7.71785772e+01,  1.17325170e+01,  1.13808915e+01,  1.12948715e+01,\n",
       "        1.17626969e+01,  1.17910494e+01,  1.16659707e+01,  1.09675536e+01,\n",
       "        1.15656976e+01,  1.16321996e+01,  1.17782108e+01,  1.17576172e+01,\n",
       "        1.13328482e+01,  3.57893771e+00,  1.17453849e+01,  1.12368096e+01,\n",
       "        1.16502052e+01,  1.16039451e+01,  1.16464656e+01,  1.11449624e+01,\n",
       "        1.13656727e+01,  1.08750071e+01,  1.16398359e+01,  1.10795626e+01,\n",
       "        1.08415261e+01,  1.17927844e+01,  1.14511754e+01,  1.17269946e+01,\n",
       "        1.17151636e+01,  6.81230000e+02,  1.11763807e+01,  9.94325762e+02,\n",
       "        1.17175172e+01,  1.12075309e+01,  1.17726886e+01,  1.16125696e+01,\n",
       "        1.13234868e+01,  1.14175958e+01,  1.13385123e+01,  1.15557030e+01,\n",
       "        1.17709625e+01,  1.15006218e+01,  1.10829481e+01,  1.15014445e+01,\n",
       "        1.16931687e+01,  1.09321246e+01,  1.17202431e+01,  1.08757486e+01,\n",
       "        1.15289715e+01,  1.17906194e+01,  1.14651128e+01,  1.17823816e+01,\n",
       "        1.17826091e+01,  1.17471055e+01,  1.12936053e+01,  1.09229329e+01,\n",
       "        3.71497146e+02,  1.17619533e+01,  1.12718776e+01,  1.17207426e+01,\n",
       "        1.08813595e+01,  1.15725492e+01,  1.10258811e+01,  2.39690790e+01,\n",
       "        1.14855527e+01,  1.17952133e+01,  1.12295758e+01,  1.16467279e+01,\n",
       "        1.17407397e+01,  1.98035820e+01, -1.09766475e+01,  1.17206559e+01,\n",
       "        1.15978106e+01,  1.15144351e+01,  1.13600920e+01,  1.16326393e+01,\n",
       "        1.17564953e+01,  1.15559135e+01,  1.10744036e+01, -3.34250870e+00,\n",
       "        1.16994746e+01,  1.14357586e+01,  1.13168574e+01,  1.14580693e+01,\n",
       "        1.16259932e+01,  1.14101915e+01,  1.10233740e+01,  1.17819733e+01,\n",
       "        1.16840534e+01,  1.16816222e+01,  1.17288301e+01,  1.14138910e+01,\n",
       "        1.08701287e+01,  1.17173000e+01,  9.45110232e+00,  1.11801789e+01,\n",
       "        1.13527395e+01,  1.09059091e+01,  1.16424116e+01,  1.11792568e+01,\n",
       "        1.17338528e+01,  1.11512282e+01,  1.13863430e+01,  3.11868120e+02,\n",
       "        1.14506394e+01,  8.90715072e+00,  1.16154809e+01,  1.14819463e+01,\n",
       "        1.15010254e+01,  1.16272380e+01,  1.11747487e+01,  1.14651157e+01,\n",
       "        1.09387209e+01,  1.15987149e+01,  1.10719894e+01,  1.15922508e+01,\n",
       "        1.15809649e+01,  1.16103051e+01,  1.15223627e+01,  1.17070820e+01,\n",
       "        1.16527407e+01,  1.14090051e+01,  1.15232152e+01,  1.14136357e+01,\n",
       "        1.16821105e+01,  1.16004845e+01,  1.12816310e+01,  1.14061851e+01,\n",
       "        1.17889460e+01,  1.16753609e+01,  1.14462898e+01,  1.08889690e+01,\n",
       "        1.10091304e+01,  1.15872271e+01,  7.77864571e+01,  1.13713121e+01,\n",
       "        1.13436801e+01,  1.15404565e+01,  1.16599177e+01,  1.13432350e+01,\n",
       "       -8.08414272e+02,  1.17947734e+01,  1.10559947e+01,  1.15346997e+01,\n",
       "        1.14611370e+01,  1.17022852e+01,  1.17673505e+01,  1.37700259e+01,\n",
       "        4.02559045e+02,  1.16432523e+01,  1.17315689e+01,  1.08316184e+02,\n",
       "        1.11066157e+01,  1.16528046e+01,  1.17437048e+01,  1.14371354e+01,\n",
       "        1.16434869e+01,  1.15055186e+01,  1.11424817e+01,  1.09020949e+01,\n",
       "        1.17484359e+01,  1.17045194e+01,  1.16426596e+01,  1.07690102e+01,\n",
       "        1.17768506e+01,  1.15388773e+01,  1.14543966e+01,  1.16875690e+01,\n",
       "        1.17871479e+01,  1.08682161e+01,  1.15295345e+01,  1.17247045e+01,\n",
       "        1.16225104e+01,  1.17936390e+01,  1.17046963e+01,  1.09000266e+01,\n",
       "        1.16077249e+01,  1.09931867e+01,  1.17749176e+01,  1.16289296e+01,\n",
       "        1.17541713e+01,  1.12323837e+01,  1.17194759e+01,  1.17178434e+01,\n",
       "        1.08251236e+01,  1.11654085e+01,  1.12401814e+01,  1.16526129e+01,\n",
       "        1.14884964e+01,  1.17462348e+01,  1.09265141e+01,  1.14569200e+01,\n",
       "        1.13094729e+01,  7.70966065e+01,  1.17291106e+01,  1.15147409e+01,\n",
       "        5.88261318e+01,  1.12078998e+01,  1.08900584e+01,  2.57906903e+01,\n",
       "        1.07473588e+01,  1.12167981e+01,  1.09567332e+01,  1.11701974e+01,\n",
       "        1.15004274e+01,  1.16440476e+01,  1.13436016e+01,  1.17467037e+01,\n",
       "        1.16509075e+01,  1.16276175e+01,  1.09596990e+01,  1.16053500e+01,\n",
       "        1.15771091e+01,  1.17246516e+01,  1.14644478e+01,  1.15430927e+01,\n",
       "        1.11735343e+01,  1.17589500e+01,  1.16072615e+01,  1.14291545e+01,\n",
       "        1.16003135e+01,  1.16396124e+01,  1.13258014e+01,  1.12724032e+01,\n",
       "        8.84427954e-02,  1.16890526e+01,  1.14155111e+01,  1.13054297e+01,\n",
       "        1.17871517e+01,  1.17346283e+01,  1.10481710e+01,  1.15352883e+01,\n",
       "        1.16653614e+01,  1.16320441e+01,  1.17690593e+01,  1.16395374e+01,\n",
       "        1.17694981e+01,  1.13792901e+01,  1.15526303e+01,  1.15362972e+01,\n",
       "        1.16155624e+01,  1.15720191e+01,  1.17280294e+01,  1.16400356e+01,\n",
       "        1.17334383e+01,  1.16919795e+01,  1.14539319e+01,  1.14348379e+01,\n",
       "        1.17446633e+01,  1.16426849e+01,  1.16783710e+01,  1.17875483e+01,\n",
       "        1.65478550e+01,  1.14543589e+01,  1.17721843e+01,  1.11320163e+01,\n",
       "        1.17964297e+01,  1.12759273e+01,  1.15767111e+01,  1.17947348e+01,\n",
       "        1.10069851e+01,  1.13997552e+01,  1.16673187e+01,  4.65944203e-01,\n",
       "        1.15046922e+01,  1.08634020e+01,  1.13112307e+01,  1.16618011e+01,\n",
       "        1.15688845e+01,  1.11878574e+01,  9.17271642e+00,  1.17949843e+01,\n",
       "        1.16467725e+01,  1.16513297e+01,  1.15887068e+01,  1.11267839e+01,\n",
       "        1.15055737e+01,  1.12212427e+01,  1.10400238e+01,  1.10148938e+01,\n",
       "        1.11162825e+01,  1.14814967e+01,  1.17947066e+01,  1.17714766e+01,\n",
       "       -7.06527230e+02,  1.16753156e+01,  1.15792699e+01,  1.12243041e+01,\n",
       "        1.15384643e+01,  1.12507107e+01,  1.08646590e+01,  1.12890102e+01,\n",
       "        1.11471373e+01,  1.10313308e+01,  1.13719966e+01,  1.12677304e+01,\n",
       "        1.15695432e+01,  1.08364362e+01,  5.29482475e+01,  1.10152606e+01,\n",
       "        1.15757621e+01,  1.17754624e+01,  1.15701604e+01,  1.16027548e+01,\n",
       "        1.16297878e+01,  1.17922714e+01,  1.17454997e+01,  1.16484422e+01,\n",
       "        1.17671943e+01,  1.15401973e+01,  1.17870643e+01,  1.15414498e+01,\n",
       "        1.17172049e+01,  1.15145511e+01,  7.66723129e+02,  1.16302008e+01,\n",
       "        1.11837548e+01,  1.17434519e+01,  1.29918838e+02,  7.85073156e+00,\n",
       "        2.11450639e+00,  1.17246353e+01,  1.09728005e+01, -1.46442270e+01,\n",
       "        1.11701211e+01,  1.09968316e+01,  1.17562526e+01,  1.17475029e+01,\n",
       "        1.14527251e+01,  1.14198705e+01,  1.13055948e+01,  1.16331340e+01,\n",
       "        1.09680771e+01,  1.14407178e+01,  1.16251993e+01,  1.16893055e+01,\n",
       "        1.15426120e+01,  1.13741053e+01,  1.16753312e+01,  1.13342836e+01,\n",
       "        1.14684799e+01,  1.16814227e+01,  1.17693953e+01,  1.16900148e+01,\n",
       "        1.17218643e+01,  1.17783848e+01,  1.15152834e+01,  4.57370311e+02,\n",
       "        1.10888291e+01,  1.11883100e+01,  1.16605880e+01,  1.15713055e+01,\n",
       "        1.07369662e+01,  1.14136469e+01,  1.66985351e+03,  1.16518193e+01,\n",
       "        1.12713400e+01,  1.17283053e+01,  1.17059808e+01,  1.09103476e+01])"
      ]
     },
     "execution_count": 16,
     "metadata": {},
     "output_type": "execute_result"
    }
   ],
   "source": [
    "jmag_arr[:,0]"
   ]
  },
  {
   "cell_type": "code",
   "execution_count": 28,
   "metadata": {},
   "outputs": [
    {
     "data": {
      "text/plain": [
       "(6.0, 14.0)"
      ]
     },
     "execution_count": 28,
     "metadata": {},
     "output_type": "execute_result"
    },
    {
     "data": {
      "image/png": "[encoded data removed]",
      "text/plain": [
       "<Figure size 432x288 with 1 Axes>"
      ]
     },
     "metadata": {
      "needs_background": "light"
     },
     "output_type": "display_data"
    }
   ],
   "source": [
    "plt.scatter(jmag_arr[:,0],age_grid)\n",
    "plt.ylim(0,14)\n",
    "plt.xlim(6,14)"
   ]
  },
  {
   "cell_type": "code",
   "execution_count": 24,
   "metadata": {},
   "outputs": [
    {
     "data": {
      "text/plain": [
       "11.554166632352336"
      ]
     },
     "execution_count": 24,
     "metadata": {},
     "output_type": "execute_result"
    }
   ],
   "source": [
    "np.median(jmag_arr[:,0])"
   ]
  },
  {
   "cell_type": "code",
   "execution_count": null,
   "metadata": {},
   "outputs": [],
   "source": []
  }
 ],
 "metadata": {
  "kernelspec": {
   "display_name": "Python 3",
   "language": "python",
   "name": "python3"
  },
  "language_info": {
   "codemirror_mode": {
    "name": "ipython",
    "version": 3
   },
   "file_extension": ".py",
   "mimetype": "text/x-python",
   "name": "python",
   "nbconvert_exporter": "python",
   "pygments_lexer": "ipython3",
   "version": "3.8.5"
  }
 },
 "nbformat": 4,
 "nbformat_minor": 4
}
