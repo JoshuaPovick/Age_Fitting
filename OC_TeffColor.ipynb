{
 "cells": [
  {
   "cell_type": "code",
   "execution_count": 1,
   "metadata": {},
   "outputs": [],
   "source": [
    "##################################\n",
    "### Import the usual libraries ###\n",
    "##################################\n",
    "\n",
    "### Numpy\n",
    "import numpy as np\n",
    "\n",
    "### Astropy\n",
    "import astropy\n",
    "import astropy.coordinates as coord\n",
    "import astropy.units as u\n",
    "\n",
    "#Astropy FITS/Table handling\n",
    "from astropy.io import fits, ascii\n",
    "from astropy.table import Table, Column\n",
    "\n",
    "### Pandas\n",
    "import pandas as pd\n",
    "\n",
    "### Matplotlib\n",
    "import matplotlib\n",
    "import matplotlib.pyplot as plt\n",
    "%matplotlib inline\n",
    "matplotlib.rcParams.update({'font.size': 18}) #make plots more readable\n",
    "\n",
    "# # ### Yumi's RA/DEC ---> Magellanic Stream Coorindates\n",
    "# import MagellanicStream as ms\n",
    "\n",
    "### Functions used in this code\n",
    "import age_functions as afunc\n",
    "import extinction as extinct\n",
    "leff = {'BP':0.5387,'G':0.6419,'RP':0.7667,'J':1.2345,'H':1.6393,'K':2.1757} # mircons\n",
    "\n",
    "### Stuff Writtten by A Really Cool Professor\n",
    "from dlnpyutils import utils as dln\n",
    "\n",
    "### Other\n",
    "import warnings\n",
    "warnings.filterwarnings('ignore')\n",
    "\n",
    "from tqdm import tqdm_notebook"
   ]
  },
  {
   "cell_type": "code",
   "execution_count": 2,
   "metadata": {},
   "outputs": [],
   "source": [
    "### Open Clusters\n",
    "allStar = fits.getdata('/Users/joshuapovick/Desktop/Research/fits/allStar-r13-l33-58932beta.fits.gz',1)\n",
    "ocs = fits.getdata('/Users/joshuapovick/Desktop/Research/fits/occam_member-DR16.fits',1)\n",
    "ocs = ocs[np.where((ocs['PM_PROB']>0.01)&(ocs['RV_PROB']>0.01)&(ocs['FEH_PROB']>0.01))]\n",
    "\n",
    "_, ocs_ind, all_ind = np.intersect1d(ocs['APOGEE_ID'],allStar['APOGEE_ID'],return_indices=True)\n",
    "ocs_allStar = allStar[all_ind]\n",
    "ocs = ocs[ocs_ind]\n",
    "\n",
    "cln = np.where((ocs_allStar['FE_H']>-90.0)&(ocs_allStar['AK_TARG']>-90.0)&(ocs_allStar['LOGG']>0.0)&\n",
    "               (ocs_allStar['M_H_ERR']>-90.0)&(ocs_allStar['C_FE']>-90.0)&(ocs_allStar['N_FE']>-90.0))\n",
    "ocs_allStar = ocs_allStar[cln]\n",
    "ocs = ocs[cln]"
   ]
  },
  {
   "cell_type": "code",
   "execution_count": 3,
   "metadata": {},
   "outputs": [],
   "source": [
    "idx = []\n",
    "for i in range(len(np.unique(ocs['CLUSTER']))):\n",
    "    idx.append(np.squeeze(np.where(ocs['CLUSTER']==np.unique(ocs['CLUSTER'])[i])))\n",
    "\n",
    "bad_idx = []\n",
    "for i in range(len(idx)):\n",
    "    try:\n",
    "        len(idx[i])\n",
    "    except:\n",
    "#         print('bad: ',i)\n",
    "        bad_idx.append(i)"
   ]
  },
  {
   "cell_type": "code",
   "execution_count": 4,
   "metadata": {},
   "outputs": [
    {
     "name": "stdout",
     "output_type": "stream",
     "text": [
      "['ASCC 16' 'ASCC 19' 'ASCC 20' 'ASCC 21' 'Berkeley 17' 'Berkeley 33'\n",
      " 'Berkeley 53' 'Berkeley 66' 'Berkeley 71' 'Berkeley 98' 'Chupina 3'\n",
      " 'Collinder 69' 'Collinder 70' 'Czernik 20' 'IC 166' 'King 5' 'King 7'\n",
      " 'L 1641S' 'Melotte 20' 'Melotte 22' 'Melotte 71' 'NGC 1245' 'NGC 1798'\n",
      " 'NGC 188' 'NGC 2158' 'NGC 2204' 'NGC 2243' 'NGC 2264' 'NGC 2324'\n",
      " 'NGC 2420' 'NGC 2682' 'NGC 4337' 'NGC 6705' 'NGC 6791' 'NGC 6811'\n",
      " 'NGC 6819' 'NGC 7789' 'Ruprecht 147' 'Sigma Orionis' 'Trumpler 5']\n"
     ]
    }
   ],
   "source": [
    "good_names = []\n",
    "for i in np.asarray(idx)[np.delete(np.asarray(list(range(len(idx)))),bad_idx)]:\n",
    "    if len(i)>3:\n",
    "        good_names.append(ocs['CLUSTER'][i][0])\n",
    "\n",
    "print(np.unique(good_names))"
   ]
  },
  {
   "cell_type": "code",
   "execution_count": 5,
   "metadata": {},
   "outputs": [],
   "source": [
    "good_clus = np.where((ocs['CLUSTER']=='ASCC 16')|(ocs['CLUSTER']=='ASCC 19')|(ocs['CLUSTER']=='ASCC 20')|\n",
    "                     (ocs['CLUSTER']=='ASCC 21')|(ocs['CLUSTER']=='Berkeley 17')|(ocs['CLUSTER']=='Berkeley 33')|\n",
    "                     (ocs['CLUSTER']=='Berkeley 53')|(ocs['CLUSTER']=='Berkeley 66')|\n",
    "                     (ocs['CLUSTER']=='Berkeley 71')|(ocs['CLUSTER']=='Berkeley 98')|\n",
    "                     (ocs['CLUSTER']=='Chupina 3')|(ocs['CLUSTER']=='Collinder 69')|\n",
    "                     (ocs['CLUSTER']=='Berkeley 70')|(ocs['CLUSTER']=='Czernik 20')|(ocs['CLUSTER']=='IC 166')|\n",
    "                     (ocs['CLUSTER']=='King 5')|(ocs['CLUSTER']=='King 7')|(ocs['CLUSTER']=='L 1641S')|\n",
    "                     (ocs['CLUSTER']=='Melotte 20')|(ocs['CLUSTER']=='Melotte 22')|\n",
    "                     (ocs['CLUSTER']=='Melotte 71')|(ocs['CLUSTER']=='NGC 1798')|(ocs['CLUSTER']=='NGC 188')|\n",
    "                     (ocs['CLUSTER']=='NGC 2158')|(ocs['CLUSTER']=='NGC 2204')|(ocs['CLUSTER']=='NGC 2243')|\n",
    "                     (ocs['CLUSTER']=='NGC 2264')|(ocs['CLUSTER']=='NGC 2324')|(ocs['CLUSTER']=='NGC 2420')|\n",
    "                     (ocs['CLUSTER']=='NGC 2682')|(ocs['CLUSTER']=='NGC 4337')|(ocs['CLUSTER']=='NGC 6705')|\n",
    "                     (ocs['CLUSTER']=='NGC 6791')|(ocs['CLUSTER']=='NGC 6811')|(ocs['CLUSTER']=='NGC 6819')|\n",
    "                     (ocs['CLUSTER']=='NGC 7789')|(ocs['CLUSTER']=='Ruprecht 147')|\n",
    "                     (ocs['CLUSTER']=='Sigma Orionis')|(ocs['CLUSTER']=='Trumpler 5'))\n",
    "ocs = ocs[good_clus]\n",
    "ocs_allStar = ocs_allStar[good_clus]"
   ]
  },
  {
   "cell_type": "code",
   "execution_count": null,
   "metadata": {},
   "outputs": [],
   "source": [
    "# # Ages from Donor et al. 2020\n",
    "# donor1 = pd.read_csv('/Users/joshuapovick/Desktop/Research/dats/ajab77bct1_mrt.dat',comment='#',\n",
    "#                      names=[\"Name\",\"Qual\",\"GLON\",\"GLAT\",\"Radius\",\"Age\",\"Rgc\",\"pmRA\",\"e_pmRA\",\"pmDE\",\"e_pmDE\",\n",
    "#                             \"HRV\",\"e_HRV\",\"FEH\",\"e_FEH\",\"N\"],sep='\\s+')\n",
    "# donor1 = Table.from_pandas(donor1)\n",
    "\n",
    "# gal = coord.SkyCoord(l=donor1['GLON']*u.degree, b=donor1['GLAT']*u.degree,\n",
    "#                      distance=(np.abs(donor1['Rgc'])*u.kpc),frame='galactic',galcen_distance=8.3*u.kpc)\n",
    "\n",
    "# hel = gal.transform_to(coord.ICRS)\n",
    "# distances = hel.distance.value*1000\n",
    "\n",
    "# ### OCs xmatch paper and APOGEE\n",
    "# _, d1_ind, o_ind = np.intersect1d(donor1['Name'],np.unique(ocs['CLUSTER']).replace(\" \", \"_\"),return_indices=True)\n",
    "# donor1 = donor1[d1_ind]\n",
    "\n",
    "# donages = []\n",
    "# donfehs = []\n",
    "# dondist = []\n",
    "# for i in range(len(np.unique(ocs['CLUSTER']))):\n",
    "#     donages.append(donor1['Age'][np.where(donor1['Name']==np.unique(ocs['CLUSTER'])[i].replace(\" \",\"_\"))])\n",
    "#     donfehs.append(donor1['FEH'][np.where(donor1['Name']==np.unique(ocs['CLUSTER'])[i].replace(\" \",\"_\"))])\n",
    "#     dondist.append(distances[np.where(donor1['Name']==np.unique(ocs['CLUSTER'])[i].replace(\" \",\"_\"))])\n",
    "    \n",
    "# donages = np.squeeze(np.asarray(donages))\n",
    "# donfehs = np.squeeze(np.asarray(donfehs))\n",
    "# dondist = np.squeeze(np.asarray(dondist))"
   ]
  },
  {
   "cell_type": "code",
   "execution_count": 40,
   "metadata": {},
   "outputs": [],
   "source": [
    "### Dib et al. 2018\n",
    "\n",
    "table1 = pd.read_csv('/Users/joshuapovick/Desktop/Research/dats/table1.dat',comment='#',\n",
    "                     names=['MWSC','NAME','RA','DEC','GLON','GLAT','DIST','LOGAGE','RCORE','RTIDAL','NUMBER',\n",
    "                            'RGC','Z','Q','LAMBDA','GAMMA'],sep='\\s+')\n",
    "\n",
    "table1 = Table.from_pandas(table1)\n",
    "\n",
    "_, dib_ind, _ = np.intersect1d(table1['NAME'],np.unique(ocs['CLUSTER']).replace(' ','_'),return_indices=True)\n",
    "\n",
    "table1=table1[dib_ind]\n",
    "\n",
    "# massive\n",
    "massive = fits.getdata('/Users/joshuapovick/Desktop/Research/parsec/parsec_massive.fits.gz',0)\n",
    "massive = massive[np.where(massive['label']==3.0)]"
   ]
  },
  {
   "cell_type": "code",
   "execution_count": 41,
   "metadata": {
    "scrolled": false
   },
   "outputs": [],
   "source": [
    "# ocs_allStar.columns\n",
    "\n",
    "ocs_feh = []\n",
    "for i in range(len(np.unique(ocs['CLUSTER']))):\n",
    "    clus = np.where(ocs['CLUSTER']==np.unique(ocs['CLUSTER'])[i])\n",
    "    ocs_feh.append(np.median(ocs['FE_H'][clus]))\n",
    "    \n",
    "ocs_feh = np.asarray(ocs_feh)"
   ]
  },
  {
   "cell_type": "code",
   "execution_count": 42,
   "metadata": {},
   "outputs": [
    {
     "data": {
      "text/plain": [
       "array([-0.07 , -0.07 , -0.07 , -0.115, -0.15 , -0.3  , -0.085, -0.2  ,\n",
       "       -0.22 , -0.01 ,  0.02 , -0.1  , -0.15 , -0.095, -0.14 , -0.13 ,\n",
       "       -0.05 ,  0.01 ,  0.   , -0.145, -0.27 ,  0.09 , -0.22 , -0.26 ,\n",
       "       -0.46 , -0.165, -0.195, -0.18 ,  0.01 ,  0.26 ,  0.16 ,  0.35 ,\n",
       "       -0.05 ,  0.05 , -0.02 ,  0.125, -0.145, -0.435])"
      ]
     },
     "execution_count": 42,
     "metadata": {},
     "output_type": "execute_result"
    }
   ],
   "source": [
    "ocs_feh"
   ]
  },
  {
   "cell_type": "code",
   "execution_count": 44,
   "metadata": {},
   "outputs": [
    {
     "data": {
      "application/vnd.jupyter.widget-view+json": {
       "model_id": "751d055d5b07488ca3b31b34f871efd5",
       "version_major": 2,
       "version_minor": 0
      },
      "text/plain": [
       "HBox(children=(FloatProgress(value=0.0, max=38.0), HTML(value='')))"
      ]
     },
     "metadata": {},
     "output_type": "display_data"
    },
    {
     "name": "stdout",
     "output_type": "stream",
     "text": [
      "\n"
     ]
    },
    {
     "ename": "IndexError",
     "evalue": "index 14 is out of bounds for axis 0 with size 14",
     "output_type": "error",
     "traceback": [
      "\u001b[0;31m---------------------------------------------------------------------------\u001b[0m",
      "\u001b[0;31mIndexError\u001b[0m                                Traceback (most recent call last)",
      "\u001b[0;32m<ipython-input-44-89b736408b64>\u001b[0m in \u001b[0;36m<module>\u001b[0;34m\u001b[0m\n\u001b[1;32m      6\u001b[0m \u001b[0mocs_lits_logg\u001b[0m \u001b[0;34m=\u001b[0m \u001b[0;34m[\u001b[0m\u001b[0;34m]\u001b[0m\u001b[0;34m\u001b[0m\u001b[0;34m\u001b[0m\u001b[0m\n\u001b[1;32m      7\u001b[0m \u001b[0;32mfor\u001b[0m \u001b[0mi\u001b[0m \u001b[0;32min\u001b[0m \u001b[0mtqdm_notebook\u001b[0m\u001b[0;34m(\u001b[0m\u001b[0mrange\u001b[0m\u001b[0;34m(\u001b[0m\u001b[0mlen\u001b[0m\u001b[0;34m(\u001b[0m\u001b[0mocs_feh\u001b[0m\u001b[0;34m)\u001b[0m\u001b[0;34m)\u001b[0m\u001b[0;34m)\u001b[0m\u001b[0;34m:\u001b[0m\u001b[0;34m\u001b[0m\u001b[0;34m\u001b[0m\u001b[0m\n\u001b[0;32m----> 8\u001b[0;31m     iso = np.where((massive['logAge']==dln.closest(massive['logAge'],table1['LOGAGE'][i])[0])&\n\u001b[0m\u001b[1;32m      9\u001b[0m                    (massive['MH']==dln.closest(massive['MH'],ocs_feh[i])[0]))\n\u001b[1;32m     10\u001b[0m \u001b[0;34m\u001b[0m\u001b[0m\n",
      "\u001b[0;32mastropy/table/_column_mixins.pyx\u001b[0m in \u001b[0;36mastropy.table._column_mixins._ColumnGetitemShim.__getitem__\u001b[0;34m()\u001b[0m\n",
      "\u001b[0;32mastropy/table/_column_mixins.pyx\u001b[0m in \u001b[0;36mastropy.table._column_mixins.base_getitem\u001b[0;34m()\u001b[0m\n",
      "\u001b[0;32mastropy/table/_column_mixins.pyx\u001b[0m in \u001b[0;36mastropy.table._column_mixins.column_getitem\u001b[0;34m()\u001b[0m\n",
      "\u001b[0;31mIndexError\u001b[0m: index 14 is out of bounds for axis 0 with size 14"
     ]
    }
   ],
   "source": [
    "### pick out relevant columns for OCs CMDs and HR diagrams \n",
    "\n",
    "ocs_lits_colors = []\n",
    "ocs_lits_kmag = []\n",
    "ocs_lits_teff = []\n",
    "ocs_lits_logg = []\n",
    "for i in tqdm_notebook(range(len(ocs_feh))):\n",
    "    iso = np.where((massive['logAge']==dln.closest(massive['logAge'],table1['LOGAGE'][i])[0])&\n",
    "                   (massive['MH']==dln.closest(massive['MH'],ocs_feh[i])[0]))\n",
    "    \n",
    "    ocs_lits_colors.append((massive['Jmag']-massive['Ksmag'])[iso])\n",
    "    ocs_lits_kmag.append(massive['Ksmag'][iso])\n",
    "    \n",
    "    ocs_lits_teff.append(10**massive['logTe'][iso])\n",
    "    ocs_lits_logg.append(massive['logg'][iso])"
   ]
  },
  {
   "cell_type": "code",
   "execution_count": 45,
   "metadata": {},
   "outputs": [
    {
     "data": {
      "image/png": "[encoded data removed]",
      "text/plain": [
       "<Figure size 432x288 with 1 Axes>"
      ]
     },
     "metadata": {
      "needs_background": "light"
     },
     "output_type": "display_data"
    },
    {
     "data": {
      "image/png": "[encoded data removed]",
      "text/plain": [
       "<Figure size 432x288 with 1 Axes>"
      ]
     },
     "metadata": {
      "needs_background": "light"
     },
     "output_type": "display_data"
    }
   ],
   "source": [
    "### Pick out RGB stars\n",
    "\n",
    "ocs_rgb = np.where(ocs_allStar['LOGG']<3.0)\n",
    "\n",
    "plt.scatter(ocs_allStar['TEFF'],ocs_allStar['LOGG'],label='Total')\n",
    "plt.scatter(ocs_allStar['TEFF'][ocs_rgb],ocs_allStar['LOGG'][ocs_rgb],label='RGB')\n",
    "plt.legend()\n",
    "plt.gca().invert_xaxis()\n",
    "plt.gca().invert_yaxis()\n",
    "plt.xlabel(r'TEFF')\n",
    "plt.ylabel(r'LOGG')\n",
    "plt.show()\n",
    "\n",
    "plt.scatter(ocs_allStar['J']-ocs_allStar['K'],ocs_allStar['K'],label='Total')\n",
    "plt.scatter((ocs_allStar['J']-ocs_allStar['K'])[ocs_rgb],ocs_allStar['K'][ocs_rgb],label='RGB')\n",
    "plt.legend()\n",
    "plt.gca().invert_yaxis()\n",
    "plt.xlabel(r'J - K')\n",
    "plt.ylabel(r'K')\n",
    "plt.show()"
   ]
  },
  {
   "cell_type": "code",
   "execution_count": null,
   "metadata": {},
   "outputs": [],
   "source": [
    "### HR diagrams for OCs\n",
    "\n",
    "'''Not great, not terrible'''\n",
    "\n",
    "for i in range(len(ocs_lits_colors)):\n",
    "    clus = np.where((ocs['CLUSTER']==np.unique(ocs['CLUSTER'])[o_ind][i])&(ocs_allStar['LOGG']<3.0))\n",
    "    \n",
    "    if np.squeeze(clus).size!=0:\n",
    "    \n",
    "        plt.figure(figsize=[5,5])\n",
    "    \n",
    "        plt.scatter(ocs_allStar['TEFF'][clus],ocs_allStar['LOGG'][clus])\n",
    "    \n",
    "        plt.scatter(ocs_lits_teff[i],ocs_lits_logg[i],alpha=0.5)\n",
    "    \n",
    "        plt.gca().invert_yaxis()\n",
    "        plt.gca().invert_xaxis()\n",
    "    \n",
    "        plt.grid()\n",
    "    \n",
    "        plt.title(np.unique(ocs['Cluster'])[o_ind][i])\n",
    "        plt.xlabel(r'TEFF')\n",
    "        plt.ylabel(r'LOGG')\n",
    "        plt.savefig('{}_HR.pdf'.format(np.unique(ocs['Cluster'])[o_ind][i]),bbox_inches='tight')\n",
    "        plt.show()"
   ]
  }
 ],
 "metadata": {
  "kernelspec": {
   "display_name": "Python 3",
   "language": "python",
   "name": "python3"
  },
  "language_info": {
   "codemirror_mode": {
    "name": "ipython",
    "version": 3
   },
   "file_extension": ".py",
   "mimetype": "text/x-python",
   "name": "python",
   "nbconvert_exporter": "python",
   "pygments_lexer": "ipython3",
   "version": "3.8.5"
  }
 },
 "nbformat": 4,
 "nbformat_minor": 4
}
